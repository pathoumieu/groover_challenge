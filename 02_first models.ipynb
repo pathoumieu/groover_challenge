{
 "cells": [
  {
   "cell_type": "markdown",
   "metadata": {},
   "source": [
    "# Import packages"
   ]
  },
  {
   "cell_type": "code",
   "execution_count": 78,
   "metadata": {},
   "outputs": [],
   "source": [
    "# Standard packages\n",
    "import pandas as pd\n",
    "import numpy as np\n",
    "import pickle\n",
    "\n",
    "# Sklearn\n",
    "from sklearn.model_selection import StratifiedKFold, StratifiedShuffleSplit\n",
    "from sklearn.metrics import mean_squared_error\n",
    "from sklearn.manifold import TSNE\n",
    "\n",
    "# LGBM\n",
    "from lightgbm import LGBMRegressor\n",
    "\n",
    "# Keras\n",
    "from keras.layers import Input, Embedding, Flatten, Dot, Dense, Concatenate, Dropout\n",
    "from keras.models import Model\n",
    "from keras.callbacks import EarlyStopping\n",
    "from keras.utils.vis_utils import plot_model\n",
    "from IPython.display import SVG\n",
    "\n",
    "# Plotly\n",
    "import plotly.express as px"
   ]
  },
  {
   "cell_type": "code",
   "execution_count": 3,
   "metadata": {
    "scrolled": false
   },
   "outputs": [
    {
     "name": "stdout",
     "output_type": "stream",
     "text": [
      "Requirement already satisfied: pydot in /home/pa/.virtualenvs/groover/lib/python3.6/site-packages (1.4.1)\n",
      "Requirement already satisfied: pyparsing>=2.1.4 in /home/pa/.virtualenvs/groover/lib/python3.6/site-packages (from pydot) (2.4.6)\n",
      "Requirement already satisfied: graphviz in /home/pa/.virtualenvs/groover/lib/python3.6/site-packages (0.13.2)\n"
     ]
    }
   ],
   "source": [
    "!pip install pydot\n",
    "!pip install graphviz"
   ]
  },
  {
   "cell_type": "code",
   "execution_count": 4,
   "metadata": {},
   "outputs": [],
   "source": [
    "%load_ext autoreload\n",
    "%autoreload 2"
   ]
  },
  {
   "cell_type": "markdown",
   "metadata": {},
   "source": [
    "# Load data"
   ]
  },
  {
   "cell_type": "code",
   "execution_count": 5,
   "metadata": {},
   "outputs": [
    {
     "data": {
      "text/html": [
       "<div>\n",
       "<style scoped>\n",
       "    .dataframe tbody tr th:only-of-type {\n",
       "        vertical-align: middle;\n",
       "    }\n",
       "\n",
       "    .dataframe tbody tr th {\n",
       "        vertical-align: top;\n",
       "    }\n",
       "\n",
       "    .dataframe thead th {\n",
       "        text-align: right;\n",
       "    }\n",
       "</style>\n",
       "<table border=\"1\" class=\"dataframe\">\n",
       "  <thead>\n",
       "    <tr style=\"text-align: right;\">\n",
       "      <th></th>\n",
       "      <th>id</th>\n",
       "      <th>track_id</th>\n",
       "      <th>band_id</th>\n",
       "      <th>influencer_id</th>\n",
       "      <th>influencer_kind</th>\n",
       "      <th>score</th>\n",
       "      <th>Acid house_band</th>\n",
       "      <th>African music_band</th>\n",
       "      <th>Alternative rock_band</th>\n",
       "      <th>Ambient_band</th>\n",
       "      <th>...</th>\n",
       "      <th>Singer-songwriter_influencer</th>\n",
       "      <th>Soul_influencer</th>\n",
       "      <th>Surf rock_influencer</th>\n",
       "      <th>Synthpop_influencer</th>\n",
       "      <th>Synthwave_influencer</th>\n",
       "      <th>Techno_influencer</th>\n",
       "      <th>Traditional Music_influencer</th>\n",
       "      <th>Trap_influencer</th>\n",
       "      <th>Trip hop_influencer</th>\n",
       "      <th>Variété Française_influencer</th>\n",
       "    </tr>\n",
       "  </thead>\n",
       "  <tbody>\n",
       "    <tr>\n",
       "      <th>0</th>\n",
       "      <td>7312</td>\n",
       "      <td>324</td>\n",
       "      <td>303</td>\n",
       "      <td>102</td>\n",
       "      <td>4</td>\n",
       "      <td>0.0</td>\n",
       "      <td>0</td>\n",
       "      <td>0</td>\n",
       "      <td>0</td>\n",
       "      <td>0</td>\n",
       "      <td>...</td>\n",
       "      <td>0</td>\n",
       "      <td>0</td>\n",
       "      <td>0</td>\n",
       "      <td>0</td>\n",
       "      <td>0</td>\n",
       "      <td>1</td>\n",
       "      <td>0</td>\n",
       "      <td>0</td>\n",
       "      <td>1</td>\n",
       "      <td>0</td>\n",
       "    </tr>\n",
       "    <tr>\n",
       "      <th>1</th>\n",
       "      <td>7313</td>\n",
       "      <td>324</td>\n",
       "      <td>303</td>\n",
       "      <td>103</td>\n",
       "      <td>10</td>\n",
       "      <td>0.0</td>\n",
       "      <td>0</td>\n",
       "      <td>0</td>\n",
       "      <td>0</td>\n",
       "      <td>0</td>\n",
       "      <td>...</td>\n",
       "      <td>0</td>\n",
       "      <td>0</td>\n",
       "      <td>0</td>\n",
       "      <td>0</td>\n",
       "      <td>0</td>\n",
       "      <td>0</td>\n",
       "      <td>0</td>\n",
       "      <td>0</td>\n",
       "      <td>0</td>\n",
       "      <td>0</td>\n",
       "    </tr>\n",
       "    <tr>\n",
       "      <th>2</th>\n",
       "      <td>7314</td>\n",
       "      <td>324</td>\n",
       "      <td>303</td>\n",
       "      <td>104</td>\n",
       "      <td>3</td>\n",
       "      <td>0.0</td>\n",
       "      <td>0</td>\n",
       "      <td>0</td>\n",
       "      <td>0</td>\n",
       "      <td>0</td>\n",
       "      <td>...</td>\n",
       "      <td>0</td>\n",
       "      <td>1</td>\n",
       "      <td>0</td>\n",
       "      <td>0</td>\n",
       "      <td>0</td>\n",
       "      <td>0</td>\n",
       "      <td>0</td>\n",
       "      <td>1</td>\n",
       "      <td>0</td>\n",
       "      <td>1</td>\n",
       "    </tr>\n",
       "    <tr>\n",
       "      <th>3</th>\n",
       "      <td>7315</td>\n",
       "      <td>324</td>\n",
       "      <td>303</td>\n",
       "      <td>105</td>\n",
       "      <td>1</td>\n",
       "      <td>1.0</td>\n",
       "      <td>0</td>\n",
       "      <td>0</td>\n",
       "      <td>0</td>\n",
       "      <td>0</td>\n",
       "      <td>...</td>\n",
       "      <td>0</td>\n",
       "      <td>0</td>\n",
       "      <td>1</td>\n",
       "      <td>0</td>\n",
       "      <td>0</td>\n",
       "      <td>0</td>\n",
       "      <td>0</td>\n",
       "      <td>0</td>\n",
       "      <td>0</td>\n",
       "      <td>0</td>\n",
       "    </tr>\n",
       "    <tr>\n",
       "      <th>4</th>\n",
       "      <td>7316</td>\n",
       "      <td>324</td>\n",
       "      <td>303</td>\n",
       "      <td>106</td>\n",
       "      <td>6</td>\n",
       "      <td>0.0</td>\n",
       "      <td>0</td>\n",
       "      <td>0</td>\n",
       "      <td>0</td>\n",
       "      <td>0</td>\n",
       "      <td>...</td>\n",
       "      <td>0</td>\n",
       "      <td>0</td>\n",
       "      <td>1</td>\n",
       "      <td>0</td>\n",
       "      <td>0</td>\n",
       "      <td>0</td>\n",
       "      <td>0</td>\n",
       "      <td>0</td>\n",
       "      <td>0</td>\n",
       "      <td>0</td>\n",
       "    </tr>\n",
       "  </tbody>\n",
       "</table>\n",
       "<p>5 rows × 148 columns</p>\n",
       "</div>"
      ],
      "text/plain": [
       "     id  track_id  band_id  influencer_id  influencer_kind  score  \\\n",
       "0  7312       324      303            102                4    0.0   \n",
       "1  7313       324      303            103               10    0.0   \n",
       "2  7314       324      303            104                3    0.0   \n",
       "3  7315       324      303            105                1    1.0   \n",
       "4  7316       324      303            106                6    0.0   \n",
       "\n",
       "   Acid house_band  African music_band  Alternative rock_band  Ambient_band  \\\n",
       "0                0                   0                      0             0   \n",
       "1                0                   0                      0             0   \n",
       "2                0                   0                      0             0   \n",
       "3                0                   0                      0             0   \n",
       "4                0                   0                      0             0   \n",
       "\n",
       "   ...  Singer-songwriter_influencer  Soul_influencer  Surf rock_influencer  \\\n",
       "0  ...                             0                0                     0   \n",
       "1  ...                             0                0                     0   \n",
       "2  ...                             0                1                     0   \n",
       "3  ...                             0                0                     1   \n",
       "4  ...                             0                0                     1   \n",
       "\n",
       "   Synthpop_influencer  Synthwave_influencer  Techno_influencer  \\\n",
       "0                    0                     0                  1   \n",
       "1                    0                     0                  0   \n",
       "2                    0                     0                  0   \n",
       "3                    0                     0                  0   \n",
       "4                    0                     0                  0   \n",
       "\n",
       "   Traditional Music_influencer  Trap_influencer  Trip hop_influencer  \\\n",
       "0                             0                0                    1   \n",
       "1                             0                0                    0   \n",
       "2                             0                1                    0   \n",
       "3                             0                0                    0   \n",
       "4                             0                0                    0   \n",
       "\n",
       "   Variété Française_influencer  \n",
       "0                             0  \n",
       "1                             0  \n",
       "2                             1  \n",
       "3                             0  \n",
       "4                             0  \n",
       "\n",
       "[5 rows x 148 columns]"
      ]
     },
     "execution_count": 5,
     "metadata": {},
     "output_type": "execute_result"
    }
   ],
   "source": [
    "dataset = pd.read_csv('./data/preprocessed/merged_dataset.csv')\n",
    "dataset.head()"
   ]
  },
  {
   "cell_type": "markdown",
   "metadata": {},
   "source": [
    "# Split data"
   ]
  },
  {
   "cell_type": "markdown",
   "metadata": {},
   "source": [
    "For stability measures of models, let us assess performance doing 5-Fold cross validation:\n",
    "\n",
    "one model kind will be trained 5 times, and its score will be averaged over the 5 out of sample sets.\n",
    "\n",
    "Stratified 5 Fold on `score` is performed so the target is welll distributed over the different splits."
   ]
  },
  {
   "cell_type": "code",
   "execution_count": 6,
   "metadata": {},
   "outputs": [],
   "source": [
    "N_FOLDS = 5\n",
    "RANDOM_SEED = 42"
   ]
  },
  {
   "cell_type": "markdown",
   "metadata": {},
   "source": [
    "/!\\ Ids from tracks, bands and influencers are not allowed to be used since we are creating a **Content-Based** recommender system.\n",
    "\n",
    "This allows to avoid the cold start problem of only considering **Collaborative Filtering** but can be a loss of information for **Hybrid** recommender systems."
   ]
  },
  {
   "cell_type": "code",
   "execution_count": 7,
   "metadata": {},
   "outputs": [],
   "source": [
    "X = dataset.drop(columns=['id', 'track_id', 'band_id', 'influencer_id', 'score'])\n",
    "y = dataset.score\n",
    "skf = StratifiedKFold(n_splits=N_FOLDS, shuffle=True, random_state=RANDOM_SEED)"
   ]
  },
  {
   "cell_type": "code",
   "execution_count": 8,
   "metadata": {},
   "outputs": [
    {
     "name": "stdout",
     "output_type": "stream",
     "text": [
      "StratifiedKFold(n_splits=5, random_state=42, shuffle=True)\n"
     ]
    }
   ],
   "source": [
    "skf.get_n_splits(X, y)\n",
    "print(skf)"
   ]
  },
  {
   "cell_type": "markdown",
   "metadata": {},
   "source": [
    "# Naive models"
   ]
  },
  {
   "cell_type": "markdown",
   "metadata": {},
   "source": [
    "**Root Mean Squared Error** averaged over the 5 out of sample datasets will be the performance metric.\n",
    "\n",
    "* Naive model : predicting score mean (computed of train sets) on test. Its score should be close to standard deviation of test\n",
    "\n",
    "* Random model : predicting [0, 1] random uniform score on test"
   ]
  },
  {
   "cell_type": "code",
   "execution_count": 15,
   "metadata": {},
   "outputs": [],
   "source": [
    "std_train_mean = 0.0\n",
    "std_test_mean = 0.0\n",
    "naive_score = 0.0\n",
    "random_score =  0.0\n",
    "\n",
    "## y is transformed to an integer so skf can be performed\n",
    "for train_index, test_index in skf.split(X, (y * 100).astype(int)):\n",
    "    \n",
    "    X_train, X_test = X.iloc[train_index], X.iloc[test_index]\n",
    "    y_train, y_test = y.iloc[train_index], y.iloc[test_index]\n",
    "    \n",
    "    std_train_mean += np.std(y_train)\n",
    "    std_test_mean += np.std(y_test)\n",
    "    naive_score += np.sqrt(mean_squared_error([y_train.mean()] * len(y_test), y_test))\n",
    "    random_score += np.sqrt(mean_squared_error(np.random.uniform(0, 1, size=len(y_test)), y_test))\n",
    "\n",
    "std_train_mean /= N_FOLDS\n",
    "std_test_mean /= N_FOLDS\n",
    "naive_score /= N_FOLDS\n",
    "random_score /= N_FOLDS"
   ]
  },
  {
   "cell_type": "code",
   "execution_count": 16,
   "metadata": {
    "scrolled": false
   },
   "outputs": [
    {
     "name": "stdout",
     "output_type": "stream",
     "text": [
      "\n",
      "Average standard deviation of score on in sample sets: 0.39570093979500703\n",
      "\n",
      "Average standard deviation of score on out of sample sets: 0.39570093963773195\n",
      "\n",
      "Average RMSE of naive model on out of sample sets: 0.3957009399899617\n",
      "\n",
      "Average RMSE of random uniform model on out of sample sets: 0.5503498753830948\n"
     ]
    }
   ],
   "source": [
    "print(f'\\nAverage standard deviation of score on in sample sets: {std_train_mean}')\n",
    "print(f'\\nAverage standard deviation of score on out of sample sets: {std_test_mean}')\n",
    "print(f'\\nAverage RMSE of naive model on out of sample sets: {naive_score}')\n",
    "print(f'\\nAverage RMSE of random uniform model on out of sample sets: {random_score}')"
   ]
  },
  {
   "cell_type": "markdown",
   "metadata": {},
   "source": [
    "# LGBM model"
   ]
  },
  {
   "cell_type": "markdown",
   "metadata": {},
   "source": [
    "Let us train a LGBM model early stopped on 10% of in sample datasets."
   ]
  },
  {
   "cell_type": "code",
   "execution_count": 92,
   "metadata": {},
   "outputs": [
    {
     "name": "stdout",
     "output_type": "stream",
     "text": [
      "Training until validation scores don't improve for 100 rounds\n",
      "[500]\tvalid_0's l2: 0.0947876\n",
      "[1000]\tvalid_0's l2: 0.092996\n",
      "[1500]\tvalid_0's l2: 0.0926348\n",
      "[2000]\tvalid_0's l2: 0.0926313\n",
      "[2500]\tvalid_0's l2: 0.0926313\n",
      "[3000]\tvalid_0's l2: 0.0926313\n",
      "[3500]\tvalid_0's l2: 0.0926313\n",
      "[4000]\tvalid_0's l2: 0.0926313\n",
      "[4500]\tvalid_0's l2: 0.0926313\n",
      "[5000]\tvalid_0's l2: 0.0926313\n",
      "[5500]\tvalid_0's l2: 0.0926313\n",
      "[6000]\tvalid_0's l2: 0.0926313\n",
      "[6500]\tvalid_0's l2: 0.0926313\n",
      "Early stopping, best iteration is:\n",
      "[6559]\tvalid_0's l2: 0.0926313\n",
      "Training until validation scores don't improve for 100 rounds\n",
      "[500]\tvalid_0's l2: 0.0973691\n",
      "[1000]\tvalid_0's l2: 0.0953712\n",
      "[1500]\tvalid_0's l2: 0.0950005\n",
      "Early stopping, best iteration is:\n",
      "[1647]\tvalid_0's l2: 0.0949962\n",
      "Training until validation scores don't improve for 100 rounds\n",
      "[500]\tvalid_0's l2: 0.096489\n",
      "[1000]\tvalid_0's l2: 0.094622\n",
      "[1500]\tvalid_0's l2: 0.0942171\n",
      "[2000]\tvalid_0's l2: 0.0940687\n",
      "Early stopping, best iteration is:\n",
      "[2018]\tvalid_0's l2: 0.0940683\n",
      "Training until validation scores don't improve for 100 rounds\n",
      "[500]\tvalid_0's l2: 0.0948444\n",
      "[1000]\tvalid_0's l2: 0.0929073\n",
      "[1500]\tvalid_0's l2: 0.0925528\n",
      "[2000]\tvalid_0's l2: 0.0924698\n",
      "[2500]\tvalid_0's l2: 0.0924697\n",
      "[3000]\tvalid_0's l2: 0.0924697\n",
      "[3500]\tvalid_0's l2: 0.0924697\n",
      "[4000]\tvalid_0's l2: 0.0924697\n",
      "Early stopping, best iteration is:\n",
      "[4372]\tvalid_0's l2: 0.0924697\n",
      "Training until validation scores don't improve for 100 rounds\n",
      "[500]\tvalid_0's l2: 0.09535\n",
      "[1000]\tvalid_0's l2: 0.0937357\n",
      "[1500]\tvalid_0's l2: 0.0934406\n",
      "[2000]\tvalid_0's l2: 0.0934011\n",
      "[2500]\tvalid_0's l2: 0.0934011\n",
      "[3000]\tvalid_0's l2: 0.0934011\n",
      "Early stopping, best iteration is:\n",
      "[3046]\tvalid_0's l2: 0.0934011\n"
     ]
    }
   ],
   "source": [
    "lgbm_score =  0.0\n",
    "\n",
    "\n",
    "for train_index, test_index in skf.split(X, (y * 100).astype(int)):\n",
    "    \n",
    "    X_train, X_test = X.values[train_index], X.values[test_index]\n",
    "    y_train, y_test = y.values[train_index], y.values[test_index]\n",
    "    \n",
    "    sss = StratifiedShuffleSplit(n_splits=1, test_size=0.1, random_state=RANDOM_SEED)\n",
    "    tridx, vidx = next(sss.split(X_train, (y_train * 100).astype(int)))\n",
    "    X_train, X_valid = X_train[tridx], X_train[vidx]\n",
    "    y_train, y_valid = y_train[tridx], y_train[vidx]\n",
    "    \n",
    "    lgbm = LGBMRegressor(\n",
    "        num_leaves=2**10,\n",
    "        learning_rate=0.01,\n",
    "        subsample=0.5,\n",
    "        reg_alpha=10.0,\n",
    "        reg_lambda=10.0,\n",
    "        n_estimators=10000,\n",
    "        silent=False\n",
    "    )\n",
    "    lgbm.fit(X_train, y_train, eval_set=(X_valid, y_valid), \n",
    "             eval_metric='mse', early_stopping_rounds=100,\n",
    "             verbose=500)\n",
    "    lgbm_score += np.sqrt(mean_squared_error(lgbm.predict(X_test), y_test))\n",
    "\n",
    "lgbm_score /= N_FOLDS"
   ]
  },
  {
   "cell_type": "code",
   "execution_count": 93,
   "metadata": {},
   "outputs": [
    {
     "name": "stdout",
     "output_type": "stream",
     "text": [
      "LGBM score: 0.308811089530982\n"
     ]
    }
   ],
   "source": [
    "print(f'LGBM score: {lgbm_score}')"
   ]
  },
  {
   "cell_type": "markdown",
   "metadata": {},
   "source": [
    "# First Keras models"
   ]
  },
  {
   "cell_type": "code",
   "execution_count": 19,
   "metadata": {},
   "outputs": [],
   "source": [
    "band_data = X.filter(regex='_band')\n",
    "influencer_data = X.filter(regex='_influencer')\n",
    "\n",
    "influencer_kind = X.influencer_kind\n",
    "i_kind_idx = X.columns.get_loc('influencer_kind')\n",
    "\n",
    "b_data_idx = [X.columns.get_loc(c) for c in band_data]\n",
    "i_data_idx = [X.columns.get_loc(c) for c in influencer_data]"
   ]
  },
  {
   "cell_type": "markdown",
   "metadata": {},
   "source": [
    "## Simple dot product model"
   ]
  },
  {
   "cell_type": "code",
   "execution_count": 30,
   "metadata": {},
   "outputs": [],
   "source": [
    "def build_Dot_model(\n",
    "    i_emb_dim=16, \n",
    "    b_emb_dim=16,\n",
    "    activation='relu'\n",
    "):\n",
    "    \"\"\"\n",
    "    Build simple MLP Neural Network.\n",
    "    \"\"\"\n",
    "    # Influencer embedding\n",
    "    influencer_input = Input(shape=[influencer_data.shape[1]], name=\"Influencer-Input\")\n",
    "    influencer_embedding = Dense(i_emb_dim, activation=activation, name=\"Influencer-Embedding\")(influencer_input)\n",
    "    \n",
    "    # Band embedding\n",
    "    band_input = Input(shape=[band_data.shape[1]], name=\"Band-Input\")\n",
    "    band_embedding = Dense(b_emb_dim, activation=activation, name=\"Band-Embedding\")(band_input)\n",
    "    \n",
    "    # Concatenate and create product\n",
    "    prod = Dot(name=\"Dot-Product\", axes=-1)([influencer_embedding, band_embedding])\n",
    "    \n",
    "    # Output\n",
    "    band_embedding_model = Model([influencer_input, band_input], band_embedding)\n",
    "    influencer_embedding_model = Model([influencer_input, band_input], influencer_embedding)\n",
    "    model = Model([influencer_input, band_input], prod)\n",
    "    model.compile('adam', 'mean_squared_error')\n",
    "    \n",
    "    return model, band_embedding_model, influencer_embedding_model"
   ]
  },
  {
   "cell_type": "markdown",
   "metadata": {},
   "source": [
    "### Test model and visualize embeddings"
   ]
  },
  {
   "cell_type": "code",
   "execution_count": 48,
   "metadata": {
    "scrolled": true
   },
   "outputs": [
    {
     "data": {
      "image/png": "[encoded data removed]",
      "text/plain": [
       "<IPython.core.display.Image object>"
      ]
     },
     "execution_count": 48,
     "metadata": {},
     "output_type": "execute_result"
    }
   ],
   "source": [
    "# Initialize model\n",
    "model, band_embedding_model, influencer_embedding_model = build_Dot_model()\n",
    "\n",
    "# Plot architecture\n",
    "plot_model(model, to_file='Dot_model_plot.png', show_shapes=True, show_layer_names=True)"
   ]
  },
  {
   "cell_type": "code",
   "execution_count": 49,
   "metadata": {},
   "outputs": [
    {
     "name": "stdout",
     "output_type": "stream",
     "text": [
      "Epoch 1/20\n",
      "83706/83706 [==============================] - 2s 24us/step - loss: 0.1372\n",
      "Epoch 2/20\n",
      "83706/83706 [==============================] - 2s 22us/step - loss: 0.1094\n",
      "Epoch 3/20\n",
      "83706/83706 [==============================] - 2s 22us/step - loss: 0.1016\n",
      "Epoch 4/20\n",
      "83706/83706 [==============================] - 2s 22us/step - loss: 0.0991\n",
      "Epoch 5/20\n",
      "83706/83706 [==============================] - 2s 22us/step - loss: 0.0976\n",
      "Epoch 6/20\n",
      "83706/83706 [==============================] - 2s 23us/step - loss: 0.0968\n",
      "Epoch 7/20\n",
      "83706/83706 [==============================] - 2s 24us/step - loss: 0.0964\n",
      "Epoch 8/20\n",
      "83706/83706 [==============================] - 2s 23us/step - loss: 0.0961\n",
      "Epoch 9/20\n",
      "83706/83706 [==============================] - 2s 22us/step - loss: 0.0956\n",
      "Epoch 10/20\n",
      "83706/83706 [==============================] - 2s 23us/step - loss: 0.0954\n",
      "Epoch 11/20\n",
      "83706/83706 [==============================] - 2s 22us/step - loss: 0.0952\n",
      "Epoch 12/20\n",
      "83706/83706 [==============================] - 2s 22us/step - loss: 0.0950\n",
      "Epoch 13/20\n",
      "83706/83706 [==============================] - 2s 22us/step - loss: 0.0948\n",
      "Epoch 14/20\n",
      "83706/83706 [==============================] - 2s 22us/step - loss: 0.0948\n",
      "Epoch 15/20\n",
      "83706/83706 [==============================] - 2s 22us/step - loss: 0.0945\n",
      "Epoch 16/20\n",
      "83706/83706 [==============================] - 2s 23us/step - loss: 0.0946\n",
      "Epoch 17/20\n",
      "83706/83706 [==============================] - 2s 23us/step - loss: 0.0943\n",
      "Epoch 18/20\n",
      "83706/83706 [==============================] - 2s 22us/step - loss: 0.0944\n",
      "Epoch 19/20\n",
      "83706/83706 [==============================] - 2s 22us/step - loss: 0.0941\n",
      "Epoch 20/20\n",
      "83706/83706 [==============================] - 2s 23us/step - loss: 0.0940\n"
     ]
    }
   ],
   "source": [
    "# Fit model on 10 epochs on all data\n",
    "history = model.fit([influencer_data, band_data], dataset.score, epochs=20, verbose=1)"
   ]
  },
  {
   "cell_type": "markdown",
   "metadata": {},
   "source": [
    "#### Band embeddings"
   ]
  },
  {
   "cell_type": "code",
   "execution_count": 62,
   "metadata": {},
   "outputs": [
    {
     "name": "stdout",
     "output_type": "stream",
     "text": [
      "[t-SNE] Computing 70 nearest neighbors...\n",
      "[t-SNE] Indexed 71 samples in 0.000s...\n",
      "[t-SNE] Computed neighbors for 71 samples in 0.001s...\n",
      "[t-SNE] Computed conditional probabilities for sample 71 / 71\n",
      "[t-SNE] Mean sigma: 0.557261\n",
      "[t-SNE] KL divergence after 250 iterations with early exaggeration: 53.845135\n",
      "[t-SNE] KL divergence after 300 iterations: 0.770831\n"
     ]
    },
    {
     "data": {
      "application/vnd.plotly.v1+json": {
       "config": {
        "plotlyServerURL": "https://plot.ly"
       },
       "data": [
        {
         "hoverlabel": {
          "namelength": 0
         },
         "hovertemplate": "x=%{x}<br>y=%{y}<br>text=%{text}",
         "legendgroup": "",
         "marker": {
          "color": "#636efa",
          "symbol": "circle"
         },
         "mode": "markers+text",
         "name": "",
         "showlegend": false,
         "text": [
          "Acid house",
          "African music",
          "Alternative rock",
          "Ambient",
          "Blues",
          "Bossa Nova",
          "Chill-out",
          "Classical Music",
          "Coldwave",
          "Country",
          "Dance music",
          "Dance-pop",
          "Deep house",
          "Disco",
          "Dream Pop",
          "Dub",
          "Electro swing",
          "Electronic rock",
          "Electronica",
          "Electropop",
          "Experimental",
          "Experimental Jazz",
          "Experimental rock",
          "Film Music",
          "French house",
          "Funk",
          "Future house",
          "Garage rock",
          "Grime",
          "Hard rock",
          "Hip hop",
          "House music",
          "Indie folk",
          "Indie pop",
          "Indie rock",
          "Instrumental",
          "International Pop",
          "Latin music",
          "Lo-Fi",
          "Metal",
          "Minimal",
          "Modern Jazz",
          "New wave",
          "Noise rock",
          "Nouvelle Scène",
          "Nu-disco",
          "Pop rock",
          "Pop soul",
          "Post-punk",
          "Post-rock",
          "Progressive pop",
          "Progressive rock",
          "Psychedelic pop",
          "Psychedelic rock",
          "Punk",
          "R&B",
          "Rap",
          "Rap français",
          "Reggae",
          "Rock and roll",
          "Samba",
          "Singer-songwriter",
          "Soul",
          "Surf rock",
          "Synthpop",
          "Synthwave",
          "Techno",
          "Traditional Music",
          "Trap",
          "Trip hop",
          "Variété Française"
         ],
         "type": "scatter",
         "x": [
          -14.74853229522705,
          17.682838439941406,
          4.965287208557129,
          7.3318071365356445,
          17.349782943725586,
          -29.038164138793945,
          10.018109321594238,
          -22.190324783325195,
          0.00833328440785408,
          -34.290462493896484,
          -18.661819458007812,
          -44.31754684448242,
          0.15159042179584503,
          36.18705749511719,
          9.975814819335938,
          23.626827239990234,
          39.53641128540039,
          -19.76634979248047,
          -4.820689678192139,
          -1.1509919166564941,
          2.710825204849243,
          16.15608024597168,
          -17.016632080078125,
          1.8929799795150757,
          19.242267608642578,
          17.734994888305664,
          -3.7871947288513184,
          -9.638981819152832,
          30.49393081665039,
          -25.717613220214844,
          -33.36548614501953,
          25.483789443969727,
          -6.18173360824585,
          4.014444828033447,
          -7.202876567840576,
          7.121709823608398,
          11.735377311706543,
          23.940202713012695,
          -21.50227165222168,
          -29.63962745666504,
          6.372770309448242,
          -29.894298553466797,
          -3.6615445613861084,
          -12.36172866821289,
          -60.917972564697266,
          -13.409652709960938,
          -4.567030906677246,
          4.707525730133057,
          11.31328010559082,
          -10.173579216003418,
          3.926175355911255,
          -25.388864517211914,
          -12.126287460327148,
          10.580570220947266,
          -19.25565528869629,
          -4.833492755889893,
          31.022502899169922,
          -11.589822769165039,
          -11.433586120605469,
          0.6280190944671631,
          17.92748260498047,
          17.750226974487305,
          19.75979995727539,
          -29.78652572631836,
          0.20626206696033478,
          -17.477617263793945,
          31.65266990661621,
          30.424257278442383,
          -14.670209884643555,
          -7.367153644561768,
          -3.008390426635742
         ],
         "xaxis": "x",
         "y": [
          -15.31822395324707,
          6.2620720863342285,
          9.915458679199219,
          4.76536750793457,
          -6.688090801239014,
          -15.853318214416504,
          -5.662812232971191,
          7.831477165222168,
          -38.06044387817383,
          13.964759826660156,
          1.1890119314193726,
          -3.344533681869507,
          33.35895538330078,
          8.175802230834961,
          -14.344127655029297,
          16.002904891967773,
          -9.735025405883789,
          -6.852057456970215,
          -9.087818145751953,
          -2.943114757537842,
          -18.617233276367188,
          12.681920051574707,
          -29.953325271606445,
          15.142009735107422,
          -0.44492805004119873,
          -13.501596450805664,
          -25.408620834350586,
          9.681718826293945,
          -23.115806579589844,
          15.131693840026855,
          -5.149643898010254,
          3.347667694091797,
          27.612110137939453,
          -8.223662376403809,
          -3.3968605995178223,
          27.29782485961914,
          -0.145525261759758,
          -10.040058135986328,
          -14.331521987915039,
          -27.81319808959961,
          -26.564224243164062,
          2.960843324661255,
          20.7110652923584,
          22.06574249267578,
          -2.420520782470703,
          -2.6612446308135986,
          1.5138969421386719,
          -0.7790586352348328,
          19.740093231201172,
          15.165520668029785,
          21.007604598999023,
          -5.885558128356934,
          -8.383081436157227,
          11.500739097595215,
          24.2272891998291,
          6.8522796630859375,
          -13.182062149047852,
          -23.44985008239746,
          2.8516786098480225,
          5.586792469024658,
          -29.027299880981445,
          25.75881004333496,
          -20.43247413635254,
          27.148468017578125,
          -12.572957038879395,
          13.90992259979248,
          21.84640884399414,
          -4.036914348602295,
          7.633086681365967,
          -13.580419540405273,
          12.392845153808594
         ],
         "yaxis": "y"
        }
       ],
       "layout": {
        "legend": {
         "tracegroupgap": 0
        },
        "margin": {
         "t": 60
        },
        "template": {
         "data": {
          "bar": [
           {
            "error_x": {
             "color": "#2a3f5f"
            },
            "error_y": {
             "color": "#2a3f5f"
            },
            "marker": {
             "line": {
              "color": "#E5ECF6",
              "width": 0.5
             }
            },
            "type": "bar"
           }
          ],
          "barpolar": [
           {
            "marker": {
             "line": {
              "color": "#E5ECF6",
              "width": 0.5
             }
            },
            "type": "barpolar"
           }
          ],
          "carpet": [
           {
            "aaxis": {
             "endlinecolor": "#2a3f5f",
             "gridcolor": "white",
             "linecolor": "white",
             "minorgridcolor": "white",
             "startlinecolor": "#2a3f5f"
            },
            "baxis": {
             "endlinecolor": "#2a3f5f",
             "gridcolor": "white",
             "linecolor": "white",
             "minorgridcolor": "white",
             "startlinecolor": "#2a3f5f"
            },
            "type": "carpet"
           }
          ],
          "choropleth": [
           {
            "colorbar": {
             "outlinewidth": 0,
             "ticks": ""
            },
            "type": "choropleth"
           }
          ],
          "contour": [
           {
            "colorbar": {
             "outlinewidth": 0,
             "ticks": ""
            },
            "colorscale": [
             [
              0,
              "#0d0887"
             ],
             [
              0.1111111111111111,
              "#46039f"
             ],
             [
              0.2222222222222222,
              "#7201a8"
             ],
             [
              0.3333333333333333,
              "#9c179e"
             ],
             [
              0.4444444444444444,
              "#bd3786"
             ],
             [
              0.5555555555555556,
              "#d8576b"
             ],
             [
              0.6666666666666666,
              "#ed7953"
             ],
             [
              0.7777777777777778,
              "#fb9f3a"
             ],
             [
              0.8888888888888888,
              "#fdca26"
             ],
             [
              1,
              "#f0f921"
             ]
            ],
            "type": "contour"
           }
          ],
          "contourcarpet": [
           {
            "colorbar": {
             "outlinewidth": 0,
             "ticks": ""
            },
            "type": "contourcarpet"
           }
          ],
          "heatmap": [
           {
            "colorbar": {
             "outlinewidth": 0,
             "ticks": ""
            },
            "colorscale": [
             [
              0,
              "#0d0887"
             ],
             [
              0.1111111111111111,
              "#46039f"
             ],
             [
              0.2222222222222222,
              "#7201a8"
             ],
             [
              0.3333333333333333,
              "#9c179e"
             ],
             [
              0.4444444444444444,
              "#bd3786"
             ],
             [
              0.5555555555555556,
              "#d8576b"
             ],
             [
              0.6666666666666666,
              "#ed7953"
             ],
             [
              0.7777777777777778,
              "#fb9f3a"
             ],
             [
              0.8888888888888888,
              "#fdca26"
             ],
             [
              1,
              "#f0f921"
             ]
            ],
            "type": "heatmap"
           }
          ],
          "heatmapgl": [
           {
            "colorbar": {
             "outlinewidth": 0,
             "ticks": ""
            },
            "colorscale": [
             [
              0,
              "#0d0887"
             ],
             [
              0.1111111111111111,
              "#46039f"
             ],
             [
              0.2222222222222222,
              "#7201a8"
             ],
             [
              0.3333333333333333,
              "#9c179e"
             ],
             [
              0.4444444444444444,
              "#bd3786"
             ],
             [
              0.5555555555555556,
              "#d8576b"
             ],
             [
              0.6666666666666666,
              "#ed7953"
             ],
             [
              0.7777777777777778,
              "#fb9f3a"
             ],
             [
              0.8888888888888888,
              "#fdca26"
             ],
             [
              1,
              "#f0f921"
             ]
            ],
            "type": "heatmapgl"
           }
          ],
          "histogram": [
           {
            "marker": {
             "colorbar": {
              "outlinewidth": 0,
              "ticks": ""
             }
            },
            "type": "histogram"
           }
          ],
          "histogram2d": [
           {
            "colorbar": {
             "outlinewidth": 0,
             "ticks": ""
            },
            "colorscale": [
             [
              0,
              "#0d0887"
             ],
             [
              0.1111111111111111,
              "#46039f"
             ],
             [
              0.2222222222222222,
              "#7201a8"
             ],
             [
              0.3333333333333333,
              "#9c179e"
             ],
             [
              0.4444444444444444,
              "#bd3786"
             ],
             [
              0.5555555555555556,
              "#d8576b"
             ],
             [
              0.6666666666666666,
              "#ed7953"
             ],
             [
              0.7777777777777778,
              "#fb9f3a"
             ],
             [
              0.8888888888888888,
              "#fdca26"
             ],
             [
              1,
              "#f0f921"
             ]
            ],
            "type": "histogram2d"
           }
          ],
          "histogram2dcontour": [
           {
            "colorbar": {
             "outlinewidth": 0,
             "ticks": ""
            },
            "colorscale": [
             [
              0,
              "#0d0887"
             ],
             [
              0.1111111111111111,
              "#46039f"
             ],
             [
              0.2222222222222222,
              "#7201a8"
             ],
             [
              0.3333333333333333,
              "#9c179e"
             ],
             [
              0.4444444444444444,
              "#bd3786"
             ],
             [
              0.5555555555555556,
              "#d8576b"
             ],
             [
              0.6666666666666666,
              "#ed7953"
             ],
             [
              0.7777777777777778,
              "#fb9f3a"
             ],
             [
              0.8888888888888888,
              "#fdca26"
             ],
             [
              1,
              "#f0f921"
             ]
            ],
            "type": "histogram2dcontour"
           }
          ],
          "mesh3d": [
           {
            "colorbar": {
             "outlinewidth": 0,
             "ticks": ""
            },
            "type": "mesh3d"
           }
          ],
          "parcoords": [
           {
            "line": {
             "colorbar": {
              "outlinewidth": 0,
              "ticks": ""
             }
            },
            "type": "parcoords"
           }
          ],
          "pie": [
           {
            "automargin": true,
            "type": "pie"
           }
          ],
          "scatter": [
           {
            "marker": {
             "colorbar": {
              "outlinewidth": 0,
              "ticks": ""
             }
            },
            "type": "scatter"
           }
          ],
          "scatter3d": [
           {
            "line": {
             "colorbar": {
              "outlinewidth": 0,
              "ticks": ""
             }
            },
            "marker": {
             "colorbar": {
              "outlinewidth": 0,
              "ticks": ""
             }
            },
            "type": "scatter3d"
           }
          ],
          "scattercarpet": [
           {
            "marker": {
             "colorbar": {
              "outlinewidth": 0,
              "ticks": ""
             }
            },
            "type": "scattercarpet"
           }
          ],
          "scattergeo": [
           {
            "marker": {
             "colorbar": {
              "outlinewidth": 0,
              "ticks": ""
             }
            },
            "type": "scattergeo"
           }
          ],
          "scattergl": [
           {
            "marker": {
             "colorbar": {
              "outlinewidth": 0,
              "ticks": ""
             }
            },
            "type": "scattergl"
           }
          ],
          "scattermapbox": [
           {
            "marker": {
             "colorbar": {
              "outlinewidth": 0,
              "ticks": ""
             }
            },
            "type": "scattermapbox"
           }
          ],
          "scatterpolar": [
           {
            "marker": {
             "colorbar": {
              "outlinewidth": 0,
              "ticks": ""
             }
            },
            "type": "scatterpolar"
           }
          ],
          "scatterpolargl": [
           {
            "marker": {
             "colorbar": {
              "outlinewidth": 0,
              "ticks": ""
             }
            },
            "type": "scatterpolargl"
           }
          ],
          "scatterternary": [
           {
            "marker": {
             "colorbar": {
              "outlinewidth": 0,
              "ticks": ""
             }
            },
            "type": "scatterternary"
           }
          ],
          "surface": [
           {
            "colorbar": {
             "outlinewidth": 0,
             "ticks": ""
            },
            "colorscale": [
             [
              0,
              "#0d0887"
             ],
             [
              0.1111111111111111,
              "#46039f"
             ],
             [
              0.2222222222222222,
              "#7201a8"
             ],
             [
              0.3333333333333333,
              "#9c179e"
             ],
             [
              0.4444444444444444,
              "#bd3786"
             ],
             [
              0.5555555555555556,
              "#d8576b"
             ],
             [
              0.6666666666666666,
              "#ed7953"
             ],
             [
              0.7777777777777778,
              "#fb9f3a"
             ],
             [
              0.8888888888888888,
              "#fdca26"
             ],
             [
              1,
              "#f0f921"
             ]
            ],
            "type": "surface"
           }
          ],
          "table": [
           {
            "cells": {
             "fill": {
              "color": "#EBF0F8"
             },
             "line": {
              "color": "white"
             }
            },
            "header": {
             "fill": {
              "color": "#C8D4E3"
             },
             "line": {
              "color": "white"
             }
            },
            "type": "table"
           }
          ]
         },
         "layout": {
          "annotationdefaults": {
           "arrowcolor": "#2a3f5f",
           "arrowhead": 0,
           "arrowwidth": 1
          },
          "coloraxis": {
           "colorbar": {
            "outlinewidth": 0,
            "ticks": ""
           }
          },
          "colorscale": {
           "diverging": [
            [
             0,
             "#8e0152"
            ],
            [
             0.1,
             "#c51b7d"
            ],
            [
             0.2,
             "#de77ae"
            ],
            [
             0.3,
             "#f1b6da"
            ],
            [
             0.4,
             "#fde0ef"
            ],
            [
             0.5,
             "#f7f7f7"
            ],
            [
             0.6,
             "#e6f5d0"
            ],
            [
             0.7,
             "#b8e186"
            ],
            [
             0.8,
             "#7fbc41"
            ],
            [
             0.9,
             "#4d9221"
            ],
            [
             1,
             "#276419"
            ]
           ],
           "sequential": [
            [
             0,
             "#0d0887"
            ],
            [
             0.1111111111111111,
             "#46039f"
            ],
            [
             0.2222222222222222,
             "#7201a8"
            ],
            [
             0.3333333333333333,
             "#9c179e"
            ],
            [
             0.4444444444444444,
             "#bd3786"
            ],
            [
             0.5555555555555556,
             "#d8576b"
            ],
            [
             0.6666666666666666,
             "#ed7953"
            ],
            [
             0.7777777777777778,
             "#fb9f3a"
            ],
            [
             0.8888888888888888,
             "#fdca26"
            ],
            [
             1,
             "#f0f921"
            ]
           ],
           "sequentialminus": [
            [
             0,
             "#0d0887"
            ],
            [
             0.1111111111111111,
             "#46039f"
            ],
            [
             0.2222222222222222,
             "#7201a8"
            ],
            [
             0.3333333333333333,
             "#9c179e"
            ],
            [
             0.4444444444444444,
             "#bd3786"
            ],
            [
             0.5555555555555556,
             "#d8576b"
            ],
            [
             0.6666666666666666,
             "#ed7953"
            ],
            [
             0.7777777777777778,
             "#fb9f3a"
            ],
            [
             0.8888888888888888,
             "#fdca26"
            ],
            [
             1,
             "#f0f921"
            ]
           ]
          },
          "colorway": [
           "#636efa",
           "#EF553B",
           "#00cc96",
           "#ab63fa",
           "#FFA15A",
           "#19d3f3",
           "#FF6692",
           "#B6E880",
           "#FF97FF",
           "#FECB52"
          ],
          "font": {
           "color": "#2a3f5f"
          },
          "geo": {
           "bgcolor": "white",
           "lakecolor": "white",
           "landcolor": "#E5ECF6",
           "showlakes": true,
           "showland": true,
           "subunitcolor": "white"
          },
          "hoverlabel": {
           "align": "left"
          },
          "hovermode": "closest",
          "mapbox": {
           "style": "light"
          },
          "paper_bgcolor": "white",
          "plot_bgcolor": "#E5ECF6",
          "polar": {
           "angularaxis": {
            "gridcolor": "white",
            "linecolor": "white",
            "ticks": ""
           },
           "bgcolor": "#E5ECF6",
           "radialaxis": {
            "gridcolor": "white",
            "linecolor": "white",
            "ticks": ""
           }
          },
          "scene": {
           "xaxis": {
            "backgroundcolor": "#E5ECF6",
            "gridcolor": "white",
            "gridwidth": 2,
            "linecolor": "white",
            "showbackground": true,
            "ticks": "",
            "zerolinecolor": "white"
           },
           "yaxis": {
            "backgroundcolor": "#E5ECF6",
            "gridcolor": "white",
            "gridwidth": 2,
            "linecolor": "white",
            "showbackground": true,
            "ticks": "",
            "zerolinecolor": "white"
           },
           "zaxis": {
            "backgroundcolor": "#E5ECF6",
            "gridcolor": "white",
            "gridwidth": 2,
            "linecolor": "white",
            "showbackground": true,
            "ticks": "",
            "zerolinecolor": "white"
           }
          },
          "shapedefaults": {
           "line": {
            "color": "#2a3f5f"
           }
          },
          "ternary": {
           "aaxis": {
            "gridcolor": "white",
            "linecolor": "white",
            "ticks": ""
           },
           "baxis": {
            "gridcolor": "white",
            "linecolor": "white",
            "ticks": ""
           },
           "bgcolor": "#E5ECF6",
           "caxis": {
            "gridcolor": "white",
            "linecolor": "white",
            "ticks": ""
           }
          },
          "title": {
           "x": 0.05
          },
          "xaxis": {
           "automargin": true,
           "gridcolor": "white",
           "linecolor": "white",
           "ticks": "",
           "title": {
            "standoff": 15
           },
           "zerolinecolor": "white",
           "zerolinewidth": 2
          },
          "yaxis": {
           "automargin": true,
           "gridcolor": "white",
           "linecolor": "white",
           "ticks": "",
           "title": {
            "standoff": 15
           },
           "zerolinecolor": "white",
           "zerolinewidth": 2
          }
         }
        },
        "xaxis": {
         "anchor": "y",
         "domain": [
          0,
          1
         ],
         "title": {
          "text": "x"
         }
        },
        "yaxis": {
         "anchor": "x",
         "domain": [
          0,
          1
         ],
         "title": {
          "text": "y"
         }
        }
       }
      },
      "text/html": [
       "<div>\n",
       "        \n",
       "        \n",
       "            <div id=\"dfa79433-0566-4376-9d74-31f5ac0ebecb\" class=\"plotly-graph-div\" style=\"height:525px; width:100%;\"></div>\n",
       "            <script type=\"text/javascript\">\n",
       "                require([\"plotly\"], function(Plotly) {\n",
       "                    window.PLOTLYENV=window.PLOTLYENV || {};\n",
       "                    \n",
       "                if (document.getElementById(\"dfa79433-0566-4376-9d74-31f5ac0ebecb\")) {\n",
       "                    Plotly.newPlot(\n",
       "                        'dfa79433-0566-4376-9d74-31f5ac0ebecb',\n",
       "                        [{\"hoverlabel\": {\"namelength\": 0}, \"hovertemplate\": \"x=%{x}<br>y=%{y}<br>text=%{text}\", \"legendgroup\": \"\", \"marker\": {\"color\": \"#636efa\", \"symbol\": \"circle\"}, \"mode\": \"markers+text\", \"name\": \"\", \"showlegend\": false, \"text\": [\"Acid house\", \"African music\", \"Alternative rock\", \"Ambient\", \"Blues\", \"Bossa Nova\", \"Chill-out\", \"Classical Music\", \"Coldwave\", \"Country\", \"Dance music\", \"Dance-pop\", \"Deep house\", \"Disco\", \"Dream Pop\", \"Dub\", \"Electro swing\", \"Electronic rock\", \"Electronica\", \"Electropop\", \"Experimental\", \"Experimental Jazz\", \"Experimental rock\", \"Film Music\", \"French house\", \"Funk\", \"Future house\", \"Garage rock\", \"Grime\", \"Hard rock\", \"Hip hop\", \"House music\", \"Indie folk\", \"Indie pop\", \"Indie rock\", \"Instrumental\", \"International Pop\", \"Latin music\", \"Lo-Fi\", \"Metal\", \"Minimal\", \"Modern Jazz\", \"New wave\", \"Noise rock\", \"Nouvelle Sc\\u00e8ne\", \"Nu-disco\", \"Pop rock\", \"Pop soul\", \"Post-punk\", \"Post-rock\", \"Progressive pop\", \"Progressive rock\", \"Psychedelic pop\", \"Psychedelic rock\", \"Punk\", \"R&B\", \"Rap\", \"Rap fran\\u00e7ais\", \"Reggae\", \"Rock and roll\", \"Samba\", \"Singer-songwriter\", \"Soul\", \"Surf rock\", \"Synthpop\", \"Synthwave\", \"Techno\", \"Traditional Music\", \"Trap\", \"Trip hop\", \"Vari\\u00e9t\\u00e9 Fran\\u00e7aise\"], \"type\": \"scatter\", \"x\": [-14.74853229522705, 17.682838439941406, 4.965287208557129, 7.3318071365356445, 17.349782943725586, -29.038164138793945, 10.018109321594238, -22.190324783325195, 0.00833328440785408, -34.290462493896484, -18.661819458007812, -44.31754684448242, 0.15159042179584503, 36.18705749511719, 9.975814819335938, 23.626827239990234, 39.53641128540039, -19.76634979248047, -4.820689678192139, -1.1509919166564941, 2.710825204849243, 16.15608024597168, -17.016632080078125, 1.8929799795150757, 19.242267608642578, 17.734994888305664, -3.7871947288513184, -9.638981819152832, 30.49393081665039, -25.717613220214844, -33.36548614501953, 25.483789443969727, -6.18173360824585, 4.014444828033447, -7.202876567840576, 7.121709823608398, 11.735377311706543, 23.940202713012695, -21.50227165222168, -29.63962745666504, 6.372770309448242, -29.894298553466797, -3.6615445613861084, -12.36172866821289, -60.917972564697266, -13.409652709960938, -4.567030906677246, 4.707525730133057, 11.31328010559082, -10.173579216003418, 3.926175355911255, -25.388864517211914, -12.126287460327148, 10.580570220947266, -19.25565528869629, -4.833492755889893, 31.022502899169922, -11.589822769165039, -11.433586120605469, 0.6280190944671631, 17.92748260498047, 17.750226974487305, 19.75979995727539, -29.78652572631836, 0.20626206696033478, -17.477617263793945, 31.65266990661621, 30.424257278442383, -14.670209884643555, -7.367153644561768, -3.008390426635742], \"xaxis\": \"x\", \"y\": [-15.31822395324707, 6.2620720863342285, 9.915458679199219, 4.76536750793457, -6.688090801239014, -15.853318214416504, -5.662812232971191, 7.831477165222168, -38.06044387817383, 13.964759826660156, 1.1890119314193726, -3.344533681869507, 33.35895538330078, 8.175802230834961, -14.344127655029297, 16.002904891967773, -9.735025405883789, -6.852057456970215, -9.087818145751953, -2.943114757537842, -18.617233276367188, 12.681920051574707, -29.953325271606445, 15.142009735107422, -0.44492805004119873, -13.501596450805664, -25.408620834350586, 9.681718826293945, -23.115806579589844, 15.131693840026855, -5.149643898010254, 3.347667694091797, 27.612110137939453, -8.223662376403809, -3.3968605995178223, 27.29782485961914, -0.145525261759758, -10.040058135986328, -14.331521987915039, -27.81319808959961, -26.564224243164062, 2.960843324661255, 20.7110652923584, 22.06574249267578, -2.420520782470703, -2.6612446308135986, 1.5138969421386719, -0.7790586352348328, 19.740093231201172, 15.165520668029785, 21.007604598999023, -5.885558128356934, -8.383081436157227, 11.500739097595215, 24.2272891998291, 6.8522796630859375, -13.182062149047852, -23.44985008239746, 2.8516786098480225, 5.586792469024658, -29.027299880981445, 25.75881004333496, -20.43247413635254, 27.148468017578125, -12.572957038879395, 13.90992259979248, 21.84640884399414, -4.036914348602295, 7.633086681365967, -13.580419540405273, 12.392845153808594], \"yaxis\": \"y\"}],\n",
       "                        {\"legend\": {\"tracegroupgap\": 0}, \"margin\": {\"t\": 60}, \"template\": {\"data\": {\"bar\": [{\"error_x\": {\"color\": \"#2a3f5f\"}, \"error_y\": {\"color\": \"#2a3f5f\"}, \"marker\": {\"line\": {\"color\": \"#E5ECF6\", \"width\": 0.5}}, \"type\": \"bar\"}], \"barpolar\": [{\"marker\": {\"line\": {\"color\": \"#E5ECF6\", \"width\": 0.5}}, \"type\": \"barpolar\"}], \"carpet\": [{\"aaxis\": {\"endlinecolor\": \"#2a3f5f\", \"gridcolor\": \"white\", \"linecolor\": \"white\", \"minorgridcolor\": \"white\", \"startlinecolor\": \"#2a3f5f\"}, \"baxis\": {\"endlinecolor\": \"#2a3f5f\", \"gridcolor\": \"white\", \"linecolor\": \"white\", \"minorgridcolor\": \"white\", \"startlinecolor\": \"#2a3f5f\"}, \"type\": \"carpet\"}], \"choropleth\": [{\"colorbar\": {\"outlinewidth\": 0, \"ticks\": \"\"}, \"type\": \"choropleth\"}], \"contour\": [{\"colorbar\": {\"outlinewidth\": 0, \"ticks\": \"\"}, \"colorscale\": [[0.0, \"#0d0887\"], [0.1111111111111111, \"#46039f\"], [0.2222222222222222, \"#7201a8\"], [0.3333333333333333, \"#9c179e\"], [0.4444444444444444, \"#bd3786\"], [0.5555555555555556, \"#d8576b\"], [0.6666666666666666, \"#ed7953\"], [0.7777777777777778, \"#fb9f3a\"], [0.8888888888888888, \"#fdca26\"], [1.0, \"#f0f921\"]], \"type\": \"contour\"}], \"contourcarpet\": [{\"colorbar\": {\"outlinewidth\": 0, \"ticks\": \"\"}, \"type\": \"contourcarpet\"}], \"heatmap\": [{\"colorbar\": {\"outlinewidth\": 0, \"ticks\": \"\"}, \"colorscale\": [[0.0, \"#0d0887\"], [0.1111111111111111, \"#46039f\"], [0.2222222222222222, \"#7201a8\"], [0.3333333333333333, \"#9c179e\"], [0.4444444444444444, \"#bd3786\"], [0.5555555555555556, \"#d8576b\"], [0.6666666666666666, \"#ed7953\"], [0.7777777777777778, \"#fb9f3a\"], [0.8888888888888888, \"#fdca26\"], [1.0, \"#f0f921\"]], \"type\": \"heatmap\"}], \"heatmapgl\": [{\"colorbar\": {\"outlinewidth\": 0, \"ticks\": \"\"}, \"colorscale\": [[0.0, \"#0d0887\"], [0.1111111111111111, \"#46039f\"], [0.2222222222222222, \"#7201a8\"], [0.3333333333333333, \"#9c179e\"], [0.4444444444444444, \"#bd3786\"], [0.5555555555555556, \"#d8576b\"], [0.6666666666666666, \"#ed7953\"], [0.7777777777777778, \"#fb9f3a\"], [0.8888888888888888, \"#fdca26\"], [1.0, \"#f0f921\"]], \"type\": \"heatmapgl\"}], \"histogram\": [{\"marker\": {\"colorbar\": {\"outlinewidth\": 0, \"ticks\": \"\"}}, \"type\": \"histogram\"}], \"histogram2d\": [{\"colorbar\": {\"outlinewidth\": 0, \"ticks\": \"\"}, \"colorscale\": [[0.0, \"#0d0887\"], [0.1111111111111111, \"#46039f\"], [0.2222222222222222, \"#7201a8\"], [0.3333333333333333, \"#9c179e\"], [0.4444444444444444, \"#bd3786\"], [0.5555555555555556, \"#d8576b\"], [0.6666666666666666, \"#ed7953\"], [0.7777777777777778, \"#fb9f3a\"], [0.8888888888888888, \"#fdca26\"], [1.0, \"#f0f921\"]], \"type\": \"histogram2d\"}], \"histogram2dcontour\": [{\"colorbar\": {\"outlinewidth\": 0, \"ticks\": \"\"}, \"colorscale\": [[0.0, \"#0d0887\"], [0.1111111111111111, \"#46039f\"], [0.2222222222222222, \"#7201a8\"], [0.3333333333333333, \"#9c179e\"], [0.4444444444444444, \"#bd3786\"], [0.5555555555555556, \"#d8576b\"], [0.6666666666666666, \"#ed7953\"], [0.7777777777777778, \"#fb9f3a\"], [0.8888888888888888, \"#fdca26\"], [1.0, \"#f0f921\"]], \"type\": \"histogram2dcontour\"}], \"mesh3d\": [{\"colorbar\": {\"outlinewidth\": 0, \"ticks\": \"\"}, \"type\": \"mesh3d\"}], \"parcoords\": [{\"line\": {\"colorbar\": {\"outlinewidth\": 0, \"ticks\": \"\"}}, \"type\": \"parcoords\"}], \"pie\": [{\"automargin\": true, \"type\": \"pie\"}], \"scatter\": [{\"marker\": {\"colorbar\": {\"outlinewidth\": 0, \"ticks\": \"\"}}, \"type\": \"scatter\"}], \"scatter3d\": [{\"line\": {\"colorbar\": {\"outlinewidth\": 0, \"ticks\": \"\"}}, \"marker\": {\"colorbar\": {\"outlinewidth\": 0, \"ticks\": \"\"}}, \"type\": \"scatter3d\"}], \"scattercarpet\": [{\"marker\": {\"colorbar\": {\"outlinewidth\": 0, \"ticks\": \"\"}}, \"type\": \"scattercarpet\"}], \"scattergeo\": [{\"marker\": {\"colorbar\": {\"outlinewidth\": 0, \"ticks\": \"\"}}, \"type\": \"scattergeo\"}], \"scattergl\": [{\"marker\": {\"colorbar\": {\"outlinewidth\": 0, \"ticks\": \"\"}}, \"type\": \"scattergl\"}], \"scattermapbox\": [{\"marker\": {\"colorbar\": {\"outlinewidth\": 0, \"ticks\": \"\"}}, \"type\": \"scattermapbox\"}], \"scatterpolar\": [{\"marker\": {\"colorbar\": {\"outlinewidth\": 0, \"ticks\": \"\"}}, \"type\": \"scatterpolar\"}], \"scatterpolargl\": [{\"marker\": {\"colorbar\": {\"outlinewidth\": 0, \"ticks\": \"\"}}, \"type\": \"scatterpolargl\"}], \"scatterternary\": [{\"marker\": {\"colorbar\": {\"outlinewidth\": 0, \"ticks\": \"\"}}, \"type\": \"scatterternary\"}], \"surface\": [{\"colorbar\": {\"outlinewidth\": 0, \"ticks\": \"\"}, \"colorscale\": [[0.0, \"#0d0887\"], [0.1111111111111111, \"#46039f\"], [0.2222222222222222, \"#7201a8\"], [0.3333333333333333, \"#9c179e\"], [0.4444444444444444, \"#bd3786\"], [0.5555555555555556, \"#d8576b\"], [0.6666666666666666, \"#ed7953\"], [0.7777777777777778, \"#fb9f3a\"], [0.8888888888888888, \"#fdca26\"], [1.0, \"#f0f921\"]], \"type\": \"surface\"}], \"table\": [{\"cells\": {\"fill\": {\"color\": \"#EBF0F8\"}, \"line\": {\"color\": \"white\"}}, \"header\": {\"fill\": {\"color\": \"#C8D4E3\"}, \"line\": {\"color\": \"white\"}}, \"type\": \"table\"}]}, \"layout\": {\"annotationdefaults\": {\"arrowcolor\": \"#2a3f5f\", \"arrowhead\": 0, \"arrowwidth\": 1}, \"coloraxis\": {\"colorbar\": {\"outlinewidth\": 0, \"ticks\": \"\"}}, \"colorscale\": {\"diverging\": [[0, \"#8e0152\"], [0.1, \"#c51b7d\"], [0.2, \"#de77ae\"], [0.3, \"#f1b6da\"], [0.4, \"#fde0ef\"], [0.5, \"#f7f7f7\"], [0.6, \"#e6f5d0\"], [0.7, \"#b8e186\"], [0.8, \"#7fbc41\"], [0.9, \"#4d9221\"], [1, \"#276419\"]], \"sequential\": [[0.0, \"#0d0887\"], [0.1111111111111111, \"#46039f\"], [0.2222222222222222, \"#7201a8\"], [0.3333333333333333, \"#9c179e\"], [0.4444444444444444, \"#bd3786\"], [0.5555555555555556, \"#d8576b\"], [0.6666666666666666, \"#ed7953\"], [0.7777777777777778, \"#fb9f3a\"], [0.8888888888888888, \"#fdca26\"], [1.0, \"#f0f921\"]], \"sequentialminus\": [[0.0, \"#0d0887\"], [0.1111111111111111, \"#46039f\"], [0.2222222222222222, \"#7201a8\"], [0.3333333333333333, \"#9c179e\"], [0.4444444444444444, \"#bd3786\"], [0.5555555555555556, \"#d8576b\"], [0.6666666666666666, \"#ed7953\"], [0.7777777777777778, \"#fb9f3a\"], [0.8888888888888888, \"#fdca26\"], [1.0, \"#f0f921\"]]}, \"colorway\": [\"#636efa\", \"#EF553B\", \"#00cc96\", \"#ab63fa\", \"#FFA15A\", \"#19d3f3\", \"#FF6692\", \"#B6E880\", \"#FF97FF\", \"#FECB52\"], \"font\": {\"color\": \"#2a3f5f\"}, \"geo\": {\"bgcolor\": \"white\", \"lakecolor\": \"white\", \"landcolor\": \"#E5ECF6\", \"showlakes\": true, \"showland\": true, \"subunitcolor\": \"white\"}, \"hoverlabel\": {\"align\": \"left\"}, \"hovermode\": \"closest\", \"mapbox\": {\"style\": \"light\"}, \"paper_bgcolor\": \"white\", \"plot_bgcolor\": \"#E5ECF6\", \"polar\": {\"angularaxis\": {\"gridcolor\": \"white\", \"linecolor\": \"white\", \"ticks\": \"\"}, \"bgcolor\": \"#E5ECF6\", \"radialaxis\": {\"gridcolor\": \"white\", \"linecolor\": \"white\", \"ticks\": \"\"}}, \"scene\": {\"xaxis\": {\"backgroundcolor\": \"#E5ECF6\", \"gridcolor\": \"white\", \"gridwidth\": 2, \"linecolor\": \"white\", \"showbackground\": true, \"ticks\": \"\", \"zerolinecolor\": \"white\"}, \"yaxis\": {\"backgroundcolor\": \"#E5ECF6\", \"gridcolor\": \"white\", \"gridwidth\": 2, \"linecolor\": \"white\", \"showbackground\": true, \"ticks\": \"\", \"zerolinecolor\": \"white\"}, \"zaxis\": {\"backgroundcolor\": \"#E5ECF6\", \"gridcolor\": \"white\", \"gridwidth\": 2, \"linecolor\": \"white\", \"showbackground\": true, \"ticks\": \"\", \"zerolinecolor\": \"white\"}}, \"shapedefaults\": {\"line\": {\"color\": \"#2a3f5f\"}}, \"ternary\": {\"aaxis\": {\"gridcolor\": \"white\", \"linecolor\": \"white\", \"ticks\": \"\"}, \"baxis\": {\"gridcolor\": \"white\", \"linecolor\": \"white\", \"ticks\": \"\"}, \"bgcolor\": \"#E5ECF6\", \"caxis\": {\"gridcolor\": \"white\", \"linecolor\": \"white\", \"ticks\": \"\"}}, \"title\": {\"x\": 0.05}, \"xaxis\": {\"automargin\": true, \"gridcolor\": \"white\", \"linecolor\": \"white\", \"ticks\": \"\", \"title\": {\"standoff\": 15}, \"zerolinecolor\": \"white\", \"zerolinewidth\": 2}, \"yaxis\": {\"automargin\": true, \"gridcolor\": \"white\", \"linecolor\": \"white\", \"ticks\": \"\", \"title\": {\"standoff\": 15}, \"zerolinecolor\": \"white\", \"zerolinewidth\": 2}}}, \"xaxis\": {\"anchor\": \"y\", \"domain\": [0.0, 1.0], \"title\": {\"text\": \"x\"}}, \"yaxis\": {\"anchor\": \"x\", \"domain\": [0.0, 1.0], \"title\": {\"text\": \"y\"}}},\n",
       "                        {\"responsive\": true}\n",
       "                    ).then(function(){\n",
       "                            \n",
       "var gd = document.getElementById('dfa79433-0566-4376-9d74-31f5ac0ebecb');\n",
       "var x = new MutationObserver(function (mutations, observer) {{\n",
       "        var display = window.getComputedStyle(gd).display;\n",
       "        if (!display || display === 'none') {{\n",
       "            console.log([gd, 'removed!']);\n",
       "            Plotly.purge(gd);\n",
       "            observer.disconnect();\n",
       "        }}\n",
       "}});\n",
       "\n",
       "// Listen for the removal of the full notebook cells\n",
       "var notebookContainer = gd.closest('#notebook-container');\n",
       "if (notebookContainer) {{\n",
       "    x.observe(notebookContainer, {childList: true});\n",
       "}}\n",
       "\n",
       "// Listen for the clearing of the current output cell\n",
       "var outputEl = gd.closest('.output');\n",
       "if (outputEl) {{\n",
       "    x.observe(outputEl, {childList: true});\n",
       "}}\n",
       "\n",
       "                        })\n",
       "                };\n",
       "                });\n",
       "            </script>\n",
       "        </div>"
      ]
     },
     "metadata": {},
     "output_type": "display_data"
    }
   ],
   "source": [
    "# Extract Band embeddings and perform 2D TSNE\n",
    "\n",
    "b_em = model.get_layer('Band-Embedding')\n",
    "b_em_weights = b_em.get_weights()[0]\n",
    "\n",
    "tsne = TSNE(n_components=2, verbose=1, perplexity=40, n_iter=300)\n",
    "tnse_results = tsne.fit_transform(b_em_weights)\n",
    "\n",
    "fig = px.scatter(x=tnse_results[:,0], y=tnse_results[:,1], text=[col[:-5] for col in band_data.columns])\n",
    "fig.show()"
   ]
  },
  {
   "cell_type": "markdown",
   "metadata": {},
   "source": [
    "#### Influencer embeddings"
   ]
  },
  {
   "cell_type": "code",
   "execution_count": 58,
   "metadata": {
    "scrolled": true
   },
   "outputs": [
    {
     "name": "stdout",
     "output_type": "stream",
     "text": [
      "[t-SNE] Computing 70 nearest neighbors...\n",
      "[t-SNE] Indexed 71 samples in 0.000s...\n",
      "[t-SNE] Computed neighbors for 71 samples in 0.001s...\n",
      "[t-SNE] Computed conditional probabilities for sample 71 / 71\n",
      "[t-SNE] Mean sigma: 0.557261\n",
      "[t-SNE] KL divergence after 250 iterations with early exaggeration: 49.742256\n",
      "[t-SNE] KL divergence after 300 iterations: 0.771352\n"
     ]
    },
    {
     "data": {
      "application/vnd.plotly.v1+json": {
       "config": {
        "plotlyServerURL": "https://plot.ly"
       },
       "data": [
        {
         "hoverlabel": {
          "namelength": 0
         },
         "hovertemplate": "x=%{x}<br>y=%{y}<br>text=%{text}",
         "legendgroup": "",
         "marker": {
          "color": "#636efa",
          "symbol": "circle"
         },
         "mode": "markers+text",
         "name": "",
         "showlegend": false,
         "text": [
          "Acid house",
          "African music",
          "Alternative rock",
          "Ambient",
          "Blues",
          "Bossa Nova",
          "Chill-out",
          "Classical Music",
          "Coldwave",
          "Country",
          "Dance music",
          "Dance-pop",
          "Deep house",
          "Disco",
          "Dream Pop",
          "Dub",
          "Electro swing",
          "Electronic rock",
          "Electronica",
          "Electropop",
          "Experimental",
          "Experimental Jazz",
          "Experimental rock",
          "Film Music",
          "French house",
          "Funk",
          "Future house",
          "Garage rock",
          "Grime",
          "Hard rock",
          "Hip hop",
          "House music",
          "Indie folk",
          "Indie pop",
          "Indie rock",
          "Instrumental",
          "International Pop",
          "Latin music",
          "Lo-Fi",
          "Metal",
          "Minimal",
          "Modern Jazz",
          "New wave",
          "Noise rock",
          "Nouvelle Scène",
          "Nu-disco",
          "Pop rock",
          "Pop soul",
          "Post-punk",
          "Post-rock",
          "Progressive pop",
          "Progressive rock",
          "Psychedelic pop",
          "Psychedelic rock",
          "Punk",
          "R&B",
          "Rap",
          "Rap français",
          "Reggae",
          "Rock and roll",
          "Samba",
          "Singer-songwriter",
          "Soul",
          "Surf rock",
          "Synthpop",
          "Synthwave",
          "Techno",
          "Traditional Music",
          "Trap",
          "Trip hop",
          "Variété Française"
         ],
         "type": "scatter",
         "x": [
          -11.994706153869629,
          -7.846391677856445,
          -4.209227085113525,
          6.496922016143799,
          -22.157690048217773,
          24.244422912597656,
          -16.45694923400879,
          -2.2766401767730713,
          2.823263645172119,
          -13.441282272338867,
          4.404933929443359,
          -5.6600728034973145,
          23.235668182373047,
          -9.602792739868164,
          16.422203063964844,
          -30.315935134887695,
          7.551563739776611,
          -3.219318389892578,
          -20.94646644592285,
          5.7701287269592285,
          -10.393070220947266,
          -33.527870178222656,
          17.60736846923828,
          2.0617222785949707,
          11.636609077453613,
          10.963153839111328,
          -30.313066482543945,
          -0.685817301273346,
          25.106658935546875,
          -0.18570375442504883,
          15.026880264282227,
          -15.609970092773438,
          -14.055931091308594,
          -8.59955883026123,
          -3.69560170173645,
          8.354347229003906,
          5.963544845581055,
          7.23886251449585,
          -11.321246147155762,
          -22.108427047729492,
          18.018701553344727,
          8.657730102539062,
          -9.420511245727539,
          19.137006759643555,
          8.259095191955566,
          -4.015529632568359,
          -3.3086564540863037,
          -3.0810725688934326,
          11.111361503601074,
          0.9401600360870361,
          -6.722184658050537,
          -1.4653122425079346,
          1.3853414058685303,
          -15.316739082336426,
          -23.09021759033203,
          -8.211153984069824,
          -22.308624267578125,
          -20.66350746154785,
          5.882843494415283,
          13.362518310546875,
          -29.00364875793457,
          3.0062172412872314,
          -7.503971099853516,
          -30.49146270751953,
          -2.059781074523926,
          18.700345993041992,
          -22.43702507019043,
          -16.761260986328125,
          0.1410301774740219,
          2.229163885116577,
          -7.455220699310303
         ],
         "xaxis": "x",
         "y": [
          7.993433952331543,
          11.827929496765137,
          -10.838289260864258,
          -7.616008281707764,
          -18.18345069885254,
          13.794590950012207,
          -2.9907052516937256,
          14.632115364074707,
          -29.323699951171875,
          -21.821178436279297,
          -1.923979640007019,
          -31.799942016601562,
          -0.9188554883003235,
          25.91033363342285,
          -0.5351433753967285,
          -18.551883697509766,
          28.20684814453125,
          20.35953712463379,
          3.8041272163391113,
          5.74100399017334,
          17.013885498046875,
          -7.945127010345459,
          -12.70109748840332,
          -7.136123180389404,
          4.148285388946533,
          -12.316194534301758,
          -6.165547847747803,
          6.201272964477539,
          -16.15507698059082,
          25.834733963012695,
          -20.43811798095703,
          3.3125498294830322,
          -9.161855697631836,
          -15.20075511932373,
          2.040933847427368,
          -0.13127964735031128,
          -13.176819801330566,
          -23.966873168945312,
          -3.361006736755371,
          -4.983846187591553,
          -7.103803634643555,
          18.36688232421875,
          -9.99388599395752,
          -25.48716926574707,
          -18.01058578491211,
          8.367420196533203,
          -2.6207830905914307,
          -15.424420356750488,
          -4.192771911621094,
          -11.860674858093262,
          -6.056524753570557,
          -20.811277389526367,
          11.277425765991211,
          -15.255793571472168,
          9.619694709777832,
          4.1261701583862305,
          -11.517112731933594,
          16.486713409423828,
          12.308030128479004,
          9.646993637084961,
          2.5311191082000732,
          -17.07302474975586,
          -23.931116104125977,
          13.837320327758789,
          -6.589401721954346,
          5.748171806335449,
          23.21009063720703,
          11.700106620788574,
          -0.3638204038143158,
          3.2213873863220215,
          -0.5258198976516724
         ],
         "yaxis": "y"
        }
       ],
       "layout": {
        "legend": {
         "tracegroupgap": 0
        },
        "margin": {
         "t": 60
        },
        "template": {
         "data": {
          "bar": [
           {
            "error_x": {
             "color": "#2a3f5f"
            },
            "error_y": {
             "color": "#2a3f5f"
            },
            "marker": {
             "line": {
              "color": "#E5ECF6",
              "width": 0.5
             }
            },
            "type": "bar"
           }
          ],
          "barpolar": [
           {
            "marker": {
             "line": {
              "color": "#E5ECF6",
              "width": 0.5
             }
            },
            "type": "barpolar"
           }
          ],
          "carpet": [
           {
            "aaxis": {
             "endlinecolor": "#2a3f5f",
             "gridcolor": "white",
             "linecolor": "white",
             "minorgridcolor": "white",
             "startlinecolor": "#2a3f5f"
            },
            "baxis": {
             "endlinecolor": "#2a3f5f",
             "gridcolor": "white",
             "linecolor": "white",
             "minorgridcolor": "white",
             "startlinecolor": "#2a3f5f"
            },
            "type": "carpet"
           }
          ],
          "choropleth": [
           {
            "colorbar": {
             "outlinewidth": 0,
             "ticks": ""
            },
            "type": "choropleth"
           }
          ],
          "contour": [
           {
            "colorbar": {
             "outlinewidth": 0,
             "ticks": ""
            },
            "colorscale": [
             [
              0,
              "#0d0887"
             ],
             [
              0.1111111111111111,
              "#46039f"
             ],
             [
              0.2222222222222222,
              "#7201a8"
             ],
             [
              0.3333333333333333,
              "#9c179e"
             ],
             [
              0.4444444444444444,
              "#bd3786"
             ],
             [
              0.5555555555555556,
              "#d8576b"
             ],
             [
              0.6666666666666666,
              "#ed7953"
             ],
             [
              0.7777777777777778,
              "#fb9f3a"
             ],
             [
              0.8888888888888888,
              "#fdca26"
             ],
             [
              1,
              "#f0f921"
             ]
            ],
            "type": "contour"
           }
          ],
          "contourcarpet": [
           {
            "colorbar": {
             "outlinewidth": 0,
             "ticks": ""
            },
            "type": "contourcarpet"
           }
          ],
          "heatmap": [
           {
            "colorbar": {
             "outlinewidth": 0,
             "ticks": ""
            },
            "colorscale": [
             [
              0,
              "#0d0887"
             ],
             [
              0.1111111111111111,
              "#46039f"
             ],
             [
              0.2222222222222222,
              "#7201a8"
             ],
             [
              0.3333333333333333,
              "#9c179e"
             ],
             [
              0.4444444444444444,
              "#bd3786"
             ],
             [
              0.5555555555555556,
              "#d8576b"
             ],
             [
              0.6666666666666666,
              "#ed7953"
             ],
             [
              0.7777777777777778,
              "#fb9f3a"
             ],
             [
              0.8888888888888888,
              "#fdca26"
             ],
             [
              1,
              "#f0f921"
             ]
            ],
            "type": "heatmap"
           }
          ],
          "heatmapgl": [
           {
            "colorbar": {
             "outlinewidth": 0,
             "ticks": ""
            },
            "colorscale": [
             [
              0,
              "#0d0887"
             ],
             [
              0.1111111111111111,
              "#46039f"
             ],
             [
              0.2222222222222222,
              "#7201a8"
             ],
             [
              0.3333333333333333,
              "#9c179e"
             ],
             [
              0.4444444444444444,
              "#bd3786"
             ],
             [
              0.5555555555555556,
              "#d8576b"
             ],
             [
              0.6666666666666666,
              "#ed7953"
             ],
             [
              0.7777777777777778,
              "#fb9f3a"
             ],
             [
              0.8888888888888888,
              "#fdca26"
             ],
             [
              1,
              "#f0f921"
             ]
            ],
            "type": "heatmapgl"
           }
          ],
          "histogram": [
           {
            "marker": {
             "colorbar": {
              "outlinewidth": 0,
              "ticks": ""
             }
            },
            "type": "histogram"
           }
          ],
          "histogram2d": [
           {
            "colorbar": {
             "outlinewidth": 0,
             "ticks": ""
            },
            "colorscale": [
             [
              0,
              "#0d0887"
             ],
             [
              0.1111111111111111,
              "#46039f"
             ],
             [
              0.2222222222222222,
              "#7201a8"
             ],
             [
              0.3333333333333333,
              "#9c179e"
             ],
             [
              0.4444444444444444,
              "#bd3786"
             ],
             [
              0.5555555555555556,
              "#d8576b"
             ],
             [
              0.6666666666666666,
              "#ed7953"
             ],
             [
              0.7777777777777778,
              "#fb9f3a"
             ],
             [
              0.8888888888888888,
              "#fdca26"
             ],
             [
              1,
              "#f0f921"
             ]
            ],
            "type": "histogram2d"
           }
          ],
          "histogram2dcontour": [
           {
            "colorbar": {
             "outlinewidth": 0,
             "ticks": ""
            },
            "colorscale": [
             [
              0,
              "#0d0887"
             ],
             [
              0.1111111111111111,
              "#46039f"
             ],
             [
              0.2222222222222222,
              "#7201a8"
             ],
             [
              0.3333333333333333,
              "#9c179e"
             ],
             [
              0.4444444444444444,
              "#bd3786"
             ],
             [
              0.5555555555555556,
              "#d8576b"
             ],
             [
              0.6666666666666666,
              "#ed7953"
             ],
             [
              0.7777777777777778,
              "#fb9f3a"
             ],
             [
              0.8888888888888888,
              "#fdca26"
             ],
             [
              1,
              "#f0f921"
             ]
            ],
            "type": "histogram2dcontour"
           }
          ],
          "mesh3d": [
           {
            "colorbar": {
             "outlinewidth": 0,
             "ticks": ""
            },
            "type": "mesh3d"
           }
          ],
          "parcoords": [
           {
            "line": {
             "colorbar": {
              "outlinewidth": 0,
              "ticks": ""
             }
            },
            "type": "parcoords"
           }
          ],
          "pie": [
           {
            "automargin": true,
            "type": "pie"
           }
          ],
          "scatter": [
           {
            "marker": {
             "colorbar": {
              "outlinewidth": 0,
              "ticks": ""
             }
            },
            "type": "scatter"
           }
          ],
          "scatter3d": [
           {
            "line": {
             "colorbar": {
              "outlinewidth": 0,
              "ticks": ""
             }
            },
            "marker": {
             "colorbar": {
              "outlinewidth": 0,
              "ticks": ""
             }
            },
            "type": "scatter3d"
           }
          ],
          "scattercarpet": [
           {
            "marker": {
             "colorbar": {
              "outlinewidth": 0,
              "ticks": ""
             }
            },
            "type": "scattercarpet"
           }
          ],
          "scattergeo": [
           {
            "marker": {
             "colorbar": {
              "outlinewidth": 0,
              "ticks": ""
             }
            },
            "type": "scattergeo"
           }
          ],
          "scattergl": [
           {
            "marker": {
             "colorbar": {
              "outlinewidth": 0,
              "ticks": ""
             }
            },
            "type": "scattergl"
           }
          ],
          "scattermapbox": [
           {
            "marker": {
             "colorbar": {
              "outlinewidth": 0,
              "ticks": ""
             }
            },
            "type": "scattermapbox"
           }
          ],
          "scatterpolar": [
           {
            "marker": {
             "colorbar": {
              "outlinewidth": 0,
              "ticks": ""
             }
            },
            "type": "scatterpolar"
           }
          ],
          "scatterpolargl": [
           {
            "marker": {
             "colorbar": {
              "outlinewidth": 0,
              "ticks": ""
             }
            },
            "type": "scatterpolargl"
           }
          ],
          "scatterternary": [
           {
            "marker": {
             "colorbar": {
              "outlinewidth": 0,
              "ticks": ""
             }
            },
            "type": "scatterternary"
           }
          ],
          "surface": [
           {
            "colorbar": {
             "outlinewidth": 0,
             "ticks": ""
            },
            "colorscale": [
             [
              0,
              "#0d0887"
             ],
             [
              0.1111111111111111,
              "#46039f"
             ],
             [
              0.2222222222222222,
              "#7201a8"
             ],
             [
              0.3333333333333333,
              "#9c179e"
             ],
             [
              0.4444444444444444,
              "#bd3786"
             ],
             [
              0.5555555555555556,
              "#d8576b"
             ],
             [
              0.6666666666666666,
              "#ed7953"
             ],
             [
              0.7777777777777778,
              "#fb9f3a"
             ],
             [
              0.8888888888888888,
              "#fdca26"
             ],
             [
              1,
              "#f0f921"
             ]
            ],
            "type": "surface"
           }
          ],
          "table": [
           {
            "cells": {
             "fill": {
              "color": "#EBF0F8"
             },
             "line": {
              "color": "white"
             }
            },
            "header": {
             "fill": {
              "color": "#C8D4E3"
             },
             "line": {
              "color": "white"
             }
            },
            "type": "table"
           }
          ]
         },
         "layout": {
          "annotationdefaults": {
           "arrowcolor": "#2a3f5f",
           "arrowhead": 0,
           "arrowwidth": 1
          },
          "coloraxis": {
           "colorbar": {
            "outlinewidth": 0,
            "ticks": ""
           }
          },
          "colorscale": {
           "diverging": [
            [
             0,
             "#8e0152"
            ],
            [
             0.1,
             "#c51b7d"
            ],
            [
             0.2,
             "#de77ae"
            ],
            [
             0.3,
             "#f1b6da"
            ],
            [
             0.4,
             "#fde0ef"
            ],
            [
             0.5,
             "#f7f7f7"
            ],
            [
             0.6,
             "#e6f5d0"
            ],
            [
             0.7,
             "#b8e186"
            ],
            [
             0.8,
             "#7fbc41"
            ],
            [
             0.9,
             "#4d9221"
            ],
            [
             1,
             "#276419"
            ]
           ],
           "sequential": [
            [
             0,
             "#0d0887"
            ],
            [
             0.1111111111111111,
             "#46039f"
            ],
            [
             0.2222222222222222,
             "#7201a8"
            ],
            [
             0.3333333333333333,
             "#9c179e"
            ],
            [
             0.4444444444444444,
             "#bd3786"
            ],
            [
             0.5555555555555556,
             "#d8576b"
            ],
            [
             0.6666666666666666,
             "#ed7953"
            ],
            [
             0.7777777777777778,
             "#fb9f3a"
            ],
            [
             0.8888888888888888,
             "#fdca26"
            ],
            [
             1,
             "#f0f921"
            ]
           ],
           "sequentialminus": [
            [
             0,
             "#0d0887"
            ],
            [
             0.1111111111111111,
             "#46039f"
            ],
            [
             0.2222222222222222,
             "#7201a8"
            ],
            [
             0.3333333333333333,
             "#9c179e"
            ],
            [
             0.4444444444444444,
             "#bd3786"
            ],
            [
             0.5555555555555556,
             "#d8576b"
            ],
            [
             0.6666666666666666,
             "#ed7953"
            ],
            [
             0.7777777777777778,
             "#fb9f3a"
            ],
            [
             0.8888888888888888,
             "#fdca26"
            ],
            [
             1,
             "#f0f921"
            ]
           ]
          },
          "colorway": [
           "#636efa",
           "#EF553B",
           "#00cc96",
           "#ab63fa",
           "#FFA15A",
           "#19d3f3",
           "#FF6692",
           "#B6E880",
           "#FF97FF",
           "#FECB52"
          ],
          "font": {
           "color": "#2a3f5f"
          },
          "geo": {
           "bgcolor": "white",
           "lakecolor": "white",
           "landcolor": "#E5ECF6",
           "showlakes": true,
           "showland": true,
           "subunitcolor": "white"
          },
          "hoverlabel": {
           "align": "left"
          },
          "hovermode": "closest",
          "mapbox": {
           "style": "light"
          },
          "paper_bgcolor": "white",
          "plot_bgcolor": "#E5ECF6",
          "polar": {
           "angularaxis": {
            "gridcolor": "white",
            "linecolor": "white",
            "ticks": ""
           },
           "bgcolor": "#E5ECF6",
           "radialaxis": {
            "gridcolor": "white",
            "linecolor": "white",
            "ticks": ""
           }
          },
          "scene": {
           "xaxis": {
            "backgroundcolor": "#E5ECF6",
            "gridcolor": "white",
            "gridwidth": 2,
            "linecolor": "white",
            "showbackground": true,
            "ticks": "",
            "zerolinecolor": "white"
           },
           "yaxis": {
            "backgroundcolor": "#E5ECF6",
            "gridcolor": "white",
            "gridwidth": 2,
            "linecolor": "white",
            "showbackground": true,
            "ticks": "",
            "zerolinecolor": "white"
           },
           "zaxis": {
            "backgroundcolor": "#E5ECF6",
            "gridcolor": "white",
            "gridwidth": 2,
            "linecolor": "white",
            "showbackground": true,
            "ticks": "",
            "zerolinecolor": "white"
           }
          },
          "shapedefaults": {
           "line": {
            "color": "#2a3f5f"
           }
          },
          "ternary": {
           "aaxis": {
            "gridcolor": "white",
            "linecolor": "white",
            "ticks": ""
           },
           "baxis": {
            "gridcolor": "white",
            "linecolor": "white",
            "ticks": ""
           },
           "bgcolor": "#E5ECF6",
           "caxis": {
            "gridcolor": "white",
            "linecolor": "white",
            "ticks": ""
           }
          },
          "title": {
           "x": 0.05
          },
          "xaxis": {
           "automargin": true,
           "gridcolor": "white",
           "linecolor": "white",
           "ticks": "",
           "title": {
            "standoff": 15
           },
           "zerolinecolor": "white",
           "zerolinewidth": 2
          },
          "yaxis": {
           "automargin": true,
           "gridcolor": "white",
           "linecolor": "white",
           "ticks": "",
           "title": {
            "standoff": 15
           },
           "zerolinecolor": "white",
           "zerolinewidth": 2
          }
         }
        },
        "xaxis": {
         "anchor": "y",
         "domain": [
          0,
          1
         ],
         "title": {
          "text": "x"
         }
        },
        "yaxis": {
         "anchor": "x",
         "domain": [
          0,
          1
         ],
         "title": {
          "text": "y"
         }
        }
       }
      },
      "text/html": [
       "<div>\n",
       "        \n",
       "        \n",
       "            <div id=\"ac833a0c-5515-44c8-816a-012cc757487e\" class=\"plotly-graph-div\" style=\"height:525px; width:100%;\"></div>\n",
       "            <script type=\"text/javascript\">\n",
       "                require([\"plotly\"], function(Plotly) {\n",
       "                    window.PLOTLYENV=window.PLOTLYENV || {};\n",
       "                    \n",
       "                if (document.getElementById(\"ac833a0c-5515-44c8-816a-012cc757487e\")) {\n",
       "                    Plotly.newPlot(\n",
       "                        'ac833a0c-5515-44c8-816a-012cc757487e',\n",
       "                        [{\"hoverlabel\": {\"namelength\": 0}, \"hovertemplate\": \"x=%{x}<br>y=%{y}<br>text=%{text}\", \"legendgroup\": \"\", \"marker\": {\"color\": \"#636efa\", \"symbol\": \"circle\"}, \"mode\": \"markers+text\", \"name\": \"\", \"showlegend\": false, \"text\": [\"Acid house\", \"African music\", \"Alternative rock\", \"Ambient\", \"Blues\", \"Bossa Nova\", \"Chill-out\", \"Classical Music\", \"Coldwave\", \"Country\", \"Dance music\", \"Dance-pop\", \"Deep house\", \"Disco\", \"Dream Pop\", \"Dub\", \"Electro swing\", \"Electronic rock\", \"Electronica\", \"Electropop\", \"Experimental\", \"Experimental Jazz\", \"Experimental rock\", \"Film Music\", \"French house\", \"Funk\", \"Future house\", \"Garage rock\", \"Grime\", \"Hard rock\", \"Hip hop\", \"House music\", \"Indie folk\", \"Indie pop\", \"Indie rock\", \"Instrumental\", \"International Pop\", \"Latin music\", \"Lo-Fi\", \"Metal\", \"Minimal\", \"Modern Jazz\", \"New wave\", \"Noise rock\", \"Nouvelle Sc\\u00e8ne\", \"Nu-disco\", \"Pop rock\", \"Pop soul\", \"Post-punk\", \"Post-rock\", \"Progressive pop\", \"Progressive rock\", \"Psychedelic pop\", \"Psychedelic rock\", \"Punk\", \"R&B\", \"Rap\", \"Rap fran\\u00e7ais\", \"Reggae\", \"Rock and roll\", \"Samba\", \"Singer-songwriter\", \"Soul\", \"Surf rock\", \"Synthpop\", \"Synthwave\", \"Techno\", \"Traditional Music\", \"Trap\", \"Trip hop\", \"Vari\\u00e9t\\u00e9 Fran\\u00e7aise\"], \"type\": \"scatter\", \"x\": [-11.994706153869629, -7.846391677856445, -4.209227085113525, 6.496922016143799, -22.157690048217773, 24.244422912597656, -16.45694923400879, -2.2766401767730713, 2.823263645172119, -13.441282272338867, 4.404933929443359, -5.6600728034973145, 23.235668182373047, -9.602792739868164, 16.422203063964844, -30.315935134887695, 7.551563739776611, -3.219318389892578, -20.94646644592285, 5.7701287269592285, -10.393070220947266, -33.527870178222656, 17.60736846923828, 2.0617222785949707, 11.636609077453613, 10.963153839111328, -30.313066482543945, -0.685817301273346, 25.106658935546875, -0.18570375442504883, 15.026880264282227, -15.609970092773438, -14.055931091308594, -8.59955883026123, -3.69560170173645, 8.354347229003906, 5.963544845581055, 7.23886251449585, -11.321246147155762, -22.108427047729492, 18.018701553344727, 8.657730102539062, -9.420511245727539, 19.137006759643555, 8.259095191955566, -4.015529632568359, -3.3086564540863037, -3.0810725688934326, 11.111361503601074, 0.9401600360870361, -6.722184658050537, -1.4653122425079346, 1.3853414058685303, -15.316739082336426, -23.09021759033203, -8.211153984069824, -22.308624267578125, -20.66350746154785, 5.882843494415283, 13.362518310546875, -29.00364875793457, 3.0062172412872314, -7.503971099853516, -30.49146270751953, -2.059781074523926, 18.700345993041992, -22.43702507019043, -16.761260986328125, 0.1410301774740219, 2.229163885116577, -7.455220699310303], \"xaxis\": \"x\", \"y\": [7.993433952331543, 11.827929496765137, -10.838289260864258, -7.616008281707764, -18.18345069885254, 13.794590950012207, -2.9907052516937256, 14.632115364074707, -29.323699951171875, -21.821178436279297, -1.923979640007019, -31.799942016601562, -0.9188554883003235, 25.91033363342285, -0.5351433753967285, -18.551883697509766, 28.20684814453125, 20.35953712463379, 3.8041272163391113, 5.74100399017334, 17.013885498046875, -7.945127010345459, -12.70109748840332, -7.136123180389404, 4.148285388946533, -12.316194534301758, -6.165547847747803, 6.201272964477539, -16.15507698059082, 25.834733963012695, -20.43811798095703, 3.3125498294830322, -9.161855697631836, -15.20075511932373, 2.040933847427368, -0.13127964735031128, -13.176819801330566, -23.966873168945312, -3.361006736755371, -4.983846187591553, -7.103803634643555, 18.36688232421875, -9.99388599395752, -25.48716926574707, -18.01058578491211, 8.367420196533203, -2.6207830905914307, -15.424420356750488, -4.192771911621094, -11.860674858093262, -6.056524753570557, -20.811277389526367, 11.277425765991211, -15.255793571472168, 9.619694709777832, 4.1261701583862305, -11.517112731933594, 16.486713409423828, 12.308030128479004, 9.646993637084961, 2.5311191082000732, -17.07302474975586, -23.931116104125977, 13.837320327758789, -6.589401721954346, 5.748171806335449, 23.21009063720703, 11.700106620788574, -0.3638204038143158, 3.2213873863220215, -0.5258198976516724], \"yaxis\": \"y\"}],\n",
       "                        {\"legend\": {\"tracegroupgap\": 0}, \"margin\": {\"t\": 60}, \"template\": {\"data\": {\"bar\": [{\"error_x\": {\"color\": \"#2a3f5f\"}, \"error_y\": {\"color\": \"#2a3f5f\"}, \"marker\": {\"line\": {\"color\": \"#E5ECF6\", \"width\": 0.5}}, \"type\": \"bar\"}], \"barpolar\": [{\"marker\": {\"line\": {\"color\": \"#E5ECF6\", \"width\": 0.5}}, \"type\": \"barpolar\"}], \"carpet\": [{\"aaxis\": {\"endlinecolor\": \"#2a3f5f\", \"gridcolor\": \"white\", \"linecolor\": \"white\", \"minorgridcolor\": \"white\", \"startlinecolor\": \"#2a3f5f\"}, \"baxis\": {\"endlinecolor\": \"#2a3f5f\", \"gridcolor\": \"white\", \"linecolor\": \"white\", \"minorgridcolor\": \"white\", \"startlinecolor\": \"#2a3f5f\"}, \"type\": \"carpet\"}], \"choropleth\": [{\"colorbar\": {\"outlinewidth\": 0, \"ticks\": \"\"}, \"type\": \"choropleth\"}], \"contour\": [{\"colorbar\": {\"outlinewidth\": 0, \"ticks\": \"\"}, \"colorscale\": [[0.0, \"#0d0887\"], [0.1111111111111111, \"#46039f\"], [0.2222222222222222, \"#7201a8\"], [0.3333333333333333, \"#9c179e\"], [0.4444444444444444, \"#bd3786\"], [0.5555555555555556, \"#d8576b\"], [0.6666666666666666, \"#ed7953\"], [0.7777777777777778, \"#fb9f3a\"], [0.8888888888888888, \"#fdca26\"], [1.0, \"#f0f921\"]], \"type\": \"contour\"}], \"contourcarpet\": [{\"colorbar\": {\"outlinewidth\": 0, \"ticks\": \"\"}, \"type\": \"contourcarpet\"}], \"heatmap\": [{\"colorbar\": {\"outlinewidth\": 0, \"ticks\": \"\"}, \"colorscale\": [[0.0, \"#0d0887\"], [0.1111111111111111, \"#46039f\"], [0.2222222222222222, \"#7201a8\"], [0.3333333333333333, \"#9c179e\"], [0.4444444444444444, \"#bd3786\"], [0.5555555555555556, \"#d8576b\"], [0.6666666666666666, \"#ed7953\"], [0.7777777777777778, \"#fb9f3a\"], [0.8888888888888888, \"#fdca26\"], [1.0, \"#f0f921\"]], \"type\": \"heatmap\"}], \"heatmapgl\": [{\"colorbar\": {\"outlinewidth\": 0, \"ticks\": \"\"}, \"colorscale\": [[0.0, \"#0d0887\"], [0.1111111111111111, \"#46039f\"], [0.2222222222222222, \"#7201a8\"], [0.3333333333333333, \"#9c179e\"], [0.4444444444444444, \"#bd3786\"], [0.5555555555555556, \"#d8576b\"], [0.6666666666666666, \"#ed7953\"], [0.7777777777777778, \"#fb9f3a\"], [0.8888888888888888, \"#fdca26\"], [1.0, \"#f0f921\"]], \"type\": \"heatmapgl\"}], \"histogram\": [{\"marker\": {\"colorbar\": {\"outlinewidth\": 0, \"ticks\": \"\"}}, \"type\": \"histogram\"}], \"histogram2d\": [{\"colorbar\": {\"outlinewidth\": 0, \"ticks\": \"\"}, \"colorscale\": [[0.0, \"#0d0887\"], [0.1111111111111111, \"#46039f\"], [0.2222222222222222, \"#7201a8\"], [0.3333333333333333, \"#9c179e\"], [0.4444444444444444, \"#bd3786\"], [0.5555555555555556, \"#d8576b\"], [0.6666666666666666, \"#ed7953\"], [0.7777777777777778, \"#fb9f3a\"], [0.8888888888888888, \"#fdca26\"], [1.0, \"#f0f921\"]], \"type\": \"histogram2d\"}], \"histogram2dcontour\": [{\"colorbar\": {\"outlinewidth\": 0, \"ticks\": \"\"}, \"colorscale\": [[0.0, \"#0d0887\"], [0.1111111111111111, \"#46039f\"], [0.2222222222222222, \"#7201a8\"], [0.3333333333333333, \"#9c179e\"], [0.4444444444444444, \"#bd3786\"], [0.5555555555555556, \"#d8576b\"], [0.6666666666666666, \"#ed7953\"], [0.7777777777777778, \"#fb9f3a\"], [0.8888888888888888, \"#fdca26\"], [1.0, \"#f0f921\"]], \"type\": \"histogram2dcontour\"}], \"mesh3d\": [{\"colorbar\": {\"outlinewidth\": 0, \"ticks\": \"\"}, \"type\": \"mesh3d\"}], \"parcoords\": [{\"line\": {\"colorbar\": {\"outlinewidth\": 0, \"ticks\": \"\"}}, \"type\": \"parcoords\"}], \"pie\": [{\"automargin\": true, \"type\": \"pie\"}], \"scatter\": [{\"marker\": {\"colorbar\": {\"outlinewidth\": 0, \"ticks\": \"\"}}, \"type\": \"scatter\"}], \"scatter3d\": [{\"line\": {\"colorbar\": {\"outlinewidth\": 0, \"ticks\": \"\"}}, \"marker\": {\"colorbar\": {\"outlinewidth\": 0, \"ticks\": \"\"}}, \"type\": \"scatter3d\"}], \"scattercarpet\": [{\"marker\": {\"colorbar\": {\"outlinewidth\": 0, \"ticks\": \"\"}}, \"type\": \"scattercarpet\"}], \"scattergeo\": [{\"marker\": {\"colorbar\": {\"outlinewidth\": 0, \"ticks\": \"\"}}, \"type\": \"scattergeo\"}], \"scattergl\": [{\"marker\": {\"colorbar\": {\"outlinewidth\": 0, \"ticks\": \"\"}}, \"type\": \"scattergl\"}], \"scattermapbox\": [{\"marker\": {\"colorbar\": {\"outlinewidth\": 0, \"ticks\": \"\"}}, \"type\": \"scattermapbox\"}], \"scatterpolar\": [{\"marker\": {\"colorbar\": {\"outlinewidth\": 0, \"ticks\": \"\"}}, \"type\": \"scatterpolar\"}], \"scatterpolargl\": [{\"marker\": {\"colorbar\": {\"outlinewidth\": 0, \"ticks\": \"\"}}, \"type\": \"scatterpolargl\"}], \"scatterternary\": [{\"marker\": {\"colorbar\": {\"outlinewidth\": 0, \"ticks\": \"\"}}, \"type\": \"scatterternary\"}], \"surface\": [{\"colorbar\": {\"outlinewidth\": 0, \"ticks\": \"\"}, \"colorscale\": [[0.0, \"#0d0887\"], [0.1111111111111111, \"#46039f\"], [0.2222222222222222, \"#7201a8\"], [0.3333333333333333, \"#9c179e\"], [0.4444444444444444, \"#bd3786\"], [0.5555555555555556, \"#d8576b\"], [0.6666666666666666, \"#ed7953\"], [0.7777777777777778, \"#fb9f3a\"], [0.8888888888888888, \"#fdca26\"], [1.0, \"#f0f921\"]], \"type\": \"surface\"}], \"table\": [{\"cells\": {\"fill\": {\"color\": \"#EBF0F8\"}, \"line\": {\"color\": \"white\"}}, \"header\": {\"fill\": {\"color\": \"#C8D4E3\"}, \"line\": {\"color\": \"white\"}}, \"type\": \"table\"}]}, \"layout\": {\"annotationdefaults\": {\"arrowcolor\": \"#2a3f5f\", \"arrowhead\": 0, \"arrowwidth\": 1}, \"coloraxis\": {\"colorbar\": {\"outlinewidth\": 0, \"ticks\": \"\"}}, \"colorscale\": {\"diverging\": [[0, \"#8e0152\"], [0.1, \"#c51b7d\"], [0.2, \"#de77ae\"], [0.3, \"#f1b6da\"], [0.4, \"#fde0ef\"], [0.5, \"#f7f7f7\"], [0.6, \"#e6f5d0\"], [0.7, \"#b8e186\"], [0.8, \"#7fbc41\"], [0.9, \"#4d9221\"], [1, \"#276419\"]], \"sequential\": [[0.0, \"#0d0887\"], [0.1111111111111111, \"#46039f\"], [0.2222222222222222, \"#7201a8\"], [0.3333333333333333, \"#9c179e\"], [0.4444444444444444, \"#bd3786\"], [0.5555555555555556, \"#d8576b\"], [0.6666666666666666, \"#ed7953\"], [0.7777777777777778, \"#fb9f3a\"], [0.8888888888888888, \"#fdca26\"], [1.0, \"#f0f921\"]], \"sequentialminus\": [[0.0, \"#0d0887\"], [0.1111111111111111, \"#46039f\"], [0.2222222222222222, \"#7201a8\"], [0.3333333333333333, \"#9c179e\"], [0.4444444444444444, \"#bd3786\"], [0.5555555555555556, \"#d8576b\"], [0.6666666666666666, \"#ed7953\"], [0.7777777777777778, \"#fb9f3a\"], [0.8888888888888888, \"#fdca26\"], [1.0, \"#f0f921\"]]}, \"colorway\": [\"#636efa\", \"#EF553B\", \"#00cc96\", \"#ab63fa\", \"#FFA15A\", \"#19d3f3\", \"#FF6692\", \"#B6E880\", \"#FF97FF\", \"#FECB52\"], \"font\": {\"color\": \"#2a3f5f\"}, \"geo\": {\"bgcolor\": \"white\", \"lakecolor\": \"white\", \"landcolor\": \"#E5ECF6\", \"showlakes\": true, \"showland\": true, \"subunitcolor\": \"white\"}, \"hoverlabel\": {\"align\": \"left\"}, \"hovermode\": \"closest\", \"mapbox\": {\"style\": \"light\"}, \"paper_bgcolor\": \"white\", \"plot_bgcolor\": \"#E5ECF6\", \"polar\": {\"angularaxis\": {\"gridcolor\": \"white\", \"linecolor\": \"white\", \"ticks\": \"\"}, \"bgcolor\": \"#E5ECF6\", \"radialaxis\": {\"gridcolor\": \"white\", \"linecolor\": \"white\", \"ticks\": \"\"}}, \"scene\": {\"xaxis\": {\"backgroundcolor\": \"#E5ECF6\", \"gridcolor\": \"white\", \"gridwidth\": 2, \"linecolor\": \"white\", \"showbackground\": true, \"ticks\": \"\", \"zerolinecolor\": \"white\"}, \"yaxis\": {\"backgroundcolor\": \"#E5ECF6\", \"gridcolor\": \"white\", \"gridwidth\": 2, \"linecolor\": \"white\", \"showbackground\": true, \"ticks\": \"\", \"zerolinecolor\": \"white\"}, \"zaxis\": {\"backgroundcolor\": \"#E5ECF6\", \"gridcolor\": \"white\", \"gridwidth\": 2, \"linecolor\": \"white\", \"showbackground\": true, \"ticks\": \"\", \"zerolinecolor\": \"white\"}}, \"shapedefaults\": {\"line\": {\"color\": \"#2a3f5f\"}}, \"ternary\": {\"aaxis\": {\"gridcolor\": \"white\", \"linecolor\": \"white\", \"ticks\": \"\"}, \"baxis\": {\"gridcolor\": \"white\", \"linecolor\": \"white\", \"ticks\": \"\"}, \"bgcolor\": \"#E5ECF6\", \"caxis\": {\"gridcolor\": \"white\", \"linecolor\": \"white\", \"ticks\": \"\"}}, \"title\": {\"x\": 0.05}, \"xaxis\": {\"automargin\": true, \"gridcolor\": \"white\", \"linecolor\": \"white\", \"ticks\": \"\", \"title\": {\"standoff\": 15}, \"zerolinecolor\": \"white\", \"zerolinewidth\": 2}, \"yaxis\": {\"automargin\": true, \"gridcolor\": \"white\", \"linecolor\": \"white\", \"ticks\": \"\", \"title\": {\"standoff\": 15}, \"zerolinecolor\": \"white\", \"zerolinewidth\": 2}}}, \"xaxis\": {\"anchor\": \"y\", \"domain\": [0.0, 1.0], \"title\": {\"text\": \"x\"}}, \"yaxis\": {\"anchor\": \"x\", \"domain\": [0.0, 1.0], \"title\": {\"text\": \"y\"}}},\n",
       "                        {\"responsive\": true}\n",
       "                    ).then(function(){\n",
       "                            \n",
       "var gd = document.getElementById('ac833a0c-5515-44c8-816a-012cc757487e');\n",
       "var x = new MutationObserver(function (mutations, observer) {{\n",
       "        var display = window.getComputedStyle(gd).display;\n",
       "        if (!display || display === 'none') {{\n",
       "            console.log([gd, 'removed!']);\n",
       "            Plotly.purge(gd);\n",
       "            observer.disconnect();\n",
       "        }}\n",
       "}});\n",
       "\n",
       "// Listen for the removal of the full notebook cells\n",
       "var notebookContainer = gd.closest('#notebook-container');\n",
       "if (notebookContainer) {{\n",
       "    x.observe(notebookContainer, {childList: true});\n",
       "}}\n",
       "\n",
       "// Listen for the clearing of the current output cell\n",
       "var outputEl = gd.closest('.output');\n",
       "if (outputEl) {{\n",
       "    x.observe(outputEl, {childList: true});\n",
       "}}\n",
       "\n",
       "                        })\n",
       "                };\n",
       "                });\n",
       "            </script>\n",
       "        </div>"
      ]
     },
     "metadata": {},
     "output_type": "display_data"
    }
   ],
   "source": [
    "# Extract Influencer embeddings and perform 2D TSNE\n",
    "\n",
    "i_em = model.get_layer('Influencer-Embedding')\n",
    "i_em_weights = i_em.get_weights()[0]\n",
    "\n",
    "tsne = TSNE(n_components=2, verbose=1, perplexity=40, n_iter=300)\n",
    "tnse_results = tsne.fit_transform(b_em_weights)\n",
    "\n",
    "fig = px.scatter(x=tnse_results[:,0], y=tnse_results[:,1], text=[col[:-11] for col in influencer_data.columns])\n",
    "fig.show()"
   ]
  },
  {
   "cell_type": "markdown",
   "metadata": {},
   "source": [
    "TSNE is not very stable on this example because we lack data."
   ]
  },
  {
   "cell_type": "markdown",
   "metadata": {},
   "source": [
    "## Train model with cross validation and early stopping"
   ]
  },
  {
   "cell_type": "code",
   "execution_count": 64,
   "metadata": {},
   "outputs": [
    {
     "name": "stdout",
     "output_type": "stream",
     "text": [
      "Train on 60267 samples, validate on 6697 samples\n",
      "Epoch 1/100\n",
      "60267/60267 [==============================] - 2s 29us/step - loss: 0.1450 - val_loss: 0.1186\n",
      "Epoch 2/100\n",
      "60267/60267 [==============================] - 1s 24us/step - loss: 0.1123 - val_loss: 0.1083\n",
      "Epoch 3/100\n",
      "60267/60267 [==============================] - 1s 24us/step - loss: 0.1053 - val_loss: 0.1034\n",
      "Epoch 4/100\n",
      "60267/60267 [==============================] - 1s 24us/step - loss: 0.1017 - val_loss: 0.1033\n",
      "Epoch 5/100\n",
      "60267/60267 [==============================] - 1s 24us/step - loss: 0.0997 - val_loss: 0.1002\n",
      "Epoch 6/100\n",
      "60267/60267 [==============================] - 1s 24us/step - loss: 0.0979 - val_loss: 0.0996\n",
      "Epoch 7/100\n",
      "60267/60267 [==============================] - 1s 24us/step - loss: 0.0973 - val_loss: 0.0992\n",
      "Epoch 8/100\n",
      "60267/60267 [==============================] - 1s 24us/step - loss: 0.0964 - val_loss: 0.0988\n",
      "Epoch 9/100\n",
      "60267/60267 [==============================] - 1s 24us/step - loss: 0.0958 - val_loss: 0.0974\n",
      "Epoch 10/100\n",
      "60267/60267 [==============================] - 1s 25us/step - loss: 0.0956 - val_loss: 0.1007\n",
      "Epoch 11/100\n",
      "60267/60267 [==============================] - 1s 24us/step - loss: 0.0950 - val_loss: 0.0976\n",
      "Epoch 12/100\n",
      "60267/60267 [==============================] - 2s 26us/step - loss: 0.0949 - val_loss: 0.0989\n",
      "Epoch 13/100\n",
      "60267/60267 [==============================] - 2s 26us/step - loss: 0.0945 - val_loss: 0.0971\n",
      "Epoch 14/100\n",
      "60267/60267 [==============================] - 2s 25us/step - loss: 0.0944 - val_loss: 0.0972\n",
      "Epoch 15/100\n",
      "60267/60267 [==============================] - 2s 25us/step - loss: 0.0942 - val_loss: 0.0981\n",
      "Epoch 16/100\n",
      "60267/60267 [==============================] - 1s 24us/step - loss: 0.0941 - val_loss: 0.1028\n",
      "Epoch 17/100\n",
      "60267/60267 [==============================] - 2s 26us/step - loss: 0.0940 - val_loss: 0.0980\n",
      "Epoch 18/100\n",
      "60267/60267 [==============================] - 2s 26us/step - loss: 0.0940 - val_loss: 0.0995\n",
      "Restoring model weights from the end of the best epoch\n",
      "Epoch 00018: early stopping\n",
      "Train on 60268 samples, validate on 6697 samples\n",
      "Epoch 1/100\n",
      "60268/60268 [==============================] - 2s 29us/step - loss: 0.1456 - val_loss: 0.1231\n",
      "Epoch 2/100\n",
      "60268/60268 [==============================] - 1s 24us/step - loss: 0.1134 - val_loss: 0.1121\n",
      "Epoch 3/100\n",
      "60268/60268 [==============================] - 1s 25us/step - loss: 0.1062 - val_loss: 0.1080\n",
      "Epoch 4/100\n",
      "60268/60268 [==============================] - 1s 25us/step - loss: 0.1027 - val_loss: 0.1040\n",
      "Epoch 5/100\n",
      "60268/60268 [==============================] - 2s 26us/step - loss: 0.1003 - val_loss: 0.1053\n",
      "Epoch 6/100\n",
      "60268/60268 [==============================] - 2s 26us/step - loss: 0.0993 - val_loss: 0.1026\n",
      "Epoch 7/100\n",
      "60268/60268 [==============================] - 2s 25us/step - loss: 0.0981 - val_loss: 0.1012\n",
      "Epoch 8/100\n",
      "60268/60268 [==============================] - 1s 25us/step - loss: 0.0974 - val_loss: 0.1029\n",
      "Epoch 9/100\n",
      "60268/60268 [==============================] - 2s 26us/step - loss: 0.0969 - val_loss: 0.1014\n",
      "Epoch 10/100\n",
      "60268/60268 [==============================] - 2s 29us/step - loss: 0.0965 - val_loss: 0.1005\n",
      "Epoch 11/100\n",
      "60268/60268 [==============================] - 2s 26us/step - loss: 0.0961 - val_loss: 0.1002\n",
      "Epoch 12/100\n",
      "60268/60268 [==============================] - 2s 27us/step - loss: 0.0957 - val_loss: 0.1037\n",
      "Epoch 13/100\n",
      "60268/60268 [==============================] - 1s 25us/step - loss: 0.0957 - val_loss: 0.1012\n",
      "Epoch 14/100\n",
      "60268/60268 [==============================] - 2s 26us/step - loss: 0.0955 - val_loss: 0.1021\n",
      "Epoch 15/100\n",
      "60268/60268 [==============================] - 2s 26us/step - loss: 0.0953 - val_loss: 0.1034\n",
      "Epoch 16/100\n",
      "60268/60268 [==============================] - 2s 26us/step - loss: 0.0950 - val_loss: 0.1005\n",
      "Restoring model weights from the end of the best epoch\n",
      "Epoch 00016: early stopping\n",
      "Train on 60268 samples, validate on 6697 samples\n",
      "Epoch 1/100\n",
      "60268/60268 [==============================] - 2s 31us/step - loss: 0.1429 - val_loss: 0.1168\n",
      "Epoch 2/100\n",
      "60268/60268 [==============================] - 2s 26us/step - loss: 0.1112 - val_loss: 0.1078\n",
      "Epoch 3/100\n",
      "60268/60268 [==============================] - 2s 27us/step - loss: 0.1050 - val_loss: 0.1031\n",
      "Epoch 4/100\n",
      "60268/60268 [==============================] - 2s 26us/step - loss: 0.1016 - val_loss: 0.1006\n",
      "Epoch 5/100\n",
      "60268/60268 [==============================] - 2s 26us/step - loss: 0.0999 - val_loss: 0.1000\n",
      "Epoch 6/100\n",
      "60268/60268 [==============================] - 2s 27us/step - loss: 0.0985 - val_loss: 0.0991\n",
      "Epoch 7/100\n",
      "60268/60268 [==============================] - 2s 26us/step - loss: 0.0978 - val_loss: 0.0984\n",
      "Epoch 8/100\n",
      "60268/60268 [==============================] - 2s 26us/step - loss: 0.0971 - val_loss: 0.0986\n",
      "Epoch 9/100\n",
      "60268/60268 [==============================] - 2s 26us/step - loss: 0.0969 - val_loss: 0.0992\n",
      "Epoch 10/100\n",
      "60268/60268 [==============================] - 2s 25us/step - loss: 0.0963 - val_loss: 0.0997\n",
      "Epoch 11/100\n",
      "60268/60268 [==============================] - 2s 26us/step - loss: 0.0962 - val_loss: 0.0978\n",
      "Epoch 12/100\n",
      "60268/60268 [==============================] - 2s 25us/step - loss: 0.0959 - val_loss: 0.0986\n",
      "Epoch 13/100\n",
      "60268/60268 [==============================] - 2s 26us/step - loss: 0.0957 - val_loss: 0.0982\n",
      "Epoch 14/100\n",
      "60268/60268 [==============================] - 2s 25us/step - loss: 0.0955 - val_loss: 0.0992\n",
      "Epoch 15/100\n",
      "60268/60268 [==============================] - 2s 26us/step - loss: 0.0953 - val_loss: 0.0977\n",
      "Epoch 16/100\n",
      "60268/60268 [==============================] - 2s 27us/step - loss: 0.0953 - val_loss: 0.0978\n",
      "Epoch 17/100\n",
      "60268/60268 [==============================] - 2s 25us/step - loss: 0.0950 - val_loss: 0.0992\n",
      "Epoch 18/100\n",
      "60268/60268 [==============================] - 2s 26us/step - loss: 0.0950 - val_loss: 0.0998\n",
      "Epoch 19/100\n",
      "60268/60268 [==============================] - 2s 28us/step - loss: 0.0949 - val_loss: 0.0986\n",
      "Epoch 20/100\n",
      "60268/60268 [==============================] - 2s 27us/step - loss: 0.0946 - val_loss: 0.0987\n",
      "Restoring model weights from the end of the best epoch\n",
      "Epoch 00020: early stopping\n",
      "Train on 60268 samples, validate on 6697 samples\n",
      "Epoch 1/100\n",
      "60268/60268 [==============================] - 2s 33us/step - loss: 0.1449 - val_loss: 0.1180\n",
      "Epoch 2/100\n",
      "60268/60268 [==============================] - 2s 26us/step - loss: 0.1138 - val_loss: 0.1073\n",
      "Epoch 3/100\n",
      "60268/60268 [==============================] - 2s 26us/step - loss: 0.1063 - val_loss: 0.1031\n",
      "Epoch 4/100\n",
      "60268/60268 [==============================] - 2s 26us/step - loss: 0.1028 - val_loss: 0.1019\n",
      "Epoch 5/100\n",
      "60268/60268 [==============================] - 2s 26us/step - loss: 0.1008 - val_loss: 0.1016\n",
      "Epoch 6/100\n",
      "60268/60268 [==============================] - 2s 25us/step - loss: 0.0991 - val_loss: 0.0998\n",
      "Epoch 7/100\n",
      "60268/60268 [==============================] - 2s 26us/step - loss: 0.0981 - val_loss: 0.0995\n",
      "Epoch 8/100\n",
      "60268/60268 [==============================] - 2s 26us/step - loss: 0.0974 - val_loss: 0.0993\n",
      "Epoch 9/100\n",
      "60268/60268 [==============================] - 2s 25us/step - loss: 0.0968 - val_loss: 0.0987\n",
      "Epoch 10/100\n",
      "60268/60268 [==============================] - 2s 25us/step - loss: 0.0961 - val_loss: 0.0996\n",
      "Epoch 11/100\n",
      "60268/60268 [==============================] - 2s 25us/step - loss: 0.0961 - val_loss: 0.0998\n",
      "Epoch 12/100\n",
      "60268/60268 [==============================] - 2s 25us/step - loss: 0.0955 - val_loss: 0.0989\n",
      "Epoch 13/100\n",
      "60268/60268 [==============================] - 2s 25us/step - loss: 0.0950 - val_loss: 0.0992\n",
      "Epoch 14/100\n",
      "60268/60268 [==============================] - 2s 25us/step - loss: 0.0950 - val_loss: 0.0987\n",
      "Epoch 15/100\n",
      "60268/60268 [==============================] - 2s 26us/step - loss: 0.0947 - val_loss: 0.0989\n",
      "Epoch 16/100\n",
      "60268/60268 [==============================] - 2s 25us/step - loss: 0.0945 - val_loss: 0.1034\n",
      "Epoch 17/100\n",
      "60268/60268 [==============================] - 2s 26us/step - loss: 0.0943 - val_loss: 0.0994\n",
      "Epoch 18/100\n",
      "60268/60268 [==============================] - 2s 26us/step - loss: 0.0943 - val_loss: 0.0996\n",
      "Epoch 19/100\n"
     ]
    },
    {
     "name": "stdout",
     "output_type": "stream",
     "text": [
      "60268/60268 [==============================] - 2s 25us/step - loss: 0.0941 - val_loss: 0.0989\n",
      "Restoring model weights from the end of the best epoch\n",
      "Epoch 00019: early stopping\n",
      "Train on 60268 samples, validate on 6697 samples\n",
      "Epoch 1/100\n",
      "60268/60268 [==============================] - 2s 31us/step - loss: 0.1447 - val_loss: 0.1197\n",
      "Epoch 2/100\n",
      "60268/60268 [==============================] - 2s 25us/step - loss: 0.1159 - val_loss: 0.1109\n",
      "Epoch 3/100\n",
      "60268/60268 [==============================] - 2s 26us/step - loss: 0.1084 - val_loss: 0.1058\n",
      "Epoch 4/100\n",
      "60268/60268 [==============================] - 2s 27us/step - loss: 0.1038 - val_loss: 0.1032\n",
      "Epoch 5/100\n",
      "60268/60268 [==============================] - 2s 26us/step - loss: 0.1012 - val_loss: 0.1028\n",
      "Epoch 6/100\n",
      "60268/60268 [==============================] - 2s 26us/step - loss: 0.0996 - val_loss: 0.1005\n",
      "Epoch 7/100\n",
      "60268/60268 [==============================] - 2s 26us/step - loss: 0.0986 - val_loss: 0.1001\n",
      "Epoch 8/100\n",
      "60268/60268 [==============================] - 2s 26us/step - loss: 0.0977 - val_loss: 0.0999\n",
      "Epoch 9/100\n",
      "60268/60268 [==============================] - 2s 26us/step - loss: 0.0971 - val_loss: 0.1007\n",
      "Epoch 10/100\n",
      "60268/60268 [==============================] - 2s 27us/step - loss: 0.0968 - val_loss: 0.0986\n",
      "Epoch 11/100\n",
      "60268/60268 [==============================] - 2s 26us/step - loss: 0.0963 - val_loss: 0.1005\n",
      "Epoch 12/100\n",
      "60268/60268 [==============================] - 2s 26us/step - loss: 0.0960 - val_loss: 0.1002\n",
      "Epoch 13/100\n",
      "60268/60268 [==============================] - 2s 27us/step - loss: 0.0957 - val_loss: 0.0998\n",
      "Epoch 14/100\n",
      "60268/60268 [==============================] - 2s 26us/step - loss: 0.0955 - val_loss: 0.1012\n",
      "Epoch 15/100\n",
      "60268/60268 [==============================] - 2s 27us/step - loss: 0.0951 - val_loss: 0.0998\n",
      "Restoring model weights from the end of the best epoch\n",
      "Epoch 00015: early stopping\n"
     ]
    }
   ],
   "source": [
    "EPOCHS = 100\n",
    "PATIENCE = 5\n",
    "BATCH_SIZE = 32\n",
    "\n",
    "nn_score = 0.0\n",
    "\n",
    "for train_index, test_index in skf.split(X, (y * 100).astype(int)):\n",
    "    \n",
    "    X_train, X_test = X.values[train_index], X.values[test_index]\n",
    "    y_train, y_test = y.values[train_index], y.values[test_index]\n",
    "    \n",
    "    sss = StratifiedShuffleSplit(n_splits=1, test_size=0.1, random_state=RANDOM_SEED)\n",
    "    tridx, vidx = next(sss.split(X_train, (y_train * 100).astype(int)))\n",
    "    X_train, X_valid = X_train[tridx], X_train[vidx]\n",
    "    y_train, y_valid = y_train[tridx], y_train[vidx]\n",
    "    \n",
    "    # Build model\n",
    "    model, band_embedding_model, influencer_embedding_model = build_Dot_model()\n",
    "    \n",
    "    # Early stopping callback\n",
    "    es = EarlyStopping(\n",
    "        monitor='val_loss', \n",
    "        mode='min', \n",
    "        patience=PATIENCE,\n",
    "        restore_best_weights=True,\n",
    "        verbose=1\n",
    "    )\n",
    "    \n",
    "    # Fit\n",
    "    model.fit([X_train[:, i_data_idx], X_train[:, b_data_idx]], y_train,\n",
    "              validation_data=([X_valid[:, i_data_idx], X_valid[:, b_data_idx]], y_valid), \n",
    "              batch_size=BATCH_SIZE,\n",
    "              epochs=EPOCHS,\n",
    "              callbacks=[es],\n",
    "              verbose=1)\n",
    "    \n",
    "    nn_score += np.sqrt(mean_squared_error(\n",
    "        model.predict([X_test[:, i_data_idx], X_test[:, b_data_idx]]), y_test\n",
    "    ))\n",
    "\n",
    "nn_score /= N_FOLDS"
   ]
  },
  {
   "cell_type": "code",
   "execution_count": 65,
   "metadata": {},
   "outputs": [
    {
     "name": "stdout",
     "output_type": "stream",
     "text": [
      "NN score: 0.31624817489734414\n"
     ]
    }
   ],
   "source": [
    "print(f'NN score: {nn_score}')"
   ]
  },
  {
   "cell_type": "markdown",
   "metadata": {},
   "source": [
    "## Simple Deep Model"
   ]
  },
  {
   "cell_type": "code",
   "execution_count": 66,
   "metadata": {},
   "outputs": [],
   "source": [
    "def build_NN_model(\n",
    "    i_emb_dim=16, \n",
    "    b_emb_dim=16, \n",
    "    kind_emb_dim=8, \n",
    "    last_dense=16, \n",
    "    dropout=0.2,\n",
    "    activation='relu'\n",
    "):\n",
    "    \"\"\"\n",
    "    Build simple MLP Neural Network.\n",
    "    \"\"\"\n",
    "    # Influencer embedding\n",
    "    influencer_input = Input(shape=[influencer_data.shape[1]], name=\"Influencer-Input\")\n",
    "    influencer_embedding = Dense(i_emb_dim, activation=activation, name=\"Influencer-Embedding\")(influencer_input)\n",
    "    \n",
    "    # Influencer kind categorical embedding\n",
    "    influencer_kind_input = Input(shape=[1], name=\"Influencer-Kind-Input\")\n",
    "    influencer_kind_emb = Embedding(\n",
    "        influencer_kind.nunique(), \n",
    "        kind_emb_dim, \n",
    "        name=\"Influencer-Kind-Embedding\"\n",
    "    )(influencer_kind_input)\n",
    "    \n",
    "    # Concatenate influencer emb with influencer kind emb to get full influencer emb\n",
    "    influencer_full_emb = Concatenate(name=\"Influencer-Full-Embedding\", axis=-1)(\n",
    "        [influencer_embedding, Flatten(name='Flatten')(influencer_kind_emb)]\n",
    "    )\n",
    "    \n",
    "    # Band embedding\n",
    "    band_input = Input(shape=[band_data.shape[1]], name=\"Band-Input\")\n",
    "    band_embedding = Dense(b_emb_dim, activation=activation, name=\"Band-Embedding\")(band_input)\n",
    "    \n",
    "    # Concatenate and create product\n",
    "    concat = Concatenate(name=\"Concat\", axis=-1)([influencer_full_emb, band_embedding])\n",
    "    dense = Dense(last_dense, activation=activation, name=\"Dense\")(concat)\n",
    "    \n",
    "    # Dropout\n",
    "    dropout = Dropout(rate=dropout)(dense)\n",
    "    \n",
    "    # Output\n",
    "    output = Dense(1, activation=activation, name=\"Output\")(dropout)\n",
    "    band_embedding_model = Model([influencer_input, band_input, influencer_kind_input], band_embedding)\n",
    "    influencer_embedding_model = Model([influencer_input, band_input, influencer_kind_input],\n",
    "                                       influencer_full_emb)\n",
    "    model = Model([influencer_input, band_input, influencer_kind_input], output)\n",
    "    model.compile('adam', 'mean_squared_error')\n",
    "    \n",
    "    return model, band_embedding_model, influencer_embedding_model"
   ]
  },
  {
   "cell_type": "markdown",
   "metadata": {},
   "source": [
    "### Test model and visualize embeddings"
   ]
  },
  {
   "cell_type": "code",
   "execution_count": 69,
   "metadata": {
    "scrolled": false
   },
   "outputs": [
    {
     "data": {
      "image/png": "[encoded data removed]",
      "text/plain": [
       "<IPython.core.display.Image object>"
      ]
     },
     "execution_count": 69,
     "metadata": {},
     "output_type": "execute_result"
    }
   ],
   "source": [
    "# Initialize model\n",
    "model, band_embedding_model, influencer_embedding_model = build_NN_model()\n",
    "\n",
    "# Plot architecture\n",
    "plot_model(model, to_file='Dot_model_plot.png', show_shapes=True, show_layer_names=True)"
   ]
  },
  {
   "cell_type": "code",
   "execution_count": 71,
   "metadata": {},
   "outputs": [
    {
     "name": "stdout",
     "output_type": "stream",
     "text": [
      "Epoch 1/20\n",
      "83706/83706 [==============================] - 3s 35us/step - loss: 0.1216\n",
      "Epoch 2/20\n",
      "83706/83706 [==============================] - 2s 28us/step - loss: 0.1070\n",
      "Epoch 3/20\n",
      "83706/83706 [==============================] - 2s 28us/step - loss: 0.1035\n",
      "Epoch 4/20\n",
      "83706/83706 [==============================] - 2s 28us/step - loss: 0.1013\n",
      "Epoch 5/20\n",
      "83706/83706 [==============================] - 2s 29us/step - loss: 0.1002\n",
      "Epoch 6/20\n",
      "83706/83706 [==============================] - 2s 28us/step - loss: 0.0993\n",
      "Epoch 7/20\n",
      "83706/83706 [==============================] - 2s 29us/step - loss: 0.0988\n",
      "Epoch 8/20\n",
      "83706/83706 [==============================] - 2s 28us/step - loss: 0.0985\n",
      "Epoch 9/20\n",
      "83706/83706 [==============================] - 2s 29us/step - loss: 0.0977\n",
      "Epoch 10/20\n",
      "83706/83706 [==============================] - 2s 29us/step - loss: 0.0974\n",
      "Epoch 11/20\n",
      "83706/83706 [==============================] - 2s 29us/step - loss: 0.0969\n",
      "Epoch 12/20\n",
      "83706/83706 [==============================] - 3s 30us/step - loss: 0.0967\n",
      "Epoch 13/20\n",
      "83706/83706 [==============================] - 2s 30us/step - loss: 0.0964\n",
      "Epoch 14/20\n",
      "83706/83706 [==============================] - 2s 29us/step - loss: 0.0963\n",
      "Epoch 15/20\n",
      "83706/83706 [==============================] - 2s 30us/step - loss: 0.0959\n",
      "Epoch 16/20\n",
      "83706/83706 [==============================] - 2s 29us/step - loss: 0.0961\n",
      "Epoch 17/20\n",
      "83706/83706 [==============================] - 2s 29us/step - loss: 0.0957\n",
      "Epoch 18/20\n",
      "83706/83706 [==============================] - 2s 28us/step - loss: 0.0956\n",
      "Epoch 19/20\n",
      "83706/83706 [==============================] - 2s 29us/step - loss: 0.0956\n",
      "Epoch 20/20\n",
      "83706/83706 [==============================] - 2s 29us/step - loss: 0.0950\n"
     ]
    }
   ],
   "source": [
    "# Fit model on 10 epochs on all data\n",
    "history = model.fit([influencer_data, band_data, influencer_kind], dataset.score, epochs=20, verbose=1)"
   ]
  },
  {
   "cell_type": "markdown",
   "metadata": {},
   "source": [
    "#### Band embeddings"
   ]
  },
  {
   "cell_type": "code",
   "execution_count": 75,
   "metadata": {
    "scrolled": false
   },
   "outputs": [
    {
     "name": "stdout",
     "output_type": "stream",
     "text": [
      "[t-SNE] Computing 70 nearest neighbors...\n",
      "[t-SNE] Indexed 71 samples in 0.000s...\n",
      "[t-SNE] Computed neighbors for 71 samples in 0.001s...\n",
      "[t-SNE] Computed conditional probabilities for sample 71 / 71\n",
      "[t-SNE] Mean sigma: 0.816457\n",
      "[t-SNE] KL divergence after 250 iterations with early exaggeration: 53.252708\n",
      "[t-SNE] KL divergence after 300 iterations: 1.046860\n"
     ]
    },
    {
     "data": {
      "application/vnd.plotly.v1+json": {
       "config": {
        "plotlyServerURL": "https://plot.ly"
       },
       "data": [
        {
         "hoverlabel": {
          "namelength": 0
         },
         "hovertemplate": "x=%{x}<br>y=%{y}<br>text=%{text}",
         "legendgroup": "",
         "marker": {
          "color": "#636efa",
          "symbol": "circle"
         },
         "mode": "markers+text",
         "name": "",
         "showlegend": false,
         "text": [
          "Acid house",
          "African music",
          "Alternative rock",
          "Ambient",
          "Blues",
          "Bossa Nova",
          "Chill-out",
          "Classical Music",
          "Coldwave",
          "Country",
          "Dance music",
          "Dance-pop",
          "Deep house",
          "Disco",
          "Dream Pop",
          "Dub",
          "Electro swing",
          "Electronic rock",
          "Electronica",
          "Electropop",
          "Experimental",
          "Experimental Jazz",
          "Experimental rock",
          "Film Music",
          "French house",
          "Funk",
          "Future house",
          "Garage rock",
          "Grime",
          "Hard rock",
          "Hip hop",
          "House music",
          "Indie folk",
          "Indie pop",
          "Indie rock",
          "Instrumental",
          "International Pop",
          "Latin music",
          "Lo-Fi",
          "Metal",
          "Minimal",
          "Modern Jazz",
          "New wave",
          "Noise rock",
          "Nouvelle Scène",
          "Nu-disco",
          "Pop rock",
          "Pop soul",
          "Post-punk",
          "Post-rock",
          "Progressive pop",
          "Progressive rock",
          "Psychedelic pop",
          "Psychedelic rock",
          "Punk",
          "R&B",
          "Rap",
          "Rap français",
          "Reggae",
          "Rock and roll",
          "Samba",
          "Singer-songwriter",
          "Soul",
          "Surf rock",
          "Synthpop",
          "Synthwave",
          "Techno",
          "Traditional Music",
          "Trap",
          "Trip hop",
          "Variété Française"
         ],
         "type": "scatter",
         "x": [
          -17.8786563873291,
          -33.36389923095703,
          49.86211013793945,
          14.58238410949707,
          6.459550857543945,
          1.0854032039642334,
          -4.950168132781982,
          7.293919563293457,
          8.833745002746582,
          0.6555386781692505,
          -41.933555603027344,
          58.032386779785156,
          31.20258331298828,
          45.67236328125,
          -4.909320831298828,
          -2.587951183319092,
          -5.567998886108398,
          10.158734321594238,
          -49.48851013183594,
          -10.299095153808594,
          13.6327486038208,
          2.7759504318237305,
          15.33327579498291,
          -49.08639144897461,
          -12.523611068725586,
          35.454219818115234,
          44.67020034790039,
          -0.9992154240608215,
          11.96777057647705,
          69.28282928466797,
          -6.795801639556885,
          -35.456295013427734,
          2.4264233112335205,
          -7.437761306762695,
          32.482444763183594,
          20.171884536743164,
          25.086668014526367,
          33.573516845703125,
          -41.378150939941406,
          20.61737060546875,
          -30.96445655822754,
          5.797175407409668,
          -18.25881576538086,
          15.47928524017334,
          35.41893005371094,
          -27.525760650634766,
          20.791278839111328,
          -0.15702490508556366,
          8.085437774658203,
          -23.283430099487305,
          70.72261810302734,
          -31.38953399658203,
          -22.489727020263672,
          56.211273193359375,
          -28.614383697509766,
          32.966121673583984,
          -39.82394027709961,
          -54.62602996826172,
          -51.09967041015625,
          43.305702209472656,
          26.55386734008789,
          -18.44493293762207,
          -41.2039909362793,
          51.178428649902344,
          38.613243103027344,
          -25.646650314331055,
          24.23430061340332,
          20.426959991455078,
          -33.44738006591797,
          -19.013187408447266,
          -10.182950019836426
         ],
         "xaxis": "x",
         "y": [
          48.702659606933594,
          -38.4396858215332,
          9.249995231628418,
          30.84940528869629,
          63.1279182434082,
          1.6177916526794434,
          54.43686294555664,
          -51.40159225463867,
          45.13105773925781,
          -67.36127471923828,
          -20.162704467773438,
          27.694822311401367,
          23.198041915893555,
          19.326541900634766,
          -40.08881759643555,
          -10.075499534606934,
          10.70183277130127,
          6.235416889190674,
          9.414581298828125,
          -6.097404479980469,
          -15.03817081451416,
          29.399642944335938,
          -2.7920026779174805,
          -52.828304290771484,
          4.131996154785156,
          11.841939926147461,
          -2.582672595977783,
          -104.25975799560547,
          -24.411251068115234,
          -48.64097213745117,
          23.95890998840332,
          -65.31432342529297,
          15.956948280334473,
          38.26644515991211,
          -3.895380973815918,
          42.5750732421875,
          3.8063385486602783,
          -25.436784744262695,
          24.277137756347656,
          -30.00827980041504,
          -16.194520950317383,
          -7.030612945556641,
          22.07282257080078,
          21.39785385131836,
          48.1192512512207,
          0.04736943170428276,
          13.541081428527832,
          -25.11658477783203,
          -36.579490661621094,
          37.489253997802734,
          -10.38044261932373,
          53.837276458740234,
          9.955047607421875,
          -6.7085771560668945,
          25.204374313354492,
          34.770442962646484,
          41.194862365722656,
          29.483821868896484,
          -24.13498306274414,
          -38.44710922241211,
          -39.64754104614258,
          -35.43463134765625,
          -2.732343912124634,
          -24.405841827392578,
          -13.105183601379395,
          -51.57314682006836,
          -13.963448524475098,
          -53.228946685791016,
          13.461779594421387,
          -14.515600204467773,
          -21.714582443237305
         ],
         "yaxis": "y"
        }
       ],
       "layout": {
        "legend": {
         "tracegroupgap": 0
        },
        "margin": {
         "t": 60
        },
        "template": {
         "data": {
          "bar": [
           {
            "error_x": {
             "color": "#2a3f5f"
            },
            "error_y": {
             "color": "#2a3f5f"
            },
            "marker": {
             "line": {
              "color": "#E5ECF6",
              "width": 0.5
             }
            },
            "type": "bar"
           }
          ],
          "barpolar": [
           {
            "marker": {
             "line": {
              "color": "#E5ECF6",
              "width": 0.5
             }
            },
            "type": "barpolar"
           }
          ],
          "carpet": [
           {
            "aaxis": {
             "endlinecolor": "#2a3f5f",
             "gridcolor": "white",
             "linecolor": "white",
             "minorgridcolor": "white",
             "startlinecolor": "#2a3f5f"
            },
            "baxis": {
             "endlinecolor": "#2a3f5f",
             "gridcolor": "white",
             "linecolor": "white",
             "minorgridcolor": "white",
             "startlinecolor": "#2a3f5f"
            },
            "type": "carpet"
           }
          ],
          "choropleth": [
           {
            "colorbar": {
             "outlinewidth": 0,
             "ticks": ""
            },
            "type": "choropleth"
           }
          ],
          "contour": [
           {
            "colorbar": {
             "outlinewidth": 0,
             "ticks": ""
            },
            "colorscale": [
             [
              0,
              "#0d0887"
             ],
             [
              0.1111111111111111,
              "#46039f"
             ],
             [
              0.2222222222222222,
              "#7201a8"
             ],
             [
              0.3333333333333333,
              "#9c179e"
             ],
             [
              0.4444444444444444,
              "#bd3786"
             ],
             [
              0.5555555555555556,
              "#d8576b"
             ],
             [
              0.6666666666666666,
              "#ed7953"
             ],
             [
              0.7777777777777778,
              "#fb9f3a"
             ],
             [
              0.8888888888888888,
              "#fdca26"
             ],
             [
              1,
              "#f0f921"
             ]
            ],
            "type": "contour"
           }
          ],
          "contourcarpet": [
           {
            "colorbar": {
             "outlinewidth": 0,
             "ticks": ""
            },
            "type": "contourcarpet"
           }
          ],
          "heatmap": [
           {
            "colorbar": {
             "outlinewidth": 0,
             "ticks": ""
            },
            "colorscale": [
             [
              0,
              "#0d0887"
             ],
             [
              0.1111111111111111,
              "#46039f"
             ],
             [
              0.2222222222222222,
              "#7201a8"
             ],
             [
              0.3333333333333333,
              "#9c179e"
             ],
             [
              0.4444444444444444,
              "#bd3786"
             ],
             [
              0.5555555555555556,
              "#d8576b"
             ],
             [
              0.6666666666666666,
              "#ed7953"
             ],
             [
              0.7777777777777778,
              "#fb9f3a"
             ],
             [
              0.8888888888888888,
              "#fdca26"
             ],
             [
              1,
              "#f0f921"
             ]
            ],
            "type": "heatmap"
           }
          ],
          "heatmapgl": [
           {
            "colorbar": {
             "outlinewidth": 0,
             "ticks": ""
            },
            "colorscale": [
             [
              0,
              "#0d0887"
             ],
             [
              0.1111111111111111,
              "#46039f"
             ],
             [
              0.2222222222222222,
              "#7201a8"
             ],
             [
              0.3333333333333333,
              "#9c179e"
             ],
             [
              0.4444444444444444,
              "#bd3786"
             ],
             [
              0.5555555555555556,
              "#d8576b"
             ],
             [
              0.6666666666666666,
              "#ed7953"
             ],
             [
              0.7777777777777778,
              "#fb9f3a"
             ],
             [
              0.8888888888888888,
              "#fdca26"
             ],
             [
              1,
              "#f0f921"
             ]
            ],
            "type": "heatmapgl"
           }
          ],
          "histogram": [
           {
            "marker": {
             "colorbar": {
              "outlinewidth": 0,
              "ticks": ""
             }
            },
            "type": "histogram"
           }
          ],
          "histogram2d": [
           {
            "colorbar": {
             "outlinewidth": 0,
             "ticks": ""
            },
            "colorscale": [
             [
              0,
              "#0d0887"
             ],
             [
              0.1111111111111111,
              "#46039f"
             ],
             [
              0.2222222222222222,
              "#7201a8"
             ],
             [
              0.3333333333333333,
              "#9c179e"
             ],
             [
              0.4444444444444444,
              "#bd3786"
             ],
             [
              0.5555555555555556,
              "#d8576b"
             ],
             [
              0.6666666666666666,
              "#ed7953"
             ],
             [
              0.7777777777777778,
              "#fb9f3a"
             ],
             [
              0.8888888888888888,
              "#fdca26"
             ],
             [
              1,
              "#f0f921"
             ]
            ],
            "type": "histogram2d"
           }
          ],
          "histogram2dcontour": [
           {
            "colorbar": {
             "outlinewidth": 0,
             "ticks": ""
            },
            "colorscale": [
             [
              0,
              "#0d0887"
             ],
             [
              0.1111111111111111,
              "#46039f"
             ],
             [
              0.2222222222222222,
              "#7201a8"
             ],
             [
              0.3333333333333333,
              "#9c179e"
             ],
             [
              0.4444444444444444,
              "#bd3786"
             ],
             [
              0.5555555555555556,
              "#d8576b"
             ],
             [
              0.6666666666666666,
              "#ed7953"
             ],
             [
              0.7777777777777778,
              "#fb9f3a"
             ],
             [
              0.8888888888888888,
              "#fdca26"
             ],
             [
              1,
              "#f0f921"
             ]
            ],
            "type": "histogram2dcontour"
           }
          ],
          "mesh3d": [
           {
            "colorbar": {
             "outlinewidth": 0,
             "ticks": ""
            },
            "type": "mesh3d"
           }
          ],
          "parcoords": [
           {
            "line": {
             "colorbar": {
              "outlinewidth": 0,
              "ticks": ""
             }
            },
            "type": "parcoords"
           }
          ],
          "pie": [
           {
            "automargin": true,
            "type": "pie"
           }
          ],
          "scatter": [
           {
            "marker": {
             "colorbar": {
              "outlinewidth": 0,
              "ticks": ""
             }
            },
            "type": "scatter"
           }
          ],
          "scatter3d": [
           {
            "line": {
             "colorbar": {
              "outlinewidth": 0,
              "ticks": ""
             }
            },
            "marker": {
             "colorbar": {
              "outlinewidth": 0,
              "ticks": ""
             }
            },
            "type": "scatter3d"
           }
          ],
          "scattercarpet": [
           {
            "marker": {
             "colorbar": {
              "outlinewidth": 0,
              "ticks": ""
             }
            },
            "type": "scattercarpet"
           }
          ],
          "scattergeo": [
           {
            "marker": {
             "colorbar": {
              "outlinewidth": 0,
              "ticks": ""
             }
            },
            "type": "scattergeo"
           }
          ],
          "scattergl": [
           {
            "marker": {
             "colorbar": {
              "outlinewidth": 0,
              "ticks": ""
             }
            },
            "type": "scattergl"
           }
          ],
          "scattermapbox": [
           {
            "marker": {
             "colorbar": {
              "outlinewidth": 0,
              "ticks": ""
             }
            },
            "type": "scattermapbox"
           }
          ],
          "scatterpolar": [
           {
            "marker": {
             "colorbar": {
              "outlinewidth": 0,
              "ticks": ""
             }
            },
            "type": "scatterpolar"
           }
          ],
          "scatterpolargl": [
           {
            "marker": {
             "colorbar": {
              "outlinewidth": 0,
              "ticks": ""
             }
            },
            "type": "scatterpolargl"
           }
          ],
          "scatterternary": [
           {
            "marker": {
             "colorbar": {
              "outlinewidth": 0,
              "ticks": ""
             }
            },
            "type": "scatterternary"
           }
          ],
          "surface": [
           {
            "colorbar": {
             "outlinewidth": 0,
             "ticks": ""
            },
            "colorscale": [
             [
              0,
              "#0d0887"
             ],
             [
              0.1111111111111111,
              "#46039f"
             ],
             [
              0.2222222222222222,
              "#7201a8"
             ],
             [
              0.3333333333333333,
              "#9c179e"
             ],
             [
              0.4444444444444444,
              "#bd3786"
             ],
             [
              0.5555555555555556,
              "#d8576b"
             ],
             [
              0.6666666666666666,
              "#ed7953"
             ],
             [
              0.7777777777777778,
              "#fb9f3a"
             ],
             [
              0.8888888888888888,
              "#fdca26"
             ],
             [
              1,
              "#f0f921"
             ]
            ],
            "type": "surface"
           }
          ],
          "table": [
           {
            "cells": {
             "fill": {
              "color": "#EBF0F8"
             },
             "line": {
              "color": "white"
             }
            },
            "header": {
             "fill": {
              "color": "#C8D4E3"
             },
             "line": {
              "color": "white"
             }
            },
            "type": "table"
           }
          ]
         },
         "layout": {
          "annotationdefaults": {
           "arrowcolor": "#2a3f5f",
           "arrowhead": 0,
           "arrowwidth": 1
          },
          "coloraxis": {
           "colorbar": {
            "outlinewidth": 0,
            "ticks": ""
           }
          },
          "colorscale": {
           "diverging": [
            [
             0,
             "#8e0152"
            ],
            [
             0.1,
             "#c51b7d"
            ],
            [
             0.2,
             "#de77ae"
            ],
            [
             0.3,
             "#f1b6da"
            ],
            [
             0.4,
             "#fde0ef"
            ],
            [
             0.5,
             "#f7f7f7"
            ],
            [
             0.6,
             "#e6f5d0"
            ],
            [
             0.7,
             "#b8e186"
            ],
            [
             0.8,
             "#7fbc41"
            ],
            [
             0.9,
             "#4d9221"
            ],
            [
             1,
             "#276419"
            ]
           ],
           "sequential": [
            [
             0,
             "#0d0887"
            ],
            [
             0.1111111111111111,
             "#46039f"
            ],
            [
             0.2222222222222222,
             "#7201a8"
            ],
            [
             0.3333333333333333,
             "#9c179e"
            ],
            [
             0.4444444444444444,
             "#bd3786"
            ],
            [
             0.5555555555555556,
             "#d8576b"
            ],
            [
             0.6666666666666666,
             "#ed7953"
            ],
            [
             0.7777777777777778,
             "#fb9f3a"
            ],
            [
             0.8888888888888888,
             "#fdca26"
            ],
            [
             1,
             "#f0f921"
            ]
           ],
           "sequentialminus": [
            [
             0,
             "#0d0887"
            ],
            [
             0.1111111111111111,
             "#46039f"
            ],
            [
             0.2222222222222222,
             "#7201a8"
            ],
            [
             0.3333333333333333,
             "#9c179e"
            ],
            [
             0.4444444444444444,
             "#bd3786"
            ],
            [
             0.5555555555555556,
             "#d8576b"
            ],
            [
             0.6666666666666666,
             "#ed7953"
            ],
            [
             0.7777777777777778,
             "#fb9f3a"
            ],
            [
             0.8888888888888888,
             "#fdca26"
            ],
            [
             1,
             "#f0f921"
            ]
           ]
          },
          "colorway": [
           "#636efa",
           "#EF553B",
           "#00cc96",
           "#ab63fa",
           "#FFA15A",
           "#19d3f3",
           "#FF6692",
           "#B6E880",
           "#FF97FF",
           "#FECB52"
          ],
          "font": {
           "color": "#2a3f5f"
          },
          "geo": {
           "bgcolor": "white",
           "lakecolor": "white",
           "landcolor": "#E5ECF6",
           "showlakes": true,
           "showland": true,
           "subunitcolor": "white"
          },
          "hoverlabel": {
           "align": "left"
          },
          "hovermode": "closest",
          "mapbox": {
           "style": "light"
          },
          "paper_bgcolor": "white",
          "plot_bgcolor": "#E5ECF6",
          "polar": {
           "angularaxis": {
            "gridcolor": "white",
            "linecolor": "white",
            "ticks": ""
           },
           "bgcolor": "#E5ECF6",
           "radialaxis": {
            "gridcolor": "white",
            "linecolor": "white",
            "ticks": ""
           }
          },
          "scene": {
           "xaxis": {
            "backgroundcolor": "#E5ECF6",
            "gridcolor": "white",
            "gridwidth": 2,
            "linecolor": "white",
            "showbackground": true,
            "ticks": "",
            "zerolinecolor": "white"
           },
           "yaxis": {
            "backgroundcolor": "#E5ECF6",
            "gridcolor": "white",
            "gridwidth": 2,
            "linecolor": "white",
            "showbackground": true,
            "ticks": "",
            "zerolinecolor": "white"
           },
           "zaxis": {
            "backgroundcolor": "#E5ECF6",
            "gridcolor": "white",
            "gridwidth": 2,
            "linecolor": "white",
            "showbackground": true,
            "ticks": "",
            "zerolinecolor": "white"
           }
          },
          "shapedefaults": {
           "line": {
            "color": "#2a3f5f"
           }
          },
          "ternary": {
           "aaxis": {
            "gridcolor": "white",
            "linecolor": "white",
            "ticks": ""
           },
           "baxis": {
            "gridcolor": "white",
            "linecolor": "white",
            "ticks": ""
           },
           "bgcolor": "#E5ECF6",
           "caxis": {
            "gridcolor": "white",
            "linecolor": "white",
            "ticks": ""
           }
          },
          "title": {
           "x": 0.05
          },
          "xaxis": {
           "automargin": true,
           "gridcolor": "white",
           "linecolor": "white",
           "ticks": "",
           "title": {
            "standoff": 15
           },
           "zerolinecolor": "white",
           "zerolinewidth": 2
          },
          "yaxis": {
           "automargin": true,
           "gridcolor": "white",
           "linecolor": "white",
           "ticks": "",
           "title": {
            "standoff": 15
           },
           "zerolinecolor": "white",
           "zerolinewidth": 2
          }
         }
        },
        "xaxis": {
         "anchor": "y",
         "domain": [
          0,
          1
         ],
         "title": {
          "text": "x"
         }
        },
        "yaxis": {
         "anchor": "x",
         "domain": [
          0,
          1
         ],
         "title": {
          "text": "y"
         }
        }
       }
      },
      "text/html": [
       "<div>\n",
       "        \n",
       "        \n",
       "            <div id=\"8ecba1f7-fbed-436f-a2b1-3b6f9369b146\" class=\"plotly-graph-div\" style=\"height:525px; width:100%;\"></div>\n",
       "            <script type=\"text/javascript\">\n",
       "                require([\"plotly\"], function(Plotly) {\n",
       "                    window.PLOTLYENV=window.PLOTLYENV || {};\n",
       "                    \n",
       "                if (document.getElementById(\"8ecba1f7-fbed-436f-a2b1-3b6f9369b146\")) {\n",
       "                    Plotly.newPlot(\n",
       "                        '8ecba1f7-fbed-436f-a2b1-3b6f9369b146',\n",
       "                        [{\"hoverlabel\": {\"namelength\": 0}, \"hovertemplate\": \"x=%{x}<br>y=%{y}<br>text=%{text}\", \"legendgroup\": \"\", \"marker\": {\"color\": \"#636efa\", \"symbol\": \"circle\"}, \"mode\": \"markers+text\", \"name\": \"\", \"showlegend\": false, \"text\": [\"Acid house\", \"African music\", \"Alternative rock\", \"Ambient\", \"Blues\", \"Bossa Nova\", \"Chill-out\", \"Classical Music\", \"Coldwave\", \"Country\", \"Dance music\", \"Dance-pop\", \"Deep house\", \"Disco\", \"Dream Pop\", \"Dub\", \"Electro swing\", \"Electronic rock\", \"Electronica\", \"Electropop\", \"Experimental\", \"Experimental Jazz\", \"Experimental rock\", \"Film Music\", \"French house\", \"Funk\", \"Future house\", \"Garage rock\", \"Grime\", \"Hard rock\", \"Hip hop\", \"House music\", \"Indie folk\", \"Indie pop\", \"Indie rock\", \"Instrumental\", \"International Pop\", \"Latin music\", \"Lo-Fi\", \"Metal\", \"Minimal\", \"Modern Jazz\", \"New wave\", \"Noise rock\", \"Nouvelle Sc\\u00e8ne\", \"Nu-disco\", \"Pop rock\", \"Pop soul\", \"Post-punk\", \"Post-rock\", \"Progressive pop\", \"Progressive rock\", \"Psychedelic pop\", \"Psychedelic rock\", \"Punk\", \"R&B\", \"Rap\", \"Rap fran\\u00e7ais\", \"Reggae\", \"Rock and roll\", \"Samba\", \"Singer-songwriter\", \"Soul\", \"Surf rock\", \"Synthpop\", \"Synthwave\", \"Techno\", \"Traditional Music\", \"Trap\", \"Trip hop\", \"Vari\\u00e9t\\u00e9 Fran\\u00e7aise\"], \"type\": \"scatter\", \"x\": [-17.8786563873291, -33.36389923095703, 49.86211013793945, 14.58238410949707, 6.459550857543945, 1.0854032039642334, -4.950168132781982, 7.293919563293457, 8.833745002746582, 0.6555386781692505, -41.933555603027344, 58.032386779785156, 31.20258331298828, 45.67236328125, -4.909320831298828, -2.587951183319092, -5.567998886108398, 10.158734321594238, -49.48851013183594, -10.299095153808594, 13.6327486038208, 2.7759504318237305, 15.33327579498291, -49.08639144897461, -12.523611068725586, 35.454219818115234, 44.67020034790039, -0.9992154240608215, 11.96777057647705, 69.28282928466797, -6.795801639556885, -35.456295013427734, 2.4264233112335205, -7.437761306762695, 32.482444763183594, 20.171884536743164, 25.086668014526367, 33.573516845703125, -41.378150939941406, 20.61737060546875, -30.96445655822754, 5.797175407409668, -18.25881576538086, 15.47928524017334, 35.41893005371094, -27.525760650634766, 20.791278839111328, -0.15702490508556366, 8.085437774658203, -23.283430099487305, 70.72261810302734, -31.38953399658203, -22.489727020263672, 56.211273193359375, -28.614383697509766, 32.966121673583984, -39.82394027709961, -54.62602996826172, -51.09967041015625, 43.305702209472656, 26.55386734008789, -18.44493293762207, -41.2039909362793, 51.178428649902344, 38.613243103027344, -25.646650314331055, 24.23430061340332, 20.426959991455078, -33.44738006591797, -19.013187408447266, -10.182950019836426], \"xaxis\": \"x\", \"y\": [48.702659606933594, -38.4396858215332, 9.249995231628418, 30.84940528869629, 63.1279182434082, 1.6177916526794434, 54.43686294555664, -51.40159225463867, 45.13105773925781, -67.36127471923828, -20.162704467773438, 27.694822311401367, 23.198041915893555, 19.326541900634766, -40.08881759643555, -10.075499534606934, 10.70183277130127, 6.235416889190674, 9.414581298828125, -6.097404479980469, -15.03817081451416, 29.399642944335938, -2.7920026779174805, -52.828304290771484, 4.131996154785156, 11.841939926147461, -2.582672595977783, -104.25975799560547, -24.411251068115234, -48.64097213745117, 23.95890998840332, -65.31432342529297, 15.956948280334473, 38.26644515991211, -3.895380973815918, 42.5750732421875, 3.8063385486602783, -25.436784744262695, 24.277137756347656, -30.00827980041504, -16.194520950317383, -7.030612945556641, 22.07282257080078, 21.39785385131836, 48.1192512512207, 0.04736943170428276, 13.541081428527832, -25.11658477783203, -36.579490661621094, 37.489253997802734, -10.38044261932373, 53.837276458740234, 9.955047607421875, -6.7085771560668945, 25.204374313354492, 34.770442962646484, 41.194862365722656, 29.483821868896484, -24.13498306274414, -38.44710922241211, -39.64754104614258, -35.43463134765625, -2.732343912124634, -24.405841827392578, -13.105183601379395, -51.57314682006836, -13.963448524475098, -53.228946685791016, 13.461779594421387, -14.515600204467773, -21.714582443237305], \"yaxis\": \"y\"}],\n",
       "                        {\"legend\": {\"tracegroupgap\": 0}, \"margin\": {\"t\": 60}, \"template\": {\"data\": {\"bar\": [{\"error_x\": {\"color\": \"#2a3f5f\"}, \"error_y\": {\"color\": \"#2a3f5f\"}, \"marker\": {\"line\": {\"color\": \"#E5ECF6\", \"width\": 0.5}}, \"type\": \"bar\"}], \"barpolar\": [{\"marker\": {\"line\": {\"color\": \"#E5ECF6\", \"width\": 0.5}}, \"type\": \"barpolar\"}], \"carpet\": [{\"aaxis\": {\"endlinecolor\": \"#2a3f5f\", \"gridcolor\": \"white\", \"linecolor\": \"white\", \"minorgridcolor\": \"white\", \"startlinecolor\": \"#2a3f5f\"}, \"baxis\": {\"endlinecolor\": \"#2a3f5f\", \"gridcolor\": \"white\", \"linecolor\": \"white\", \"minorgridcolor\": \"white\", \"startlinecolor\": \"#2a3f5f\"}, \"type\": \"carpet\"}], \"choropleth\": [{\"colorbar\": {\"outlinewidth\": 0, \"ticks\": \"\"}, \"type\": \"choropleth\"}], \"contour\": [{\"colorbar\": {\"outlinewidth\": 0, \"ticks\": \"\"}, \"colorscale\": [[0.0, \"#0d0887\"], [0.1111111111111111, \"#46039f\"], [0.2222222222222222, \"#7201a8\"], [0.3333333333333333, \"#9c179e\"], [0.4444444444444444, \"#bd3786\"], [0.5555555555555556, \"#d8576b\"], [0.6666666666666666, \"#ed7953\"], [0.7777777777777778, \"#fb9f3a\"], [0.8888888888888888, \"#fdca26\"], [1.0, \"#f0f921\"]], \"type\": \"contour\"}], \"contourcarpet\": [{\"colorbar\": {\"outlinewidth\": 0, \"ticks\": \"\"}, \"type\": \"contourcarpet\"}], \"heatmap\": [{\"colorbar\": {\"outlinewidth\": 0, \"ticks\": \"\"}, \"colorscale\": [[0.0, \"#0d0887\"], [0.1111111111111111, \"#46039f\"], [0.2222222222222222, \"#7201a8\"], [0.3333333333333333, \"#9c179e\"], [0.4444444444444444, \"#bd3786\"], [0.5555555555555556, \"#d8576b\"], [0.6666666666666666, \"#ed7953\"], [0.7777777777777778, \"#fb9f3a\"], [0.8888888888888888, \"#fdca26\"], [1.0, \"#f0f921\"]], \"type\": \"heatmap\"}], \"heatmapgl\": [{\"colorbar\": {\"outlinewidth\": 0, \"ticks\": \"\"}, \"colorscale\": [[0.0, \"#0d0887\"], [0.1111111111111111, \"#46039f\"], [0.2222222222222222, \"#7201a8\"], [0.3333333333333333, \"#9c179e\"], [0.4444444444444444, \"#bd3786\"], [0.5555555555555556, \"#d8576b\"], [0.6666666666666666, \"#ed7953\"], [0.7777777777777778, \"#fb9f3a\"], [0.8888888888888888, \"#fdca26\"], [1.0, \"#f0f921\"]], \"type\": \"heatmapgl\"}], \"histogram\": [{\"marker\": {\"colorbar\": {\"outlinewidth\": 0, \"ticks\": \"\"}}, \"type\": \"histogram\"}], \"histogram2d\": [{\"colorbar\": {\"outlinewidth\": 0, \"ticks\": \"\"}, \"colorscale\": [[0.0, \"#0d0887\"], [0.1111111111111111, \"#46039f\"], [0.2222222222222222, \"#7201a8\"], [0.3333333333333333, \"#9c179e\"], [0.4444444444444444, \"#bd3786\"], [0.5555555555555556, \"#d8576b\"], [0.6666666666666666, \"#ed7953\"], [0.7777777777777778, \"#fb9f3a\"], [0.8888888888888888, \"#fdca26\"], [1.0, \"#f0f921\"]], \"type\": \"histogram2d\"}], \"histogram2dcontour\": [{\"colorbar\": {\"outlinewidth\": 0, \"ticks\": \"\"}, \"colorscale\": [[0.0, \"#0d0887\"], [0.1111111111111111, \"#46039f\"], [0.2222222222222222, \"#7201a8\"], [0.3333333333333333, \"#9c179e\"], [0.4444444444444444, \"#bd3786\"], [0.5555555555555556, \"#d8576b\"], [0.6666666666666666, \"#ed7953\"], [0.7777777777777778, \"#fb9f3a\"], [0.8888888888888888, \"#fdca26\"], [1.0, \"#f0f921\"]], \"type\": \"histogram2dcontour\"}], \"mesh3d\": [{\"colorbar\": {\"outlinewidth\": 0, \"ticks\": \"\"}, \"type\": \"mesh3d\"}], \"parcoords\": [{\"line\": {\"colorbar\": {\"outlinewidth\": 0, \"ticks\": \"\"}}, \"type\": \"parcoords\"}], \"pie\": [{\"automargin\": true, \"type\": \"pie\"}], \"scatter\": [{\"marker\": {\"colorbar\": {\"outlinewidth\": 0, \"ticks\": \"\"}}, \"type\": \"scatter\"}], \"scatter3d\": [{\"line\": {\"colorbar\": {\"outlinewidth\": 0, \"ticks\": \"\"}}, \"marker\": {\"colorbar\": {\"outlinewidth\": 0, \"ticks\": \"\"}}, \"type\": \"scatter3d\"}], \"scattercarpet\": [{\"marker\": {\"colorbar\": {\"outlinewidth\": 0, \"ticks\": \"\"}}, \"type\": \"scattercarpet\"}], \"scattergeo\": [{\"marker\": {\"colorbar\": {\"outlinewidth\": 0, \"ticks\": \"\"}}, \"type\": \"scattergeo\"}], \"scattergl\": [{\"marker\": {\"colorbar\": {\"outlinewidth\": 0, \"ticks\": \"\"}}, \"type\": \"scattergl\"}], \"scattermapbox\": [{\"marker\": {\"colorbar\": {\"outlinewidth\": 0, \"ticks\": \"\"}}, \"type\": \"scattermapbox\"}], \"scatterpolar\": [{\"marker\": {\"colorbar\": {\"outlinewidth\": 0, \"ticks\": \"\"}}, \"type\": \"scatterpolar\"}], \"scatterpolargl\": [{\"marker\": {\"colorbar\": {\"outlinewidth\": 0, \"ticks\": \"\"}}, \"type\": \"scatterpolargl\"}], \"scatterternary\": [{\"marker\": {\"colorbar\": {\"outlinewidth\": 0, \"ticks\": \"\"}}, \"type\": \"scatterternary\"}], \"surface\": [{\"colorbar\": {\"outlinewidth\": 0, \"ticks\": \"\"}, \"colorscale\": [[0.0, \"#0d0887\"], [0.1111111111111111, \"#46039f\"], [0.2222222222222222, \"#7201a8\"], [0.3333333333333333, \"#9c179e\"], [0.4444444444444444, \"#bd3786\"], [0.5555555555555556, \"#d8576b\"], [0.6666666666666666, \"#ed7953\"], [0.7777777777777778, \"#fb9f3a\"], [0.8888888888888888, \"#fdca26\"], [1.0, \"#f0f921\"]], \"type\": \"surface\"}], \"table\": [{\"cells\": {\"fill\": {\"color\": \"#EBF0F8\"}, \"line\": {\"color\": \"white\"}}, \"header\": {\"fill\": {\"color\": \"#C8D4E3\"}, \"line\": {\"color\": \"white\"}}, \"type\": \"table\"}]}, \"layout\": {\"annotationdefaults\": {\"arrowcolor\": \"#2a3f5f\", \"arrowhead\": 0, \"arrowwidth\": 1}, \"coloraxis\": {\"colorbar\": {\"outlinewidth\": 0, \"ticks\": \"\"}}, \"colorscale\": {\"diverging\": [[0, \"#8e0152\"], [0.1, \"#c51b7d\"], [0.2, \"#de77ae\"], [0.3, \"#f1b6da\"], [0.4, \"#fde0ef\"], [0.5, \"#f7f7f7\"], [0.6, \"#e6f5d0\"], [0.7, \"#b8e186\"], [0.8, \"#7fbc41\"], [0.9, \"#4d9221\"], [1, \"#276419\"]], \"sequential\": [[0.0, \"#0d0887\"], [0.1111111111111111, \"#46039f\"], [0.2222222222222222, \"#7201a8\"], [0.3333333333333333, \"#9c179e\"], [0.4444444444444444, \"#bd3786\"], [0.5555555555555556, \"#d8576b\"], [0.6666666666666666, \"#ed7953\"], [0.7777777777777778, \"#fb9f3a\"], [0.8888888888888888, \"#fdca26\"], [1.0, \"#f0f921\"]], \"sequentialminus\": [[0.0, \"#0d0887\"], [0.1111111111111111, \"#46039f\"], [0.2222222222222222, \"#7201a8\"], [0.3333333333333333, \"#9c179e\"], [0.4444444444444444, \"#bd3786\"], [0.5555555555555556, \"#d8576b\"], [0.6666666666666666, \"#ed7953\"], [0.7777777777777778, \"#fb9f3a\"], [0.8888888888888888, \"#fdca26\"], [1.0, \"#f0f921\"]]}, \"colorway\": [\"#636efa\", \"#EF553B\", \"#00cc96\", \"#ab63fa\", \"#FFA15A\", \"#19d3f3\", \"#FF6692\", \"#B6E880\", \"#FF97FF\", \"#FECB52\"], \"font\": {\"color\": \"#2a3f5f\"}, \"geo\": {\"bgcolor\": \"white\", \"lakecolor\": \"white\", \"landcolor\": \"#E5ECF6\", \"showlakes\": true, \"showland\": true, \"subunitcolor\": \"white\"}, \"hoverlabel\": {\"align\": \"left\"}, \"hovermode\": \"closest\", \"mapbox\": {\"style\": \"light\"}, \"paper_bgcolor\": \"white\", \"plot_bgcolor\": \"#E5ECF6\", \"polar\": {\"angularaxis\": {\"gridcolor\": \"white\", \"linecolor\": \"white\", \"ticks\": \"\"}, \"bgcolor\": \"#E5ECF6\", \"radialaxis\": {\"gridcolor\": \"white\", \"linecolor\": \"white\", \"ticks\": \"\"}}, \"scene\": {\"xaxis\": {\"backgroundcolor\": \"#E5ECF6\", \"gridcolor\": \"white\", \"gridwidth\": 2, \"linecolor\": \"white\", \"showbackground\": true, \"ticks\": \"\", \"zerolinecolor\": \"white\"}, \"yaxis\": {\"backgroundcolor\": \"#E5ECF6\", \"gridcolor\": \"white\", \"gridwidth\": 2, \"linecolor\": \"white\", \"showbackground\": true, \"ticks\": \"\", \"zerolinecolor\": \"white\"}, \"zaxis\": {\"backgroundcolor\": \"#E5ECF6\", \"gridcolor\": \"white\", \"gridwidth\": 2, \"linecolor\": \"white\", \"showbackground\": true, \"ticks\": \"\", \"zerolinecolor\": \"white\"}}, \"shapedefaults\": {\"line\": {\"color\": \"#2a3f5f\"}}, \"ternary\": {\"aaxis\": {\"gridcolor\": \"white\", \"linecolor\": \"white\", \"ticks\": \"\"}, \"baxis\": {\"gridcolor\": \"white\", \"linecolor\": \"white\", \"ticks\": \"\"}, \"bgcolor\": \"#E5ECF6\", \"caxis\": {\"gridcolor\": \"white\", \"linecolor\": \"white\", \"ticks\": \"\"}}, \"title\": {\"x\": 0.05}, \"xaxis\": {\"automargin\": true, \"gridcolor\": \"white\", \"linecolor\": \"white\", \"ticks\": \"\", \"title\": {\"standoff\": 15}, \"zerolinecolor\": \"white\", \"zerolinewidth\": 2}, \"yaxis\": {\"automargin\": true, \"gridcolor\": \"white\", \"linecolor\": \"white\", \"ticks\": \"\", \"title\": {\"standoff\": 15}, \"zerolinecolor\": \"white\", \"zerolinewidth\": 2}}}, \"xaxis\": {\"anchor\": \"y\", \"domain\": [0.0, 1.0], \"title\": {\"text\": \"x\"}}, \"yaxis\": {\"anchor\": \"x\", \"domain\": [0.0, 1.0], \"title\": {\"text\": \"y\"}}},\n",
       "                        {\"responsive\": true}\n",
       "                    ).then(function(){\n",
       "                            \n",
       "var gd = document.getElementById('8ecba1f7-fbed-436f-a2b1-3b6f9369b146');\n",
       "var x = new MutationObserver(function (mutations, observer) {{\n",
       "        var display = window.getComputedStyle(gd).display;\n",
       "        if (!display || display === 'none') {{\n",
       "            console.log([gd, 'removed!']);\n",
       "            Plotly.purge(gd);\n",
       "            observer.disconnect();\n",
       "        }}\n",
       "}});\n",
       "\n",
       "// Listen for the removal of the full notebook cells\n",
       "var notebookContainer = gd.closest('#notebook-container');\n",
       "if (notebookContainer) {{\n",
       "    x.observe(notebookContainer, {childList: true});\n",
       "}}\n",
       "\n",
       "// Listen for the clearing of the current output cell\n",
       "var outputEl = gd.closest('.output');\n",
       "if (outputEl) {{\n",
       "    x.observe(outputEl, {childList: true});\n",
       "}}\n",
       "\n",
       "                        })\n",
       "                };\n",
       "                });\n",
       "            </script>\n",
       "        </div>"
      ]
     },
     "metadata": {},
     "output_type": "display_data"
    }
   ],
   "source": [
    "# Extract Band embeddings and perform 2D TSNE\n",
    "\n",
    "b_em = model.get_layer('Band-Embedding')\n",
    "b_em_weights = b_em.get_weights()[0]\n",
    "\n",
    "tsne = TSNE(n_components=2, verbose=1, perplexity=40, n_iter=300)\n",
    "tnse_results = tsne.fit_transform(b_em_weights)\n",
    "\n",
    "fig = px.scatter(x=tnse_results[:,0], y=tnse_results[:,1], text=[col[:-5] for col in band_data.columns])\n",
    "fig.show()"
   ]
  },
  {
   "cell_type": "markdown",
   "metadata": {},
   "source": [
    "#### Influencer embeddings"
   ]
  },
  {
   "cell_type": "code",
   "execution_count": 87,
   "metadata": {
    "scrolled": false
   },
   "outputs": [
    {
     "name": "stdout",
     "output_type": "stream",
     "text": [
      "[t-SNE] Computing 70 nearest neighbors...\n",
      "[t-SNE] Indexed 71 samples in 0.000s...\n",
      "[t-SNE] Computed neighbors for 71 samples in 0.001s...\n",
      "[t-SNE] Computed conditional probabilities for sample 71 / 71\n",
      "[t-SNE] Mean sigma: 0.814674\n",
      "[t-SNE] KL divergence after 250 iterations with early exaggeration: 55.328049\n",
      "[t-SNE] KL divergence after 300 iterations: 0.878721\n"
     ]
    },
    {
     "data": {
      "application/vnd.plotly.v1+json": {
       "config": {
        "plotlyServerURL": "https://plot.ly"
       },
       "data": [
        {
         "hoverlabel": {
          "namelength": 0
         },
         "hovertemplate": "x=%{x}<br>y=%{y}<br>text=%{text}",
         "legendgroup": "",
         "marker": {
          "color": "#636efa",
          "symbol": "circle"
         },
         "mode": "markers+text",
         "name": "",
         "showlegend": false,
         "text": [
          "Acid house",
          "African music",
          "Alternative rock",
          "Ambient",
          "Blues",
          "Bossa Nova",
          "Chill-out",
          "Classical Music",
          "Coldwave",
          "Country",
          "Dance music",
          "Dance-pop",
          "Deep house",
          "Disco",
          "Dream Pop",
          "Dub",
          "Electro swing",
          "Electronic rock",
          "Electronica",
          "Electropop",
          "Experimental",
          "Experimental Jazz",
          "Experimental rock",
          "Film Music",
          "French house",
          "Funk",
          "Future house",
          "Garage rock",
          "Grime",
          "Hard rock",
          "Hip hop",
          "House music",
          "Indie folk",
          "Indie pop",
          "Indie rock",
          "Instrumental",
          "International Pop",
          "Latin music",
          "Lo-Fi",
          "Metal",
          "Minimal",
          "Modern Jazz",
          "New wave",
          "Noise rock",
          "Nouvelle Scène",
          "Nu-disco",
          "Pop rock",
          "Pop soul",
          "Post-punk",
          "Post-rock",
          "Progressive pop",
          "Progressive rock",
          "Psychedelic pop",
          "Psychedelic rock",
          "Punk",
          "R&B",
          "Rap",
          "Rap français",
          "Reggae",
          "Rock and roll",
          "Samba",
          "Singer-songwriter",
          "Soul",
          "Surf rock",
          "Synthpop",
          "Synthwave",
          "Techno",
          "Traditional Music",
          "Trap",
          "Trip hop",
          "Variété Française"
         ],
         "type": "scatter",
         "x": [
          -24.303485870361328,
          -6.769148826599121,
          -2.7733047008514404,
          14.824728965759277,
          14.05582332611084,
          -0.19109517335891724,
          8.68883991241455,
          -17.744657516479492,
          -5.043976306915283,
          6.619360446929932,
          13.604475975036621,
          -16.826610565185547,
          -7.116899490356445,
          -9.584464073181152,
          7.194169044494629,
          -1.4054839611053467,
          21.279827117919922,
          -15.824361801147461,
          19.375286102294922,
          6.443842887878418,
          -11.359892845153809,
          -8.338284492492676,
          -0.43075674772262573,
          -12.454507827758789,
          7.748904705047607,
          -11.092864990234375,
          -20.30462074279785,
          20.6973934173584,
          -24.880962371826172,
          20.907855987548828,
          6.043399810791016,
          -5.142464637756348,
          11.361968994140625,
          3.1593565940856934,
          1.6778743267059326,
          13.03785228729248,
          22.48297691345215,
          -34.03528594970703,
          -14.60831356048584,
          -21.576282501220703,
          17.08256721496582,
          30.256162643432617,
          0.8012319207191467,
          4.185439586639404,
          -11.443459510803223,
          11.402785301208496,
          2.336573839187622,
          -1.9404033422470093,
          22.819093704223633,
          -27.515050888061523,
          0.2757880389690399,
          -23.089523315429688,
          -18.265701293945312,
          -0.32375478744506836,
          13.394793510437012,
          1.3273078203201294,
          -15.343259811401367,
          -12.747917175292969,
          7.622339725494385,
          25.15884780883789,
          -11.716358184814453,
          5.156815528869629,
          -1.3179450035095215,
          25.959136962890625,
          31.709308624267578,
          3.4515576362609863,
          14.090536117553711,
          -9.361162185668945,
          -6.216915130615234,
          -4.196885108947754,
          -22.55279541015625
         ],
         "xaxis": "x",
         "y": [
          22.970653533935547,
          11.835529327392578,
          -13.676787376403809,
          -16.307228088378906,
          15.825593948364258,
          -31.139867782592773,
          -16.833683013916016,
          13.235419273376465,
          5.833634376525879,
          -37.29185104370117,
          -27.212900161743164,
          2.481254816055298,
          23.351884841918945,
          -29.540056228637695,
          -3.996244430541992,
          -19.116405487060547,
          -19.76857566833496,
          -7.989322185516357,
          9.388345718383789,
          8.631169319152832,
          2.9771320819854736,
          -18.11887550354004,
          9.636456489562988,
          25.3284969329834,
          3.265533685684204,
          7.937710762023926,
          -9.886138916015625,
          16.941993713378906,
          9.307612419128418,
          1.0804413557052612,
          -10.227533340454102,
          -4.390488624572754,
          -9.448602676391602,
          -6.668887615203857,
          21.477872848510742,
          8.05156421661377,
          -28.465604782104492,
          3.391342878341675,
          -15.04030704498291,
          -20.462539672851562,
          -8.527984619140625,
          -4.222766876220703,
          4.636249542236328,
          0.042981088161468506,
          -8.314321517944336,
          25.839229583740234,
          -13.260496139526367,
          -24.44615364074707,
          -4.603443622589111,
          -7.894905090332031,
          15.016274452209473,
          -0.6966220140457153,
          7.19474458694458,
          -1.7386109828948975,
          -4.176100730895996,
          30.720138549804688,
          -2.494774341583252,
          -23.88330841064453,
          14.575662612915039,
          -12.567403793334961,
          16.971214294433594,
          -23.962326049804688,
          -7.100096225738525,
          9.976683616638184,
          6.58491849899292,
          -18.83285903930664,
          1.1773375272750854,
          -1.487067699432373,
          -9.451987266540527,
          0.9638587832450867,
          -31.266624450683594
         ],
         "yaxis": "y"
        }
       ],
       "layout": {
        "legend": {
         "tracegroupgap": 0
        },
        "margin": {
         "t": 60
        },
        "template": {
         "data": {
          "bar": [
           {
            "error_x": {
             "color": "#2a3f5f"
            },
            "error_y": {
             "color": "#2a3f5f"
            },
            "marker": {
             "line": {
              "color": "#E5ECF6",
              "width": 0.5
             }
            },
            "type": "bar"
           }
          ],
          "barpolar": [
           {
            "marker": {
             "line": {
              "color": "#E5ECF6",
              "width": 0.5
             }
            },
            "type": "barpolar"
           }
          ],
          "carpet": [
           {
            "aaxis": {
             "endlinecolor": "#2a3f5f",
             "gridcolor": "white",
             "linecolor": "white",
             "minorgridcolor": "white",
             "startlinecolor": "#2a3f5f"
            },
            "baxis": {
             "endlinecolor": "#2a3f5f",
             "gridcolor": "white",
             "linecolor": "white",
             "minorgridcolor": "white",
             "startlinecolor": "#2a3f5f"
            },
            "type": "carpet"
           }
          ],
          "choropleth": [
           {
            "colorbar": {
             "outlinewidth": 0,
             "ticks": ""
            },
            "type": "choropleth"
           }
          ],
          "contour": [
           {
            "colorbar": {
             "outlinewidth": 0,
             "ticks": ""
            },
            "colorscale": [
             [
              0,
              "#0d0887"
             ],
             [
              0.1111111111111111,
              "#46039f"
             ],
             [
              0.2222222222222222,
              "#7201a8"
             ],
             [
              0.3333333333333333,
              "#9c179e"
             ],
             [
              0.4444444444444444,
              "#bd3786"
             ],
             [
              0.5555555555555556,
              "#d8576b"
             ],
             [
              0.6666666666666666,
              "#ed7953"
             ],
             [
              0.7777777777777778,
              "#fb9f3a"
             ],
             [
              0.8888888888888888,
              "#fdca26"
             ],
             [
              1,
              "#f0f921"
             ]
            ],
            "type": "contour"
           }
          ],
          "contourcarpet": [
           {
            "colorbar": {
             "outlinewidth": 0,
             "ticks": ""
            },
            "type": "contourcarpet"
           }
          ],
          "heatmap": [
           {
            "colorbar": {
             "outlinewidth": 0,
             "ticks": ""
            },
            "colorscale": [
             [
              0,
              "#0d0887"
             ],
             [
              0.1111111111111111,
              "#46039f"
             ],
             [
              0.2222222222222222,
              "#7201a8"
             ],
             [
              0.3333333333333333,
              "#9c179e"
             ],
             [
              0.4444444444444444,
              "#bd3786"
             ],
             [
              0.5555555555555556,
              "#d8576b"
             ],
             [
              0.6666666666666666,
              "#ed7953"
             ],
             [
              0.7777777777777778,
              "#fb9f3a"
             ],
             [
              0.8888888888888888,
              "#fdca26"
             ],
             [
              1,
              "#f0f921"
             ]
            ],
            "type": "heatmap"
           }
          ],
          "heatmapgl": [
           {
            "colorbar": {
             "outlinewidth": 0,
             "ticks": ""
            },
            "colorscale": [
             [
              0,
              "#0d0887"
             ],
             [
              0.1111111111111111,
              "#46039f"
             ],
             [
              0.2222222222222222,
              "#7201a8"
             ],
             [
              0.3333333333333333,
              "#9c179e"
             ],
             [
              0.4444444444444444,
              "#bd3786"
             ],
             [
              0.5555555555555556,
              "#d8576b"
             ],
             [
              0.6666666666666666,
              "#ed7953"
             ],
             [
              0.7777777777777778,
              "#fb9f3a"
             ],
             [
              0.8888888888888888,
              "#fdca26"
             ],
             [
              1,
              "#f0f921"
             ]
            ],
            "type": "heatmapgl"
           }
          ],
          "histogram": [
           {
            "marker": {
             "colorbar": {
              "outlinewidth": 0,
              "ticks": ""
             }
            },
            "type": "histogram"
           }
          ],
          "histogram2d": [
           {
            "colorbar": {
             "outlinewidth": 0,
             "ticks": ""
            },
            "colorscale": [
             [
              0,
              "#0d0887"
             ],
             [
              0.1111111111111111,
              "#46039f"
             ],
             [
              0.2222222222222222,
              "#7201a8"
             ],
             [
              0.3333333333333333,
              "#9c179e"
             ],
             [
              0.4444444444444444,
              "#bd3786"
             ],
             [
              0.5555555555555556,
              "#d8576b"
             ],
             [
              0.6666666666666666,
              "#ed7953"
             ],
             [
              0.7777777777777778,
              "#fb9f3a"
             ],
             [
              0.8888888888888888,
              "#fdca26"
             ],
             [
              1,
              "#f0f921"
             ]
            ],
            "type": "histogram2d"
           }
          ],
          "histogram2dcontour": [
           {
            "colorbar": {
             "outlinewidth": 0,
             "ticks": ""
            },
            "colorscale": [
             [
              0,
              "#0d0887"
             ],
             [
              0.1111111111111111,
              "#46039f"
             ],
             [
              0.2222222222222222,
              "#7201a8"
             ],
             [
              0.3333333333333333,
              "#9c179e"
             ],
             [
              0.4444444444444444,
              "#bd3786"
             ],
             [
              0.5555555555555556,
              "#d8576b"
             ],
             [
              0.6666666666666666,
              "#ed7953"
             ],
             [
              0.7777777777777778,
              "#fb9f3a"
             ],
             [
              0.8888888888888888,
              "#fdca26"
             ],
             [
              1,
              "#f0f921"
             ]
            ],
            "type": "histogram2dcontour"
           }
          ],
          "mesh3d": [
           {
            "colorbar": {
             "outlinewidth": 0,
             "ticks": ""
            },
            "type": "mesh3d"
           }
          ],
          "parcoords": [
           {
            "line": {
             "colorbar": {
              "outlinewidth": 0,
              "ticks": ""
             }
            },
            "type": "parcoords"
           }
          ],
          "pie": [
           {
            "automargin": true,
            "type": "pie"
           }
          ],
          "scatter": [
           {
            "marker": {
             "colorbar": {
              "outlinewidth": 0,
              "ticks": ""
             }
            },
            "type": "scatter"
           }
          ],
          "scatter3d": [
           {
            "line": {
             "colorbar": {
              "outlinewidth": 0,
              "ticks": ""
             }
            },
            "marker": {
             "colorbar": {
              "outlinewidth": 0,
              "ticks": ""
             }
            },
            "type": "scatter3d"
           }
          ],
          "scattercarpet": [
           {
            "marker": {
             "colorbar": {
              "outlinewidth": 0,
              "ticks": ""
             }
            },
            "type": "scattercarpet"
           }
          ],
          "scattergeo": [
           {
            "marker": {
             "colorbar": {
              "outlinewidth": 0,
              "ticks": ""
             }
            },
            "type": "scattergeo"
           }
          ],
          "scattergl": [
           {
            "marker": {
             "colorbar": {
              "outlinewidth": 0,
              "ticks": ""
             }
            },
            "type": "scattergl"
           }
          ],
          "scattermapbox": [
           {
            "marker": {
             "colorbar": {
              "outlinewidth": 0,
              "ticks": ""
             }
            },
            "type": "scattermapbox"
           }
          ],
          "scatterpolar": [
           {
            "marker": {
             "colorbar": {
              "outlinewidth": 0,
              "ticks": ""
             }
            },
            "type": "scatterpolar"
           }
          ],
          "scatterpolargl": [
           {
            "marker": {
             "colorbar": {
              "outlinewidth": 0,
              "ticks": ""
             }
            },
            "type": "scatterpolargl"
           }
          ],
          "scatterternary": [
           {
            "marker": {
             "colorbar": {
              "outlinewidth": 0,
              "ticks": ""
             }
            },
            "type": "scatterternary"
           }
          ],
          "surface": [
           {
            "colorbar": {
             "outlinewidth": 0,
             "ticks": ""
            },
            "colorscale": [
             [
              0,
              "#0d0887"
             ],
             [
              0.1111111111111111,
              "#46039f"
             ],
             [
              0.2222222222222222,
              "#7201a8"
             ],
             [
              0.3333333333333333,
              "#9c179e"
             ],
             [
              0.4444444444444444,
              "#bd3786"
             ],
             [
              0.5555555555555556,
              "#d8576b"
             ],
             [
              0.6666666666666666,
              "#ed7953"
             ],
             [
              0.7777777777777778,
              "#fb9f3a"
             ],
             [
              0.8888888888888888,
              "#fdca26"
             ],
             [
              1,
              "#f0f921"
             ]
            ],
            "type": "surface"
           }
          ],
          "table": [
           {
            "cells": {
             "fill": {
              "color": "#EBF0F8"
             },
             "line": {
              "color": "white"
             }
            },
            "header": {
             "fill": {
              "color": "#C8D4E3"
             },
             "line": {
              "color": "white"
             }
            },
            "type": "table"
           }
          ]
         },
         "layout": {
          "annotationdefaults": {
           "arrowcolor": "#2a3f5f",
           "arrowhead": 0,
           "arrowwidth": 1
          },
          "coloraxis": {
           "colorbar": {
            "outlinewidth": 0,
            "ticks": ""
           }
          },
          "colorscale": {
           "diverging": [
            [
             0,
             "#8e0152"
            ],
            [
             0.1,
             "#c51b7d"
            ],
            [
             0.2,
             "#de77ae"
            ],
            [
             0.3,
             "#f1b6da"
            ],
            [
             0.4,
             "#fde0ef"
            ],
            [
             0.5,
             "#f7f7f7"
            ],
            [
             0.6,
             "#e6f5d0"
            ],
            [
             0.7,
             "#b8e186"
            ],
            [
             0.8,
             "#7fbc41"
            ],
            [
             0.9,
             "#4d9221"
            ],
            [
             1,
             "#276419"
            ]
           ],
           "sequential": [
            [
             0,
             "#0d0887"
            ],
            [
             0.1111111111111111,
             "#46039f"
            ],
            [
             0.2222222222222222,
             "#7201a8"
            ],
            [
             0.3333333333333333,
             "#9c179e"
            ],
            [
             0.4444444444444444,
             "#bd3786"
            ],
            [
             0.5555555555555556,
             "#d8576b"
            ],
            [
             0.6666666666666666,
             "#ed7953"
            ],
            [
             0.7777777777777778,
             "#fb9f3a"
            ],
            [
             0.8888888888888888,
             "#fdca26"
            ],
            [
             1,
             "#f0f921"
            ]
           ],
           "sequentialminus": [
            [
             0,
             "#0d0887"
            ],
            [
             0.1111111111111111,
             "#46039f"
            ],
            [
             0.2222222222222222,
             "#7201a8"
            ],
            [
             0.3333333333333333,
             "#9c179e"
            ],
            [
             0.4444444444444444,
             "#bd3786"
            ],
            [
             0.5555555555555556,
             "#d8576b"
            ],
            [
             0.6666666666666666,
             "#ed7953"
            ],
            [
             0.7777777777777778,
             "#fb9f3a"
            ],
            [
             0.8888888888888888,
             "#fdca26"
            ],
            [
             1,
             "#f0f921"
            ]
           ]
          },
          "colorway": [
           "#636efa",
           "#EF553B",
           "#00cc96",
           "#ab63fa",
           "#FFA15A",
           "#19d3f3",
           "#FF6692",
           "#B6E880",
           "#FF97FF",
           "#FECB52"
          ],
          "font": {
           "color": "#2a3f5f"
          },
          "geo": {
           "bgcolor": "white",
           "lakecolor": "white",
           "landcolor": "#E5ECF6",
           "showlakes": true,
           "showland": true,
           "subunitcolor": "white"
          },
          "hoverlabel": {
           "align": "left"
          },
          "hovermode": "closest",
          "mapbox": {
           "style": "light"
          },
          "paper_bgcolor": "white",
          "plot_bgcolor": "#E5ECF6",
          "polar": {
           "angularaxis": {
            "gridcolor": "white",
            "linecolor": "white",
            "ticks": ""
           },
           "bgcolor": "#E5ECF6",
           "radialaxis": {
            "gridcolor": "white",
            "linecolor": "white",
            "ticks": ""
           }
          },
          "scene": {
           "xaxis": {
            "backgroundcolor": "#E5ECF6",
            "gridcolor": "white",
            "gridwidth": 2,
            "linecolor": "white",
            "showbackground": true,
            "ticks": "",
            "zerolinecolor": "white"
           },
           "yaxis": {
            "backgroundcolor": "#E5ECF6",
            "gridcolor": "white",
            "gridwidth": 2,
            "linecolor": "white",
            "showbackground": true,
            "ticks": "",
            "zerolinecolor": "white"
           },
           "zaxis": {
            "backgroundcolor": "#E5ECF6",
            "gridcolor": "white",
            "gridwidth": 2,
            "linecolor": "white",
            "showbackground": true,
            "ticks": "",
            "zerolinecolor": "white"
           }
          },
          "shapedefaults": {
           "line": {
            "color": "#2a3f5f"
           }
          },
          "ternary": {
           "aaxis": {
            "gridcolor": "white",
            "linecolor": "white",
            "ticks": ""
           },
           "baxis": {
            "gridcolor": "white",
            "linecolor": "white",
            "ticks": ""
           },
           "bgcolor": "#E5ECF6",
           "caxis": {
            "gridcolor": "white",
            "linecolor": "white",
            "ticks": ""
           }
          },
          "title": {
           "x": 0.05
          },
          "xaxis": {
           "automargin": true,
           "gridcolor": "white",
           "linecolor": "white",
           "ticks": "",
           "title": {
            "standoff": 15
           },
           "zerolinecolor": "white",
           "zerolinewidth": 2
          },
          "yaxis": {
           "automargin": true,
           "gridcolor": "white",
           "linecolor": "white",
           "ticks": "",
           "title": {
            "standoff": 15
           },
           "zerolinecolor": "white",
           "zerolinewidth": 2
          }
         }
        },
        "xaxis": {
         "anchor": "y",
         "domain": [
          0,
          1
         ],
         "title": {
          "text": "x"
         }
        },
        "yaxis": {
         "anchor": "x",
         "domain": [
          0,
          1
         ],
         "title": {
          "text": "y"
         }
        }
       }
      },
      "text/html": [
       "<div>\n",
       "        \n",
       "        \n",
       "            <div id=\"14475303-4eb7-4b7f-b50c-796f6b5e85e3\" class=\"plotly-graph-div\" style=\"height:525px; width:100%;\"></div>\n",
       "            <script type=\"text/javascript\">\n",
       "                require([\"plotly\"], function(Plotly) {\n",
       "                    window.PLOTLYENV=window.PLOTLYENV || {};\n",
       "                    \n",
       "                if (document.getElementById(\"14475303-4eb7-4b7f-b50c-796f6b5e85e3\")) {\n",
       "                    Plotly.newPlot(\n",
       "                        '14475303-4eb7-4b7f-b50c-796f6b5e85e3',\n",
       "                        [{\"hoverlabel\": {\"namelength\": 0}, \"hovertemplate\": \"x=%{x}<br>y=%{y}<br>text=%{text}\", \"legendgroup\": \"\", \"marker\": {\"color\": \"#636efa\", \"symbol\": \"circle\"}, \"mode\": \"markers+text\", \"name\": \"\", \"showlegend\": false, \"text\": [\"Acid house\", \"African music\", \"Alternative rock\", \"Ambient\", \"Blues\", \"Bossa Nova\", \"Chill-out\", \"Classical Music\", \"Coldwave\", \"Country\", \"Dance music\", \"Dance-pop\", \"Deep house\", \"Disco\", \"Dream Pop\", \"Dub\", \"Electro swing\", \"Electronic rock\", \"Electronica\", \"Electropop\", \"Experimental\", \"Experimental Jazz\", \"Experimental rock\", \"Film Music\", \"French house\", \"Funk\", \"Future house\", \"Garage rock\", \"Grime\", \"Hard rock\", \"Hip hop\", \"House music\", \"Indie folk\", \"Indie pop\", \"Indie rock\", \"Instrumental\", \"International Pop\", \"Latin music\", \"Lo-Fi\", \"Metal\", \"Minimal\", \"Modern Jazz\", \"New wave\", \"Noise rock\", \"Nouvelle Sc\\u00e8ne\", \"Nu-disco\", \"Pop rock\", \"Pop soul\", \"Post-punk\", \"Post-rock\", \"Progressive pop\", \"Progressive rock\", \"Psychedelic pop\", \"Psychedelic rock\", \"Punk\", \"R&B\", \"Rap\", \"Rap fran\\u00e7ais\", \"Reggae\", \"Rock and roll\", \"Samba\", \"Singer-songwriter\", \"Soul\", \"Surf rock\", \"Synthpop\", \"Synthwave\", \"Techno\", \"Traditional Music\", \"Trap\", \"Trip hop\", \"Vari\\u00e9t\\u00e9 Fran\\u00e7aise\"], \"type\": \"scatter\", \"x\": [-24.303485870361328, -6.769148826599121, -2.7733047008514404, 14.824728965759277, 14.05582332611084, -0.19109517335891724, 8.68883991241455, -17.744657516479492, -5.043976306915283, 6.619360446929932, 13.604475975036621, -16.826610565185547, -7.116899490356445, -9.584464073181152, 7.194169044494629, -1.4054839611053467, 21.279827117919922, -15.824361801147461, 19.375286102294922, 6.443842887878418, -11.359892845153809, -8.338284492492676, -0.43075674772262573, -12.454507827758789, 7.748904705047607, -11.092864990234375, -20.30462074279785, 20.6973934173584, -24.880962371826172, 20.907855987548828, 6.043399810791016, -5.142464637756348, 11.361968994140625, 3.1593565940856934, 1.6778743267059326, 13.03785228729248, 22.48297691345215, -34.03528594970703, -14.60831356048584, -21.576282501220703, 17.08256721496582, 30.256162643432617, 0.8012319207191467, 4.185439586639404, -11.443459510803223, 11.402785301208496, 2.336573839187622, -1.9404033422470093, 22.819093704223633, -27.515050888061523, 0.2757880389690399, -23.089523315429688, -18.265701293945312, -0.32375478744506836, 13.394793510437012, 1.3273078203201294, -15.343259811401367, -12.747917175292969, 7.622339725494385, 25.15884780883789, -11.716358184814453, 5.156815528869629, -1.3179450035095215, 25.959136962890625, 31.709308624267578, 3.4515576362609863, 14.090536117553711, -9.361162185668945, -6.216915130615234, -4.196885108947754, -22.55279541015625], \"xaxis\": \"x\", \"y\": [22.970653533935547, 11.835529327392578, -13.676787376403809, -16.307228088378906, 15.825593948364258, -31.139867782592773, -16.833683013916016, 13.235419273376465, 5.833634376525879, -37.29185104370117, -27.212900161743164, 2.481254816055298, 23.351884841918945, -29.540056228637695, -3.996244430541992, -19.116405487060547, -19.76857566833496, -7.989322185516357, 9.388345718383789, 8.631169319152832, 2.9771320819854736, -18.11887550354004, 9.636456489562988, 25.3284969329834, 3.265533685684204, 7.937710762023926, -9.886138916015625, 16.941993713378906, 9.307612419128418, 1.0804413557052612, -10.227533340454102, -4.390488624572754, -9.448602676391602, -6.668887615203857, 21.477872848510742, 8.05156421661377, -28.465604782104492, 3.391342878341675, -15.04030704498291, -20.462539672851562, -8.527984619140625, -4.222766876220703, 4.636249542236328, 0.042981088161468506, -8.314321517944336, 25.839229583740234, -13.260496139526367, -24.44615364074707, -4.603443622589111, -7.894905090332031, 15.016274452209473, -0.6966220140457153, 7.19474458694458, -1.7386109828948975, -4.176100730895996, 30.720138549804688, -2.494774341583252, -23.88330841064453, 14.575662612915039, -12.567403793334961, 16.971214294433594, -23.962326049804688, -7.100096225738525, 9.976683616638184, 6.58491849899292, -18.83285903930664, 1.1773375272750854, -1.487067699432373, -9.451987266540527, 0.9638587832450867, -31.266624450683594], \"yaxis\": \"y\"}],\n",
       "                        {\"legend\": {\"tracegroupgap\": 0}, \"margin\": {\"t\": 60}, \"template\": {\"data\": {\"bar\": [{\"error_x\": {\"color\": \"#2a3f5f\"}, \"error_y\": {\"color\": \"#2a3f5f\"}, \"marker\": {\"line\": {\"color\": \"#E5ECF6\", \"width\": 0.5}}, \"type\": \"bar\"}], \"barpolar\": [{\"marker\": {\"line\": {\"color\": \"#E5ECF6\", \"width\": 0.5}}, \"type\": \"barpolar\"}], \"carpet\": [{\"aaxis\": {\"endlinecolor\": \"#2a3f5f\", \"gridcolor\": \"white\", \"linecolor\": \"white\", \"minorgridcolor\": \"white\", \"startlinecolor\": \"#2a3f5f\"}, \"baxis\": {\"endlinecolor\": \"#2a3f5f\", \"gridcolor\": \"white\", \"linecolor\": \"white\", \"minorgridcolor\": \"white\", \"startlinecolor\": \"#2a3f5f\"}, \"type\": \"carpet\"}], \"choropleth\": [{\"colorbar\": {\"outlinewidth\": 0, \"ticks\": \"\"}, \"type\": \"choropleth\"}], \"contour\": [{\"colorbar\": {\"outlinewidth\": 0, \"ticks\": \"\"}, \"colorscale\": [[0.0, \"#0d0887\"], [0.1111111111111111, \"#46039f\"], [0.2222222222222222, \"#7201a8\"], [0.3333333333333333, \"#9c179e\"], [0.4444444444444444, \"#bd3786\"], [0.5555555555555556, \"#d8576b\"], [0.6666666666666666, \"#ed7953\"], [0.7777777777777778, \"#fb9f3a\"], [0.8888888888888888, \"#fdca26\"], [1.0, \"#f0f921\"]], \"type\": \"contour\"}], \"contourcarpet\": [{\"colorbar\": {\"outlinewidth\": 0, \"ticks\": \"\"}, \"type\": \"contourcarpet\"}], \"heatmap\": [{\"colorbar\": {\"outlinewidth\": 0, \"ticks\": \"\"}, \"colorscale\": [[0.0, \"#0d0887\"], [0.1111111111111111, \"#46039f\"], [0.2222222222222222, \"#7201a8\"], [0.3333333333333333, \"#9c179e\"], [0.4444444444444444, \"#bd3786\"], [0.5555555555555556, \"#d8576b\"], [0.6666666666666666, \"#ed7953\"], [0.7777777777777778, \"#fb9f3a\"], [0.8888888888888888, \"#fdca26\"], [1.0, \"#f0f921\"]], \"type\": \"heatmap\"}], \"heatmapgl\": [{\"colorbar\": {\"outlinewidth\": 0, \"ticks\": \"\"}, \"colorscale\": [[0.0, \"#0d0887\"], [0.1111111111111111, \"#46039f\"], [0.2222222222222222, \"#7201a8\"], [0.3333333333333333, \"#9c179e\"], [0.4444444444444444, \"#bd3786\"], [0.5555555555555556, \"#d8576b\"], [0.6666666666666666, \"#ed7953\"], [0.7777777777777778, \"#fb9f3a\"], [0.8888888888888888, \"#fdca26\"], [1.0, \"#f0f921\"]], \"type\": \"heatmapgl\"}], \"histogram\": [{\"marker\": {\"colorbar\": {\"outlinewidth\": 0, \"ticks\": \"\"}}, \"type\": \"histogram\"}], \"histogram2d\": [{\"colorbar\": {\"outlinewidth\": 0, \"ticks\": \"\"}, \"colorscale\": [[0.0, \"#0d0887\"], [0.1111111111111111, \"#46039f\"], [0.2222222222222222, \"#7201a8\"], [0.3333333333333333, \"#9c179e\"], [0.4444444444444444, \"#bd3786\"], [0.5555555555555556, \"#d8576b\"], [0.6666666666666666, \"#ed7953\"], [0.7777777777777778, \"#fb9f3a\"], [0.8888888888888888, \"#fdca26\"], [1.0, \"#f0f921\"]], \"type\": \"histogram2d\"}], \"histogram2dcontour\": [{\"colorbar\": {\"outlinewidth\": 0, \"ticks\": \"\"}, \"colorscale\": [[0.0, \"#0d0887\"], [0.1111111111111111, \"#46039f\"], [0.2222222222222222, \"#7201a8\"], [0.3333333333333333, \"#9c179e\"], [0.4444444444444444, \"#bd3786\"], [0.5555555555555556, \"#d8576b\"], [0.6666666666666666, \"#ed7953\"], [0.7777777777777778, \"#fb9f3a\"], [0.8888888888888888, \"#fdca26\"], [1.0, \"#f0f921\"]], \"type\": \"histogram2dcontour\"}], \"mesh3d\": [{\"colorbar\": {\"outlinewidth\": 0, \"ticks\": \"\"}, \"type\": \"mesh3d\"}], \"parcoords\": [{\"line\": {\"colorbar\": {\"outlinewidth\": 0, \"ticks\": \"\"}}, \"type\": \"parcoords\"}], \"pie\": [{\"automargin\": true, \"type\": \"pie\"}], \"scatter\": [{\"marker\": {\"colorbar\": {\"outlinewidth\": 0, \"ticks\": \"\"}}, \"type\": \"scatter\"}], \"scatter3d\": [{\"line\": {\"colorbar\": {\"outlinewidth\": 0, \"ticks\": \"\"}}, \"marker\": {\"colorbar\": {\"outlinewidth\": 0, \"ticks\": \"\"}}, \"type\": \"scatter3d\"}], \"scattercarpet\": [{\"marker\": {\"colorbar\": {\"outlinewidth\": 0, \"ticks\": \"\"}}, \"type\": \"scattercarpet\"}], \"scattergeo\": [{\"marker\": {\"colorbar\": {\"outlinewidth\": 0, \"ticks\": \"\"}}, \"type\": \"scattergeo\"}], \"scattergl\": [{\"marker\": {\"colorbar\": {\"outlinewidth\": 0, \"ticks\": \"\"}}, \"type\": \"scattergl\"}], \"scattermapbox\": [{\"marker\": {\"colorbar\": {\"outlinewidth\": 0, \"ticks\": \"\"}}, \"type\": \"scattermapbox\"}], \"scatterpolar\": [{\"marker\": {\"colorbar\": {\"outlinewidth\": 0, \"ticks\": \"\"}}, \"type\": \"scatterpolar\"}], \"scatterpolargl\": [{\"marker\": {\"colorbar\": {\"outlinewidth\": 0, \"ticks\": \"\"}}, \"type\": \"scatterpolargl\"}], \"scatterternary\": [{\"marker\": {\"colorbar\": {\"outlinewidth\": 0, \"ticks\": \"\"}}, \"type\": \"scatterternary\"}], \"surface\": [{\"colorbar\": {\"outlinewidth\": 0, \"ticks\": \"\"}, \"colorscale\": [[0.0, \"#0d0887\"], [0.1111111111111111, \"#46039f\"], [0.2222222222222222, \"#7201a8\"], [0.3333333333333333, \"#9c179e\"], [0.4444444444444444, \"#bd3786\"], [0.5555555555555556, \"#d8576b\"], [0.6666666666666666, \"#ed7953\"], [0.7777777777777778, \"#fb9f3a\"], [0.8888888888888888, \"#fdca26\"], [1.0, \"#f0f921\"]], \"type\": \"surface\"}], \"table\": [{\"cells\": {\"fill\": {\"color\": \"#EBF0F8\"}, \"line\": {\"color\": \"white\"}}, \"header\": {\"fill\": {\"color\": \"#C8D4E3\"}, \"line\": {\"color\": \"white\"}}, \"type\": \"table\"}]}, \"layout\": {\"annotationdefaults\": {\"arrowcolor\": \"#2a3f5f\", \"arrowhead\": 0, \"arrowwidth\": 1}, \"coloraxis\": {\"colorbar\": {\"outlinewidth\": 0, \"ticks\": \"\"}}, \"colorscale\": {\"diverging\": [[0, \"#8e0152\"], [0.1, \"#c51b7d\"], [0.2, \"#de77ae\"], [0.3, \"#f1b6da\"], [0.4, \"#fde0ef\"], [0.5, \"#f7f7f7\"], [0.6, \"#e6f5d0\"], [0.7, \"#b8e186\"], [0.8, \"#7fbc41\"], [0.9, \"#4d9221\"], [1, \"#276419\"]], \"sequential\": [[0.0, \"#0d0887\"], [0.1111111111111111, \"#46039f\"], [0.2222222222222222, \"#7201a8\"], [0.3333333333333333, \"#9c179e\"], [0.4444444444444444, \"#bd3786\"], [0.5555555555555556, \"#d8576b\"], [0.6666666666666666, \"#ed7953\"], [0.7777777777777778, \"#fb9f3a\"], [0.8888888888888888, \"#fdca26\"], [1.0, \"#f0f921\"]], \"sequentialminus\": [[0.0, \"#0d0887\"], [0.1111111111111111, \"#46039f\"], [0.2222222222222222, \"#7201a8\"], [0.3333333333333333, \"#9c179e\"], [0.4444444444444444, \"#bd3786\"], [0.5555555555555556, \"#d8576b\"], [0.6666666666666666, \"#ed7953\"], [0.7777777777777778, \"#fb9f3a\"], [0.8888888888888888, \"#fdca26\"], [1.0, \"#f0f921\"]]}, \"colorway\": [\"#636efa\", \"#EF553B\", \"#00cc96\", \"#ab63fa\", \"#FFA15A\", \"#19d3f3\", \"#FF6692\", \"#B6E880\", \"#FF97FF\", \"#FECB52\"], \"font\": {\"color\": \"#2a3f5f\"}, \"geo\": {\"bgcolor\": \"white\", \"lakecolor\": \"white\", \"landcolor\": \"#E5ECF6\", \"showlakes\": true, \"showland\": true, \"subunitcolor\": \"white\"}, \"hoverlabel\": {\"align\": \"left\"}, \"hovermode\": \"closest\", \"mapbox\": {\"style\": \"light\"}, \"paper_bgcolor\": \"white\", \"plot_bgcolor\": \"#E5ECF6\", \"polar\": {\"angularaxis\": {\"gridcolor\": \"white\", \"linecolor\": \"white\", \"ticks\": \"\"}, \"bgcolor\": \"#E5ECF6\", \"radialaxis\": {\"gridcolor\": \"white\", \"linecolor\": \"white\", \"ticks\": \"\"}}, \"scene\": {\"xaxis\": {\"backgroundcolor\": \"#E5ECF6\", \"gridcolor\": \"white\", \"gridwidth\": 2, \"linecolor\": \"white\", \"showbackground\": true, \"ticks\": \"\", \"zerolinecolor\": \"white\"}, \"yaxis\": {\"backgroundcolor\": \"#E5ECF6\", \"gridcolor\": \"white\", \"gridwidth\": 2, \"linecolor\": \"white\", \"showbackground\": true, \"ticks\": \"\", \"zerolinecolor\": \"white\"}, \"zaxis\": {\"backgroundcolor\": \"#E5ECF6\", \"gridcolor\": \"white\", \"gridwidth\": 2, \"linecolor\": \"white\", \"showbackground\": true, \"ticks\": \"\", \"zerolinecolor\": \"white\"}}, \"shapedefaults\": {\"line\": {\"color\": \"#2a3f5f\"}}, \"ternary\": {\"aaxis\": {\"gridcolor\": \"white\", \"linecolor\": \"white\", \"ticks\": \"\"}, \"baxis\": {\"gridcolor\": \"white\", \"linecolor\": \"white\", \"ticks\": \"\"}, \"bgcolor\": \"#E5ECF6\", \"caxis\": {\"gridcolor\": \"white\", \"linecolor\": \"white\", \"ticks\": \"\"}}, \"title\": {\"x\": 0.05}, \"xaxis\": {\"automargin\": true, \"gridcolor\": \"white\", \"linecolor\": \"white\", \"ticks\": \"\", \"title\": {\"standoff\": 15}, \"zerolinecolor\": \"white\", \"zerolinewidth\": 2}, \"yaxis\": {\"automargin\": true, \"gridcolor\": \"white\", \"linecolor\": \"white\", \"ticks\": \"\", \"title\": {\"standoff\": 15}, \"zerolinecolor\": \"white\", \"zerolinewidth\": 2}}}, \"xaxis\": {\"anchor\": \"y\", \"domain\": [0.0, 1.0], \"title\": {\"text\": \"x\"}}, \"yaxis\": {\"anchor\": \"x\", \"domain\": [0.0, 1.0], \"title\": {\"text\": \"y\"}}},\n",
       "                        {\"responsive\": true}\n",
       "                    ).then(function(){\n",
       "                            \n",
       "var gd = document.getElementById('14475303-4eb7-4b7f-b50c-796f6b5e85e3');\n",
       "var x = new MutationObserver(function (mutations, observer) {{\n",
       "        var display = window.getComputedStyle(gd).display;\n",
       "        if (!display || display === 'none') {{\n",
       "            console.log([gd, 'removed!']);\n",
       "            Plotly.purge(gd);\n",
       "            observer.disconnect();\n",
       "        }}\n",
       "}});\n",
       "\n",
       "// Listen for the removal of the full notebook cells\n",
       "var notebookContainer = gd.closest('#notebook-container');\n",
       "if (notebookContainer) {{\n",
       "    x.observe(notebookContainer, {childList: true});\n",
       "}}\n",
       "\n",
       "// Listen for the clearing of the current output cell\n",
       "var outputEl = gd.closest('.output');\n",
       "if (outputEl) {{\n",
       "    x.observe(outputEl, {childList: true});\n",
       "}}\n",
       "\n",
       "                        })\n",
       "                };\n",
       "                });\n",
       "            </script>\n",
       "        </div>"
      ]
     },
     "metadata": {},
     "output_type": "display_data"
    }
   ],
   "source": [
    "# Extract Influencer embeddings and perform 2D TSNE\n",
    "\n",
    "i_em = model.get_layer('Influencer-Embedding')\n",
    "i_em_weights = i_em.get_weights()[0]\n",
    "\n",
    "tsne = TSNE(n_components=2, verbose=1, perplexity=40, n_iter=300)\n",
    "tnse_results = tsne.fit_transform(i_em_weights)\n",
    "\n",
    "fig = px.scatter(x=tnse_results[:,0], y=tnse_results[:,1], text=[col[:-11] for col in influencer_data.columns])\n",
    "fig.show()"
   ]
  },
  {
   "cell_type": "markdown",
   "metadata": {},
   "source": [
    "#### Influencer kind embeddings"
   ]
  },
  {
   "cell_type": "code",
   "execution_count": 85,
   "metadata": {},
   "outputs": [
    {
     "name": "stdout",
     "output_type": "stream",
     "text": [
      "[t-SNE] Computing 12 nearest neighbors...\n",
      "[t-SNE] Indexed 13 samples in 0.000s...\n",
      "[t-SNE] Computed neighbors for 13 samples in 0.001s...\n",
      "[t-SNE] Computed conditional probabilities for sample 13 / 13\n",
      "[t-SNE] Mean sigma: 1125899906842624.000000\n",
      "[t-SNE] KL divergence after 250 iterations with early exaggeration: 57.594818\n",
      "[t-SNE] KL divergence after 300 iterations: 0.396849\n"
     ]
    },
    {
     "data": {
      "application/vnd.plotly.v1+json": {
       "config": {
        "plotlyServerURL": "https://plot.ly"
       },
       "data": [
        {
         "hoverlabel": {
          "namelength": 0
         },
         "hovertemplate": "x=%{x}<br>y=%{y}<br>text=%{text}",
         "legendgroup": "",
         "marker": {
          "color": "#636efa",
          "symbol": "circle"
         },
         "mode": "markers+text",
         "name": "",
         "showlegend": false,
         "text": [
          "Booker",
          "Channel",
          "Event",
          "Journalist",
          "Label",
          "Manager",
          "Media",
          "Mentor",
          "Playlist",
          "Publisher",
          "Radio",
          "Springboard",
          "Supervisor"
         ],
         "type": "scatter",
         "x": [
          -22.07392692565918,
          232.82681274414062,
          88.19556427001953,
          25.565711975097656,
          -190.38011169433594,
          17.852758407592773,
          -91.93472290039062,
          -21.154773712158203,
          -149.137939453125,
          -124.82775115966797,
          -286.57220458984375,
          111.25955200195312,
          163.19593811035156
         ],
         "xaxis": "x",
         "y": [
          -76.53588104248047,
          -247.23561096191406,
          145.15396118164062,
          21.541393280029297,
          38.552589416503906,
          -178.01779174804688,
          17.36062240600586,
          120.39138793945312,
          -97.86139678955078,
          160.02798461914062,
          59.03377914428711,
          -69.34599304199219,
          50.63108444213867
         ],
         "yaxis": "y"
        }
       ],
       "layout": {
        "legend": {
         "tracegroupgap": 0
        },
        "margin": {
         "t": 60
        },
        "template": {
         "data": {
          "bar": [
           {
            "error_x": {
             "color": "#2a3f5f"
            },
            "error_y": {
             "color": "#2a3f5f"
            },
            "marker": {
             "line": {
              "color": "#E5ECF6",
              "width": 0.5
             }
            },
            "type": "bar"
           }
          ],
          "barpolar": [
           {
            "marker": {
             "line": {
              "color": "#E5ECF6",
              "width": 0.5
             }
            },
            "type": "barpolar"
           }
          ],
          "carpet": [
           {
            "aaxis": {
             "endlinecolor": "#2a3f5f",
             "gridcolor": "white",
             "linecolor": "white",
             "minorgridcolor": "white",
             "startlinecolor": "#2a3f5f"
            },
            "baxis": {
             "endlinecolor": "#2a3f5f",
             "gridcolor": "white",
             "linecolor": "white",
             "minorgridcolor": "white",
             "startlinecolor": "#2a3f5f"
            },
            "type": "carpet"
           }
          ],
          "choropleth": [
           {
            "colorbar": {
             "outlinewidth": 0,
             "ticks": ""
            },
            "type": "choropleth"
           }
          ],
          "contour": [
           {
            "colorbar": {
             "outlinewidth": 0,
             "ticks": ""
            },
            "colorscale": [
             [
              0,
              "#0d0887"
             ],
             [
              0.1111111111111111,
              "#46039f"
             ],
             [
              0.2222222222222222,
              "#7201a8"
             ],
             [
              0.3333333333333333,
              "#9c179e"
             ],
             [
              0.4444444444444444,
              "#bd3786"
             ],
             [
              0.5555555555555556,
              "#d8576b"
             ],
             [
              0.6666666666666666,
              "#ed7953"
             ],
             [
              0.7777777777777778,
              "#fb9f3a"
             ],
             [
              0.8888888888888888,
              "#fdca26"
             ],
             [
              1,
              "#f0f921"
             ]
            ],
            "type": "contour"
           }
          ],
          "contourcarpet": [
           {
            "colorbar": {
             "outlinewidth": 0,
             "ticks": ""
            },
            "type": "contourcarpet"
           }
          ],
          "heatmap": [
           {
            "colorbar": {
             "outlinewidth": 0,
             "ticks": ""
            },
            "colorscale": [
             [
              0,
              "#0d0887"
             ],
             [
              0.1111111111111111,
              "#46039f"
             ],
             [
              0.2222222222222222,
              "#7201a8"
             ],
             [
              0.3333333333333333,
              "#9c179e"
             ],
             [
              0.4444444444444444,
              "#bd3786"
             ],
             [
              0.5555555555555556,
              "#d8576b"
             ],
             [
              0.6666666666666666,
              "#ed7953"
             ],
             [
              0.7777777777777778,
              "#fb9f3a"
             ],
             [
              0.8888888888888888,
              "#fdca26"
             ],
             [
              1,
              "#f0f921"
             ]
            ],
            "type": "heatmap"
           }
          ],
          "heatmapgl": [
           {
            "colorbar": {
             "outlinewidth": 0,
             "ticks": ""
            },
            "colorscale": [
             [
              0,
              "#0d0887"
             ],
             [
              0.1111111111111111,
              "#46039f"
             ],
             [
              0.2222222222222222,
              "#7201a8"
             ],
             [
              0.3333333333333333,
              "#9c179e"
             ],
             [
              0.4444444444444444,
              "#bd3786"
             ],
             [
              0.5555555555555556,
              "#d8576b"
             ],
             [
              0.6666666666666666,
              "#ed7953"
             ],
             [
              0.7777777777777778,
              "#fb9f3a"
             ],
             [
              0.8888888888888888,
              "#fdca26"
             ],
             [
              1,
              "#f0f921"
             ]
            ],
            "type": "heatmapgl"
           }
          ],
          "histogram": [
           {
            "marker": {
             "colorbar": {
              "outlinewidth": 0,
              "ticks": ""
             }
            },
            "type": "histogram"
           }
          ],
          "histogram2d": [
           {
            "colorbar": {
             "outlinewidth": 0,
             "ticks": ""
            },
            "colorscale": [
             [
              0,
              "#0d0887"
             ],
             [
              0.1111111111111111,
              "#46039f"
             ],
             [
              0.2222222222222222,
              "#7201a8"
             ],
             [
              0.3333333333333333,
              "#9c179e"
             ],
             [
              0.4444444444444444,
              "#bd3786"
             ],
             [
              0.5555555555555556,
              "#d8576b"
             ],
             [
              0.6666666666666666,
              "#ed7953"
             ],
             [
              0.7777777777777778,
              "#fb9f3a"
             ],
             [
              0.8888888888888888,
              "#fdca26"
             ],
             [
              1,
              "#f0f921"
             ]
            ],
            "type": "histogram2d"
           }
          ],
          "histogram2dcontour": [
           {
            "colorbar": {
             "outlinewidth": 0,
             "ticks": ""
            },
            "colorscale": [
             [
              0,
              "#0d0887"
             ],
             [
              0.1111111111111111,
              "#46039f"
             ],
             [
              0.2222222222222222,
              "#7201a8"
             ],
             [
              0.3333333333333333,
              "#9c179e"
             ],
             [
              0.4444444444444444,
              "#bd3786"
             ],
             [
              0.5555555555555556,
              "#d8576b"
             ],
             [
              0.6666666666666666,
              "#ed7953"
             ],
             [
              0.7777777777777778,
              "#fb9f3a"
             ],
             [
              0.8888888888888888,
              "#fdca26"
             ],
             [
              1,
              "#f0f921"
             ]
            ],
            "type": "histogram2dcontour"
           }
          ],
          "mesh3d": [
           {
            "colorbar": {
             "outlinewidth": 0,
             "ticks": ""
            },
            "type": "mesh3d"
           }
          ],
          "parcoords": [
           {
            "line": {
             "colorbar": {
              "outlinewidth": 0,
              "ticks": ""
             }
            },
            "type": "parcoords"
           }
          ],
          "pie": [
           {
            "automargin": true,
            "type": "pie"
           }
          ],
          "scatter": [
           {
            "marker": {
             "colorbar": {
              "outlinewidth": 0,
              "ticks": ""
             }
            },
            "type": "scatter"
           }
          ],
          "scatter3d": [
           {
            "line": {
             "colorbar": {
              "outlinewidth": 0,
              "ticks": ""
             }
            },
            "marker": {
             "colorbar": {
              "outlinewidth": 0,
              "ticks": ""
             }
            },
            "type": "scatter3d"
           }
          ],
          "scattercarpet": [
           {
            "marker": {
             "colorbar": {
              "outlinewidth": 0,
              "ticks": ""
             }
            },
            "type": "scattercarpet"
           }
          ],
          "scattergeo": [
           {
            "marker": {
             "colorbar": {
              "outlinewidth": 0,
              "ticks": ""
             }
            },
            "type": "scattergeo"
           }
          ],
          "scattergl": [
           {
            "marker": {
             "colorbar": {
              "outlinewidth": 0,
              "ticks": ""
             }
            },
            "type": "scattergl"
           }
          ],
          "scattermapbox": [
           {
            "marker": {
             "colorbar": {
              "outlinewidth": 0,
              "ticks": ""
             }
            },
            "type": "scattermapbox"
           }
          ],
          "scatterpolar": [
           {
            "marker": {
             "colorbar": {
              "outlinewidth": 0,
              "ticks": ""
             }
            },
            "type": "scatterpolar"
           }
          ],
          "scatterpolargl": [
           {
            "marker": {
             "colorbar": {
              "outlinewidth": 0,
              "ticks": ""
             }
            },
            "type": "scatterpolargl"
           }
          ],
          "scatterternary": [
           {
            "marker": {
             "colorbar": {
              "outlinewidth": 0,
              "ticks": ""
             }
            },
            "type": "scatterternary"
           }
          ],
          "surface": [
           {
            "colorbar": {
             "outlinewidth": 0,
             "ticks": ""
            },
            "colorscale": [
             [
              0,
              "#0d0887"
             ],
             [
              0.1111111111111111,
              "#46039f"
             ],
             [
              0.2222222222222222,
              "#7201a8"
             ],
             [
              0.3333333333333333,
              "#9c179e"
             ],
             [
              0.4444444444444444,
              "#bd3786"
             ],
             [
              0.5555555555555556,
              "#d8576b"
             ],
             [
              0.6666666666666666,
              "#ed7953"
             ],
             [
              0.7777777777777778,
              "#fb9f3a"
             ],
             [
              0.8888888888888888,
              "#fdca26"
             ],
             [
              1,
              "#f0f921"
             ]
            ],
            "type": "surface"
           }
          ],
          "table": [
           {
            "cells": {
             "fill": {
              "color": "#EBF0F8"
             },
             "line": {
              "color": "white"
             }
            },
            "header": {
             "fill": {
              "color": "#C8D4E3"
             },
             "line": {
              "color": "white"
             }
            },
            "type": "table"
           }
          ]
         },
         "layout": {
          "annotationdefaults": {
           "arrowcolor": "#2a3f5f",
           "arrowhead": 0,
           "arrowwidth": 1
          },
          "coloraxis": {
           "colorbar": {
            "outlinewidth": 0,
            "ticks": ""
           }
          },
          "colorscale": {
           "diverging": [
            [
             0,
             "#8e0152"
            ],
            [
             0.1,
             "#c51b7d"
            ],
            [
             0.2,
             "#de77ae"
            ],
            [
             0.3,
             "#f1b6da"
            ],
            [
             0.4,
             "#fde0ef"
            ],
            [
             0.5,
             "#f7f7f7"
            ],
            [
             0.6,
             "#e6f5d0"
            ],
            [
             0.7,
             "#b8e186"
            ],
            [
             0.8,
             "#7fbc41"
            ],
            [
             0.9,
             "#4d9221"
            ],
            [
             1,
             "#276419"
            ]
           ],
           "sequential": [
            [
             0,
             "#0d0887"
            ],
            [
             0.1111111111111111,
             "#46039f"
            ],
            [
             0.2222222222222222,
             "#7201a8"
            ],
            [
             0.3333333333333333,
             "#9c179e"
            ],
            [
             0.4444444444444444,
             "#bd3786"
            ],
            [
             0.5555555555555556,
             "#d8576b"
            ],
            [
             0.6666666666666666,
             "#ed7953"
            ],
            [
             0.7777777777777778,
             "#fb9f3a"
            ],
            [
             0.8888888888888888,
             "#fdca26"
            ],
            [
             1,
             "#f0f921"
            ]
           ],
           "sequentialminus": [
            [
             0,
             "#0d0887"
            ],
            [
             0.1111111111111111,
             "#46039f"
            ],
            [
             0.2222222222222222,
             "#7201a8"
            ],
            [
             0.3333333333333333,
             "#9c179e"
            ],
            [
             0.4444444444444444,
             "#bd3786"
            ],
            [
             0.5555555555555556,
             "#d8576b"
            ],
            [
             0.6666666666666666,
             "#ed7953"
            ],
            [
             0.7777777777777778,
             "#fb9f3a"
            ],
            [
             0.8888888888888888,
             "#fdca26"
            ],
            [
             1,
             "#f0f921"
            ]
           ]
          },
          "colorway": [
           "#636efa",
           "#EF553B",
           "#00cc96",
           "#ab63fa",
           "#FFA15A",
           "#19d3f3",
           "#FF6692",
           "#B6E880",
           "#FF97FF",
           "#FECB52"
          ],
          "font": {
           "color": "#2a3f5f"
          },
          "geo": {
           "bgcolor": "white",
           "lakecolor": "white",
           "landcolor": "#E5ECF6",
           "showlakes": true,
           "showland": true,
           "subunitcolor": "white"
          },
          "hoverlabel": {
           "align": "left"
          },
          "hovermode": "closest",
          "mapbox": {
           "style": "light"
          },
          "paper_bgcolor": "white",
          "plot_bgcolor": "#E5ECF6",
          "polar": {
           "angularaxis": {
            "gridcolor": "white",
            "linecolor": "white",
            "ticks": ""
           },
           "bgcolor": "#E5ECF6",
           "radialaxis": {
            "gridcolor": "white",
            "linecolor": "white",
            "ticks": ""
           }
          },
          "scene": {
           "xaxis": {
            "backgroundcolor": "#E5ECF6",
            "gridcolor": "white",
            "gridwidth": 2,
            "linecolor": "white",
            "showbackground": true,
            "ticks": "",
            "zerolinecolor": "white"
           },
           "yaxis": {
            "backgroundcolor": "#E5ECF6",
            "gridcolor": "white",
            "gridwidth": 2,
            "linecolor": "white",
            "showbackground": true,
            "ticks": "",
            "zerolinecolor": "white"
           },
           "zaxis": {
            "backgroundcolor": "#E5ECF6",
            "gridcolor": "white",
            "gridwidth": 2,
            "linecolor": "white",
            "showbackground": true,
            "ticks": "",
            "zerolinecolor": "white"
           }
          },
          "shapedefaults": {
           "line": {
            "color": "#2a3f5f"
           }
          },
          "ternary": {
           "aaxis": {
            "gridcolor": "white",
            "linecolor": "white",
            "ticks": ""
           },
           "baxis": {
            "gridcolor": "white",
            "linecolor": "white",
            "ticks": ""
           },
           "bgcolor": "#E5ECF6",
           "caxis": {
            "gridcolor": "white",
            "linecolor": "white",
            "ticks": ""
           }
          },
          "title": {
           "x": 0.05
          },
          "xaxis": {
           "automargin": true,
           "gridcolor": "white",
           "linecolor": "white",
           "ticks": "",
           "title": {
            "standoff": 15
           },
           "zerolinecolor": "white",
           "zerolinewidth": 2
          },
          "yaxis": {
           "automargin": true,
           "gridcolor": "white",
           "linecolor": "white",
           "ticks": "",
           "title": {
            "standoff": 15
           },
           "zerolinecolor": "white",
           "zerolinewidth": 2
          }
         }
        },
        "xaxis": {
         "anchor": "y",
         "domain": [
          0,
          1
         ],
         "title": {
          "text": "x"
         }
        },
        "yaxis": {
         "anchor": "x",
         "domain": [
          0,
          1
         ],
         "title": {
          "text": "y"
         }
        }
       }
      },
      "text/html": [
       "<div>\n",
       "        \n",
       "        \n",
       "            <div id=\"973621a7-5946-44c9-bc66-68524821e520\" class=\"plotly-graph-div\" style=\"height:525px; width:100%;\"></div>\n",
       "            <script type=\"text/javascript\">\n",
       "                require([\"plotly\"], function(Plotly) {\n",
       "                    window.PLOTLYENV=window.PLOTLYENV || {};\n",
       "                    \n",
       "                if (document.getElementById(\"973621a7-5946-44c9-bc66-68524821e520\")) {\n",
       "                    Plotly.newPlot(\n",
       "                        '973621a7-5946-44c9-bc66-68524821e520',\n",
       "                        [{\"hoverlabel\": {\"namelength\": 0}, \"hovertemplate\": \"x=%{x}<br>y=%{y}<br>text=%{text}\", \"legendgroup\": \"\", \"marker\": {\"color\": \"#636efa\", \"symbol\": \"circle\"}, \"mode\": \"markers+text\", \"name\": \"\", \"showlegend\": false, \"text\": [\"Booker\", \"Channel\", \"Event\", \"Journalist\", \"Label\", \"Manager\", \"Media\", \"Mentor\", \"Playlist\", \"Publisher\", \"Radio\", \"Springboard\", \"Supervisor\"], \"type\": \"scatter\", \"x\": [-22.07392692565918, 232.82681274414062, 88.19556427001953, 25.565711975097656, -190.38011169433594, 17.852758407592773, -91.93472290039062, -21.154773712158203, -149.137939453125, -124.82775115966797, -286.57220458984375, 111.25955200195312, 163.19593811035156], \"xaxis\": \"x\", \"y\": [-76.53588104248047, -247.23561096191406, 145.15396118164062, 21.541393280029297, 38.552589416503906, -178.01779174804688, 17.36062240600586, 120.39138793945312, -97.86139678955078, 160.02798461914062, 59.03377914428711, -69.34599304199219, 50.63108444213867], \"yaxis\": \"y\"}],\n",
       "                        {\"legend\": {\"tracegroupgap\": 0}, \"margin\": {\"t\": 60}, \"template\": {\"data\": {\"bar\": [{\"error_x\": {\"color\": \"#2a3f5f\"}, \"error_y\": {\"color\": \"#2a3f5f\"}, \"marker\": {\"line\": {\"color\": \"#E5ECF6\", \"width\": 0.5}}, \"type\": \"bar\"}], \"barpolar\": [{\"marker\": {\"line\": {\"color\": \"#E5ECF6\", \"width\": 0.5}}, \"type\": \"barpolar\"}], \"carpet\": [{\"aaxis\": {\"endlinecolor\": \"#2a3f5f\", \"gridcolor\": \"white\", \"linecolor\": \"white\", \"minorgridcolor\": \"white\", \"startlinecolor\": \"#2a3f5f\"}, \"baxis\": {\"endlinecolor\": \"#2a3f5f\", \"gridcolor\": \"white\", \"linecolor\": \"white\", \"minorgridcolor\": \"white\", \"startlinecolor\": \"#2a3f5f\"}, \"type\": \"carpet\"}], \"choropleth\": [{\"colorbar\": {\"outlinewidth\": 0, \"ticks\": \"\"}, \"type\": \"choropleth\"}], \"contour\": [{\"colorbar\": {\"outlinewidth\": 0, \"ticks\": \"\"}, \"colorscale\": [[0.0, \"#0d0887\"], [0.1111111111111111, \"#46039f\"], [0.2222222222222222, \"#7201a8\"], [0.3333333333333333, \"#9c179e\"], [0.4444444444444444, \"#bd3786\"], [0.5555555555555556, \"#d8576b\"], [0.6666666666666666, \"#ed7953\"], [0.7777777777777778, \"#fb9f3a\"], [0.8888888888888888, \"#fdca26\"], [1.0, \"#f0f921\"]], \"type\": \"contour\"}], \"contourcarpet\": [{\"colorbar\": {\"outlinewidth\": 0, \"ticks\": \"\"}, \"type\": \"contourcarpet\"}], \"heatmap\": [{\"colorbar\": {\"outlinewidth\": 0, \"ticks\": \"\"}, \"colorscale\": [[0.0, \"#0d0887\"], [0.1111111111111111, \"#46039f\"], [0.2222222222222222, \"#7201a8\"], [0.3333333333333333, \"#9c179e\"], [0.4444444444444444, \"#bd3786\"], [0.5555555555555556, \"#d8576b\"], [0.6666666666666666, \"#ed7953\"], [0.7777777777777778, \"#fb9f3a\"], [0.8888888888888888, \"#fdca26\"], [1.0, \"#f0f921\"]], \"type\": \"heatmap\"}], \"heatmapgl\": [{\"colorbar\": {\"outlinewidth\": 0, \"ticks\": \"\"}, \"colorscale\": [[0.0, \"#0d0887\"], [0.1111111111111111, \"#46039f\"], [0.2222222222222222, \"#7201a8\"], [0.3333333333333333, \"#9c179e\"], [0.4444444444444444, \"#bd3786\"], [0.5555555555555556, \"#d8576b\"], [0.6666666666666666, \"#ed7953\"], [0.7777777777777778, \"#fb9f3a\"], [0.8888888888888888, \"#fdca26\"], [1.0, \"#f0f921\"]], \"type\": \"heatmapgl\"}], \"histogram\": [{\"marker\": {\"colorbar\": {\"outlinewidth\": 0, \"ticks\": \"\"}}, \"type\": \"histogram\"}], \"histogram2d\": [{\"colorbar\": {\"outlinewidth\": 0, \"ticks\": \"\"}, \"colorscale\": [[0.0, \"#0d0887\"], [0.1111111111111111, \"#46039f\"], [0.2222222222222222, \"#7201a8\"], [0.3333333333333333, \"#9c179e\"], [0.4444444444444444, \"#bd3786\"], [0.5555555555555556, \"#d8576b\"], [0.6666666666666666, \"#ed7953\"], [0.7777777777777778, \"#fb9f3a\"], [0.8888888888888888, \"#fdca26\"], [1.0, \"#f0f921\"]], \"type\": \"histogram2d\"}], \"histogram2dcontour\": [{\"colorbar\": {\"outlinewidth\": 0, \"ticks\": \"\"}, \"colorscale\": [[0.0, \"#0d0887\"], [0.1111111111111111, \"#46039f\"], [0.2222222222222222, \"#7201a8\"], [0.3333333333333333, \"#9c179e\"], [0.4444444444444444, \"#bd3786\"], [0.5555555555555556, \"#d8576b\"], [0.6666666666666666, \"#ed7953\"], [0.7777777777777778, \"#fb9f3a\"], [0.8888888888888888, \"#fdca26\"], [1.0, \"#f0f921\"]], \"type\": \"histogram2dcontour\"}], \"mesh3d\": [{\"colorbar\": {\"outlinewidth\": 0, \"ticks\": \"\"}, \"type\": \"mesh3d\"}], \"parcoords\": [{\"line\": {\"colorbar\": {\"outlinewidth\": 0, \"ticks\": \"\"}}, \"type\": \"parcoords\"}], \"pie\": [{\"automargin\": true, \"type\": \"pie\"}], \"scatter\": [{\"marker\": {\"colorbar\": {\"outlinewidth\": 0, \"ticks\": \"\"}}, \"type\": \"scatter\"}], \"scatter3d\": [{\"line\": {\"colorbar\": {\"outlinewidth\": 0, \"ticks\": \"\"}}, \"marker\": {\"colorbar\": {\"outlinewidth\": 0, \"ticks\": \"\"}}, \"type\": \"scatter3d\"}], \"scattercarpet\": [{\"marker\": {\"colorbar\": {\"outlinewidth\": 0, \"ticks\": \"\"}}, \"type\": \"scattercarpet\"}], \"scattergeo\": [{\"marker\": {\"colorbar\": {\"outlinewidth\": 0, \"ticks\": \"\"}}, \"type\": \"scattergeo\"}], \"scattergl\": [{\"marker\": {\"colorbar\": {\"outlinewidth\": 0, \"ticks\": \"\"}}, \"type\": \"scattergl\"}], \"scattermapbox\": [{\"marker\": {\"colorbar\": {\"outlinewidth\": 0, \"ticks\": \"\"}}, \"type\": \"scattermapbox\"}], \"scatterpolar\": [{\"marker\": {\"colorbar\": {\"outlinewidth\": 0, \"ticks\": \"\"}}, \"type\": \"scatterpolar\"}], \"scatterpolargl\": [{\"marker\": {\"colorbar\": {\"outlinewidth\": 0, \"ticks\": \"\"}}, \"type\": \"scatterpolargl\"}], \"scatterternary\": [{\"marker\": {\"colorbar\": {\"outlinewidth\": 0, \"ticks\": \"\"}}, \"type\": \"scatterternary\"}], \"surface\": [{\"colorbar\": {\"outlinewidth\": 0, \"ticks\": \"\"}, \"colorscale\": [[0.0, \"#0d0887\"], [0.1111111111111111, \"#46039f\"], [0.2222222222222222, \"#7201a8\"], [0.3333333333333333, \"#9c179e\"], [0.4444444444444444, \"#bd3786\"], [0.5555555555555556, \"#d8576b\"], [0.6666666666666666, \"#ed7953\"], [0.7777777777777778, \"#fb9f3a\"], [0.8888888888888888, \"#fdca26\"], [1.0, \"#f0f921\"]], \"type\": \"surface\"}], \"table\": [{\"cells\": {\"fill\": {\"color\": \"#EBF0F8\"}, \"line\": {\"color\": \"white\"}}, \"header\": {\"fill\": {\"color\": \"#C8D4E3\"}, \"line\": {\"color\": \"white\"}}, \"type\": \"table\"}]}, \"layout\": {\"annotationdefaults\": {\"arrowcolor\": \"#2a3f5f\", \"arrowhead\": 0, \"arrowwidth\": 1}, \"coloraxis\": {\"colorbar\": {\"outlinewidth\": 0, \"ticks\": \"\"}}, \"colorscale\": {\"diverging\": [[0, \"#8e0152\"], [0.1, \"#c51b7d\"], [0.2, \"#de77ae\"], [0.3, \"#f1b6da\"], [0.4, \"#fde0ef\"], [0.5, \"#f7f7f7\"], [0.6, \"#e6f5d0\"], [0.7, \"#b8e186\"], [0.8, \"#7fbc41\"], [0.9, \"#4d9221\"], [1, \"#276419\"]], \"sequential\": [[0.0, \"#0d0887\"], [0.1111111111111111, \"#46039f\"], [0.2222222222222222, \"#7201a8\"], [0.3333333333333333, \"#9c179e\"], [0.4444444444444444, \"#bd3786\"], [0.5555555555555556, \"#d8576b\"], [0.6666666666666666, \"#ed7953\"], [0.7777777777777778, \"#fb9f3a\"], [0.8888888888888888, \"#fdca26\"], [1.0, \"#f0f921\"]], \"sequentialminus\": [[0.0, \"#0d0887\"], [0.1111111111111111, \"#46039f\"], [0.2222222222222222, \"#7201a8\"], [0.3333333333333333, \"#9c179e\"], [0.4444444444444444, \"#bd3786\"], [0.5555555555555556, \"#d8576b\"], [0.6666666666666666, \"#ed7953\"], [0.7777777777777778, \"#fb9f3a\"], [0.8888888888888888, \"#fdca26\"], [1.0, \"#f0f921\"]]}, \"colorway\": [\"#636efa\", \"#EF553B\", \"#00cc96\", \"#ab63fa\", \"#FFA15A\", \"#19d3f3\", \"#FF6692\", \"#B6E880\", \"#FF97FF\", \"#FECB52\"], \"font\": {\"color\": \"#2a3f5f\"}, \"geo\": {\"bgcolor\": \"white\", \"lakecolor\": \"white\", \"landcolor\": \"#E5ECF6\", \"showlakes\": true, \"showland\": true, \"subunitcolor\": \"white\"}, \"hoverlabel\": {\"align\": \"left\"}, \"hovermode\": \"closest\", \"mapbox\": {\"style\": \"light\"}, \"paper_bgcolor\": \"white\", \"plot_bgcolor\": \"#E5ECF6\", \"polar\": {\"angularaxis\": {\"gridcolor\": \"white\", \"linecolor\": \"white\", \"ticks\": \"\"}, \"bgcolor\": \"#E5ECF6\", \"radialaxis\": {\"gridcolor\": \"white\", \"linecolor\": \"white\", \"ticks\": \"\"}}, \"scene\": {\"xaxis\": {\"backgroundcolor\": \"#E5ECF6\", \"gridcolor\": \"white\", \"gridwidth\": 2, \"linecolor\": \"white\", \"showbackground\": true, \"ticks\": \"\", \"zerolinecolor\": \"white\"}, \"yaxis\": {\"backgroundcolor\": \"#E5ECF6\", \"gridcolor\": \"white\", \"gridwidth\": 2, \"linecolor\": \"white\", \"showbackground\": true, \"ticks\": \"\", \"zerolinecolor\": \"white\"}, \"zaxis\": {\"backgroundcolor\": \"#E5ECF6\", \"gridcolor\": \"white\", \"gridwidth\": 2, \"linecolor\": \"white\", \"showbackground\": true, \"ticks\": \"\", \"zerolinecolor\": \"white\"}}, \"shapedefaults\": {\"line\": {\"color\": \"#2a3f5f\"}}, \"ternary\": {\"aaxis\": {\"gridcolor\": \"white\", \"linecolor\": \"white\", \"ticks\": \"\"}, \"baxis\": {\"gridcolor\": \"white\", \"linecolor\": \"white\", \"ticks\": \"\"}, \"bgcolor\": \"#E5ECF6\", \"caxis\": {\"gridcolor\": \"white\", \"linecolor\": \"white\", \"ticks\": \"\"}}, \"title\": {\"x\": 0.05}, \"xaxis\": {\"automargin\": true, \"gridcolor\": \"white\", \"linecolor\": \"white\", \"ticks\": \"\", \"title\": {\"standoff\": 15}, \"zerolinecolor\": \"white\", \"zerolinewidth\": 2}, \"yaxis\": {\"automargin\": true, \"gridcolor\": \"white\", \"linecolor\": \"white\", \"ticks\": \"\", \"title\": {\"standoff\": 15}, \"zerolinecolor\": \"white\", \"zerolinewidth\": 2}}}, \"xaxis\": {\"anchor\": \"y\", \"domain\": [0.0, 1.0], \"title\": {\"text\": \"x\"}}, \"yaxis\": {\"anchor\": \"x\", \"domain\": [0.0, 1.0], \"title\": {\"text\": \"y\"}}},\n",
       "                        {\"responsive\": true}\n",
       "                    ).then(function(){\n",
       "                            \n",
       "var gd = document.getElementById('973621a7-5946-44c9-bc66-68524821e520');\n",
       "var x = new MutationObserver(function (mutations, observer) {{\n",
       "        var display = window.getComputedStyle(gd).display;\n",
       "        if (!display || display === 'none') {{\n",
       "            console.log([gd, 'removed!']);\n",
       "            Plotly.purge(gd);\n",
       "            observer.disconnect();\n",
       "        }}\n",
       "}});\n",
       "\n",
       "// Listen for the removal of the full notebook cells\n",
       "var notebookContainer = gd.closest('#notebook-container');\n",
       "if (notebookContainer) {{\n",
       "    x.observe(notebookContainer, {childList: true});\n",
       "}}\n",
       "\n",
       "// Listen for the clearing of the current output cell\n",
       "var outputEl = gd.closest('.output');\n",
       "if (outputEl) {{\n",
       "    x.observe(outputEl, {childList: true});\n",
       "}}\n",
       "\n",
       "                        })\n",
       "                };\n",
       "                });\n",
       "            </script>\n",
       "        </div>"
      ]
     },
     "metadata": {},
     "output_type": "display_data"
    }
   ],
   "source": [
    "with open('./data/preprocessed/influencer_kind_label_encoder.pickle', 'rb') as f:\n",
    "    le = pickle.load(f)\n",
    "    \n",
    "ik_em = model.get_layer('Influencer-Kind-Embedding')\n",
    "ik_em_weights = ik_em.get_weights()[0]\n",
    "\n",
    "tsne = TSNE(n_components=2, verbose=1, perplexity=40, n_iter=300)\n",
    "tnse_results = tsne.fit_transform(ik_em_weights)\n",
    "\n",
    "fig = px.scatter(x=tnse_results[:,0], y=tnse_results[:,1], text=list(le.classes_))\n",
    "fig.show()"
   ]
  },
  {
   "cell_type": "code",
   "execution_count": 89,
   "metadata": {},
   "outputs": [
    {
     "name": "stdout",
     "output_type": "stream",
     "text": [
      "Train on 60267 samples, validate on 6697 samples\n",
      "Epoch 1/100\n",
      "60267/60267 [==============================] - 3s 48us/step - loss: 0.1284 - val_loss: 0.1047\n",
      "Epoch 2/100\n",
      "60267/60267 [==============================] - 2s 35us/step - loss: 0.1056 - val_loss: 0.0990\n",
      "Epoch 3/100\n",
      "60267/60267 [==============================] - 2s 35us/step - loss: 0.1027 - val_loss: 0.0980\n",
      "Epoch 4/100\n",
      "60267/60267 [==============================] - 2s 34us/step - loss: 0.1007 - val_loss: 0.0968\n",
      "Epoch 5/100\n",
      "60267/60267 [==============================] - 2s 34us/step - loss: 0.0999 - val_loss: 0.0955\n",
      "Epoch 6/100\n",
      "60267/60267 [==============================] - 2s 35us/step - loss: 0.0992 - val_loss: 0.0961\n",
      "Epoch 7/100\n",
      "60267/60267 [==============================] - 2s 35us/step - loss: 0.0984 - val_loss: 0.0954\n",
      "Epoch 8/100\n",
      "60267/60267 [==============================] - 2s 35us/step - loss: 0.0979 - val_loss: 0.0951\n",
      "Epoch 9/100\n",
      "60267/60267 [==============================] - 2s 35us/step - loss: 0.0976 - val_loss: 0.0956\n",
      "Epoch 10/100\n",
      "60267/60267 [==============================] - 2s 36us/step - loss: 0.0973 - val_loss: 0.0954\n",
      "Epoch 11/100\n",
      "60267/60267 [==============================] - 2s 38us/step - loss: 0.0964 - val_loss: 0.0948\n",
      "Epoch 12/100\n",
      "60267/60267 [==============================] - 2s 38us/step - loss: 0.0963 - val_loss: 0.0943\n",
      "Epoch 13/100\n",
      "60267/60267 [==============================] - 2s 36us/step - loss: 0.0963 - val_loss: 0.0954\n",
      "Epoch 14/100\n",
      "60267/60267 [==============================] - 2s 34us/step - loss: 0.0964 - val_loss: 0.0961\n",
      "Epoch 15/100\n",
      "60267/60267 [==============================] - 2s 34us/step - loss: 0.0959 - val_loss: 0.0938\n",
      "Epoch 16/100\n",
      "60267/60267 [==============================] - 2s 34us/step - loss: 0.0956 - val_loss: 0.0936\n",
      "Epoch 17/100\n",
      "60267/60267 [==============================] - 2s 34us/step - loss: 0.0954 - val_loss: 0.0939\n",
      "Epoch 18/100\n",
      "60267/60267 [==============================] - 2s 38us/step - loss: 0.0954 - val_loss: 0.0956\n",
      "Epoch 19/100\n",
      "60267/60267 [==============================] - 2s 38us/step - loss: 0.0953 - val_loss: 0.0946\n",
      "Epoch 20/100\n",
      "60267/60267 [==============================] - 2s 37us/step - loss: 0.0953 - val_loss: 0.0940\n",
      "Epoch 21/100\n",
      "60267/60267 [==============================] - 2s 37us/step - loss: 0.0953 - val_loss: 0.0942\n",
      "Restoring model weights from the end of the best epoch\n",
      "Epoch 00021: early stopping\n",
      "Train on 60268 samples, validate on 6697 samples\n",
      "Epoch 1/100\n",
      "60268/60268 [==============================] - 3s 52us/step - loss: 0.1279 - val_loss: 0.1085\n",
      "Epoch 2/100\n",
      "60268/60268 [==============================] - 2s 37us/step - loss: 0.1083 - val_loss: 0.1002\n",
      "Epoch 3/100\n",
      "60268/60268 [==============================] - 2s 35us/step - loss: 0.1047 - val_loss: 0.0982\n",
      "Epoch 4/100\n",
      "60268/60268 [==============================] - 2s 35us/step - loss: 0.1033 - val_loss: 0.1003\n",
      "Epoch 5/100\n",
      "60268/60268 [==============================] - 2s 35us/step - loss: 0.1023 - val_loss: 0.0978\n",
      "Epoch 6/100\n",
      "60268/60268 [==============================] - 2s 35us/step - loss: 0.1015 - val_loss: 0.0975\n",
      "Epoch 7/100\n",
      "60268/60268 [==============================] - 2s 35us/step - loss: 0.1004 - val_loss: 0.0968\n",
      "Epoch 8/100\n",
      "60268/60268 [==============================] - 2s 36us/step - loss: 0.1000 - val_loss: 0.0968\n",
      "Epoch 9/100\n",
      "60268/60268 [==============================] - 2s 35us/step - loss: 0.0995 - val_loss: 0.0964\n",
      "Epoch 10/100\n",
      "60268/60268 [==============================] - 2s 35us/step - loss: 0.0990 - val_loss: 0.0961\n",
      "Epoch 11/100\n",
      "60268/60268 [==============================] - 2s 35us/step - loss: 0.0989 - val_loss: 0.0961\n",
      "Epoch 12/100\n",
      "60268/60268 [==============================] - 2s 39us/step - loss: 0.0982 - val_loss: 0.0960\n",
      "Epoch 13/100\n",
      "60268/60268 [==============================] - 2s 38us/step - loss: 0.0981 - val_loss: 0.0958\n",
      "Epoch 14/100\n",
      "60268/60268 [==============================] - 2s 39us/step - loss: 0.0977 - val_loss: 0.0957\n",
      "Epoch 15/100\n",
      "60268/60268 [==============================] - 2s 37us/step - loss: 0.0973 - val_loss: 0.0964\n",
      "Epoch 16/100\n",
      "60268/60268 [==============================] - 2s 36us/step - loss: 0.0972 - val_loss: 0.0959\n",
      "Epoch 17/100\n",
      "60268/60268 [==============================] - 2s 34us/step - loss: 0.0973 - val_loss: 0.0956\n",
      "Epoch 18/100\n",
      "60268/60268 [==============================] - 2s 34us/step - loss: 0.0965 - val_loss: 0.0957\n",
      "Epoch 19/100\n",
      "60268/60268 [==============================] - 3s 42us/step - loss: 0.0964 - val_loss: 0.0949\n",
      "Epoch 20/100\n",
      "60268/60268 [==============================] - 3s 43us/step - loss: 0.0963 - val_loss: 0.0961\n",
      "Epoch 21/100\n",
      "60268/60268 [==============================] - 3s 47us/step - loss: 0.0959 - val_loss: 0.0964\n",
      "Epoch 22/100\n",
      "60268/60268 [==============================] - 2s 38us/step - loss: 0.0959 - val_loss: 0.0960\n",
      "Epoch 23/100\n",
      "60268/60268 [==============================] - 2s 36us/step - loss: 0.0958 - val_loss: 0.0961\n",
      "Epoch 24/100\n",
      "60268/60268 [==============================] - 2s 33us/step - loss: 0.0956 - val_loss: 0.0947\n",
      "Epoch 25/100\n",
      "60268/60268 [==============================] - 2s 34us/step - loss: 0.0957 - val_loss: 0.0957\n",
      "Epoch 26/100\n",
      "60268/60268 [==============================] - 2s 33us/step - loss: 0.0955 - val_loss: 0.0954\n",
      "Epoch 27/100\n",
      "60268/60268 [==============================] - 2s 34us/step - loss: 0.0949 - val_loss: 0.0953\n",
      "Epoch 28/100\n",
      "60268/60268 [==============================] - 2s 35us/step - loss: 0.0952 - val_loss: 0.0955\n",
      "Epoch 29/100\n",
      "60268/60268 [==============================] - 2s 35us/step - loss: 0.0947 - val_loss: 0.0955\n",
      "Restoring model weights from the end of the best epoch\n",
      "Epoch 00029: early stopping\n",
      "Train on 60268 samples, validate on 6697 samples\n",
      "Epoch 1/100\n",
      "60268/60268 [==============================] - 3s 51us/step - loss: 0.1334 - val_loss: 0.1053\n",
      "Epoch 2/100\n",
      "60268/60268 [==============================] - 2s 36us/step - loss: 0.1087 - val_loss: 0.1029\n",
      "Epoch 3/100\n",
      "60268/60268 [==============================] - 2s 35us/step - loss: 0.1042 - val_loss: 0.0974\n",
      "Epoch 4/100\n",
      "60268/60268 [==============================] - 2s 34us/step - loss: 0.1025 - val_loss: 0.0964\n",
      "Epoch 5/100\n",
      "60268/60268 [==============================] - 2s 35us/step - loss: 0.1013 - val_loss: 0.0952\n",
      "Epoch 6/100\n",
      "60268/60268 [==============================] - 2s 35us/step - loss: 0.1011 - val_loss: 0.0968\n",
      "Epoch 7/100\n",
      "60268/60268 [==============================] - 2s 35us/step - loss: 0.1002 - val_loss: 0.0952\n",
      "Epoch 8/100\n",
      "60268/60268 [==============================] - 2s 35us/step - loss: 0.0997 - val_loss: 0.0972\n",
      "Epoch 9/100\n",
      "60268/60268 [==============================] - 2s 35us/step - loss: 0.0990 - val_loss: 0.0978\n",
      "Epoch 10/100\n",
      "60268/60268 [==============================] - 2s 35us/step - loss: 0.0987 - val_loss: 0.0971\n",
      "Epoch 11/100\n",
      "60268/60268 [==============================] - 2s 35us/step - loss: 0.0985 - val_loss: 0.0951\n",
      "Epoch 12/100\n",
      "60268/60268 [==============================] - 2s 35us/step - loss: 0.0982 - val_loss: 0.0944\n",
      "Epoch 13/100\n",
      "60268/60268 [==============================] - 2s 35us/step - loss: 0.0975 - val_loss: 0.0937\n",
      "Epoch 14/100\n",
      "60268/60268 [==============================] - 2s 35us/step - loss: 0.0977 - val_loss: 0.0950\n",
      "Epoch 15/100\n",
      "60268/60268 [==============================] - 2s 35us/step - loss: 0.0975 - val_loss: 0.0941\n",
      "Epoch 16/100\n",
      "60268/60268 [==============================] - 2s 35us/step - loss: 0.0967 - val_loss: 0.0932\n",
      "Epoch 17/100\n",
      "60268/60268 [==============================] - 2s 34us/step - loss: 0.0966 - val_loss: 0.0938\n",
      "Epoch 18/100\n",
      "60268/60268 [==============================] - 2s 34us/step - loss: 0.0963 - val_loss: 0.0939\n",
      "Epoch 19/100\n",
      "60268/60268 [==============================] - 2s 34us/step - loss: 0.0962 - val_loss: 0.0959\n",
      "Epoch 20/100\n",
      "60268/60268 [==============================] - 2s 34us/step - loss: 0.0959 - val_loss: 0.0931\n",
      "Epoch 21/100\n",
      "60268/60268 [==============================] - 2s 34us/step - loss: 0.0963 - val_loss: 0.0948\n",
      "Epoch 22/100\n",
      "60268/60268 [==============================] - 2s 34us/step - loss: 0.0956 - val_loss: 0.0935\n",
      "Epoch 23/100\n",
      "60268/60268 [==============================] - 2s 34us/step - loss: 0.0954 - val_loss: 0.0945\n",
      "Epoch 24/100\n",
      "60268/60268 [==============================] - 2s 34us/step - loss: 0.0955 - val_loss: 0.0934\n"
     ]
    },
    {
     "name": "stdout",
     "output_type": "stream",
     "text": [
      "Epoch 25/100\n",
      "60268/60268 [==============================] - 2s 34us/step - loss: 0.0955 - val_loss: 0.0952\n",
      "Restoring model weights from the end of the best epoch\n",
      "Epoch 00025: early stopping\n",
      "Train on 60268 samples, validate on 6697 samples\n",
      "Epoch 1/100\n",
      "60268/60268 [==============================] - 3s 49us/step - loss: 0.1271 - val_loss: 0.1054\n",
      "Epoch 2/100\n",
      "60268/60268 [==============================] - 2s 34us/step - loss: 0.1091 - val_loss: 0.0988\n",
      "Epoch 3/100\n",
      "60268/60268 [==============================] - 2s 34us/step - loss: 0.1048 - val_loss: 0.0967\n",
      "Epoch 4/100\n",
      "60268/60268 [==============================] - 2s 34us/step - loss: 0.1029 - val_loss: 0.0957\n",
      "Epoch 5/100\n",
      "60268/60268 [==============================] - 2s 34us/step - loss: 0.1020 - val_loss: 0.0951\n",
      "Epoch 6/100\n",
      "60268/60268 [==============================] - 2s 34us/step - loss: 0.1007 - val_loss: 0.0966\n",
      "Epoch 7/100\n",
      "60268/60268 [==============================] - 2s 35us/step - loss: 0.1003 - val_loss: 0.0936\n",
      "Epoch 8/100\n",
      "60268/60268 [==============================] - 2s 38us/step - loss: 0.0992 - val_loss: 0.0945\n",
      "Epoch 9/100\n",
      "60268/60268 [==============================] - 2s 35us/step - loss: 0.0989 - val_loss: 0.0931\n",
      "Epoch 10/100\n",
      "60268/60268 [==============================] - 2s 38us/step - loss: 0.0985 - val_loss: 0.0937\n",
      "Epoch 11/100\n",
      "60268/60268 [==============================] - 2s 39us/step - loss: 0.0978 - val_loss: 0.0946\n",
      "Epoch 12/100\n",
      "60268/60268 [==============================] - 2s 41us/step - loss: 0.0975 - val_loss: 0.0939\n",
      "Epoch 13/100\n",
      "60268/60268 [==============================] - 2s 40us/step - loss: 0.0974 - val_loss: 0.0934\n",
      "Epoch 14/100\n",
      "60268/60268 [==============================] - 2s 38us/step - loss: 0.0967 - val_loss: 0.0931\n",
      "Epoch 15/100\n",
      "60268/60268 [==============================] - 2s 38us/step - loss: 0.0967 - val_loss: 0.0931\n",
      "Epoch 16/100\n",
      "60268/60268 [==============================] - 2s 38us/step - loss: 0.0970 - val_loss: 0.0926\n",
      "Epoch 17/100\n",
      "60268/60268 [==============================] - 2s 39us/step - loss: 0.0962 - val_loss: 0.0925\n",
      "Epoch 18/100\n",
      "60268/60268 [==============================] - 2s 40us/step - loss: 0.0962 - val_loss: 0.0925\n",
      "Epoch 19/100\n",
      "60268/60268 [==============================] - 2s 40us/step - loss: 0.0961 - val_loss: 0.0927\n",
      "Epoch 20/100\n",
      "60268/60268 [==============================] - 2s 41us/step - loss: 0.0959 - val_loss: 0.0932\n",
      "Epoch 21/100\n",
      "60268/60268 [==============================] - 2s 40us/step - loss: 0.0956 - val_loss: 0.0932\n",
      "Epoch 22/100\n",
      "60268/60268 [==============================] - 2s 38us/step - loss: 0.0956 - val_loss: 0.0928\n",
      "Restoring model weights from the end of the best epoch\n",
      "Epoch 00022: early stopping\n",
      "Train on 60268 samples, validate on 6697 samples\n",
      "Epoch 1/100\n",
      "60268/60268 [==============================] - 3s 55us/step - loss: 0.1274 - val_loss: 0.1038\n",
      "Epoch 2/100\n",
      "60268/60268 [==============================] - 2s 37us/step - loss: 0.1070 - val_loss: 0.1003\n",
      "Epoch 3/100\n",
      "60268/60268 [==============================] - 2s 38us/step - loss: 0.1027 - val_loss: 0.0988\n",
      "Epoch 4/100\n",
      "60268/60268 [==============================] - 2s 37us/step - loss: 0.1008 - val_loss: 0.0970\n",
      "Epoch 5/100\n",
      "60268/60268 [==============================] - 2s 37us/step - loss: 0.0997 - val_loss: 0.0958\n",
      "Epoch 6/100\n",
      "60268/60268 [==============================] - 2s 37us/step - loss: 0.0987 - val_loss: 0.0958\n",
      "Epoch 7/100\n",
      "60268/60268 [==============================] - 2s 38us/step - loss: 0.0982 - val_loss: 0.0945\n",
      "Epoch 8/100\n",
      "60268/60268 [==============================] - 2s 38us/step - loss: 0.0976 - val_loss: 0.0942\n",
      "Epoch 9/100\n",
      "60268/60268 [==============================] - 2s 39us/step - loss: 0.0971 - val_loss: 0.0941\n",
      "Epoch 10/100\n",
      "60268/60268 [==============================] - 2s 40us/step - loss: 0.0968 - val_loss: 0.0942\n",
      "Epoch 11/100\n",
      "60268/60268 [==============================] - 2s 35us/step - loss: 0.0964 - val_loss: 0.0939\n",
      "Epoch 12/100\n",
      "60268/60268 [==============================] - 2s 38us/step - loss: 0.0965 - val_loss: 0.0958\n",
      "Epoch 13/100\n",
      "60268/60268 [==============================] - 2s 36us/step - loss: 0.0962 - val_loss: 0.0949\n",
      "Epoch 14/100\n",
      "60268/60268 [==============================] - 2s 36us/step - loss: 0.0956 - val_loss: 0.0938\n",
      "Epoch 15/100\n",
      "60268/60268 [==============================] - 2s 38us/step - loss: 0.0955 - val_loss: 0.0948\n",
      "Epoch 16/100\n",
      "60268/60268 [==============================] - 2s 39us/step - loss: 0.0953 - val_loss: 0.0940\n",
      "Epoch 17/100\n",
      "60268/60268 [==============================] - 2s 36us/step - loss: 0.0953 - val_loss: 0.0936\n",
      "Epoch 18/100\n",
      "60268/60268 [==============================] - 2s 37us/step - loss: 0.0950 - val_loss: 0.0936\n",
      "Epoch 19/100\n",
      "60268/60268 [==============================] - 2s 40us/step - loss: 0.0947 - val_loss: 0.0940\n",
      "Epoch 20/100\n",
      "60268/60268 [==============================] - 2s 36us/step - loss: 0.0948 - val_loss: 0.0937\n",
      "Epoch 21/100\n",
      "60268/60268 [==============================] - 2s 36us/step - loss: 0.0945 - val_loss: 0.0960\n",
      "Epoch 22/100\n",
      "60268/60268 [==============================] - 2s 37us/step - loss: 0.0942 - val_loss: 0.0930\n",
      "Epoch 23/100\n",
      "60268/60268 [==============================] - 2s 36us/step - loss: 0.0943 - val_loss: 0.0939\n",
      "Epoch 24/100\n",
      "60268/60268 [==============================] - 2s 35us/step - loss: 0.0946 - val_loss: 0.0939\n",
      "Epoch 25/100\n",
      "60268/60268 [==============================] - 2s 35us/step - loss: 0.0943 - val_loss: 0.0953\n",
      "Epoch 26/100\n",
      "60268/60268 [==============================] - 2s 35us/step - loss: 0.0942 - val_loss: 0.0941\n",
      "Epoch 27/100\n",
      "60268/60268 [==============================] - 2s 35us/step - loss: 0.0940 - val_loss: 0.0937\n",
      "Restoring model weights from the end of the best epoch\n",
      "Epoch 00027: early stopping\n"
     ]
    }
   ],
   "source": [
    "EPOCHS = 100\n",
    "PATIENCE = 5\n",
    "BATCH_SIZE = 32\n",
    "\n",
    "nn_score = 0.0\n",
    "\n",
    "for train_index, test_index in skf.split(X, (y * 100).astype(int)):\n",
    "    \n",
    "    X_train, X_test = X.values[train_index], X.values[test_index]\n",
    "    y_train, y_test = y.values[train_index], y.values[test_index]\n",
    "    \n",
    "    sss = StratifiedShuffleSplit(n_splits=1, test_size=0.1, random_state=RANDOM_SEED)\n",
    "    tridx, vidx = next(sss.split(X_train, (y_train * 100).astype(int)))\n",
    "    X_train, X_valid = X_train[tridx], X_train[vidx]\n",
    "    y_train, y_valid = y_train[tridx], y_train[vidx]\n",
    "    \n",
    "    # Build model\n",
    "    model, band_embedding_model, influencer_embedding_model = build_NN_model()\n",
    "    \n",
    "    # Early stopping callback\n",
    "    es = EarlyStopping(\n",
    "        monitor='val_loss', \n",
    "        mode='min', \n",
    "        patience=PATIENCE,\n",
    "        restore_best_weights=True,\n",
    "        verbose=1\n",
    "    )\n",
    "    \n",
    "    # Fit\n",
    "    model.fit([X_train[:, i_data_idx], X_train[:, b_data_idx], X_train[:, i_kind_idx]], y_train,\n",
    "              validation_data=([X_valid[:, i_data_idx], X_valid[:, b_data_idx], X_valid[:, i_kind_idx]], y_valid), \n",
    "              batch_size=BATCH_SIZE,\n",
    "              epochs=EPOCHS,\n",
    "              callbacks=[es],\n",
    "              verbose=1)\n",
    "    \n",
    "    nn_score += np.sqrt(mean_squared_error(\n",
    "        model.predict([X_test[:, i_data_idx], X_test[:, b_data_idx], X_test[:, i_kind_idx]]), y_test\n",
    "    ))\n",
    "\n",
    "nn_score /= N_FOLDS"
   ]
  },
  {
   "cell_type": "code",
   "execution_count": 90,
   "metadata": {},
   "outputs": [
    {
     "name": "stdout",
     "output_type": "stream",
     "text": [
      "NN score: 0.30981423403005004\n"
     ]
    }
   ],
   "source": [
    "print(f'NN score: {nn_score}')"
   ]
  },
  {
   "cell_type": "code",
   "execution_count": 96,
   "metadata": {},
   "outputs": [
    {
     "name": "stdout",
     "output_type": "stream",
     "text": [
      "Train on 60267 samples, validate on 6697 samples\n",
      "Epoch 1/100\n",
      "60267/60267 [==============================] - 4s 73us/step - loss: 0.1233 - val_loss: 0.1039\n",
      "Epoch 2/100\n",
      "60267/60267 [==============================] - 3s 46us/step - loss: 0.1051 - val_loss: 0.0987\n",
      "Epoch 3/100\n",
      "60267/60267 [==============================] - 3s 51us/step - loss: 0.1018 - val_loss: 0.0991\n",
      "Epoch 4/100\n",
      "60267/60267 [==============================] - 3s 46us/step - loss: 0.1002 - val_loss: 0.0963\n",
      "Epoch 5/100\n",
      "60267/60267 [==============================] - 3s 45us/step - loss: 0.0991 - val_loss: 0.0973\n",
      "Epoch 6/100\n",
      "60267/60267 [==============================] - 3s 46us/step - loss: 0.0983 - val_loss: 0.0963\n",
      "Epoch 7/100\n",
      "60267/60267 [==============================] - 3s 43us/step - loss: 0.0977 - val_loss: 0.0963\n",
      "Epoch 8/100\n",
      "60267/60267 [==============================] - 3s 44us/step - loss: 0.0973 - val_loss: 0.0970\n",
      "Epoch 9/100\n",
      "60267/60267 [==============================] - 3s 45us/step - loss: 0.0969 - val_loss: 0.0954\n",
      "Epoch 10/100\n",
      "60267/60267 [==============================] - 3s 44us/step - loss: 0.0959 - val_loss: 0.0953\n",
      "Epoch 11/100\n",
      "60267/60267 [==============================] - 3s 43us/step - loss: 0.0960 - val_loss: 0.0954\n",
      "Epoch 12/100\n",
      "60267/60267 [==============================] - 3s 43us/step - loss: 0.0957 - val_loss: 0.0943\n",
      "Epoch 13/100\n",
      "60267/60267 [==============================] - 3s 45us/step - loss: 0.0950 - val_loss: 0.0947\n",
      "Epoch 14/100\n",
      "60267/60267 [==============================] - 3s 48us/step - loss: 0.0949 - val_loss: 0.0953\n",
      "Epoch 15/100\n",
      "60267/60267 [==============================] - 3s 46us/step - loss: 0.0948 - val_loss: 0.0951\n",
      "Epoch 16/100\n",
      "60267/60267 [==============================] - 3s 48us/step - loss: 0.0943 - val_loss: 0.0948\n",
      "Epoch 17/100\n",
      "60267/60267 [==============================] - 3s 46us/step - loss: 0.0941 - val_loss: 0.0948\n",
      "Epoch 18/100\n",
      "60267/60267 [==============================] - 3s 49us/step - loss: 0.0939 - val_loss: 0.0942\n",
      "Epoch 19/100\n",
      "60267/60267 [==============================] - 3s 48us/step - loss: 0.0937 - val_loss: 0.0933\n",
      "Epoch 20/100\n",
      "60267/60267 [==============================] - 3s 48us/step - loss: 0.0935 - val_loss: 0.0947\n",
      "Epoch 21/100\n",
      "60267/60267 [==============================] - 3s 51us/step - loss: 0.0935 - val_loss: 0.0948\n",
      "Epoch 22/100\n",
      "60267/60267 [==============================] - 3s 50us/step - loss: 0.0934 - val_loss: 0.0950\n",
      "Epoch 23/100\n",
      "60267/60267 [==============================] - 3s 47us/step - loss: 0.0930 - val_loss: 0.0945\n",
      "Epoch 24/100\n",
      "60267/60267 [==============================] - 3s 47us/step - loss: 0.0932 - val_loss: 0.0942\n",
      "Epoch 25/100\n",
      "60267/60267 [==============================] - 3s 51us/step - loss: 0.0930 - val_loss: 0.0946\n",
      "Epoch 26/100\n",
      "60267/60267 [==============================] - 3s 54us/step - loss: 0.0927 - val_loss: 0.0950\n",
      "Epoch 27/100\n",
      "60267/60267 [==============================] - 3s 49us/step - loss: 0.0929 - val_loss: 0.0949\n",
      "Epoch 28/100\n",
      "60267/60267 [==============================] - 3s 47us/step - loss: 0.0929 - val_loss: 0.0941\n",
      "Epoch 29/100\n",
      "60267/60267 [==============================] - 3s 45us/step - loss: 0.0926 - val_loss: 0.0934\n",
      "Restoring model weights from the end of the best epoch\n",
      "Epoch 00029: early stopping\n",
      "Train on 60268 samples, validate on 6697 samples\n",
      "Epoch 1/100\n",
      "60268/60268 [==============================] - 5s 78us/step - loss: 0.1196 - val_loss: 0.1033\n",
      "Epoch 2/100\n",
      "60268/60268 [==============================] - 3s 51us/step - loss: 0.1052 - val_loss: 0.1018\n",
      "Epoch 3/100\n",
      "60268/60268 [==============================] - 3s 47us/step - loss: 0.1018 - val_loss: 0.1001\n",
      "Epoch 4/100\n",
      "60268/60268 [==============================] - 3s 53us/step - loss: 0.1002 - val_loss: 0.0985\n",
      "Epoch 5/100\n",
      "60268/60268 [==============================] - 3s 49us/step - loss: 0.0987 - val_loss: 0.0974\n",
      "Epoch 6/100\n",
      "60268/60268 [==============================] - 3s 48us/step - loss: 0.0980 - val_loss: 0.0975\n",
      "Epoch 7/100\n",
      "60268/60268 [==============================] - 3s 50us/step - loss: 0.0975 - val_loss: 0.0979\n",
      "Epoch 8/100\n",
      "60268/60268 [==============================] - 3s 47us/step - loss: 0.0972 - val_loss: 0.0972\n",
      "Epoch 9/100\n",
      "60268/60268 [==============================] - 3s 45us/step - loss: 0.0962 - val_loss: 0.0968\n",
      "Epoch 10/100\n",
      "60268/60268 [==============================] - 3s 51us/step - loss: 0.0960 - val_loss: 0.0972\n",
      "Epoch 11/100\n",
      "60268/60268 [==============================] - 3s 48us/step - loss: 0.0957 - val_loss: 0.0973\n",
      "Epoch 12/100\n",
      "60268/60268 [==============================] - 3s 49us/step - loss: 0.0954 - val_loss: 0.0964\n",
      "Epoch 13/100\n",
      "60268/60268 [==============================] - 3s 46us/step - loss: 0.0947 - val_loss: 0.0966\n",
      "Epoch 14/100\n",
      "60268/60268 [==============================] - 3s 45us/step - loss: 0.0946 - val_loss: 0.0965\n",
      "Epoch 15/100\n",
      "60268/60268 [==============================] - 3s 46us/step - loss: 0.0944 - val_loss: 0.0958\n",
      "Epoch 16/100\n",
      "60268/60268 [==============================] - 3s 46us/step - loss: 0.0940 - val_loss: 0.0969\n",
      "Epoch 17/100\n",
      "60268/60268 [==============================] - 3s 45us/step - loss: 0.0941 - val_loss: 0.0965\n",
      "Epoch 18/100\n",
      "60268/60268 [==============================] - 3s 47us/step - loss: 0.0936 - val_loss: 0.0978\n",
      "Epoch 19/100\n",
      "60268/60268 [==============================] - 3s 46us/step - loss: 0.0939 - val_loss: 0.0956\n",
      "Epoch 20/100\n",
      "60268/60268 [==============================] - 3s 44us/step - loss: 0.0938 - val_loss: 0.0956\n",
      "Epoch 21/100\n",
      "60268/60268 [==============================] - 3s 44us/step - loss: 0.0933 - val_loss: 0.0953\n",
      "Epoch 22/100\n",
      "60268/60268 [==============================] - 3s 45us/step - loss: 0.0932 - val_loss: 0.0955\n",
      "Epoch 23/100\n",
      "60268/60268 [==============================] - 3s 44us/step - loss: 0.0932 - val_loss: 0.0954\n",
      "Epoch 24/100\n",
      "60268/60268 [==============================] - 3s 45us/step - loss: 0.0930 - val_loss: 0.0950\n",
      "Epoch 25/100\n",
      "60268/60268 [==============================] - 3s 46us/step - loss: 0.0930 - val_loss: 0.0954\n",
      "Epoch 26/100\n",
      "60268/60268 [==============================] - 3s 43us/step - loss: 0.0927 - val_loss: 0.0961\n",
      "Epoch 27/100\n",
      "60268/60268 [==============================] - 3s 48us/step - loss: 0.0927 - val_loss: 0.0966\n",
      "Epoch 28/100\n",
      "60268/60268 [==============================] - 3s 46us/step - loss: 0.0925 - val_loss: 0.0957\n",
      "Epoch 29/100\n",
      "60268/60268 [==============================] - 3s 50us/step - loss: 0.0927 - val_loss: 0.0971\n",
      "Epoch 30/100\n",
      "60268/60268 [==============================] - 3s 51us/step - loss: 0.0924 - val_loss: 0.0955\n",
      "Epoch 31/100\n",
      "60268/60268 [==============================] - 3s 47us/step - loss: 0.0921 - val_loss: 0.0964\n",
      "Epoch 32/100\n",
      "60268/60268 [==============================] - 3s 47us/step - loss: 0.0923 - val_loss: 0.0964\n",
      "Epoch 33/100\n",
      "60268/60268 [==============================] - 3s 45us/step - loss: 0.0923 - val_loss: 0.0970\n",
      "Epoch 34/100\n",
      "60268/60268 [==============================] - 3s 47us/step - loss: 0.0920 - val_loss: 0.0953\n",
      "Restoring model weights from the end of the best epoch\n",
      "Epoch 00034: early stopping\n",
      "Train on 60268 samples, validate on 6697 samples\n",
      "Epoch 1/100\n",
      "60268/60268 [==============================] - 4s 72us/step - loss: 0.1211 - val_loss: 0.1037\n",
      "Epoch 2/100\n",
      "60268/60268 [==============================] - 3s 44us/step - loss: 0.1052 - val_loss: 0.1011\n",
      "Epoch 3/100\n",
      "60268/60268 [==============================] - 3s 44us/step - loss: 0.1017 - val_loss: 0.0969\n",
      "Epoch 4/100\n",
      "60268/60268 [==============================] - 3s 45us/step - loss: 0.1002 - val_loss: 0.0977\n",
      "Epoch 5/100\n",
      "60268/60268 [==============================] - 3s 49us/step - loss: 0.0988 - val_loss: 0.0957\n",
      "Epoch 6/100\n",
      "60268/60268 [==============================] - 3s 45us/step - loss: 0.0983 - val_loss: 0.0956\n",
      "Epoch 7/100\n",
      "60268/60268 [==============================] - 3s 47us/step - loss: 0.0978 - val_loss: 0.0951\n",
      "Epoch 8/100\n",
      "60268/60268 [==============================] - 3s 48us/step - loss: 0.0970 - val_loss: 0.0952\n",
      "Epoch 9/100\n",
      "60268/60268 [==============================] - 3s 50us/step - loss: 0.0965 - val_loss: 0.0948\n",
      "Epoch 10/100\n",
      "60268/60268 [==============================] - 3s 47us/step - loss: 0.0964 - val_loss: 0.0946\n",
      "Epoch 11/100\n",
      "60268/60268 [==============================] - 3s 42us/step - loss: 0.0959 - val_loss: 0.0949\n"
     ]
    },
    {
     "name": "stdout",
     "output_type": "stream",
     "text": [
      "Epoch 12/100\n",
      "60268/60268 [==============================] - 2s 40us/step - loss: 0.0960 - val_loss: 0.0944\n",
      "Epoch 13/100\n",
      "60268/60268 [==============================] - 2s 40us/step - loss: 0.0956 - val_loss: 0.0959\n",
      "Epoch 14/100\n",
      "60268/60268 [==============================] - 3s 42us/step - loss: 0.0953 - val_loss: 0.0946\n",
      "Epoch 15/100\n",
      "60268/60268 [==============================] - 2s 41us/step - loss: 0.0949 - val_loss: 0.0942\n",
      "Epoch 16/100\n",
      "60268/60268 [==============================] - 2s 40us/step - loss: 0.0948 - val_loss: 0.0945\n",
      "Epoch 17/100\n",
      "60268/60268 [==============================] - 2s 40us/step - loss: 0.0946 - val_loss: 0.0951\n",
      "Epoch 18/100\n",
      "60268/60268 [==============================] - 3s 42us/step - loss: 0.0942 - val_loss: 0.0948\n",
      "Epoch 19/100\n",
      "60268/60268 [==============================] - 2s 41us/step - loss: 0.0939 - val_loss: 0.0945\n",
      "Epoch 20/100\n",
      "60268/60268 [==============================] - 2s 40us/step - loss: 0.0938 - val_loss: 0.0957\n",
      "Epoch 21/100\n",
      "60268/60268 [==============================] - 2s 41us/step - loss: 0.0940 - val_loss: 0.0949\n",
      "Epoch 22/100\n",
      "60268/60268 [==============================] - 2s 41us/step - loss: 0.0937 - val_loss: 0.0950\n",
      "Epoch 23/100\n",
      "60268/60268 [==============================] - 3s 42us/step - loss: 0.0939 - val_loss: 0.0946\n",
      "Epoch 24/100\n",
      "60268/60268 [==============================] - 2s 41us/step - loss: 0.0934 - val_loss: 0.0950\n",
      "Epoch 25/100\n",
      "60268/60268 [==============================] - 2s 41us/step - loss: 0.0931 - val_loss: 0.0946\n",
      "Restoring model weights from the end of the best epoch\n",
      "Epoch 00025: early stopping\n",
      "Train on 60268 samples, validate on 6697 samples\n",
      "Epoch 1/100\n",
      "60268/60268 [==============================] - 4s 66us/step - loss: 0.1203 - val_loss: 0.1023\n",
      "Epoch 2/100\n",
      "60268/60268 [==============================] - 2s 41us/step - loss: 0.1053 - val_loss: 0.0998\n",
      "Epoch 3/100\n",
      "60268/60268 [==============================] - 2s 41us/step - loss: 0.1022 - val_loss: 0.0959\n",
      "Epoch 4/100\n",
      "60268/60268 [==============================] - 2s 41us/step - loss: 0.1004 - val_loss: 0.0952\n",
      "Epoch 5/100\n",
      "60268/60268 [==============================] - 3s 43us/step - loss: 0.0993 - val_loss: 0.0949\n",
      "Epoch 6/100\n",
      "60268/60268 [==============================] - 3s 42us/step - loss: 0.0987 - val_loss: 0.0943\n",
      "Epoch 7/100\n",
      "60268/60268 [==============================] - 2s 41us/step - loss: 0.0980 - val_loss: 0.0949\n",
      "Epoch 8/100\n",
      "60268/60268 [==============================] - 2s 40us/step - loss: 0.0974 - val_loss: 0.0942\n",
      "Epoch 9/100\n",
      "60268/60268 [==============================] - 3s 42us/step - loss: 0.0969 - val_loss: 0.0943\n",
      "Epoch 10/100\n",
      "60268/60268 [==============================] - 2s 41us/step - loss: 0.0962 - val_loss: 0.0933\n",
      "Epoch 11/100\n",
      "60268/60268 [==============================] - 2s 40us/step - loss: 0.0965 - val_loss: 0.0947\n",
      "Epoch 12/100\n",
      "60268/60268 [==============================] - 2s 41us/step - loss: 0.0956 - val_loss: 0.0929\n",
      "Epoch 13/100\n",
      "60268/60268 [==============================] - 3s 43us/step - loss: 0.0953 - val_loss: 0.0931\n",
      "Epoch 14/100\n",
      "60268/60268 [==============================] - 2s 41us/step - loss: 0.0951 - val_loss: 0.0926\n",
      "Epoch 15/100\n",
      "60268/60268 [==============================] - 2s 41us/step - loss: 0.0951 - val_loss: 0.0930\n",
      "Epoch 16/100\n",
      "60268/60268 [==============================] - 3s 42us/step - loss: 0.0947 - val_loss: 0.0940\n",
      "Epoch 17/100\n",
      "60268/60268 [==============================] - 3s 42us/step - loss: 0.0948 - val_loss: 0.0936\n",
      "Epoch 18/100\n",
      "60268/60268 [==============================] - 3s 47us/step - loss: 0.0944 - val_loss: 0.0924\n",
      "Epoch 19/100\n",
      "60268/60268 [==============================] - 3s 42us/step - loss: 0.0942 - val_loss: 0.0928\n",
      "Epoch 20/100\n",
      "60268/60268 [==============================] - 3s 43us/step - loss: 0.0942 - val_loss: 0.0933\n",
      "Epoch 21/100\n",
      "60268/60268 [==============================] - 3s 48us/step - loss: 0.0938 - val_loss: 0.0927\n",
      "Epoch 22/100\n",
      "60268/60268 [==============================] - 3s 46us/step - loss: 0.0936 - val_loss: 0.0920\n",
      "Epoch 23/100\n",
      "60268/60268 [==============================] - 3s 45us/step - loss: 0.0934 - val_loss: 0.0927\n",
      "Epoch 24/100\n",
      "60268/60268 [==============================] - 3s 45us/step - loss: 0.0932 - val_loss: 0.0930\n",
      "Epoch 25/100\n",
      "60268/60268 [==============================] - 3s 44us/step - loss: 0.0933 - val_loss: 0.0926\n",
      "Epoch 26/100\n",
      "60268/60268 [==============================] - 2s 41us/step - loss: 0.0931 - val_loss: 0.0924\n",
      "Epoch 27/100\n",
      "60268/60268 [==============================] - 2s 41us/step - loss: 0.0930 - val_loss: 0.0931\n",
      "Epoch 28/100\n",
      "60268/60268 [==============================] - 2s 41us/step - loss: 0.0930 - val_loss: 0.0924\n",
      "Epoch 29/100\n",
      "60268/60268 [==============================] - 3s 43us/step - loss: 0.0927 - val_loss: 0.0943\n",
      "Epoch 30/100\n",
      "60268/60268 [==============================] - 3s 42us/step - loss: 0.0928 - val_loss: 0.0923\n",
      "Epoch 31/100\n",
      "60268/60268 [==============================] - 2s 41us/step - loss: 0.0925 - val_loss: 0.0927\n",
      "Epoch 32/100\n",
      "60268/60268 [==============================] - 2s 41us/step - loss: 0.0924 - val_loss: 0.0934\n",
      "Restoring model weights from the end of the best epoch\n",
      "Epoch 00032: early stopping\n",
      "Train on 60268 samples, validate on 6697 samples\n",
      "Epoch 1/100\n",
      "60268/60268 [==============================] - 4s 67us/step - loss: 0.1225 - val_loss: 0.1036\n",
      "Epoch 2/100\n",
      "60268/60268 [==============================] - 2s 41us/step - loss: 0.1061 - val_loss: 0.1007\n",
      "Epoch 3/100\n",
      "60268/60268 [==============================] - 3s 42us/step - loss: 0.1026 - val_loss: 0.0988\n",
      "Epoch 4/100\n",
      "60268/60268 [==============================] - 3s 43us/step - loss: 0.1008 - val_loss: 0.0984\n",
      "Epoch 5/100\n",
      "60268/60268 [==============================] - 3s 42us/step - loss: 0.0997 - val_loss: 0.0966\n",
      "Epoch 6/100\n",
      "60268/60268 [==============================] - 2s 41us/step - loss: 0.0992 - val_loss: 0.0960\n",
      "Epoch 7/100\n",
      "60268/60268 [==============================] - 2s 41us/step - loss: 0.0981 - val_loss: 0.0968\n",
      "Epoch 8/100\n",
      "60268/60268 [==============================] - 2s 40us/step - loss: 0.0975 - val_loss: 0.0968\n",
      "Epoch 9/100\n",
      "60268/60268 [==============================] - 3s 42us/step - loss: 0.0970 - val_loss: 0.0968\n",
      "Epoch 10/100\n",
      "60268/60268 [==============================] - 2s 41us/step - loss: 0.0966 - val_loss: 0.0969\n",
      "Epoch 11/100\n",
      "60268/60268 [==============================] - 2s 41us/step - loss: 0.0967 - val_loss: 0.0965\n",
      "Epoch 12/100\n",
      "60268/60268 [==============================] - 2s 41us/step - loss: 0.0963 - val_loss: 0.0949\n",
      "Epoch 13/100\n",
      "60268/60268 [==============================] - 3s 42us/step - loss: 0.0960 - val_loss: 0.0962\n",
      "Epoch 14/100\n",
      "60268/60268 [==============================] - 2s 40us/step - loss: 0.0959 - val_loss: 0.0956\n",
      "Epoch 15/100\n",
      "60268/60268 [==============================] - 3s 45us/step - loss: 0.0953 - val_loss: 0.0946\n",
      "Epoch 16/100\n",
      "60268/60268 [==============================] - 3s 43us/step - loss: 0.0951 - val_loss: 0.0961\n",
      "Epoch 17/100\n",
      "60268/60268 [==============================] - 3s 43us/step - loss: 0.0947 - val_loss: 0.0942\n",
      "Epoch 18/100\n",
      "60268/60268 [==============================] - 3s 45us/step - loss: 0.0949 - val_loss: 0.0947\n",
      "Epoch 19/100\n",
      "60268/60268 [==============================] - 3s 47us/step - loss: 0.0943 - val_loss: 0.0947\n",
      "Epoch 20/100\n",
      "60268/60268 [==============================] - 3s 44us/step - loss: 0.0942 - val_loss: 0.0949\n",
      "Epoch 21/100\n",
      "60268/60268 [==============================] - 3s 43us/step - loss: 0.0942 - val_loss: 0.0953\n",
      "Epoch 22/100\n",
      "60268/60268 [==============================] - 3s 45us/step - loss: 0.0940 - val_loss: 0.0948\n",
      "Epoch 23/100\n",
      "60268/60268 [==============================] - 3s 46us/step - loss: 0.0937 - val_loss: 0.0954\n",
      "Epoch 24/100\n",
      "60268/60268 [==============================] - 3s 47us/step - loss: 0.0936 - val_loss: 0.0950\n",
      "Epoch 25/100\n",
      "60268/60268 [==============================] - 5s 82us/step - loss: 0.0936 - val_loss: 0.0952\n",
      "Epoch 26/100\n",
      "60268/60268 [==============================] - 7s 116us/step - loss: 0.0935 - val_loss: 0.0963\n",
      "Epoch 27/100\n",
      "60268/60268 [==============================] - 6s 93us/step - loss: 0.0932 - val_loss: 0.0955\n",
      "Restoring model weights from the end of the best epoch\n",
      "Epoch 00027: early stopping\n"
     ]
    }
   ],
   "source": [
    "EPOCHS = 100\n",
    "PATIENCE = 10\n",
    "BATCH_SIZE = 32\n",
    "\n",
    "nn_score = 0.0\n",
    "\n",
    "for train_index, test_index in skf.split(X, (y * 100).astype(int)):\n",
    "    \n",
    "    X_train, X_test = X.values[train_index], X.values[test_index]\n",
    "    y_train, y_test = y.values[train_index], y.values[test_index]\n",
    "    \n",
    "    sss = StratifiedShuffleSplit(n_splits=1, test_size=0.1, random_state=RANDOM_SEED)\n",
    "    tridx, vidx = next(sss.split(X_train, (y_train * 100).astype(int)))\n",
    "    X_train, X_valid = X_train[tridx], X_train[vidx]\n",
    "    y_train, y_valid = y_train[tridx], y_train[vidx]\n",
    "    \n",
    "    # Build model\n",
    "    model, band_embedding_model, influencer_embedding_model = build_NN_model(dropout=0.1)\n",
    "    \n",
    "    # Early stopping callback\n",
    "    es = EarlyStopping(\n",
    "        monitor='val_loss', \n",
    "        mode='min', \n",
    "        patience=PATIENCE,\n",
    "        restore_best_weights=True,\n",
    "        verbose=1\n",
    "    )\n",
    "    \n",
    "    # Fit\n",
    "    model.fit([X_train[:, i_data_idx], X_train[:, b_data_idx], X_train[:, i_kind_idx]], y_train,\n",
    "              validation_data=([X_valid[:, i_data_idx], X_valid[:, b_data_idx], X_valid[:, i_kind_idx]], y_valid), \n",
    "              batch_size=BATCH_SIZE,\n",
    "              epochs=EPOCHS,\n",
    "              callbacks=[es],\n",
    "              verbose=1)\n",
    "    \n",
    "    nn_score += np.sqrt(mean_squared_error(\n",
    "        model.predict([X_test[:, i_data_idx], X_test[:, b_data_idx], X_test[:, i_kind_idx]]), y_test\n",
    "    ))\n",
    "\n",
    "nn_score /= N_FOLDS"
   ]
  },
  {
   "cell_type": "code",
   "execution_count": 97,
   "metadata": {
    "scrolled": true
   },
   "outputs": [
    {
     "name": "stdout",
     "output_type": "stream",
     "text": [
      "NN score: 0.30963655165140275\n"
     ]
    }
   ],
   "source": [
    "print(f'NN score: {nn_score}')"
   ]
  },
  {
   "cell_type": "code",
   "execution_count": null,
   "metadata": {},
   "outputs": [],
   "source": []
  },
  {
   "cell_type": "code",
   "execution_count": null,
   "metadata": {},
   "outputs": [],
   "source": []
  },
  {
   "cell_type": "code",
   "execution_count": null,
   "metadata": {},
   "outputs": [],
   "source": []
  },
  {
   "cell_type": "code",
   "execution_count": null,
   "metadata": {},
   "outputs": [],
   "source": []
  },
  {
   "cell_type": "code",
   "execution_count": null,
   "metadata": {},
   "outputs": [],
   "source": []
  },
  {
   "cell_type": "code",
   "execution_count": null,
   "metadata": {},
   "outputs": [],
   "source": []
  },
  {
   "cell_type": "code",
   "execution_count": null,
   "metadata": {},
   "outputs": [],
   "source": []
  },
  {
   "cell_type": "code",
   "execution_count": null,
   "metadata": {},
   "outputs": [],
   "source": []
  },
  {
   "cell_type": "code",
   "execution_count": null,
   "metadata": {},
   "outputs": [],
   "source": []
  },
  {
   "cell_type": "code",
   "execution_count": null,
   "metadata": {},
   "outputs": [],
   "source": []
  },
  {
   "cell_type": "code",
   "execution_count": null,
   "metadata": {},
   "outputs": [],
   "source": [
    "nn_score = 0.0\n",
    "\n",
    "for train_index, test_index in skf.split(X, (y * 100).astype(int)):\n",
    "    \n",
    "    X_train, X_test = X[train_index], X[test_index]\n",
    "    y_train, y_test = y[train_index], y[test_index]\n",
    "    \n",
    "    sss = StratifiedShuffleSplit(n_splits=1, test_size=0.3, random_state=RANDOM_SEED)\n",
    "    tridx, vidx = next(sss.split(X_train, (y_train * 100).astype(int)))\n",
    "    X_train, X_valid = X_train[tridx], X_train[vidx]\n",
    "    y_train, y_valid = y_train[tridx], y_train[vidx]\n",
    "    \n",
    "    model = build_model()\n",
    "    model.fit([X_train[:, i_data_idx], X_train[:, b_data_idx]], y_train,\n",
    "              validation_data=([X_valid[:, i_data_idx], X_valid[:, b_data_idx]], y_valid), \n",
    "              batch_size=64,\n",
    "              epochs=10,\n",
    "              verbose=1)\n",
    "    \n",
    "    nn_score += np.sqrt(mean_squared_error(model.predict([X_test[:, i_data_idx], X_test[:, b_data_idx]]), y_test))\n",
    "\n",
    "nn_score /= N_FOLDS"
   ]
  },
  {
   "cell_type": "code",
   "execution_count": null,
   "metadata": {},
   "outputs": [],
   "source": [
    "print(f'NN score: {nn_score}')"
   ]
  },
  {
   "cell_type": "code",
   "execution_count": 315,
   "metadata": {},
   "outputs": [],
   "source": [
    "def build_model(i_emb_dim=50, b_emb_dim=50):\n",
    "    \"\"\"\n",
    "    \"\"\"\n",
    "    influencer_input = Input(shape=[i_data.shape[1]], name=\"Influencer-Input\")\n",
    "    influencer_embedding = Dense(i_emb_dim, activation='tanh', name=\"Influencer-Embedding\")(influencer_input)\n",
    "    \n",
    "    band_input = Input(shape=[b_data.shape[1]], name=\"Band-Input\")\n",
    "    band_embedding = Dense(b_emb_dim, activation='tanh', name=\"Band-Embedding\")(band_input)\n",
    "    \n",
    "    prod = Dot(name=\"Dot-Product\", axes=1)([influencer_embedding, band_embedding])\n",
    "    model = Model([influencer_input, band_input], prod)\n",
    "    model.compile('adam', 'mean_squared_error')\n",
    "    \n",
    "    return model"
   ]
  },
  {
   "cell_type": "code",
   "execution_count": 39,
   "metadata": {},
   "outputs": [],
   "source": [
    "# model.save('regression_model.h5')"
   ]
  },
  {
   "cell_type": "code",
   "execution_count": 316,
   "metadata": {},
   "outputs": [],
   "source": [
    "X, y = (\n",
    "    dataset.drop(columns='score').rename(\n",
    "        {'Variété Française_x': 'Variete Francaise_x', 'Variété Française_y': 'Variete Francaise_y'},\n",
    "        axis=1\n",
    "    ).values,\n",
    "    dataset.score.values\n",
    ")"
   ]
  },
  {
   "cell_type": "code",
   "execution_count": 317,
   "metadata": {},
   "outputs": [],
   "source": [
    "i_data = dataset.filter(regex='_y')\n",
    "b_data = dataset.filter(regex='_x')"
   ]
  },
  {
   "cell_type": "code",
   "execution_count": 318,
   "metadata": {},
   "outputs": [],
   "source": [
    "i_data_idx = [dataset.drop(columns='score').columns.get_loc(c) for c in dataset.filter(regex='_y')]\n",
    "b_data_idx = [dataset.drop(columns='score').columns.get_loc(c) for c in dataset.filter(regex='_x')]"
   ]
  },
  {
   "cell_type": "code",
   "execution_count": 319,
   "metadata": {},
   "outputs": [
    {
     "data": {
      "text/plain": [
       "147"
      ]
     },
     "execution_count": 319,
     "metadata": {},
     "output_type": "execute_result"
    }
   ],
   "source": [
    "dataset.columns.get_loc('Variété Française_y')"
   ]
  },
  {
   "cell_type": "code",
   "execution_count": 320,
   "metadata": {},
   "outputs": [
    {
     "data": {
      "text/plain": [
       "(83706, 148)"
      ]
     },
     "execution_count": 320,
     "metadata": {},
     "output_type": "execute_result"
    }
   ],
   "source": [
    "dataset.shape"
   ]
  },
  {
   "cell_type": "code",
   "execution_count": 321,
   "metadata": {},
   "outputs": [
    {
     "name": "stdout",
     "output_type": "stream",
     "text": [
      "Train on 46874 samples, validate on 20090 samples\n",
      "Epoch 1/10\n",
      "46874/46874 [==============================] - 7s 150us/step - loss: 0.2231 - val_loss: 0.1751\n",
      "Epoch 2/10\n",
      "46874/46874 [==============================] - 4s 75us/step - loss: 0.1512 - val_loss: 0.1471\n",
      "Epoch 3/10\n",
      "46874/46874 [==============================] - 4s 76us/step - loss: 0.1372 - val_loss: 0.1382\n",
      "Epoch 4/10\n",
      "46874/46874 [==============================] - 4s 75us/step - loss: 0.1299 - val_loss: 0.1347\n",
      "Epoch 5/10\n",
      "46874/46874 [==============================] - 4s 76us/step - loss: 0.1240 - val_loss: 0.1358\n",
      "Epoch 6/10\n",
      "46874/46874 [==============================] - 4s 75us/step - loss: 0.1208 - val_loss: 0.1293\n",
      "Epoch 7/10\n",
      "46874/46874 [==============================] - 4s 75us/step - loss: 0.1175 - val_loss: 0.1253\n",
      "Epoch 8/10\n",
      "46874/46874 [==============================] - 4s 76us/step - loss: 0.1153 - val_loss: 0.1221\n",
      "Epoch 9/10\n",
      "46874/46874 [==============================] - 4s 77us/step - loss: 0.1129 - val_loss: 0.1193\n",
      "Epoch 10/10\n",
      "46874/46874 [==============================] - 4s 75us/step - loss: 0.1114 - val_loss: 0.1170\n",
      "Train on 46875 samples, validate on 20090 samples\n",
      "Epoch 1/10\n",
      "46875/46875 [==============================] - 7s 155us/step - loss: 0.2197 - val_loss: 0.1707\n",
      "Epoch 2/10\n",
      "46875/46875 [==============================] - 4s 81us/step - loss: 0.1507 - val_loss: 0.1467\n",
      "Epoch 3/10\n",
      "46875/46875 [==============================] - 4s 80us/step - loss: 0.1357 - val_loss: 0.1389\n",
      "Epoch 4/10\n",
      "46875/46875 [==============================] - 4s 76us/step - loss: 0.1273 - val_loss: 0.1306\n",
      "Epoch 5/10\n",
      "46875/46875 [==============================] - 4s 76us/step - loss: 0.1215 - val_loss: 0.1258\n",
      "Epoch 6/10\n",
      "46875/46875 [==============================] - 4s 76us/step - loss: 0.1191 - val_loss: 0.1290\n",
      "Epoch 7/10\n",
      "46875/46875 [==============================] - 4s 76us/step - loss: 0.1156 - val_loss: 0.1251\n",
      "Epoch 8/10\n",
      "46875/46875 [==============================] - 4s 77us/step - loss: 0.1125 - val_loss: 0.1217\n",
      "Epoch 9/10\n",
      "46875/46875 [==============================] - 4s 76us/step - loss: 0.1117 - val_loss: 0.1174\n",
      "Epoch 10/10\n",
      "46875/46875 [==============================] - 4s 76us/step - loss: 0.1090 - val_loss: 0.1169\n",
      "Train on 46875 samples, validate on 20090 samples\n",
      "Epoch 1/10\n",
      "46875/46875 [==============================] - 7s 151us/step - loss: 0.2238 - val_loss: 0.1654\n",
      "Epoch 2/10\n",
      "46875/46875 [==============================] - 4s 79us/step - loss: 0.1503 - val_loss: 0.1461\n",
      "Epoch 3/10\n",
      "46875/46875 [==============================] - 4s 80us/step - loss: 0.1353 - val_loss: 0.1382\n",
      "Epoch 4/10\n",
      "46875/46875 [==============================] - 4s 78us/step - loss: 0.1277 - val_loss: 0.1287\n",
      "Epoch 5/10\n",
      "46875/46875 [==============================] - 4s 82us/step - loss: 0.1228 - val_loss: 0.1274\n",
      "Epoch 6/10\n",
      "46875/46875 [==============================] - 4s 83us/step - loss: 0.1188 - val_loss: 0.1263\n",
      "Epoch 7/10\n",
      "46875/46875 [==============================] - 4s 79us/step - loss: 0.1157 - val_loss: 0.1222\n",
      "Epoch 8/10\n",
      "46875/46875 [==============================] - 4s 77us/step - loss: 0.1125 - val_loss: 0.1204\n",
      "Epoch 9/10\n",
      "46875/46875 [==============================] - 4s 77us/step - loss: 0.1118 - val_loss: 0.1193\n",
      "Epoch 10/10\n",
      "46875/46875 [==============================] - 4s 77us/step - loss: 0.1094 - val_loss: 0.1229\n",
      "Train on 46875 samples, validate on 20090 samples\n",
      "Epoch 1/10\n",
      "46875/46875 [==============================] - 7s 154us/step - loss: 0.2227 - val_loss: 0.1672\n",
      "Epoch 2/10\n",
      "46875/46875 [==============================] - 4s 78us/step - loss: 0.1503 - val_loss: 0.1494\n",
      "Epoch 3/10\n",
      "46875/46875 [==============================] - 4s 82us/step - loss: 0.1362 - val_loss: 0.1443\n",
      "Epoch 4/10\n",
      "46875/46875 [==============================] - 4s 80us/step - loss: 0.1282 - val_loss: 0.1336\n",
      "Epoch 5/10\n",
      "46875/46875 [==============================] - 4s 78us/step - loss: 0.1228 - val_loss: 0.1294\n",
      "Epoch 6/10\n",
      "46875/46875 [==============================] - 4s 78us/step - loss: 0.1202 - val_loss: 0.1271\n",
      "Epoch 7/10\n",
      "46875/46875 [==============================] - 4s 81us/step - loss: 0.1164 - val_loss: 0.1281\n",
      "Epoch 8/10\n",
      "46875/46875 [==============================] - 4s 78us/step - loss: 0.1147 - val_loss: 0.1243\n",
      "Epoch 9/10\n",
      "46875/46875 [==============================] - 4s 77us/step - loss: 0.1126 - val_loss: 0.1249\n",
      "Epoch 10/10\n",
      "46875/46875 [==============================] - 4s 78us/step - loss: 0.1104 - val_loss: 0.1201\n",
      "Train on 46875 samples, validate on 20090 samples\n",
      "Epoch 1/10\n",
      "46875/46875 [==============================] - 7s 154us/step - loss: 0.2174 - val_loss: 0.1623\n",
      "Epoch 2/10\n",
      "46875/46875 [==============================] - 4s 88us/step - loss: 0.1484 - val_loss: 0.1417\n",
      "Epoch 3/10\n",
      "46875/46875 [==============================] - 4s 82us/step - loss: 0.1343 - val_loss: 0.1330\n",
      "Epoch 4/10\n",
      "46875/46875 [==============================] - 4s 78us/step - loss: 0.1273 - val_loss: 0.1303\n",
      "Epoch 5/10\n",
      "46875/46875 [==============================] - 4s 79us/step - loss: 0.1221 - val_loss: 0.1257\n",
      "Epoch 6/10\n",
      "46875/46875 [==============================] - 4s 87us/step - loss: 0.1181 - val_loss: 0.1246\n",
      "Epoch 7/10\n",
      "46875/46875 [==============================] - 4s 88us/step - loss: 0.1153 - val_loss: 0.1233\n",
      "Epoch 8/10\n",
      "46875/46875 [==============================] - 4s 79us/step - loss: 0.1123 - val_loss: 0.1243\n",
      "Epoch 9/10\n",
      "46875/46875 [==============================] - 4s 79us/step - loss: 0.1110 - val_loss: 0.1267\n",
      "Epoch 10/10\n",
      "46875/46875 [==============================] - 4s 79us/step - loss: 0.1091 - val_loss: 0.1194\n",
      "0.3448840988103111\n"
     ]
    }
   ],
   "source": [
    "nn_score = 0.0\n",
    "\n",
    "for train_index, test_index in skf.split(X, (y * 100).astype(int)):\n",
    "    \n",
    "    X_train, X_test = X[train_index], X[test_index]\n",
    "    y_train, y_test = y[train_index], y[test_index]\n",
    "    \n",
    "    sss = StratifiedShuffleSplit(n_splits=1, test_size=0.3, random_state=RANDOM_SEED)\n",
    "    tridx, vidx = next(sss.split(X_train, (y_train * 100).astype(int)))\n",
    "    X_train, X_valid = X_train[tridx], X_train[vidx]\n",
    "    y_train, y_valid = y_train[tridx], y_train[vidx]\n",
    "    \n",
    "    model = build_model()\n",
    "    model.fit([X_train[:, i_data_idx], X_train[:, b_data_idx]], y_train,\n",
    "              validation_data=([X_valid[:, i_data_idx], X_valid[:, b_data_idx]], y_valid), \n",
    "              batch_size=64,\n",
    "              epochs=10,\n",
    "              verbose=1)\n",
    "    \n",
    "    nn_score += np.sqrt(mean_squared_error(model.predict([X_test[:, i_data_idx], X_test[:, b_data_idx]]), y_test))\n",
    "\n",
    "nn_score /= N_FOLDS"
   ]
  },
  {
   "cell_type": "code",
   "execution_count": 68,
   "metadata": {},
   "outputs": [
    {
     "ename": "NameError",
     "evalue": "name 'nn_score' is not defined",
     "output_type": "error",
     "traceback": [
      "\u001b[0;31m---------------------------------------------------------------------------\u001b[0m",
      "\u001b[0;31mNameError\u001b[0m                                 Traceback (most recent call last)",
      "\u001b[0;32m<ipython-input-68-6bbba488f89a>\u001b[0m in \u001b[0;36m<module>\u001b[0;34m\u001b[0m\n\u001b[0;32m----> 1\u001b[0;31m \u001b[0mprint\u001b[0m\u001b[0;34m(\u001b[0m\u001b[0;34mf'NN score: {nn_score}'\u001b[0m\u001b[0;34m)\u001b[0m\u001b[0;34m\u001b[0m\u001b[0;34m\u001b[0m\u001b[0m\n\u001b[0m",
      "\u001b[0;31mNameError\u001b[0m: name 'nn_score' is not defined"
     ]
    }
   ],
   "source": [
    "print(f'NN score: {nn_score}')"
   ]
  },
  {
   "cell_type": "code",
   "execution_count": 73,
   "metadata": {},
   "outputs": [
    {
     "data": {
      "text/plain": [
       "13"
      ]
     },
     "execution_count": 73,
     "metadata": {},
     "output_type": "execute_result"
    }
   ],
   "source": [
    "dataset.influencer_kind.nunique()"
   ]
  },
  {
   "cell_type": "code",
   "execution_count": 322,
   "metadata": {},
   "outputs": [],
   "source": [
    "def build_model_2(i_emb_dim=50, b_emb_dim=50, kind_emb_dim=5, last_dense=20, dropout=0.2):\n",
    "    \"\"\"\n",
    "    \"\"\"\n",
    "    # Influencer embedding\n",
    "    influencer_input = Input(shape=[i_data.shape[1]], name=\"Influencer-Input\")\n",
    "    influencer_embedding = Dense(i_emb_dim, activation='tanh', name=\"Influencer-Embedding\")(influencer_input)\n",
    "    \n",
    "    # Influencer kind categorical embedding\n",
    "    influencer_kind_input = Input(shape=[1], name=\"Influencer-Kind-Input\")\n",
    "    influencer_kind_emb = Embedding(14, kind_emb_dim, name=\"Influencer-Kind-Embedding\")(influencer_kind_input)\n",
    "    \n",
    "    # Concatenate influencer emb with influencer kind emb to get full influencer emb\n",
    "    influencer_full_emb = Concatenate(axis=-1)([influencer_embedding, Flatten(name='Flatten')(influencer_kind_emb)])\n",
    "    \n",
    "    # Band embedding\n",
    "    band_input = Input(shape=[b_data.shape[1]], name=\"Band-Input\")\n",
    "    band_embedding = Dense(b_emb_dim, activation='tanh', name=\"Band-Embedding\")(band_input)\n",
    "    \n",
    "    # Concatenate and create product\n",
    "    prod = Concatenate(name=\"Concat\", axis=-1)([influencer_full_emb, band_embedding])\n",
    "    prod2 = Dense(last_dense, activation='tanh', name=\"Dense1\")(prod)\n",
    "    dropout = Dropout(rate=dropout)(prod2)\n",
    "    \n",
    "    # Dropout\n",
    "    prod3 = Dense(1, activation='tanh', name=\"Dense2\")(dropout)\n",
    "    model = Model([influencer_input, band_input, influencer_kind_input], prod3)\n",
    "    model.compile('adam', 'mean_squared_error')\n",
    "    \n",
    "    return model"
   ]
  },
  {
   "cell_type": "code",
   "execution_count": 323,
   "metadata": {},
   "outputs": [],
   "source": [
    "def build_model_3(i_emb_dim=60, b_emb_dim=60, kind_emb_dim=10, last_dense=40, dropout=0.3):\n",
    "    \"\"\"\n",
    "    \"\"\"\n",
    "    # Influencer embedding\n",
    "    influencer_input = Input(shape=[i_data.shape[1]], name=\"Influencer-Input\")\n",
    "    influencer_embedding = Dense(i_emb_dim, activation='relu', name=\"Influencer-Embedding1\")(influencer_input)\n",
    "    influencer_embedding = Dense(last_dense, activation='relu', name=\"Dense1\")(influencer_embedding)\n",
    "    influencer_embedding = Dense(i_emb_dim-10, activation='relu', name=\"Influencer-Embedding\")(influencer_embedding)\n",
    "    \n",
    "    # Influencer kind categorical embedding\n",
    "    influencer_kind_input = Input(shape=[1], name=\"Influencer-Kind-Input\")\n",
    "    influencer_kind_emb = Embedding(14, kind_emb_dim, name=\"Influencer-Kind-Embedding\")(influencer_kind_input)\n",
    "    \n",
    "    # Concatenate influencer emb with influencer kind emb to get full influencer emb\n",
    "    influencer_full_emb = Concatenate(axis=-1)([influencer_embedding, Flatten(name='Flatten')(influencer_kind_emb)])\n",
    "    \n",
    "    # Band embedding\n",
    "    band_input = Input(shape=[b_data.shape[1]], name=\"Band-Input\")\n",
    "    band_embedding = Dense(b_emb_dim, activation='relu', name=\"Band-Embedding1\")(band_input)\n",
    "    band_embedding = Dense(last_dense, activation='relu', name=\"Dense2\")(band_embedding)\n",
    "    band_embedding = Dense(b_emb_dim-10, activation='relu', name=\"Band-Embedding\")(band_embedding)\n",
    "    \n",
    "    # Concatenate and create product\n",
    "    prod = Concatenate(name=\"Concat\", axis=-1)([influencer_full_emb, band_embedding])\n",
    "    prod2 = Dense(last_dense, activation='relu', name=\"Dense0\")(prod)\n",
    "    dropout = Dropout(rate=dropout)(prod2)\n",
    "    \n",
    "    # Dropout\n",
    "    prod3 = Dense(1, activation='relu', name=\"Dense3\")(dropout)\n",
    "    model = Model([influencer_input, band_input, influencer_kind_input], prod3)\n",
    "    model.compile('adam', 'mean_squared_error')\n",
    "    \n",
    "    return model"
   ]
  },
  {
   "cell_type": "code",
   "execution_count": 324,
   "metadata": {},
   "outputs": [
    {
     "data": {
      "text/html": [
       "<div>\n",
       "<style scoped>\n",
       "    .dataframe tbody tr th:only-of-type {\n",
       "        vertical-align: middle;\n",
       "    }\n",
       "\n",
       "    .dataframe tbody tr th {\n",
       "        vertical-align: top;\n",
       "    }\n",
       "\n",
       "    .dataframe thead th {\n",
       "        text-align: right;\n",
       "    }\n",
       "</style>\n",
       "<table border=\"1\" class=\"dataframe\">\n",
       "  <thead>\n",
       "    <tr style=\"text-align: right;\">\n",
       "      <th></th>\n",
       "      <th>id</th>\n",
       "      <th>track_id</th>\n",
       "      <th>band_id</th>\n",
       "      <th>influencer_id</th>\n",
       "      <th>influencer_kind</th>\n",
       "      <th>score</th>\n",
       "      <th>Acid house_x</th>\n",
       "      <th>African music_x</th>\n",
       "      <th>Alternative rock_x</th>\n",
       "      <th>Ambient_x</th>\n",
       "      <th>...</th>\n",
       "      <th>Singer-songwriter_y</th>\n",
       "      <th>Soul_y</th>\n",
       "      <th>Surf rock_y</th>\n",
       "      <th>Synthpop_y</th>\n",
       "      <th>Synthwave_y</th>\n",
       "      <th>Techno_y</th>\n",
       "      <th>Traditional Music_y</th>\n",
       "      <th>Trap_y</th>\n",
       "      <th>Trip hop_y</th>\n",
       "      <th>Variété Française_y</th>\n",
       "    </tr>\n",
       "  </thead>\n",
       "  <tbody>\n",
       "    <tr>\n",
       "      <th>0</th>\n",
       "      <td>7312</td>\n",
       "      <td>324</td>\n",
       "      <td>303</td>\n",
       "      <td>102</td>\n",
       "      <td>4</td>\n",
       "      <td>0.0</td>\n",
       "      <td>0</td>\n",
       "      <td>0</td>\n",
       "      <td>0</td>\n",
       "      <td>0</td>\n",
       "      <td>...</td>\n",
       "      <td>0</td>\n",
       "      <td>0</td>\n",
       "      <td>0</td>\n",
       "      <td>0</td>\n",
       "      <td>0</td>\n",
       "      <td>1</td>\n",
       "      <td>0</td>\n",
       "      <td>0</td>\n",
       "      <td>1</td>\n",
       "      <td>0</td>\n",
       "    </tr>\n",
       "    <tr>\n",
       "      <th>1</th>\n",
       "      <td>7313</td>\n",
       "      <td>324</td>\n",
       "      <td>303</td>\n",
       "      <td>103</td>\n",
       "      <td>10</td>\n",
       "      <td>0.0</td>\n",
       "      <td>0</td>\n",
       "      <td>0</td>\n",
       "      <td>0</td>\n",
       "      <td>0</td>\n",
       "      <td>...</td>\n",
       "      <td>0</td>\n",
       "      <td>0</td>\n",
       "      <td>0</td>\n",
       "      <td>0</td>\n",
       "      <td>0</td>\n",
       "      <td>0</td>\n",
       "      <td>0</td>\n",
       "      <td>0</td>\n",
       "      <td>0</td>\n",
       "      <td>0</td>\n",
       "    </tr>\n",
       "    <tr>\n",
       "      <th>2</th>\n",
       "      <td>7314</td>\n",
       "      <td>324</td>\n",
       "      <td>303</td>\n",
       "      <td>104</td>\n",
       "      <td>3</td>\n",
       "      <td>0.0</td>\n",
       "      <td>0</td>\n",
       "      <td>0</td>\n",
       "      <td>0</td>\n",
       "      <td>0</td>\n",
       "      <td>...</td>\n",
       "      <td>0</td>\n",
       "      <td>1</td>\n",
       "      <td>0</td>\n",
       "      <td>0</td>\n",
       "      <td>0</td>\n",
       "      <td>0</td>\n",
       "      <td>0</td>\n",
       "      <td>1</td>\n",
       "      <td>0</td>\n",
       "      <td>1</td>\n",
       "    </tr>\n",
       "    <tr>\n",
       "      <th>3</th>\n",
       "      <td>7315</td>\n",
       "      <td>324</td>\n",
       "      <td>303</td>\n",
       "      <td>105</td>\n",
       "      <td>1</td>\n",
       "      <td>1.0</td>\n",
       "      <td>0</td>\n",
       "      <td>0</td>\n",
       "      <td>0</td>\n",
       "      <td>0</td>\n",
       "      <td>...</td>\n",
       "      <td>0</td>\n",
       "      <td>0</td>\n",
       "      <td>1</td>\n",
       "      <td>0</td>\n",
       "      <td>0</td>\n",
       "      <td>0</td>\n",
       "      <td>0</td>\n",
       "      <td>0</td>\n",
       "      <td>0</td>\n",
       "      <td>0</td>\n",
       "    </tr>\n",
       "    <tr>\n",
       "      <th>4</th>\n",
       "      <td>7316</td>\n",
       "      <td>324</td>\n",
       "      <td>303</td>\n",
       "      <td>106</td>\n",
       "      <td>6</td>\n",
       "      <td>0.0</td>\n",
       "      <td>0</td>\n",
       "      <td>0</td>\n",
       "      <td>0</td>\n",
       "      <td>0</td>\n",
       "      <td>...</td>\n",
       "      <td>0</td>\n",
       "      <td>0</td>\n",
       "      <td>1</td>\n",
       "      <td>0</td>\n",
       "      <td>0</td>\n",
       "      <td>0</td>\n",
       "      <td>0</td>\n",
       "      <td>0</td>\n",
       "      <td>0</td>\n",
       "      <td>0</td>\n",
       "    </tr>\n",
       "  </tbody>\n",
       "</table>\n",
       "<p>5 rows × 148 columns</p>\n",
       "</div>"
      ],
      "text/plain": [
       "     id  track_id  band_id  influencer_id  influencer_kind  score  \\\n",
       "0  7312       324      303            102                4    0.0   \n",
       "1  7313       324      303            103               10    0.0   \n",
       "2  7314       324      303            104                3    0.0   \n",
       "3  7315       324      303            105                1    1.0   \n",
       "4  7316       324      303            106                6    0.0   \n",
       "\n",
       "   Acid house_x  African music_x  Alternative rock_x  Ambient_x  ...  \\\n",
       "0             0                0                   0          0  ...   \n",
       "1             0                0                   0          0  ...   \n",
       "2             0                0                   0          0  ...   \n",
       "3             0                0                   0          0  ...   \n",
       "4             0                0                   0          0  ...   \n",
       "\n",
       "   Singer-songwriter_y  Soul_y  Surf rock_y  Synthpop_y  Synthwave_y  \\\n",
       "0                    0       0            0           0            0   \n",
       "1                    0       0            0           0            0   \n",
       "2                    0       1            0           0            0   \n",
       "3                    0       0            1           0            0   \n",
       "4                    0       0            1           0            0   \n",
       "\n",
       "   Techno_y  Traditional Music_y  Trap_y  Trip hop_y  Variété Française_y  \n",
       "0         1                    0       0           1                    0  \n",
       "1         0                    0       0           0                    0  \n",
       "2         0                    0       1           0                    1  \n",
       "3         0                    0       0           0                    0  \n",
       "4         0                    0       0           0                    0  \n",
       "\n",
       "[5 rows x 148 columns]"
      ]
     },
     "execution_count": 324,
     "metadata": {},
     "output_type": "execute_result"
    }
   ],
   "source": [
    "dataset.head()"
   ]
  },
  {
   "cell_type": "code",
   "execution_count": 334,
   "metadata": {},
   "outputs": [
    {
     "name": "stdout",
     "output_type": "stream",
     "text": [
      "Train on 46874 samples, validate on 20090 samples\n",
      "Epoch 1/10000\n",
      "46874/46874 [==============================] - 16s 334us/step - loss: 0.1167 - val_loss: 0.1042\n",
      "Epoch 2/10000\n",
      "46874/46874 [==============================] - 11s 232us/step - loss: 0.1032 - val_loss: 0.0989\n",
      "Epoch 3/10000\n",
      "46874/46874 [==============================] - 11s 229us/step - loss: 0.1003 - val_loss: 0.0977\n",
      "Epoch 4/10000\n",
      "46874/46874 [==============================] - 11s 238us/step - loss: 0.0993 - val_loss: 0.0954\n",
      "Epoch 5/10000\n",
      "46874/46874 [==============================] - 11s 237us/step - loss: 0.0974 - val_loss: 0.0975\n",
      "Epoch 6/10000\n",
      "46874/46874 [==============================] - 11s 231us/step - loss: 0.0965 - val_loss: 0.0953\n",
      "Epoch 7/10000\n",
      "46874/46874 [==============================] - 11s 230us/step - loss: 0.0959 - val_loss: 0.0949\n",
      "Epoch 8/10000\n",
      "46874/46874 [==============================] - 11s 232us/step - loss: 0.0951 - val_loss: 0.0945\n",
      "Epoch 9/10000\n",
      "46874/46874 [==============================] - 10s 223us/step - loss: 0.0949 - val_loss: 0.0954\n",
      "Epoch 10/10000\n",
      "46874/46874 [==============================] - 11s 225us/step - loss: 0.0937 - val_loss: 0.0954\n",
      "Epoch 11/10000\n",
      "46874/46874 [==============================] - 10s 218us/step - loss: 0.0932 - val_loss: 0.0953\n",
      "Epoch 12/10000\n",
      "46874/46874 [==============================] - 11s 228us/step - loss: 0.0931 - val_loss: 0.0943\n",
      "Epoch 13/10000\n",
      "46874/46874 [==============================] - 11s 228us/step - loss: 0.0924 - val_loss: 0.0959\n",
      "Epoch 14/10000\n",
      "46874/46874 [==============================] - 10s 220us/step - loss: 0.0919 - val_loss: 0.0957\n",
      "Epoch 15/10000\n",
      "46874/46874 [==============================] - 10s 221us/step - loss: 0.0917 - val_loss: 0.0952\n",
      "Epoch 16/10000\n",
      "46874/46874 [==============================] - 10s 223us/step - loss: 0.0915 - val_loss: 0.0948\n",
      "Epoch 17/10000\n",
      "46874/46874 [==============================] - 10s 223us/step - loss: 0.0911 - val_loss: 0.0953\n",
      "Epoch 18/10000\n",
      "46874/46874 [==============================] - 10s 222us/step - loss: 0.0910 - val_loss: 0.0956\n",
      "Epoch 19/10000\n",
      "46874/46874 [==============================] - 11s 228us/step - loss: 0.0906 - val_loss: 0.0949\n",
      "Epoch 20/10000\n",
      "46874/46874 [==============================] - 11s 225us/step - loss: 0.0901 - val_loss: 0.0971\n",
      "Epoch 21/10000\n",
      "46874/46874 [==============================] - 11s 230us/step - loss: 0.0902 - val_loss: 0.0969\n",
      "Epoch 22/10000\n",
      "46874/46874 [==============================] - 11s 233us/step - loss: 0.0898 - val_loss: 0.0955\n",
      "Epoch 23/10000\n",
      "46874/46874 [==============================] - 11s 224us/step - loss: 0.0898 - val_loss: 0.0968\n",
      "Epoch 24/10000\n",
      "46874/46874 [==============================] - 11s 225us/step - loss: 0.0891 - val_loss: 0.0960\n",
      "Epoch 25/10000\n",
      "46874/46874 [==============================] - 11s 226us/step - loss: 0.0894 - val_loss: 0.0975\n",
      "Epoch 26/10000\n",
      "46874/46874 [==============================] - 11s 227us/step - loss: 0.0892 - val_loss: 0.0963\n",
      "Epoch 27/10000\n",
      "46874/46874 [==============================] - 10s 222us/step - loss: 0.0885 - val_loss: 0.0959\n",
      "Epoch 28/10000\n",
      "46874/46874 [==============================] - 10s 222us/step - loss: 0.0886 - val_loss: 0.0959\n",
      "Epoch 29/10000\n",
      "46874/46874 [==============================] - 11s 230us/step - loss: 0.0882 - val_loss: 0.0961\n",
      "Epoch 30/10000\n",
      "46874/46874 [==============================] - 11s 227us/step - loss: 0.0884 - val_loss: 0.0963\n",
      "Epoch 31/10000\n",
      "46874/46874 [==============================] - 11s 225us/step - loss: 0.0879 - val_loss: 0.0964\n",
      "Epoch 32/10000\n",
      "46874/46874 [==============================] - 11s 230us/step - loss: 0.0875 - val_loss: 0.0961\n",
      "Epoch 33/10000\n",
      "46874/46874 [==============================] - 11s 232us/step - loss: 0.0875 - val_loss: 0.0958\n",
      "Epoch 34/10000\n",
      "46874/46874 [==============================] - 11s 226us/step - loss: 0.0874 - val_loss: 0.0969\n",
      "Epoch 35/10000\n",
      "46874/46874 [==============================] - 10s 219us/step - loss: 0.0872 - val_loss: 0.0965\n",
      "Epoch 36/10000\n",
      "46874/46874 [==============================] - 11s 230us/step - loss: 0.0873 - val_loss: 0.0957\n",
      "Epoch 37/10000\n",
      "46874/46874 [==============================] - 11s 229us/step - loss: 0.0866 - val_loss: 0.0969\n",
      "Epoch 38/10000\n",
      "46874/46874 [==============================] - 11s 226us/step - loss: 0.0867 - val_loss: 0.0965\n",
      "Epoch 39/10000\n",
      "46874/46874 [==============================] - 11s 228us/step - loss: 0.0867 - val_loss: 0.0968\n",
      "Epoch 40/10000\n",
      "46874/46874 [==============================] - 10s 220us/step - loss: 0.0865 - val_loss: 0.0980\n",
      "Epoch 41/10000\n",
      "46874/46874 [==============================] - 10s 219us/step - loss: 0.0862 - val_loss: 0.0964\n",
      "Epoch 42/10000\n",
      "46874/46874 [==============================] - 11s 225us/step - loss: 0.0861 - val_loss: 0.0980\n",
      "Epoch 43/10000\n",
      "46874/46874 [==============================] - 11s 225us/step - loss: 0.0861 - val_loss: 0.0968\n",
      "Epoch 44/10000\n",
      "46874/46874 [==============================] - 11s 231us/step - loss: 0.0857 - val_loss: 0.0986\n",
      "Epoch 45/10000\n",
      "46874/46874 [==============================] - 10s 223us/step - loss: 0.0859 - val_loss: 0.0998\n",
      "Epoch 46/10000\n",
      "46874/46874 [==============================] - 11s 228us/step - loss: 0.0856 - val_loss: 0.0981\n",
      "Epoch 47/10000\n",
      "46874/46874 [==============================] - 11s 240us/step - loss: 0.0852 - val_loss: 0.0973\n",
      "Epoch 48/10000\n",
      "46874/46874 [==============================] - 11s 235us/step - loss: 0.0852 - val_loss: 0.0972\n",
      "Epoch 49/10000\n",
      "46874/46874 [==============================] - 11s 232us/step - loss: 0.0854 - val_loss: 0.0978\n",
      "Epoch 50/10000\n",
      "46874/46874 [==============================] - 11s 233us/step - loss: 0.0852 - val_loss: 0.0992\n",
      "Epoch 51/10000\n",
      "46874/46874 [==============================] - 11s 229us/step - loss: 0.0848 - val_loss: 0.0992\n",
      "Epoch 52/10000\n",
      "46874/46874 [==============================] - 11s 229us/step - loss: 0.0849 - val_loss: 0.0989\n",
      "Epoch 53/10000\n",
      "46874/46874 [==============================] - 11s 227us/step - loss: 0.0848 - val_loss: 0.0991\n",
      "Epoch 54/10000\n",
      "46874/46874 [==============================] - 11s 235us/step - loss: 0.0844 - val_loss: 0.0991\n",
      "Epoch 55/10000\n",
      "46874/46874 [==============================] - 11s 237us/step - loss: 0.0845 - val_loss: 0.0985\n",
      "Epoch 56/10000\n",
      "46874/46874 [==============================] - 11s 236us/step - loss: 0.0843 - val_loss: 0.0972\n",
      "Epoch 57/10000\n",
      "46874/46874 [==============================] - 11s 238us/step - loss: 0.0841 - val_loss: 0.0985\n",
      "Epoch 58/10000\n",
      "46874/46874 [==============================] - 11s 234us/step - loss: 0.0842 - val_loss: 0.0990\n",
      "Epoch 59/10000\n",
      "46874/46874 [==============================] - 11s 242us/step - loss: 0.0839 - val_loss: 0.0984\n",
      "Epoch 60/10000\n",
      "46874/46874 [==============================] - 11s 227us/step - loss: 0.0834 - val_loss: 0.0993\n",
      "Epoch 61/10000\n",
      "46874/46874 [==============================] - 11s 226us/step - loss: 0.0840 - val_loss: 0.0975\n",
      "Epoch 62/10000\n",
      "46874/46874 [==============================] - 10s 223us/step - loss: 0.0838 - val_loss: 0.1007\n",
      "Restoring model weights from the end of the best epoch\n",
      "Epoch 00062: early stopping\n",
      "Train on 46875 samples, validate on 20090 samples\n",
      "Epoch 1/10000\n",
      "46875/46875 [==============================] - 16s 339us/step - loss: 0.1164 - val_loss: 0.1026\n",
      "Epoch 2/10000\n",
      "46875/46875 [==============================] - 11s 228us/step - loss: 0.1033 - val_loss: 0.0996\n",
      "Epoch 3/10000\n",
      "46875/46875 [==============================] - 11s 227us/step - loss: 0.1002 - val_loss: 0.0980\n",
      "Epoch 4/10000\n",
      "46875/46875 [==============================] - 11s 228us/step - loss: 0.0987 - val_loss: 0.0967\n",
      "Epoch 5/10000\n",
      "46875/46875 [==============================] - 11s 227us/step - loss: 0.0977 - val_loss: 0.0968\n",
      "Epoch 6/10000\n",
      "46875/46875 [==============================] - 11s 228us/step - loss: 0.0970 - val_loss: 0.0968\n",
      "Epoch 7/10000\n",
      "46875/46875 [==============================] - 11s 227us/step - loss: 0.0959 - val_loss: 0.0979\n",
      "Epoch 8/10000\n",
      "46875/46875 [==============================] - 11s 227us/step - loss: 0.0953 - val_loss: 0.0972\n",
      "Epoch 9/10000\n",
      "46875/46875 [==============================] - 11s 228us/step - loss: 0.0949 - val_loss: 0.0996\n",
      "Epoch 10/10000\n",
      "46875/46875 [==============================] - 11s 227us/step - loss: 0.0942 - val_loss: 0.0970\n",
      "Epoch 11/10000\n",
      "46875/46875 [==============================] - 11s 227us/step - loss: 0.0934 - val_loss: 0.0967\n",
      "Epoch 12/10000\n",
      "46875/46875 [==============================] - 11s 227us/step - loss: 0.0935 - val_loss: 0.0965\n",
      "Epoch 13/10000\n",
      "46875/46875 [==============================] - 11s 227us/step - loss: 0.0928 - val_loss: 0.0969\n",
      "Epoch 14/10000\n",
      "46875/46875 [==============================] - 11s 227us/step - loss: 0.0923 - val_loss: 0.0957\n",
      "Epoch 15/10000\n",
      "46875/46875 [==============================] - 12s 245us/step - loss: 0.0917 - val_loss: 0.0959\n",
      "Epoch 16/10000\n",
      "46875/46875 [==============================] - 12s 248us/step - loss: 0.0916 - val_loss: 0.0965\n",
      "Epoch 17/10000\n",
      "46875/46875 [==============================] - 12s 256us/step - loss: 0.0913 - val_loss: 0.0968\n",
      "Epoch 18/10000\n",
      "46875/46875 [==============================] - 11s 241us/step - loss: 0.0908 - val_loss: 0.0968\n",
      "Epoch 19/10000\n",
      "46875/46875 [==============================] - 11s 242us/step - loss: 0.0907 - val_loss: 0.0971\n",
      "Epoch 20/10000\n",
      "46875/46875 [==============================] - 11s 245us/step - loss: 0.0903 - val_loss: 0.0969\n",
      "Epoch 21/10000\n",
      "46875/46875 [==============================] - 12s 248us/step - loss: 0.0903 - val_loss: 0.0969\n",
      "Epoch 22/10000\n",
      "46875/46875 [==============================] - 11s 237us/step - loss: 0.0897 - val_loss: 0.0966\n",
      "Epoch 23/10000\n",
      "46875/46875 [==============================] - 11s 235us/step - loss: 0.0895 - val_loss: 0.0972\n",
      "Epoch 24/10000\n",
      "46875/46875 [==============================] - 11s 234us/step - loss: 0.0892 - val_loss: 0.0969\n",
      "Epoch 25/10000\n",
      "46875/46875 [==============================] - 11s 233us/step - loss: 0.0890 - val_loss: 0.0982\n",
      "Epoch 26/10000\n",
      "46875/46875 [==============================] - 11s 233us/step - loss: 0.0887 - val_loss: 0.0969\n",
      "Epoch 27/10000\n",
      "46875/46875 [==============================] - 11s 235us/step - loss: 0.0885 - val_loss: 0.0994\n",
      "Epoch 28/10000\n",
      "46875/46875 [==============================] - 11s 234us/step - loss: 0.0883 - val_loss: 0.0976\n",
      "Epoch 29/10000\n",
      "46875/46875 [==============================] - 11s 234us/step - loss: 0.0880 - val_loss: 0.0989\n",
      "Epoch 30/10000\n",
      "46875/46875 [==============================] - 11s 233us/step - loss: 0.0880 - val_loss: 0.0973\n",
      "Epoch 31/10000\n",
      "46875/46875 [==============================] - 11s 233us/step - loss: 0.0879 - val_loss: 0.0984\n",
      "Epoch 32/10000\n",
      "46875/46875 [==============================] - 11s 235us/step - loss: 0.0880 - val_loss: 0.0985\n",
      "Epoch 33/10000\n",
      "46875/46875 [==============================] - 11s 232us/step - loss: 0.0874 - val_loss: 0.0988\n",
      "Epoch 34/10000\n",
      "46875/46875 [==============================] - 11s 234us/step - loss: 0.0874 - val_loss: 0.0989\n",
      "Epoch 35/10000\n",
      "46875/46875 [==============================] - 11s 233us/step - loss: 0.0869 - val_loss: 0.0981\n",
      "Epoch 36/10000\n",
      "46875/46875 [==============================] - 11s 233us/step - loss: 0.0869 - val_loss: 0.0989\n",
      "Epoch 37/10000\n",
      "46875/46875 [==============================] - 11s 234us/step - loss: 0.0874 - val_loss: 0.0983\n",
      "Epoch 38/10000\n",
      "46875/46875 [==============================] - 11s 233us/step - loss: 0.0864 - val_loss: 0.0989\n",
      "Epoch 39/10000\n",
      "46875/46875 [==============================] - 11s 234us/step - loss: 0.0864 - val_loss: 0.0993\n",
      "Epoch 40/10000\n",
      "46875/46875 [==============================] - 11s 233us/step - loss: 0.0862 - val_loss: 0.0986\n",
      "Epoch 41/10000\n",
      "46875/46875 [==============================] - 11s 235us/step - loss: 0.0858 - val_loss: 0.0995\n",
      "Epoch 42/10000\n",
      "46875/46875 [==============================] - 11s 234us/step - loss: 0.0859 - val_loss: 0.0988\n",
      "Epoch 43/10000\n",
      "46875/46875 [==============================] - 11s 235us/step - loss: 0.0858 - val_loss: 0.0999\n",
      "Epoch 44/10000\n",
      "46875/46875 [==============================] - 11s 234us/step - loss: 0.0855 - val_loss: 0.1008\n",
      "Epoch 45/10000\n",
      "46875/46875 [==============================] - 11s 233us/step - loss: 0.0856 - val_loss: 0.0990\n",
      "Epoch 46/10000\n",
      "46875/46875 [==============================] - 11s 235us/step - loss: 0.0852 - val_loss: 0.0993\n",
      "Epoch 47/10000\n",
      "46875/46875 [==============================] - 11s 233us/step - loss: 0.0853 - val_loss: 0.0997\n",
      "Epoch 48/10000\n",
      "46875/46875 [==============================] - 11s 234us/step - loss: 0.0851 - val_loss: 0.1001\n",
      "Epoch 49/10000\n",
      "46875/46875 [==============================] - 11s 236us/step - loss: 0.0851 - val_loss: 0.1003\n",
      "Epoch 50/10000\n",
      "46875/46875 [==============================] - 11s 235us/step - loss: 0.0848 - val_loss: 0.0998\n",
      "Epoch 51/10000\n",
      "46875/46875 [==============================] - 11s 234us/step - loss: 0.0845 - val_loss: 0.0997\n",
      "Epoch 52/10000\n",
      "46875/46875 [==============================] - 11s 234us/step - loss: 0.0845 - val_loss: 0.1012\n",
      "Epoch 53/10000\n",
      "46875/46875 [==============================] - 11s 234us/step - loss: 0.0844 - val_loss: 0.1008\n",
      "Epoch 54/10000\n",
      "46875/46875 [==============================] - 11s 234us/step - loss: 0.0839 - val_loss: 0.1006\n",
      "Epoch 55/10000\n",
      "46875/46875 [==============================] - 11s 236us/step - loss: 0.0841 - val_loss: 0.1003\n",
      "Epoch 56/10000\n",
      "46875/46875 [==============================] - 11s 234us/step - loss: 0.0837 - val_loss: 0.1010\n",
      "Epoch 57/10000\n",
      "46875/46875 [==============================] - 11s 235us/step - loss: 0.0840 - val_loss: 0.1015\n",
      "Epoch 58/10000\n",
      "46875/46875 [==============================] - 11s 234us/step - loss: 0.0838 - val_loss: 0.1020\n",
      "Epoch 59/10000\n",
      "46875/46875 [==============================] - 11s 234us/step - loss: 0.0836 - val_loss: 0.1005\n",
      "Epoch 60/10000\n",
      "46875/46875 [==============================] - 11s 235us/step - loss: 0.0837 - val_loss: 0.1016\n",
      "Epoch 61/10000\n",
      "46875/46875 [==============================] - 11s 234us/step - loss: 0.0833 - val_loss: 0.1038\n",
      "Epoch 62/10000\n",
      "46875/46875 [==============================] - 11s 235us/step - loss: 0.0833 - val_loss: 0.1017\n",
      "Epoch 63/10000\n",
      "46875/46875 [==============================] - 11s 234us/step - loss: 0.0835 - val_loss: 0.1019\n",
      "Epoch 64/10000\n",
      "46875/46875 [==============================] - 11s 233us/step - loss: 0.0831 - val_loss: 0.1020\n",
      "Restoring model weights from the end of the best epoch\n",
      "Epoch 00064: early stopping\n",
      "Train on 46875 samples, validate on 20090 samples\n",
      "Epoch 1/10000\n",
      "46875/46875 [==============================] - 16s 333us/step - loss: 0.1167 - val_loss: 0.1027\n",
      "Epoch 2/10000\n",
      "46875/46875 [==============================] - 11s 237us/step - loss: 0.1039 - val_loss: 0.0996\n",
      "Epoch 3/10000\n",
      "46875/46875 [==============================] - 11s 236us/step - loss: 0.1004 - val_loss: 0.0979\n",
      "Epoch 4/10000\n",
      "46875/46875 [==============================] - 11s 235us/step - loss: 0.0990 - val_loss: 0.0962\n",
      "Epoch 5/10000\n",
      "46875/46875 [==============================] - 11s 235us/step - loss: 0.0975 - val_loss: 0.0976\n",
      "Epoch 6/10000\n",
      "46875/46875 [==============================] - 11s 236us/step - loss: 0.0967 - val_loss: 0.0965\n",
      "Epoch 7/10000\n",
      "46875/46875 [==============================] - 11s 235us/step - loss: 0.0963 - val_loss: 0.0960\n",
      "Epoch 8/10000\n",
      "46875/46875 [==============================] - 11s 235us/step - loss: 0.0954 - val_loss: 0.0965\n",
      "Epoch 9/10000\n",
      "46875/46875 [==============================] - 11s 236us/step - loss: 0.0948 - val_loss: 0.0953\n",
      "Epoch 10/10000\n",
      "46875/46875 [==============================] - 11s 236us/step - loss: 0.0942 - val_loss: 0.0965\n",
      "Epoch 11/10000\n",
      "46875/46875 [==============================] - 11s 236us/step - loss: 0.0935 - val_loss: 0.0953\n",
      "Epoch 12/10000\n",
      "46875/46875 [==============================] - 11s 236us/step - loss: 0.0932 - val_loss: 0.0958\n",
      "Epoch 13/10000\n",
      "46875/46875 [==============================] - 11s 235us/step - loss: 0.0926 - val_loss: 0.0970\n",
      "Epoch 14/10000\n",
      "46875/46875 [==============================] - 11s 236us/step - loss: 0.0921 - val_loss: 0.0960\n",
      "Epoch 15/10000\n",
      "46875/46875 [==============================] - 11s 234us/step - loss: 0.0922 - val_loss: 0.0970\n",
      "Epoch 16/10000\n",
      "46875/46875 [==============================] - 11s 234us/step - loss: 0.0917 - val_loss: 0.0967\n",
      "Epoch 17/10000\n",
      "46875/46875 [==============================] - 11s 236us/step - loss: 0.0914 - val_loss: 0.0975\n",
      "Epoch 18/10000\n",
      "46875/46875 [==============================] - 11s 234us/step - loss: 0.0906 - val_loss: 0.0968\n",
      "Epoch 19/10000\n",
      "46875/46875 [==============================] - 11s 235us/step - loss: 0.0906 - val_loss: 0.0972\n"
     ]
    },
    {
     "name": "stdout",
     "output_type": "stream",
     "text": [
      "Epoch 20/10000\n",
      "46875/46875 [==============================] - 11s 233us/step - loss: 0.0903 - val_loss: 0.0973\n",
      "Epoch 21/10000\n",
      "46875/46875 [==============================] - 11s 232us/step - loss: 0.0898 - val_loss: 0.0979\n",
      "Epoch 22/10000\n",
      "46875/46875 [==============================] - 11s 233us/step - loss: 0.0898 - val_loss: 0.0968\n",
      "Epoch 23/10000\n",
      "46875/46875 [==============================] - 11s 232us/step - loss: 0.0894 - val_loss: 0.0980\n",
      "Epoch 24/10000\n",
      "46875/46875 [==============================] - 11s 232us/step - loss: 0.0892 - val_loss: 0.0977\n",
      "Epoch 25/10000\n",
      "46875/46875 [==============================] - 11s 233us/step - loss: 0.0888 - val_loss: 0.0970\n",
      "Epoch 26/10000\n",
      "46875/46875 [==============================] - 11s 232us/step - loss: 0.0887 - val_loss: 0.0970\n",
      "Epoch 27/10000\n",
      "46875/46875 [==============================] - 11s 231us/step - loss: 0.0882 - val_loss: 0.0968\n",
      "Epoch 28/10000\n",
      "46875/46875 [==============================] - 11s 234us/step - loss: 0.0884 - val_loss: 0.0969\n",
      "Epoch 29/10000\n",
      "46875/46875 [==============================] - 11s 232us/step - loss: 0.0880 - val_loss: 0.0973\n",
      "Epoch 30/10000\n",
      "46875/46875 [==============================] - 11s 232us/step - loss: 0.0878 - val_loss: 0.0973\n",
      "Epoch 31/10000\n",
      "46875/46875 [==============================] - 11s 232us/step - loss: 0.0879 - val_loss: 0.0976\n",
      "Epoch 32/10000\n",
      "46875/46875 [==============================] - 11s 232us/step - loss: 0.0877 - val_loss: 0.0971\n",
      "Epoch 33/10000\n",
      "46875/46875 [==============================] - 11s 233us/step - loss: 0.0877 - val_loss: 0.0972\n",
      "Epoch 34/10000\n",
      "46875/46875 [==============================] - 11s 233us/step - loss: 0.0873 - val_loss: 0.0978\n",
      "Epoch 35/10000\n",
      "46875/46875 [==============================] - 11s 233us/step - loss: 0.0873 - val_loss: 0.0970\n",
      "Epoch 36/10000\n",
      "46875/46875 [==============================] - 11s 232us/step - loss: 0.0872 - val_loss: 0.0984\n",
      "Epoch 37/10000\n",
      "46875/46875 [==============================] - 11s 234us/step - loss: 0.0872 - val_loss: 0.0978\n",
      "Epoch 38/10000\n",
      "46875/46875 [==============================] - 11s 232us/step - loss: 0.0866 - val_loss: 0.0995\n",
      "Epoch 39/10000\n",
      "46875/46875 [==============================] - 11s 233us/step - loss: 0.0865 - val_loss: 0.0991\n",
      "Epoch 40/10000\n",
      "46875/46875 [==============================] - 11s 233us/step - loss: 0.0866 - val_loss: 0.0991\n",
      "Epoch 41/10000\n",
      "46875/46875 [==============================] - 11s 233us/step - loss: 0.0860 - val_loss: 0.0987\n",
      "Epoch 42/10000\n",
      "46875/46875 [==============================] - 11s 233us/step - loss: 0.0858 - val_loss: 0.0988\n",
      "Epoch 43/10000\n",
      "46875/46875 [==============================] - 11s 233us/step - loss: 0.0861 - val_loss: 0.0984\n",
      "Epoch 44/10000\n",
      "46875/46875 [==============================] - 11s 232us/step - loss: 0.0857 - val_loss: 0.0989\n",
      "Epoch 45/10000\n",
      "46875/46875 [==============================] - 11s 233us/step - loss: 0.0856 - val_loss: 0.0984\n",
      "Epoch 46/10000\n",
      "46875/46875 [==============================] - 11s 233us/step - loss: 0.0854 - val_loss: 0.0989\n",
      "Epoch 47/10000\n",
      "46875/46875 [==============================] - 11s 233us/step - loss: 0.0853 - val_loss: 0.0999\n",
      "Epoch 48/10000\n",
      "46875/46875 [==============================] - 11s 233us/step - loss: 0.0853 - val_loss: 0.1003\n",
      "Epoch 49/10000\n",
      "46875/46875 [==============================] - 11s 232us/step - loss: 0.0853 - val_loss: 0.0989\n",
      "Epoch 50/10000\n",
      "46875/46875 [==============================] - 11s 234us/step - loss: 0.0849 - val_loss: 0.0988\n",
      "Epoch 51/10000\n",
      "46875/46875 [==============================] - 11s 233us/step - loss: 0.0849 - val_loss: 0.0986\n",
      "Epoch 52/10000\n",
      "46875/46875 [==============================] - 11s 233us/step - loss: 0.0848 - val_loss: 0.0990\n",
      "Epoch 53/10000\n",
      "46875/46875 [==============================] - 11s 234us/step - loss: 0.0842 - val_loss: 0.1000\n",
      "Epoch 54/10000\n",
      "46875/46875 [==============================] - 11s 233us/step - loss: 0.0846 - val_loss: 0.0996\n",
      "Epoch 55/10000\n",
      "46875/46875 [==============================] - 11s 232us/step - loss: 0.0841 - val_loss: 0.0995\n",
      "Epoch 56/10000\n",
      "46875/46875 [==============================] - 11s 233us/step - loss: 0.0839 - val_loss: 0.1000\n",
      "Epoch 57/10000\n",
      "46875/46875 [==============================] - 11s 233us/step - loss: 0.0843 - val_loss: 0.0998\n",
      "Epoch 58/10000\n",
      "46875/46875 [==============================] - 11s 233us/step - loss: 0.0840 - val_loss: 0.1002\n",
      "Epoch 59/10000\n",
      "46875/46875 [==============================] - 11s 233us/step - loss: 0.0836 - val_loss: 0.1004\n",
      "Restoring model weights from the end of the best epoch\n",
      "Epoch 00059: early stopping\n",
      "Train on 46875 samples, validate on 20090 samples\n",
      "Epoch 1/10000\n",
      "46875/46875 [==============================] - 16s 336us/step - loss: 0.1145 - val_loss: 0.1046\n",
      "Epoch 2/10000\n",
      "46875/46875 [==============================] - 11s 237us/step - loss: 0.1023 - val_loss: 0.1011\n",
      "Epoch 3/10000\n",
      "46875/46875 [==============================] - 11s 237us/step - loss: 0.0993 - val_loss: 0.0988\n",
      "Epoch 4/10000\n",
      "46875/46875 [==============================] - 11s 238us/step - loss: 0.0979 - val_loss: 0.0980\n",
      "Epoch 5/10000\n",
      "46875/46875 [==============================] - 11s 237us/step - loss: 0.0970 - val_loss: 0.0987\n",
      "Epoch 6/10000\n",
      "46875/46875 [==============================] - 11s 238us/step - loss: 0.0958 - val_loss: 0.0990\n",
      "Epoch 7/10000\n",
      "46875/46875 [==============================] - 11s 238us/step - loss: 0.0953 - val_loss: 0.0969\n",
      "Epoch 8/10000\n",
      "46875/46875 [==============================] - 11s 239us/step - loss: 0.0941 - val_loss: 0.0972\n",
      "Epoch 9/10000\n",
      "46875/46875 [==============================] - 11s 237us/step - loss: 0.0937 - val_loss: 0.0981\n",
      "Epoch 10/10000\n",
      "46875/46875 [==============================] - 11s 239us/step - loss: 0.0928 - val_loss: 0.0970\n",
      "Epoch 11/10000\n",
      "46875/46875 [==============================] - 11s 238us/step - loss: 0.0925 - val_loss: 0.0974\n",
      "Epoch 12/10000\n",
      "46875/46875 [==============================] - 11s 238us/step - loss: 0.0919 - val_loss: 0.0978\n",
      "Epoch 13/10000\n",
      "46875/46875 [==============================] - 11s 238us/step - loss: 0.0917 - val_loss: 0.0980\n",
      "Epoch 14/10000\n",
      "46875/46875 [==============================] - 11s 239us/step - loss: 0.0911 - val_loss: 0.0977\n",
      "Epoch 15/10000\n",
      "46875/46875 [==============================] - 11s 238us/step - loss: 0.0909 - val_loss: 0.0972\n",
      "Epoch 16/10000\n",
      "46875/46875 [==============================] - 11s 237us/step - loss: 0.0906 - val_loss: 0.0963\n",
      "Epoch 17/10000\n",
      "46875/46875 [==============================] - 11s 239us/step - loss: 0.0902 - val_loss: 0.0979\n",
      "Epoch 18/10000\n",
      "46875/46875 [==============================] - 11s 238us/step - loss: 0.0899 - val_loss: 0.0973\n",
      "Epoch 19/10000\n",
      "46875/46875 [==============================] - 11s 238us/step - loss: 0.0895 - val_loss: 0.0980\n",
      "Epoch 20/10000\n",
      "46875/46875 [==============================] - 11s 238us/step - loss: 0.0890 - val_loss: 0.0977\n",
      "Epoch 21/10000\n",
      "46875/46875 [==============================] - 11s 238us/step - loss: 0.0892 - val_loss: 0.0968\n",
      "Epoch 22/10000\n",
      "46875/46875 [==============================] - 11s 238us/step - loss: 0.0885 - val_loss: 0.0972\n",
      "Epoch 23/10000\n",
      "46875/46875 [==============================] - 11s 239us/step - loss: 0.0883 - val_loss: 0.0983\n",
      "Epoch 24/10000\n",
      "46875/46875 [==============================] - 11s 238us/step - loss: 0.0880 - val_loss: 0.0982\n",
      "Epoch 25/10000\n",
      "46875/46875 [==============================] - 11s 237us/step - loss: 0.0879 - val_loss: 0.0977\n",
      "Epoch 26/10000\n",
      "46875/46875 [==============================] - 11s 238us/step - loss: 0.0875 - val_loss: 0.0983\n",
      "Epoch 27/10000\n",
      "46875/46875 [==============================] - 11s 238us/step - loss: 0.0875 - val_loss: 0.0978\n",
      "Epoch 28/10000\n",
      "46875/46875 [==============================] - 11s 238us/step - loss: 0.0868 - val_loss: 0.0997\n",
      "Epoch 29/10000\n",
      "46875/46875 [==============================] - 11s 237us/step - loss: 0.0871 - val_loss: 0.0975\n",
      "Epoch 30/10000\n",
      "46875/46875 [==============================] - 11s 238us/step - loss: 0.0866 - val_loss: 0.0983\n",
      "Epoch 31/10000\n",
      "46875/46875 [==============================] - 11s 238us/step - loss: 0.0865 - val_loss: 0.0987\n",
      "Epoch 32/10000\n",
      "46875/46875 [==============================] - 11s 239us/step - loss: 0.0863 - val_loss: 0.0987\n",
      "Epoch 33/10000\n",
      "46875/46875 [==============================] - 11s 238us/step - loss: 0.0859 - val_loss: 0.0980\n",
      "Epoch 34/10000\n",
      "46875/46875 [==============================] - 11s 237us/step - loss: 0.0857 - val_loss: 0.0987\n",
      "Epoch 35/10000\n",
      "46875/46875 [==============================] - 11s 236us/step - loss: 0.0853 - val_loss: 0.1000\n",
      "Epoch 36/10000\n",
      "46875/46875 [==============================] - 11s 236us/step - loss: 0.0855 - val_loss: 0.0988\n",
      "Epoch 37/10000\n",
      "46875/46875 [==============================] - 11s 236us/step - loss: 0.0851 - val_loss: 0.0988\n",
      "Epoch 38/10000\n",
      "46875/46875 [==============================] - 11s 236us/step - loss: 0.0852 - val_loss: 0.0994\n",
      "Epoch 39/10000\n",
      "46875/46875 [==============================] - 11s 237us/step - loss: 0.0850 - val_loss: 0.0996\n",
      "Epoch 40/10000\n",
      "46875/46875 [==============================] - 11s 237us/step - loss: 0.0849 - val_loss: 0.1000\n",
      "Epoch 41/10000\n",
      "46875/46875 [==============================] - 11s 236us/step - loss: 0.0845 - val_loss: 0.1003\n",
      "Epoch 42/10000\n",
      "46875/46875 [==============================] - 11s 237us/step - loss: 0.0844 - val_loss: 0.1008\n",
      "Epoch 43/10000\n",
      "46875/46875 [==============================] - 11s 237us/step - loss: 0.0846 - val_loss: 0.0985\n",
      "Epoch 44/10000\n",
      "46875/46875 [==============================] - 11s 238us/step - loss: 0.0839 - val_loss: 0.1005\n",
      "Epoch 45/10000\n",
      "46875/46875 [==============================] - 11s 237us/step - loss: 0.0840 - val_loss: 0.1005\n",
      "Epoch 46/10000\n",
      "46875/46875 [==============================] - 11s 237us/step - loss: 0.0838 - val_loss: 0.0996\n",
      "Epoch 47/10000\n",
      "46875/46875 [==============================] - 11s 237us/step - loss: 0.0834 - val_loss: 0.0989\n",
      "Epoch 48/10000\n",
      "46875/46875 [==============================] - 11s 237us/step - loss: 0.0833 - val_loss: 0.0999\n",
      "Epoch 49/10000\n",
      "46875/46875 [==============================] - 11s 238us/step - loss: 0.0836 - val_loss: 0.1004\n",
      "Epoch 50/10000\n",
      "46875/46875 [==============================] - 11s 237us/step - loss: 0.0831 - val_loss: 0.1000\n",
      "Epoch 51/10000\n",
      "46875/46875 [==============================] - 11s 237us/step - loss: 0.0830 - val_loss: 0.1011\n",
      "Epoch 52/10000\n",
      "46875/46875 [==============================] - 11s 237us/step - loss: 0.0828 - val_loss: 0.1004\n",
      "Epoch 53/10000\n",
      "46875/46875 [==============================] - 11s 237us/step - loss: 0.0826 - val_loss: 0.1011\n",
      "Epoch 54/10000\n",
      "46875/46875 [==============================] - 11s 237us/step - loss: 0.0827 - val_loss: 0.1005\n",
      "Epoch 55/10000\n",
      "46875/46875 [==============================] - 11s 237us/step - loss: 0.0823 - val_loss: 0.1019\n",
      "Epoch 56/10000\n",
      "46875/46875 [==============================] - 11s 237us/step - loss: 0.0825 - val_loss: 0.1011\n",
      "Epoch 57/10000\n",
      "46875/46875 [==============================] - 11s 236us/step - loss: 0.0821 - val_loss: 0.1009\n",
      "Epoch 58/10000\n",
      "46875/46875 [==============================] - 11s 238us/step - loss: 0.0822 - val_loss: 0.1014\n",
      "Epoch 59/10000\n",
      "46875/46875 [==============================] - 11s 237us/step - loss: 0.0820 - val_loss: 0.1005\n",
      "Epoch 60/10000\n",
      "46875/46875 [==============================] - 11s 237us/step - loss: 0.0817 - val_loss: 0.1016\n",
      "Epoch 61/10000\n",
      "46875/46875 [==============================] - 11s 237us/step - loss: 0.0816 - val_loss: 0.1012\n",
      "Epoch 62/10000\n",
      "46875/46875 [==============================] - 11s 238us/step - loss: 0.0817 - val_loss: 0.1019\n",
      "Epoch 63/10000\n",
      "46875/46875 [==============================] - 11s 238us/step - loss: 0.0814 - val_loss: 0.1023\n",
      "Epoch 64/10000\n",
      "46875/46875 [==============================] - 11s 238us/step - loss: 0.0813 - val_loss: 0.1013\n",
      "Epoch 65/10000\n",
      "46875/46875 [==============================] - 11s 238us/step - loss: 0.0814 - val_loss: 0.1022\n",
      "Epoch 66/10000\n",
      "46875/46875 [==============================] - 11s 240us/step - loss: 0.0812 - val_loss: 0.1008\n",
      "Restoring model weights from the end of the best epoch\n",
      "Epoch 00066: early stopping\n",
      "Train on 46875 samples, validate on 20090 samples\n",
      "Epoch 1/10000\n",
      "46875/46875 [==============================] - 16s 339us/step - loss: 0.1162 - val_loss: 0.1026\n",
      "Epoch 2/10000\n",
      "46875/46875 [==============================] - 11s 238us/step - loss: 0.1031 - val_loss: 0.0982\n",
      "Epoch 3/10000\n",
      "46875/46875 [==============================] - 11s 237us/step - loss: 0.0997 - val_loss: 0.1018\n",
      "Epoch 4/10000\n",
      "46875/46875 [==============================] - 11s 237us/step - loss: 0.0981 - val_loss: 0.0975\n",
      "Epoch 5/10000\n",
      "46875/46875 [==============================] - 11s 238us/step - loss: 0.0970 - val_loss: 0.0977\n",
      "Epoch 6/10000\n",
      "46875/46875 [==============================] - 11s 238us/step - loss: 0.0964 - val_loss: 0.0977\n",
      "Epoch 7/10000\n",
      "46875/46875 [==============================] - 11s 238us/step - loss: 0.0955 - val_loss: 0.0954\n",
      "Epoch 8/10000\n",
      "46875/46875 [==============================] - 11s 238us/step - loss: 0.0946 - val_loss: 0.0987\n",
      "Epoch 9/10000\n",
      "46875/46875 [==============================] - 11s 237us/step - loss: 0.0936 - val_loss: 0.0961\n",
      "Epoch 10/10000\n",
      "46875/46875 [==============================] - 11s 239us/step - loss: 0.0931 - val_loss: 0.0964\n",
      "Epoch 11/10000\n",
      "46875/46875 [==============================] - 11s 238us/step - loss: 0.0929 - val_loss: 0.0966\n",
      "Epoch 12/10000\n",
      "46875/46875 [==============================] - 11s 239us/step - loss: 0.0925 - val_loss: 0.0956\n",
      "Epoch 13/10000\n",
      "46875/46875 [==============================] - 11s 239us/step - loss: 0.0917 - val_loss: 0.0964\n",
      "Epoch 14/10000\n",
      "46875/46875 [==============================] - 11s 237us/step - loss: 0.0917 - val_loss: 0.0968\n",
      "Epoch 15/10000\n",
      "46875/46875 [==============================] - 11s 238us/step - loss: 0.0910 - val_loss: 0.0952\n",
      "Epoch 16/10000\n",
      "46875/46875 [==============================] - 11s 240us/step - loss: 0.0908 - val_loss: 0.0957\n",
      "Epoch 17/10000\n",
      "46875/46875 [==============================] - 11s 238us/step - loss: 0.0903 - val_loss: 0.0970\n",
      "Epoch 18/10000\n",
      "46875/46875 [==============================] - 11s 239us/step - loss: 0.0898 - val_loss: 0.0981\n",
      "Epoch 19/10000\n",
      "46875/46875 [==============================] - 11s 238us/step - loss: 0.0897 - val_loss: 0.0958\n",
      "Epoch 20/10000\n",
      "46875/46875 [==============================] - 11s 239us/step - loss: 0.0892 - val_loss: 0.0954\n",
      "Epoch 21/10000\n",
      "46875/46875 [==============================] - 11s 238us/step - loss: 0.0890 - val_loss: 0.0962\n",
      "Epoch 22/10000\n",
      "46875/46875 [==============================] - 11s 239us/step - loss: 0.0887 - val_loss: 0.0956\n",
      "Epoch 23/10000\n",
      "46875/46875 [==============================] - 11s 239us/step - loss: 0.0886 - val_loss: 0.0957\n",
      "Epoch 24/10000\n",
      "46875/46875 [==============================] - 11s 238us/step - loss: 0.0879 - val_loss: 0.0968\n",
      "Epoch 25/10000\n",
      "46875/46875 [==============================] - 11s 239us/step - loss: 0.0880 - val_loss: 0.0955\n",
      "Epoch 26/10000\n",
      "46875/46875 [==============================] - 11s 239us/step - loss: 0.0877 - val_loss: 0.0978\n",
      "Epoch 27/10000\n",
      "46875/46875 [==============================] - 11s 239us/step - loss: 0.0871 - val_loss: 0.0966\n",
      "Epoch 28/10000\n",
      "46875/46875 [==============================] - 11s 239us/step - loss: 0.0870 - val_loss: 0.0970\n",
      "Epoch 29/10000\n",
      "46875/46875 [==============================] - 11s 240us/step - loss: 0.0868 - val_loss: 0.0971\n",
      "Epoch 30/10000\n",
      "46875/46875 [==============================] - 11s 239us/step - loss: 0.0864 - val_loss: 0.0977\n",
      "Epoch 31/10000\n",
      "46875/46875 [==============================] - 11s 240us/step - loss: 0.0868 - val_loss: 0.0961\n",
      "Epoch 32/10000\n",
      "46875/46875 [==============================] - 11s 238us/step - loss: 0.0863 - val_loss: 0.0990\n",
      "Epoch 33/10000\n",
      "46875/46875 [==============================] - 11s 239us/step - loss: 0.0857 - val_loss: 0.0981\n",
      "Epoch 34/10000\n",
      "46875/46875 [==============================] - 11s 239us/step - loss: 0.0857 - val_loss: 0.0983\n",
      "Epoch 35/10000\n",
      "46875/46875 [==============================] - 11s 239us/step - loss: 0.0854 - val_loss: 0.0967\n",
      "Epoch 36/10000\n",
      "46875/46875 [==============================] - 11s 239us/step - loss: 0.0854 - val_loss: 0.0965\n",
      "Epoch 37/10000\n",
      "46875/46875 [==============================] - 11s 238us/step - loss: 0.0851 - val_loss: 0.0985\n",
      "Epoch 38/10000\n",
      "46875/46875 [==============================] - 11s 240us/step - loss: 0.0850 - val_loss: 0.0969\n",
      "Epoch 39/10000\n",
      "46875/46875 [==============================] - 11s 239us/step - loss: 0.0845 - val_loss: 0.0979\n"
     ]
    },
    {
     "name": "stdout",
     "output_type": "stream",
     "text": [
      "Epoch 40/10000\n",
      "46875/46875 [==============================] - 11s 238us/step - loss: 0.0845 - val_loss: 0.0991\n",
      "Epoch 41/10000\n",
      "46875/46875 [==============================] - 11s 239us/step - loss: 0.0845 - val_loss: 0.0982\n",
      "Epoch 42/10000\n",
      "46875/46875 [==============================] - 11s 239us/step - loss: 0.0846 - val_loss: 0.0998\n",
      "Epoch 43/10000\n",
      "46875/46875 [==============================] - 11s 237us/step - loss: 0.0846 - val_loss: 0.0979\n",
      "Epoch 44/10000\n",
      "46875/46875 [==============================] - 11s 239us/step - loss: 0.0837 - val_loss: 0.0980\n",
      "Epoch 45/10000\n",
      "46875/46875 [==============================] - 11s 238us/step - loss: 0.0838 - val_loss: 0.1009\n",
      "Epoch 46/10000\n",
      "46875/46875 [==============================] - 11s 239us/step - loss: 0.0839 - val_loss: 0.0994\n",
      "Epoch 47/10000\n",
      "46875/46875 [==============================] - 11s 239us/step - loss: 0.0831 - val_loss: 0.0996\n",
      "Epoch 48/10000\n",
      "46875/46875 [==============================] - 11s 239us/step - loss: 0.0832 - val_loss: 0.0980\n",
      "Epoch 49/10000\n",
      "46875/46875 [==============================] - 11s 238us/step - loss: 0.0835 - val_loss: 0.0989\n",
      "Epoch 50/10000\n",
      "46875/46875 [==============================] - 11s 238us/step - loss: 0.0832 - val_loss: 0.0993\n",
      "Epoch 51/10000\n",
      "46875/46875 [==============================] - 11s 238us/step - loss: 0.0830 - val_loss: 0.0977\n",
      "Epoch 52/10000\n",
      "46875/46875 [==============================] - 11s 239us/step - loss: 0.0828 - val_loss: 0.0994\n",
      "Epoch 53/10000\n",
      "46875/46875 [==============================] - 11s 238us/step - loss: 0.0827 - val_loss: 0.0986\n",
      "Epoch 54/10000\n",
      "46875/46875 [==============================] - 11s 238us/step - loss: 0.0826 - val_loss: 0.0990\n",
      "Epoch 55/10000\n",
      "46875/46875 [==============================] - 11s 238us/step - loss: 0.0824 - val_loss: 0.0984\n",
      "Epoch 56/10000\n",
      "46875/46875 [==============================] - 11s 239us/step - loss: 0.0822 - val_loss: 0.0989\n",
      "Epoch 57/10000\n",
      "46875/46875 [==============================] - 11s 238us/step - loss: 0.0827 - val_loss: 0.0983\n",
      "Epoch 58/10000\n",
      "46875/46875 [==============================] - 11s 239us/step - loss: 0.0822 - val_loss: 0.0993\n",
      "Epoch 59/10000\n",
      "46875/46875 [==============================] - 11s 239us/step - loss: 0.0823 - val_loss: 0.1012\n",
      "Epoch 60/10000\n",
      "46875/46875 [==============================] - 11s 238us/step - loss: 0.0817 - val_loss: 0.0988\n",
      "Epoch 61/10000\n",
      "46875/46875 [==============================] - 11s 238us/step - loss: 0.0818 - val_loss: 0.0998\n",
      "Epoch 62/10000\n",
      "46875/46875 [==============================] - 11s 239us/step - loss: 0.0814 - val_loss: 0.0991\n",
      "Epoch 63/10000\n",
      "46875/46875 [==============================] - 11s 239us/step - loss: 0.0816 - val_loss: 0.0990\n",
      "Epoch 64/10000\n",
      "46875/46875 [==============================] - 11s 237us/step - loss: 0.0810 - val_loss: 0.1005\n",
      "Epoch 65/10000\n",
      "46875/46875 [==============================] - 11s 239us/step - loss: 0.0817 - val_loss: 0.1001\n",
      "Restoring model weights from the end of the best epoch\n",
      "Epoch 00065: early stopping\n",
      "0.3092543342407225\n"
     ]
    }
   ],
   "source": [
    "nn_score = 0.0\n",
    "\n",
    "for train_index, test_index in skf.split(X, (y * 100).astype(int)):\n",
    "    \n",
    "    X_train, X_test = X[train_index], X[test_index]\n",
    "    y_train, y_test = y[train_index], y[test_index]\n",
    "    \n",
    "    sss = StratifiedShuffleSplit(n_splits=1, test_size=0.3, random_state=RANDOM_SEED)\n",
    "    tridx, vidx = next(sss.split(X_train, (y_train * 100).astype(int)))\n",
    "    X_train, X_valid = X_train[tridx], X_train[vidx]\n",
    "    y_train, y_valid = y_train[tridx], y_train[vidx]\n",
    "    \n",
    "    # Build model\n",
    "    model = build_model_3()\n",
    "    \n",
    "    # Early stoppnig callback\n",
    "    es = keras.callbacks.EarlyStopping(\n",
    "        monitor='val_loss', \n",
    "        mode='min', \n",
    "        patience=PATIENCE,\n",
    "        restore_best_weights=True,\n",
    "        verbose=1\n",
    "    )\n",
    "    \n",
    "    # Fit\n",
    "    model.fit([X_train[:, i_data_idx], X_train[:, b_data_idx], X_train[:, 5]], y_train,\n",
    "              validation_data=([X_valid[:, i_data_idx], X_valid[:, b_data_idx], X_valid[:, 5]], y_valid), \n",
    "              batch_size=BATCH_SIZE,\n",
    "              epochs=EPOCHS,\n",
    "              callbacks=[es],\n",
    "              verbose=1)\n",
    "    \n",
    "    nn_score += np.sqrt(mean_squared_error(\n",
    "        model.predict([X_test[:, i_data_idx], X_test[:, b_data_idx], X_test[:, 5]]), y_test\n",
    "    ))\n",
    "\n",
    "nn_score /= N_FOLDS\n",
    "\n",
    "print(nn_score)"
   ]
  },
  {
   "cell_type": "code",
   "execution_count": 335,
   "metadata": {},
   "outputs": [
    {
     "name": "stdout",
     "output_type": "stream",
     "text": [
      "Train on 46874 samples, validate on 20090 samples\n",
      "Epoch 1/10000\n",
      "46874/46874 [==============================] - 16s 346us/step - loss: 0.1133 - val_loss: 0.0995\n",
      "Epoch 2/10000\n",
      "46874/46874 [==============================] - 11s 242us/step - loss: 0.1032 - val_loss: 0.0976\n",
      "Epoch 3/10000\n",
      "46874/46874 [==============================] - 11s 242us/step - loss: 0.0996 - val_loss: 0.0965\n",
      "Epoch 4/10000\n",
      "46874/46874 [==============================] - 11s 242us/step - loss: 0.0985 - val_loss: 0.0965\n",
      "Epoch 5/10000\n",
      "46874/46874 [==============================] - 11s 242us/step - loss: 0.0970 - val_loss: 0.0953\n",
      "Epoch 6/10000\n",
      "46874/46874 [==============================] - 11s 243us/step - loss: 0.0962 - val_loss: 0.0978\n",
      "Epoch 7/10000\n",
      "46874/46874 [==============================] - 11s 243us/step - loss: 0.0955 - val_loss: 0.0945\n",
      "Epoch 8/10000\n",
      "46874/46874 [==============================] - 11s 244us/step - loss: 0.0947 - val_loss: 0.0953\n",
      "Epoch 9/10000\n",
      "46874/46874 [==============================] - 11s 243us/step - loss: 0.0940 - val_loss: 0.0942\n",
      "Epoch 10/10000\n",
      "46874/46874 [==============================] - 11s 243us/step - loss: 0.0930 - val_loss: 0.0958\n",
      "Epoch 11/10000\n",
      "46874/46874 [==============================] - 11s 244us/step - loss: 0.0929 - val_loss: 0.0950\n",
      "Epoch 12/10000\n",
      "46874/46874 [==============================] - 11s 244us/step - loss: 0.0920 - val_loss: 0.0946\n",
      "Epoch 13/10000\n",
      "46874/46874 [==============================] - 11s 244us/step - loss: 0.0915 - val_loss: 0.0945\n",
      "Epoch 14/10000\n",
      "46874/46874 [==============================] - 11s 243us/step - loss: 0.0912 - val_loss: 0.0965\n",
      "Epoch 15/10000\n",
      "46874/46874 [==============================] - 11s 243us/step - loss: 0.0906 - val_loss: 0.0954\n",
      "Epoch 16/10000\n",
      "46874/46874 [==============================] - 11s 244us/step - loss: 0.0903 - val_loss: 0.0956\n",
      "Epoch 17/10000\n",
      "46874/46874 [==============================] - 11s 243us/step - loss: 0.0898 - val_loss: 0.0945\n",
      "Epoch 18/10000\n",
      "46874/46874 [==============================] - 11s 245us/step - loss: 0.0896 - val_loss: 0.0946\n",
      "Epoch 19/10000\n",
      "46874/46874 [==============================] - 11s 244us/step - loss: 0.0895 - val_loss: 0.0965\n",
      "Epoch 20/10000\n",
      "46874/46874 [==============================] - 11s 243us/step - loss: 0.0888 - val_loss: 0.0966\n",
      "Epoch 21/10000\n",
      "46874/46874 [==============================] - 11s 244us/step - loss: 0.0883 - val_loss: 0.0958\n",
      "Epoch 22/10000\n",
      "46874/46874 [==============================] - 11s 244us/step - loss: 0.0881 - val_loss: 0.0972\n",
      "Epoch 23/10000\n",
      "46874/46874 [==============================] - 11s 244us/step - loss: 0.0881 - val_loss: 0.0962\n",
      "Epoch 24/10000\n",
      "46874/46874 [==============================] - 11s 244us/step - loss: 0.0876 - val_loss: 0.0960\n",
      "Epoch 25/10000\n",
      "46874/46874 [==============================] - 11s 244us/step - loss: 0.0875 - val_loss: 0.0976\n",
      "Epoch 26/10000\n",
      "46874/46874 [==============================] - 11s 244us/step - loss: 0.0868 - val_loss: 0.0960\n",
      "Epoch 27/10000\n",
      "46874/46874 [==============================] - 11s 245us/step - loss: 0.0866 - val_loss: 0.0962\n",
      "Epoch 28/10000\n",
      "46874/46874 [==============================] - 11s 244us/step - loss: 0.0866 - val_loss: 0.0952\n",
      "Epoch 29/10000\n",
      "46874/46874 [==============================] - 11s 245us/step - loss: 0.0859 - val_loss: 0.0970\n",
      "Epoch 30/10000\n",
      "46874/46874 [==============================] - 11s 245us/step - loss: 0.0857 - val_loss: 0.0972\n",
      "Epoch 31/10000\n",
      "46874/46874 [==============================] - 11s 244us/step - loss: 0.0855 - val_loss: 0.0972\n",
      "Epoch 32/10000\n",
      "46874/46874 [==============================] - 11s 245us/step - loss: 0.0848 - val_loss: 0.0974\n",
      "Epoch 33/10000\n",
      "46874/46874 [==============================] - 11s 245us/step - loss: 0.0850 - val_loss: 0.0969\n",
      "Epoch 34/10000\n",
      "46874/46874 [==============================] - 11s 245us/step - loss: 0.0848 - val_loss: 0.0986\n",
      "Epoch 35/10000\n",
      "46874/46874 [==============================] - 12s 246us/step - loss: 0.0847 - val_loss: 0.0980\n",
      "Epoch 36/10000\n",
      "46874/46874 [==============================] - 11s 245us/step - loss: 0.0847 - val_loss: 0.0984\n",
      "Epoch 37/10000\n",
      "46874/46874 [==============================] - 11s 245us/step - loss: 0.0842 - val_loss: 0.0986\n",
      "Epoch 38/10000\n",
      "46874/46874 [==============================] - 11s 245us/step - loss: 0.0837 - val_loss: 0.0975\n",
      "Epoch 39/10000\n",
      "46874/46874 [==============================] - 12s 246us/step - loss: 0.0834 - val_loss: 0.0977\n",
      "Epoch 40/10000\n",
      "46874/46874 [==============================] - 11s 245us/step - loss: 0.0835 - val_loss: 0.0985\n",
      "Epoch 41/10000\n",
      "46874/46874 [==============================] - 11s 245us/step - loss: 0.0833 - val_loss: 0.0988\n",
      "Epoch 42/10000\n",
      "46874/46874 [==============================] - 12s 246us/step - loss: 0.0829 - val_loss: 0.0999\n",
      "Epoch 43/10000\n",
      "46874/46874 [==============================] - 12s 246us/step - loss: 0.0828 - val_loss: 0.0985\n",
      "Epoch 44/10000\n",
      "46874/46874 [==============================] - 11s 245us/step - loss: 0.0828 - val_loss: 0.0991\n",
      "Epoch 45/10000\n",
      "46874/46874 [==============================] - 12s 246us/step - loss: 0.0824 - val_loss: 0.0988\n",
      "Epoch 46/10000\n",
      "46874/46874 [==============================] - 12s 248us/step - loss: 0.0822 - val_loss: 0.0990\n",
      "Epoch 47/10000\n",
      "46874/46874 [==============================] - 12s 245us/step - loss: 0.0822 - val_loss: 0.0998\n",
      "Epoch 48/10000\n",
      "46874/46874 [==============================] - 12s 246us/step - loss: 0.0819 - val_loss: 0.0990\n",
      "Epoch 49/10000\n",
      "46874/46874 [==============================] - 11s 245us/step - loss: 0.0816 - val_loss: 0.0988\n",
      "Epoch 50/10000\n",
      "46874/46874 [==============================] - 12s 246us/step - loss: 0.0813 - val_loss: 0.0983\n",
      "Epoch 51/10000\n",
      "46874/46874 [==============================] - 12s 246us/step - loss: 0.0817 - val_loss: 0.0999\n",
      "Epoch 52/10000\n",
      "46874/46874 [==============================] - 11s 245us/step - loss: 0.0814 - val_loss: 0.1005\n",
      "Epoch 53/10000\n",
      "46874/46874 [==============================] - 11s 244us/step - loss: 0.0812 - val_loss: 0.0992\n",
      "Epoch 54/10000\n",
      "46874/46874 [==============================] - 11s 244us/step - loss: 0.0809 - val_loss: 0.0998\n",
      "Epoch 55/10000\n",
      "46874/46874 [==============================] - 11s 244us/step - loss: 0.0810 - val_loss: 0.1014\n",
      "Epoch 56/10000\n",
      "46874/46874 [==============================] - 11s 244us/step - loss: 0.0802 - val_loss: 0.1008\n",
      "Epoch 57/10000\n",
      "46874/46874 [==============================] - 11s 244us/step - loss: 0.0802 - val_loss: 0.1016\n",
      "Epoch 58/10000\n",
      "46874/46874 [==============================] - 11s 245us/step - loss: 0.0806 - val_loss: 0.1007\n",
      "Epoch 59/10000\n",
      "46874/46874 [==============================] - 11s 244us/step - loss: 0.0800 - val_loss: 0.1014\n",
      "Restoring model weights from the end of the best epoch\n",
      "Epoch 00059: early stopping\n",
      "Train on 46875 samples, validate on 20090 samples\n",
      "Epoch 1/10000\n",
      "46875/46875 [==============================] - 16s 352us/step - loss: 0.1143 - val_loss: 0.1036\n",
      "Epoch 2/10000\n",
      "46875/46875 [==============================] - 12s 247us/step - loss: 0.1027 - val_loss: 0.0987\n",
      "Epoch 3/10000\n",
      "46875/46875 [==============================] - 12s 247us/step - loss: 0.0995 - val_loss: 0.0989\n",
      "Epoch 4/10000\n",
      "46875/46875 [==============================] - 12s 248us/step - loss: 0.0979 - val_loss: 0.0969\n",
      "Epoch 5/10000\n",
      "46875/46875 [==============================] - 12s 248us/step - loss: 0.0968 - val_loss: 0.0972\n",
      "Epoch 6/10000\n",
      "46875/46875 [==============================] - 12s 249us/step - loss: 0.0960 - val_loss: 0.0969\n",
      "Epoch 7/10000\n",
      "46875/46875 [==============================] - 12s 249us/step - loss: 0.0953 - val_loss: 0.0978\n",
      "Epoch 8/10000\n",
      "46875/46875 [==============================] - 12s 247us/step - loss: 0.0944 - val_loss: 0.0961\n",
      "Epoch 9/10000\n",
      "46875/46875 [==============================] - 12s 248us/step - loss: 0.0936 - val_loss: 0.0968\n",
      "Epoch 10/10000\n",
      "46875/46875 [==============================] - 12s 248us/step - loss: 0.0933 - val_loss: 0.0966\n",
      "Epoch 11/10000\n",
      "46875/46875 [==============================] - 12s 247us/step - loss: 0.0928 - val_loss: 0.0966\n",
      "Epoch 12/10000\n",
      "46875/46875 [==============================] - 12s 248us/step - loss: 0.0925 - val_loss: 0.0959\n",
      "Epoch 13/10000\n",
      "46875/46875 [==============================] - 12s 248us/step - loss: 0.0919 - val_loss: 0.0958\n",
      "Epoch 14/10000\n",
      "46875/46875 [==============================] - 11s 243us/step - loss: 0.0914 - val_loss: 0.0970\n",
      "Epoch 15/10000\n",
      "46875/46875 [==============================] - 11s 244us/step - loss: 0.0910 - val_loss: 0.0972\n",
      "Epoch 16/10000\n",
      "46875/46875 [==============================] - 11s 245us/step - loss: 0.0908 - val_loss: 0.0960\n",
      "Epoch 17/10000\n",
      "46875/46875 [==============================] - 11s 243us/step - loss: 0.0903 - val_loss: 0.0956\n",
      "Epoch 18/10000\n",
      "46875/46875 [==============================] - 11s 244us/step - loss: 0.0899 - val_loss: 0.0968\n",
      "Epoch 19/10000\n",
      "46875/46875 [==============================] - 11s 244us/step - loss: 0.0900 - val_loss: 0.0978\n",
      "Epoch 20/10000\n",
      "46875/46875 [==============================] - 11s 243us/step - loss: 0.0896 - val_loss: 0.0973\n",
      "Epoch 21/10000\n",
      "46875/46875 [==============================] - 11s 245us/step - loss: 0.0890 - val_loss: 0.0980\n",
      "Epoch 22/10000\n",
      "46875/46875 [==============================] - 11s 244us/step - loss: 0.0885 - val_loss: 0.0982\n",
      "Epoch 23/10000\n",
      "46875/46875 [==============================] - 11s 244us/step - loss: 0.0882 - val_loss: 0.0974\n",
      "Epoch 24/10000\n",
      "46875/46875 [==============================] - 11s 245us/step - loss: 0.0884 - val_loss: 0.0977\n",
      "Epoch 25/10000\n",
      "46875/46875 [==============================] - 11s 243us/step - loss: 0.0876 - val_loss: 0.0972\n",
      "Epoch 26/10000\n",
      "46875/46875 [==============================] - 11s 245us/step - loss: 0.0876 - val_loss: 0.0978\n",
      "Epoch 27/10000\n",
      "46875/46875 [==============================] - 11s 243us/step - loss: 0.0874 - val_loss: 0.0983\n",
      "Epoch 28/10000\n",
      "46875/46875 [==============================] - 11s 244us/step - loss: 0.0865 - val_loss: 0.0987\n",
      "Epoch 29/10000\n",
      "46875/46875 [==============================] - 11s 244us/step - loss: 0.0866 - val_loss: 0.0979\n",
      "Epoch 30/10000\n",
      "46875/46875 [==============================] - 11s 244us/step - loss: 0.0865 - val_loss: 0.0983\n",
      "Epoch 31/10000\n",
      "46875/46875 [==============================] - 11s 244us/step - loss: 0.0861 - val_loss: 0.0981\n",
      "Epoch 32/10000\n",
      "46875/46875 [==============================] - 11s 245us/step - loss: 0.0860 - val_loss: 0.0988\n",
      "Epoch 33/10000\n",
      "46875/46875 [==============================] - 11s 244us/step - loss: 0.0861 - val_loss: 0.0988\n",
      "Epoch 34/10000\n",
      "46875/46875 [==============================] - 11s 244us/step - loss: 0.0855 - val_loss: 0.1005\n",
      "Epoch 35/10000\n",
      "46875/46875 [==============================] - 11s 245us/step - loss: 0.0854 - val_loss: 0.0992\n",
      "Epoch 36/10000\n",
      "46875/46875 [==============================] - 11s 245us/step - loss: 0.0851 - val_loss: 0.1005\n",
      "Epoch 37/10000\n",
      "46875/46875 [==============================] - 11s 245us/step - loss: 0.0848 - val_loss: 0.1016\n",
      "Epoch 38/10000\n",
      "46875/46875 [==============================] - 11s 244us/step - loss: 0.0846 - val_loss: 0.1002\n",
      "Epoch 39/10000\n",
      "46875/46875 [==============================] - 11s 245us/step - loss: 0.0845 - val_loss: 0.1002\n",
      "Epoch 40/10000\n",
      "46875/46875 [==============================] - 11s 243us/step - loss: 0.0842 - val_loss: 0.0996\n",
      "Epoch 41/10000\n",
      "46875/46875 [==============================] - 11s 244us/step - loss: 0.0839 - val_loss: 0.1006\n",
      "Epoch 42/10000\n",
      "46875/46875 [==============================] - 11s 244us/step - loss: 0.0836 - val_loss: 0.1016\n",
      "Epoch 43/10000\n",
      "46875/46875 [==============================] - 11s 245us/step - loss: 0.0836 - val_loss: 0.1015\n",
      "Epoch 44/10000\n",
      "46875/46875 [==============================] - 11s 245us/step - loss: 0.0835 - val_loss: 0.1014\n",
      "Epoch 45/10000\n",
      "46875/46875 [==============================] - 11s 244us/step - loss: 0.0830 - val_loss: 0.1012\n",
      "Epoch 46/10000\n",
      "46875/46875 [==============================] - 11s 243us/step - loss: 0.0827 - val_loss: 0.1007\n",
      "Epoch 47/10000\n",
      "46875/46875 [==============================] - 11s 244us/step - loss: 0.0823 - val_loss: 0.1006\n",
      "Epoch 48/10000\n",
      "46875/46875 [==============================] - 11s 244us/step - loss: 0.0823 - val_loss: 0.1012\n",
      "Epoch 49/10000\n",
      "46875/46875 [==============================] - 11s 245us/step - loss: 0.0821 - val_loss: 0.1020\n",
      "Epoch 50/10000\n",
      "46875/46875 [==============================] - 11s 245us/step - loss: 0.0818 - val_loss: 0.1009\n",
      "Epoch 51/10000\n",
      "46875/46875 [==============================] - 11s 244us/step - loss: 0.0817 - val_loss: 0.1029\n",
      "Epoch 52/10000\n",
      "46875/46875 [==============================] - 11s 244us/step - loss: 0.0817 - val_loss: 0.1022\n",
      "Epoch 53/10000\n",
      "46875/46875 [==============================] - 11s 245us/step - loss: 0.0816 - val_loss: 0.1017\n",
      "Epoch 54/10000\n",
      "46875/46875 [==============================] - 11s 244us/step - loss: 0.0811 - val_loss: 0.1024\n",
      "Epoch 55/10000\n",
      "46875/46875 [==============================] - 11s 244us/step - loss: 0.0805 - val_loss: 0.1031\n",
      "Epoch 56/10000\n",
      "46875/46875 [==============================] - 11s 244us/step - loss: 0.0808 - val_loss: 0.1027\n",
      "Epoch 57/10000\n",
      "46875/46875 [==============================] - 11s 244us/step - loss: 0.0803 - val_loss: 0.1030\n",
      "Epoch 58/10000\n",
      "46875/46875 [==============================] - 11s 244us/step - loss: 0.0804 - val_loss: 0.1028\n",
      "Epoch 59/10000\n",
      "46875/46875 [==============================] - 11s 244us/step - loss: 0.0803 - val_loss: 0.1039\n",
      "Epoch 60/10000\n",
      "46875/46875 [==============================] - 11s 244us/step - loss: 0.0800 - val_loss: 0.1033\n",
      "Epoch 61/10000\n",
      "46875/46875 [==============================] - 11s 244us/step - loss: 0.0801 - val_loss: 0.1047\n",
      "Epoch 62/10000\n",
      "46875/46875 [==============================] - 13s 284us/step - loss: 0.0795 - val_loss: 0.1035\n",
      "Epoch 63/10000\n",
      "46875/46875 [==============================] - 13s 287us/step - loss: 0.0797 - val_loss: 0.1029\n",
      "Epoch 64/10000\n",
      "46875/46875 [==============================] - 14s 298us/step - loss: 0.0790 - val_loss: 0.1049\n",
      "Epoch 65/10000\n",
      "46875/46875 [==============================] - 14s 307us/step - loss: 0.0793 - val_loss: 0.1045\n",
      "Epoch 66/10000\n",
      "46875/46875 [==============================] - 14s 305us/step - loss: 0.0797 - val_loss: 0.1050\n",
      "Epoch 67/10000\n",
      "46875/46875 [==============================] - 14s 306us/step - loss: 0.0793 - val_loss: 0.1049\n",
      "Restoring model weights from the end of the best epoch\n",
      "Epoch 00067: early stopping\n",
      "Train on 46875 samples, validate on 20090 samples\n",
      "Epoch 1/10000\n",
      "46875/46875 [==============================] - 20s 427us/step - loss: 0.1164 - val_loss: 0.1015\n",
      "Epoch 2/10000\n",
      "46875/46875 [==============================] - 15s 310us/step - loss: 0.1031 - val_loss: 0.0988\n",
      "Epoch 3/10000\n",
      "46875/46875 [==============================] - 15s 313us/step - loss: 0.1006 - val_loss: 0.0995\n",
      "Epoch 4/10000\n",
      "46875/46875 [==============================] - 15s 311us/step - loss: 0.0992 - val_loss: 0.0971\n",
      "Epoch 5/10000\n",
      "46875/46875 [==============================] - 15s 310us/step - loss: 0.0977 - val_loss: 0.0981\n",
      "Epoch 6/10000\n",
      "46875/46875 [==============================] - 15s 310us/step - loss: 0.0966 - val_loss: 0.0964\n",
      "Epoch 7/10000\n",
      "46875/46875 [==============================] - 14s 309us/step - loss: 0.0954 - val_loss: 0.0971\n",
      "Epoch 8/10000\n",
      "46875/46875 [==============================] - 15s 311us/step - loss: 0.0952 - val_loss: 0.0985\n",
      "Epoch 9/10000\n",
      "46875/46875 [==============================] - 15s 310us/step - loss: 0.0941 - val_loss: 0.0959\n",
      "Epoch 10/10000\n",
      "46875/46875 [==============================] - 15s 311us/step - loss: 0.0942 - val_loss: 0.0960\n",
      "Epoch 11/10000\n",
      "46875/46875 [==============================] - 15s 312us/step - loss: 0.0931 - val_loss: 0.0960\n",
      "Epoch 12/10000\n",
      "46875/46875 [==============================] - 15s 311us/step - loss: 0.0927 - val_loss: 0.0958\n",
      "Epoch 13/10000\n",
      "46875/46875 [==============================] - 15s 310us/step - loss: 0.0922 - val_loss: 0.0971\n",
      "Epoch 14/10000\n",
      "46875/46875 [==============================] - 15s 310us/step - loss: 0.0915 - val_loss: 0.0982\n",
      "Epoch 15/10000\n",
      "46875/46875 [==============================] - 15s 310us/step - loss: 0.0915 - val_loss: 0.0974\n",
      "Epoch 16/10000\n",
      "46875/46875 [==============================] - 15s 309us/step - loss: 0.0909 - val_loss: 0.0968\n",
      "Epoch 17/10000\n",
      "46875/46875 [==============================] - 15s 311us/step - loss: 0.0910 - val_loss: 0.0974\n",
      "Epoch 18/10000\n",
      "46875/46875 [==============================] - 15s 311us/step - loss: 0.0905 - val_loss: 0.0961\n",
      "Epoch 19/10000\n",
      "46875/46875 [==============================] - 15s 311us/step - loss: 0.0898 - val_loss: 0.0976\n"
     ]
    },
    {
     "name": "stdout",
     "output_type": "stream",
     "text": [
      "Epoch 20/10000\n",
      "46875/46875 [==============================] - 15s 309us/step - loss: 0.0899 - val_loss: 0.0978\n",
      "Epoch 21/10000\n",
      "46875/46875 [==============================] - 15s 312us/step - loss: 0.0892 - val_loss: 0.0970\n",
      "Epoch 22/10000\n",
      "46875/46875 [==============================] - 15s 310us/step - loss: 0.0894 - val_loss: 0.0977\n",
      "Epoch 23/10000\n",
      "46875/46875 [==============================] - 15s 311us/step - loss: 0.0888 - val_loss: 0.0977\n",
      "Epoch 24/10000\n",
      "46875/46875 [==============================] - 15s 311us/step - loss: 0.0885 - val_loss: 0.0981\n",
      "Epoch 25/10000\n",
      "46875/46875 [==============================] - 15s 310us/step - loss: 0.0885 - val_loss: 0.0971\n",
      "Epoch 26/10000\n",
      "46875/46875 [==============================] - 15s 311us/step - loss: 0.0877 - val_loss: 0.0982\n",
      "Epoch 27/10000\n",
      "46875/46875 [==============================] - 15s 311us/step - loss: 0.0880 - val_loss: 0.0986\n",
      "Epoch 28/10000\n",
      "46875/46875 [==============================] - 15s 311us/step - loss: 0.0876 - val_loss: 0.0985\n",
      "Epoch 29/10000\n",
      "46875/46875 [==============================] - 15s 310us/step - loss: 0.0873 - val_loss: 0.0991\n",
      "Epoch 30/10000\n",
      "46875/46875 [==============================] - 15s 311us/step - loss: 0.0869 - val_loss: 0.0984\n",
      "Epoch 31/10000\n",
      "46875/46875 [==============================] - 15s 310us/step - loss: 0.0866 - val_loss: 0.0984\n",
      "Epoch 32/10000\n",
      "46875/46875 [==============================] - 15s 310us/step - loss: 0.0866 - val_loss: 0.0990\n",
      "Epoch 33/10000\n",
      "46875/46875 [==============================] - 15s 310us/step - loss: 0.0865 - val_loss: 0.0987\n",
      "Epoch 34/10000\n",
      "46875/46875 [==============================] - 15s 310us/step - loss: 0.0860 - val_loss: 0.0991\n",
      "Epoch 35/10000\n",
      "46875/46875 [==============================] - 15s 311us/step - loss: 0.0857 - val_loss: 0.0989\n",
      "Epoch 36/10000\n",
      "46875/46875 [==============================] - 15s 311us/step - loss: 0.0854 - val_loss: 0.0984\n",
      "Epoch 37/10000\n",
      "46875/46875 [==============================] - 15s 312us/step - loss: 0.0848 - val_loss: 0.1003\n",
      "Epoch 38/10000\n",
      "46875/46875 [==============================] - 15s 310us/step - loss: 0.0850 - val_loss: 0.0992\n",
      "Epoch 39/10000\n",
      "46875/46875 [==============================] - 15s 312us/step - loss: 0.0847 - val_loss: 0.1002\n",
      "Epoch 40/10000\n",
      "46875/46875 [==============================] - 15s 311us/step - loss: 0.0849 - val_loss: 0.1006\n",
      "Epoch 41/10000\n",
      "46875/46875 [==============================] - 15s 311us/step - loss: 0.0840 - val_loss: 0.1013\n",
      "Epoch 42/10000\n",
      "46875/46875 [==============================] - 15s 312us/step - loss: 0.0840 - val_loss: 0.0995\n",
      "Epoch 43/10000\n",
      "46875/46875 [==============================] - 15s 311us/step - loss: 0.0835 - val_loss: 0.1000\n",
      "Epoch 44/10000\n",
      "46875/46875 [==============================] - 15s 310us/step - loss: 0.0835 - val_loss: 0.1003\n",
      "Epoch 45/10000\n",
      "46875/46875 [==============================] - 15s 311us/step - loss: 0.0832 - val_loss: 0.1006\n",
      "Epoch 46/10000\n",
      "46875/46875 [==============================] - 15s 310us/step - loss: 0.0833 - val_loss: 0.1006\n",
      "Epoch 47/10000\n",
      "46875/46875 [==============================] - 15s 310us/step - loss: 0.0833 - val_loss: 0.1013\n",
      "Epoch 48/10000\n",
      "46875/46875 [==============================] - 14s 300us/step - loss: 0.0829 - val_loss: 0.1006\n",
      "Epoch 49/10000\n",
      "46875/46875 [==============================] - 14s 301us/step - loss: 0.0826 - val_loss: 0.1014\n",
      "Epoch 50/10000\n",
      "46875/46875 [==============================] - 15s 313us/step - loss: 0.0828 - val_loss: 0.1015\n",
      "Epoch 51/10000\n",
      "46875/46875 [==============================] - 15s 312us/step - loss: 0.0821 - val_loss: 0.1023\n",
      "Epoch 52/10000\n",
      "46875/46875 [==============================] - 15s 311us/step - loss: 0.0825 - val_loss: 0.1020\n",
      "Epoch 53/10000\n",
      "46875/46875 [==============================] - 15s 312us/step - loss: 0.0823 - val_loss: 0.1016\n",
      "Epoch 54/10000\n",
      "46875/46875 [==============================] - 15s 314us/step - loss: 0.0816 - val_loss: 0.1024\n",
      "Epoch 55/10000\n",
      "46875/46875 [==============================] - 15s 312us/step - loss: 0.0813 - val_loss: 0.1022\n",
      "Epoch 56/10000\n",
      "46875/46875 [==============================] - 15s 312us/step - loss: 0.0812 - val_loss: 0.1032\n",
      "Epoch 57/10000\n",
      "46875/46875 [==============================] - 15s 312us/step - loss: 0.0811 - val_loss: 0.1020\n",
      "Epoch 58/10000\n",
      "46875/46875 [==============================] - 15s 313us/step - loss: 0.0812 - val_loss: 0.1023\n",
      "Epoch 59/10000\n",
      "46875/46875 [==============================] - 15s 313us/step - loss: 0.0811 - val_loss: 0.1034\n",
      "Epoch 60/10000\n",
      "46875/46875 [==============================] - 15s 312us/step - loss: 0.0810 - val_loss: 0.1018\n",
      "Epoch 61/10000\n",
      "46875/46875 [==============================] - 15s 314us/step - loss: 0.0808 - val_loss: 0.1044\n",
      "Epoch 62/10000\n",
      "46875/46875 [==============================] - 15s 313us/step - loss: 0.0808 - val_loss: 0.1023\n",
      "Restoring model weights from the end of the best epoch\n",
      "Epoch 00062: early stopping\n",
      "Train on 46875 samples, validate on 20090 samples\n",
      "Epoch 1/10000\n",
      "46875/46875 [==============================] - 20s 435us/step - loss: 0.1150 - val_loss: 0.1065\n",
      "Epoch 2/10000\n",
      "46875/46875 [==============================] - 15s 314us/step - loss: 0.1027 - val_loss: 0.1007\n",
      "Epoch 3/10000\n",
      "46875/46875 [==============================] - 15s 313us/step - loss: 0.0993 - val_loss: 0.0988\n",
      "Epoch 4/10000\n",
      "46875/46875 [==============================] - 15s 314us/step - loss: 0.0979 - val_loss: 0.0988\n",
      "Epoch 5/10000\n",
      "46875/46875 [==============================] - 15s 316us/step - loss: 0.0961 - val_loss: 0.0983\n",
      "Epoch 6/10000\n",
      "46875/46875 [==============================] - 15s 315us/step - loss: 0.0954 - val_loss: 0.0982\n",
      "Epoch 7/10000\n",
      "46875/46875 [==============================] - 15s 313us/step - loss: 0.0945 - val_loss: 0.0974\n",
      "Epoch 8/10000\n",
      "46875/46875 [==============================] - 15s 313us/step - loss: 0.0934 - val_loss: 0.0989\n",
      "Epoch 9/10000\n",
      "46875/46875 [==============================] - 15s 311us/step - loss: 0.0932 - val_loss: 0.1011\n",
      "Epoch 10/10000\n",
      "46875/46875 [==============================] - 15s 315us/step - loss: 0.0926 - val_loss: 0.0980\n",
      "Epoch 11/10000\n",
      "46875/46875 [==============================] - 15s 313us/step - loss: 0.0925 - val_loss: 0.0979\n",
      "Epoch 12/10000\n",
      "46875/46875 [==============================] - 15s 314us/step - loss: 0.0915 - val_loss: 0.0966\n",
      "Epoch 13/10000\n",
      "46875/46875 [==============================] - 15s 314us/step - loss: 0.0912 - val_loss: 0.0970\n",
      "Epoch 14/10000\n",
      "46875/46875 [==============================] - 15s 313us/step - loss: 0.0905 - val_loss: 0.0982\n",
      "Epoch 15/10000\n",
      "46875/46875 [==============================] - 14s 293us/step - loss: 0.0902 - val_loss: 0.0985\n",
      "Epoch 16/10000\n",
      "46875/46875 [==============================] - 13s 285us/step - loss: 0.0898 - val_loss: 0.0969\n",
      "Epoch 17/10000\n",
      "46875/46875 [==============================] - 12s 261us/step - loss: 0.0895 - val_loss: 0.0973\n",
      "Epoch 18/10000\n",
      "46875/46875 [==============================] - 12s 250us/step - loss: 0.0892 - val_loss: 0.0980\n",
      "Epoch 19/10000\n",
      "46875/46875 [==============================] - 12s 250us/step - loss: 0.0891 - val_loss: 0.0972\n",
      "Epoch 20/10000\n",
      "46875/46875 [==============================] - 12s 249us/step - loss: 0.0885 - val_loss: 0.0974\n",
      "Epoch 21/10000\n",
      "46875/46875 [==============================] - 12s 251us/step - loss: 0.0879 - val_loss: 0.0989\n",
      "Epoch 22/10000\n",
      "46875/46875 [==============================] - 12s 251us/step - loss: 0.0877 - val_loss: 0.0990\n",
      "Epoch 23/10000\n",
      "46875/46875 [==============================] - 12s 249us/step - loss: 0.0878 - val_loss: 0.0980\n",
      "Epoch 24/10000\n",
      "46875/46875 [==============================] - 12s 250us/step - loss: 0.0874 - val_loss: 0.0984\n",
      "Epoch 25/10000\n",
      "46875/46875 [==============================] - 12s 250us/step - loss: 0.0870 - val_loss: 0.0985\n",
      "Epoch 26/10000\n",
      "46875/46875 [==============================] - 12s 249us/step - loss: 0.0867 - val_loss: 0.0991\n",
      "Epoch 27/10000\n",
      "46875/46875 [==============================] - 12s 250us/step - loss: 0.0865 - val_loss: 0.0988\n",
      "Epoch 28/10000\n",
      "46875/46875 [==============================] - 12s 250us/step - loss: 0.0860 - val_loss: 0.0991\n",
      "Epoch 29/10000\n",
      "46875/46875 [==============================] - 12s 249us/step - loss: 0.0862 - val_loss: 0.0978\n",
      "Epoch 30/10000\n",
      "46875/46875 [==============================] - 12s 249us/step - loss: 0.0853 - val_loss: 0.0981\n",
      "Epoch 31/10000\n",
      "46875/46875 [==============================] - 12s 249us/step - loss: 0.0857 - val_loss: 0.0987\n",
      "Epoch 32/10000\n",
      "46875/46875 [==============================] - 12s 250us/step - loss: 0.0851 - val_loss: 0.0991\n",
      "Epoch 33/10000\n",
      "46875/46875 [==============================] - 12s 249us/step - loss: 0.0848 - val_loss: 0.0992\n",
      "Epoch 34/10000\n",
      "46875/46875 [==============================] - 12s 249us/step - loss: 0.0847 - val_loss: 0.0985\n",
      "Epoch 35/10000\n",
      "46875/46875 [==============================] - 12s 249us/step - loss: 0.0845 - val_loss: 0.0999\n",
      "Epoch 36/10000\n",
      "46875/46875 [==============================] - 12s 249us/step - loss: 0.0841 - val_loss: 0.1005\n",
      "Epoch 37/10000\n",
      "46875/46875 [==============================] - 12s 249us/step - loss: 0.0840 - val_loss: 0.1011\n",
      "Epoch 38/10000\n",
      "46875/46875 [==============================] - 12s 249us/step - loss: 0.0841 - val_loss: 0.1006\n",
      "Epoch 39/10000\n",
      "46875/46875 [==============================] - 12s 249us/step - loss: 0.0840 - val_loss: 0.1002\n",
      "Epoch 40/10000\n",
      "46875/46875 [==============================] - 12s 249us/step - loss: 0.0833 - val_loss: 0.1005\n",
      "Epoch 41/10000\n",
      "46875/46875 [==============================] - 12s 249us/step - loss: 0.0829 - val_loss: 0.1005\n",
      "Epoch 42/10000\n",
      "46875/46875 [==============================] - 12s 249us/step - loss: 0.0830 - val_loss: 0.0995\n",
      "Epoch 43/10000\n",
      "46875/46875 [==============================] - 12s 249us/step - loss: 0.0827 - val_loss: 0.1000\n",
      "Epoch 44/10000\n",
      "46875/46875 [==============================] - 12s 250us/step - loss: 0.0822 - val_loss: 0.1009\n",
      "Epoch 45/10000\n",
      "46875/46875 [==============================] - 12s 250us/step - loss: 0.0822 - val_loss: 0.1011\n",
      "Epoch 46/10000\n",
      "46875/46875 [==============================] - 12s 249us/step - loss: 0.0821 - val_loss: 0.1008\n",
      "Epoch 47/10000\n",
      "46875/46875 [==============================] - 12s 249us/step - loss: 0.0819 - val_loss: 0.1017\n",
      "Epoch 48/10000\n",
      "46875/46875 [==============================] - 12s 248us/step - loss: 0.0817 - val_loss: 0.1011\n",
      "Epoch 49/10000\n",
      "46875/46875 [==============================] - 12s 249us/step - loss: 0.0812 - val_loss: 0.1017\n",
      "Epoch 50/10000\n",
      "46875/46875 [==============================] - 12s 249us/step - loss: 0.0814 - val_loss: 0.1014\n",
      "Epoch 51/10000\n",
      "46875/46875 [==============================] - 12s 249us/step - loss: 0.0808 - val_loss: 0.1026\n",
      "Epoch 52/10000\n",
      "46875/46875 [==============================] - 12s 249us/step - loss: 0.0810 - val_loss: 0.1029\n",
      "Epoch 53/10000\n",
      "46875/46875 [==============================] - 12s 249us/step - loss: 0.0804 - val_loss: 0.1023\n",
      "Epoch 54/10000\n",
      "46875/46875 [==============================] - 12s 250us/step - loss: 0.0801 - val_loss: 0.1017\n",
      "Epoch 55/10000\n",
      "46875/46875 [==============================] - 12s 250us/step - loss: 0.0799 - val_loss: 0.1027\n",
      "Epoch 56/10000\n",
      "46875/46875 [==============================] - 12s 249us/step - loss: 0.0799 - val_loss: 0.1032\n",
      "Epoch 57/10000\n",
      "46875/46875 [==============================] - 12s 249us/step - loss: 0.0804 - val_loss: 0.1036\n",
      "Epoch 58/10000\n",
      "46875/46875 [==============================] - 12s 249us/step - loss: 0.0795 - val_loss: 0.1018\n",
      "Epoch 59/10000\n",
      "46875/46875 [==============================] - 12s 250us/step - loss: 0.0794 - val_loss: 0.1034\n",
      "Epoch 60/10000\n",
      "46875/46875 [==============================] - 12s 249us/step - loss: 0.0794 - val_loss: 0.1030\n",
      "Epoch 61/10000\n",
      "46875/46875 [==============================] - 12s 250us/step - loss: 0.0792 - val_loss: 0.1033\n",
      "Epoch 62/10000\n",
      "46875/46875 [==============================] - 12s 249us/step - loss: 0.0788 - val_loss: 0.1033\n",
      "Restoring model weights from the end of the best epoch\n",
      "Epoch 00062: early stopping\n",
      "Train on 46875 samples, validate on 20090 samples\n",
      "Epoch 1/10000\n",
      "46875/46875 [==============================] - 17s 363us/step - loss: 0.1156 - val_loss: 0.1030\n",
      "Epoch 2/10000\n",
      "46875/46875 [==============================] - 12s 254us/step - loss: 0.1027 - val_loss: 0.1007\n",
      "Epoch 3/10000\n",
      "46875/46875 [==============================] - 12s 253us/step - loss: 0.0998 - val_loss: 0.0976\n",
      "Epoch 4/10000\n",
      "46875/46875 [==============================] - 12s 253us/step - loss: 0.0985 - val_loss: 0.0973\n",
      "Epoch 5/10000\n",
      "46875/46875 [==============================] - 12s 254us/step - loss: 0.0973 - val_loss: 0.0961\n",
      "Epoch 6/10000\n",
      "46875/46875 [==============================] - 12s 254us/step - loss: 0.0959 - val_loss: 0.0976\n",
      "Epoch 7/10000\n",
      "46875/46875 [==============================] - 12s 253us/step - loss: 0.0947 - val_loss: 0.0983\n",
      "Epoch 8/10000\n",
      "46875/46875 [==============================] - 12s 254us/step - loss: 0.0942 - val_loss: 0.0966\n",
      "Epoch 9/10000\n",
      "46875/46875 [==============================] - 12s 255us/step - loss: 0.0934 - val_loss: 0.0961\n",
      "Epoch 10/10000\n",
      "46875/46875 [==============================] - 12s 255us/step - loss: 0.0929 - val_loss: 0.0972\n",
      "Epoch 11/10000\n",
      "46875/46875 [==============================] - 12s 255us/step - loss: 0.0922 - val_loss: 0.0951\n",
      "Epoch 12/10000\n",
      "46875/46875 [==============================] - 12s 256us/step - loss: 0.0919 - val_loss: 0.0966\n",
      "Epoch 13/10000\n",
      "46875/46875 [==============================] - 12s 255us/step - loss: 0.0913 - val_loss: 0.0964\n",
      "Epoch 14/10000\n",
      "46875/46875 [==============================] - 12s 255us/step - loss: 0.0912 - val_loss: 0.0963\n",
      "Epoch 15/10000\n",
      "46875/46875 [==============================] - 12s 256us/step - loss: 0.0905 - val_loss: 0.0958\n",
      "Epoch 16/10000\n",
      "46875/46875 [==============================] - 12s 263us/step - loss: 0.0901 - val_loss: 0.0967\n",
      "Epoch 17/10000\n",
      "46875/46875 [==============================] - 12s 254us/step - loss: 0.0898 - val_loss: 0.0960\n",
      "Epoch 18/10000\n",
      "46875/46875 [==============================] - 12s 254us/step - loss: 0.0896 - val_loss: 0.0960\n",
      "Epoch 19/10000\n",
      "46875/46875 [==============================] - 12s 254us/step - loss: 0.0892 - val_loss: 0.0959\n",
      "Epoch 20/10000\n",
      "46875/46875 [==============================] - 12s 255us/step - loss: 0.0885 - val_loss: 0.0961\n",
      "Epoch 21/10000\n",
      "46875/46875 [==============================] - 12s 254us/step - loss: 0.0881 - val_loss: 0.0949\n",
      "Epoch 22/10000\n",
      "46875/46875 [==============================] - 12s 255us/step - loss: 0.0878 - val_loss: 0.0972\n",
      "Epoch 23/10000\n",
      "46875/46875 [==============================] - 12s 254us/step - loss: 0.0878 - val_loss: 0.0959\n",
      "Epoch 24/10000\n",
      "46875/46875 [==============================] - 12s 255us/step - loss: 0.0875 - val_loss: 0.0970\n",
      "Epoch 25/10000\n",
      "46875/46875 [==============================] - 12s 255us/step - loss: 0.0869 - val_loss: 0.0959\n",
      "Epoch 26/10000\n",
      "46875/46875 [==============================] - 12s 255us/step - loss: 0.0867 - val_loss: 0.0968\n",
      "Epoch 27/10000\n",
      "46875/46875 [==============================] - 12s 255us/step - loss: 0.0863 - val_loss: 0.0972\n",
      "Epoch 28/10000\n",
      "46875/46875 [==============================] - 12s 253us/step - loss: 0.0862 - val_loss: 0.0972\n",
      "Epoch 29/10000\n",
      "46875/46875 [==============================] - 12s 254us/step - loss: 0.0860 - val_loss: 0.0976\n",
      "Epoch 30/10000\n",
      "46875/46875 [==============================] - 12s 255us/step - loss: 0.0858 - val_loss: 0.0972\n",
      "Epoch 31/10000\n",
      "46875/46875 [==============================] - 12s 255us/step - loss: 0.0856 - val_loss: 0.0964\n",
      "Epoch 32/10000\n",
      "46875/46875 [==============================] - 12s 254us/step - loss: 0.0854 - val_loss: 0.0968\n",
      "Epoch 33/10000\n",
      "46875/46875 [==============================] - 12s 256us/step - loss: 0.0849 - val_loss: 0.0974\n",
      "Epoch 34/10000\n",
      "46875/46875 [==============================] - 12s 254us/step - loss: 0.0849 - val_loss: 0.0987\n",
      "Epoch 35/10000\n",
      "46875/46875 [==============================] - 12s 255us/step - loss: 0.0847 - val_loss: 0.0980\n",
      "Epoch 36/10000\n",
      "46875/46875 [==============================] - 12s 254us/step - loss: 0.0846 - val_loss: 0.0969\n",
      "Epoch 37/10000\n",
      "46875/46875 [==============================] - 12s 254us/step - loss: 0.0843 - val_loss: 0.0982\n",
      "Epoch 38/10000\n",
      "46875/46875 [==============================] - 12s 255us/step - loss: 0.0841 - val_loss: 0.0971\n",
      "Epoch 39/10000\n",
      "46875/46875 [==============================] - 12s 255us/step - loss: 0.0841 - val_loss: 0.0979\n",
      "Epoch 40/10000\n",
      "46875/46875 [==============================] - 12s 255us/step - loss: 0.0836 - val_loss: 0.0990\n"
     ]
    },
    {
     "name": "stdout",
     "output_type": "stream",
     "text": [
      "Epoch 41/10000\n",
      "46875/46875 [==============================] - 12s 254us/step - loss: 0.0833 - val_loss: 0.0976\n",
      "Epoch 42/10000\n",
      "46875/46875 [==============================] - 12s 254us/step - loss: 0.0835 - val_loss: 0.0977\n",
      "Epoch 43/10000\n",
      "46875/46875 [==============================] - 12s 254us/step - loss: 0.0829 - val_loss: 0.0997\n",
      "Epoch 44/10000\n",
      "46875/46875 [==============================] - 12s 254us/step - loss: 0.0829 - val_loss: 0.0987\n",
      "Epoch 45/10000\n",
      "46875/46875 [==============================] - 12s 254us/step - loss: 0.0826 - val_loss: 0.0987\n",
      "Epoch 46/10000\n",
      "46875/46875 [==============================] - 12s 254us/step - loss: 0.0823 - val_loss: 0.0987\n",
      "Epoch 47/10000\n",
      "46875/46875 [==============================] - 12s 254us/step - loss: 0.0822 - val_loss: 0.0990\n",
      "Epoch 48/10000\n",
      "46875/46875 [==============================] - 12s 254us/step - loss: 0.0823 - val_loss: 0.0993\n",
      "Epoch 49/10000\n",
      "46875/46875 [==============================] - 12s 253us/step - loss: 0.0818 - val_loss: 0.0986\n",
      "Epoch 50/10000\n",
      "46875/46875 [==============================] - 12s 253us/step - loss: 0.0817 - val_loss: 0.0982\n",
      "Epoch 51/10000\n",
      "46875/46875 [==============================] - 12s 254us/step - loss: 0.0815 - val_loss: 0.1003\n",
      "Epoch 52/10000\n",
      "46875/46875 [==============================] - 12s 253us/step - loss: 0.0816 - val_loss: 0.0995\n",
      "Epoch 53/10000\n",
      "46875/46875 [==============================] - 12s 255us/step - loss: 0.0811 - val_loss: 0.0993\n",
      "Epoch 54/10000\n",
      "46875/46875 [==============================] - 12s 253us/step - loss: 0.0812 - val_loss: 0.1007\n",
      "Epoch 55/10000\n",
      "46875/46875 [==============================] - 12s 254us/step - loss: 0.0807 - val_loss: 0.1000\n",
      "Epoch 56/10000\n",
      "46875/46875 [==============================] - 12s 255us/step - loss: 0.0805 - val_loss: 0.1008\n",
      "Epoch 57/10000\n",
      "46875/46875 [==============================] - 12s 253us/step - loss: 0.0803 - val_loss: 0.1003\n",
      "Epoch 58/10000\n",
      "46875/46875 [==============================] - 12s 252us/step - loss: 0.0807 - val_loss: 0.0997\n",
      "Epoch 59/10000\n",
      "46875/46875 [==============================] - 12s 252us/step - loss: 0.0807 - val_loss: 0.1004\n",
      "Epoch 60/10000\n",
      "46875/46875 [==============================] - 12s 254us/step - loss: 0.0800 - val_loss: 0.1020\n",
      "Epoch 61/10000\n",
      "46875/46875 [==============================] - 12s 254us/step - loss: 0.0799 - val_loss: 0.1014\n",
      "Epoch 62/10000\n",
      "46875/46875 [==============================] - 12s 254us/step - loss: 0.0799 - val_loss: 0.0994\n",
      "Epoch 63/10000\n",
      "46875/46875 [==============================] - 12s 255us/step - loss: 0.0797 - val_loss: 0.1006\n",
      "Epoch 64/10000\n",
      "46875/46875 [==============================] - 12s 254us/step - loss: 0.0795 - val_loss: 0.1015\n",
      "Epoch 65/10000\n",
      "46875/46875 [==============================] - 12s 254us/step - loss: 0.0796 - val_loss: 0.1003\n",
      "Epoch 66/10000\n",
      "46875/46875 [==============================] - 12s 254us/step - loss: 0.0792 - val_loss: 0.1011\n",
      "Epoch 67/10000\n",
      "46875/46875 [==============================] - 12s 254us/step - loss: 0.0787 - val_loss: 0.1004\n",
      "Epoch 68/10000\n",
      "46875/46875 [==============================] - 12s 255us/step - loss: 0.0793 - val_loss: 0.1013\n",
      "Epoch 69/10000\n",
      "46875/46875 [==============================] - 12s 254us/step - loss: 0.0788 - val_loss: 0.1010\n",
      "Epoch 70/10000\n",
      "46875/46875 [==============================] - 12s 255us/step - loss: 0.0788 - val_loss: 0.1025\n",
      "Epoch 71/10000\n",
      "46875/46875 [==============================] - 12s 254us/step - loss: 0.0785 - val_loss: 0.1017\n",
      "Restoring model weights from the end of the best epoch\n",
      "Epoch 00071: early stopping\n",
      "0.3091182938655459\n"
     ]
    }
   ],
   "source": [
    "nn_score = 0.0\n",
    "\n",
    "for train_index, test_index in skf.split(X, (y * 100).astype(int)):\n",
    "    \n",
    "    X_train, X_test = X[train_index], X[test_index]\n",
    "    y_train, y_test = y[train_index], y[test_index]\n",
    "    \n",
    "    sss = StratifiedShuffleSplit(n_splits=1, test_size=0.3, random_state=RANDOM_SEED)\n",
    "    tridx, vidx = next(sss.split(X_train, (y_train * 100).astype(int)))\n",
    "    X_train, X_valid = X_train[tridx], X_train[vidx]\n",
    "    y_train, y_valid = y_train[tridx], y_train[vidx]\n",
    "    \n",
    "    # Build model\n",
    "    model = build_model_3(80, 80, 5, 50, 0.3)\n",
    "    \n",
    "    # Early stoppnig callback\n",
    "    es = keras.callbacks.EarlyStopping(\n",
    "        monitor='val_loss', \n",
    "        mode='min', \n",
    "        patience=PATIENCE,\n",
    "        restore_best_weights=True,\n",
    "        verbose=1\n",
    "    )\n",
    "    \n",
    "    # Fit\n",
    "    model.fit([X_train[:, i_data_idx], X_train[:, b_data_idx], X_train[:, 5]], y_train,\n",
    "              validation_data=([X_valid[:, i_data_idx], X_valid[:, b_data_idx], X_valid[:, 5]], y_valid), \n",
    "              batch_size=BATCH_SIZE,\n",
    "              epochs=EPOCHS,\n",
    "              callbacks=[es],\n",
    "              verbose=1)\n",
    "    \n",
    "    nn_score += np.sqrt(mean_squared_error(\n",
    "        model.predict([X_test[:, i_data_idx], X_test[:, b_data_idx], X_test[:, 5]]), y_test\n",
    "    ))\n",
    "\n",
    "nn_score /= N_FOLDS\n",
    "\n",
    "print(nn_score)"
   ]
  },
  {
   "cell_type": "code",
   "execution_count": 336,
   "metadata": {
    "scrolled": true
   },
   "outputs": [
    {
     "name": "stdout",
     "output_type": "stream",
     "text": [
      "Train on 46874 samples, validate on 20090 samples\n",
      "Epoch 1/10000\n",
      "46874/46874 [==============================] - 17s 367us/step - loss: 0.1194 - val_loss: 0.1088\n",
      "Epoch 2/10000\n",
      "46874/46874 [==============================] - 12s 255us/step - loss: 0.1048 - val_loss: 0.0991\n",
      "Epoch 3/10000\n",
      "46874/46874 [==============================] - 12s 256us/step - loss: 0.1018 - val_loss: 0.0973\n",
      "Epoch 4/10000\n",
      "46874/46874 [==============================] - 12s 255us/step - loss: 0.1000 - val_loss: 0.1009\n",
      "Epoch 5/10000\n",
      "46874/46874 [==============================] - 12s 256us/step - loss: 0.0990 - val_loss: 0.0964\n",
      "Epoch 6/10000\n",
      "46874/46874 [==============================] - 12s 255us/step - loss: 0.0984 - val_loss: 0.0956\n",
      "Epoch 7/10000\n",
      "46874/46874 [==============================] - 12s 256us/step - loss: 0.0971 - val_loss: 0.0955\n",
      "Epoch 8/10000\n",
      "46874/46874 [==============================] - 12s 256us/step - loss: 0.0963 - val_loss: 0.0952\n",
      "Epoch 9/10000\n",
      "46874/46874 [==============================] - 12s 257us/step - loss: 0.0958 - val_loss: 0.0971\n",
      "Epoch 10/10000\n",
      "46874/46874 [==============================] - 12s 256us/step - loss: 0.0955 - val_loss: 0.0995\n",
      "Epoch 11/10000\n",
      "46874/46874 [==============================] - 12s 256us/step - loss: 0.0945 - val_loss: 0.0954\n",
      "Epoch 12/10000\n",
      "46874/46874 [==============================] - 12s 257us/step - loss: 0.0942 - val_loss: 0.0951\n",
      "Epoch 13/10000\n",
      "46874/46874 [==============================] - 12s 258us/step - loss: 0.0940 - val_loss: 0.0966\n",
      "Epoch 14/10000\n",
      "46874/46874 [==============================] - 12s 256us/step - loss: 0.0934 - val_loss: 0.0953\n",
      "Epoch 15/10000\n",
      "46874/46874 [==============================] - 12s 256us/step - loss: 0.0930 - val_loss: 0.0970\n",
      "Epoch 16/10000\n",
      "46874/46874 [==============================] - 12s 256us/step - loss: 0.0926 - val_loss: 0.0954\n",
      "Epoch 17/10000\n",
      "46874/46874 [==============================] - 12s 257us/step - loss: 0.0922 - val_loss: 0.0963\n",
      "Epoch 18/10000\n",
      "46874/46874 [==============================] - 12s 256us/step - loss: 0.0922 - val_loss: 0.0957\n",
      "Epoch 19/10000\n",
      "46874/46874 [==============================] - 12s 257us/step - loss: 0.0919 - val_loss: 0.0980\n",
      "Epoch 20/10000\n",
      "46874/46874 [==============================] - 12s 257us/step - loss: 0.0914 - val_loss: 0.0950\n",
      "Epoch 21/10000\n",
      "46874/46874 [==============================] - 12s 257us/step - loss: 0.0915 - val_loss: 0.0952\n",
      "Epoch 22/10000\n",
      "46874/46874 [==============================] - 12s 257us/step - loss: 0.0908 - val_loss: 0.0949\n",
      "Epoch 23/10000\n",
      "46874/46874 [==============================] - 12s 257us/step - loss: 0.0911 - val_loss: 0.0957\n",
      "Epoch 24/10000\n",
      "46874/46874 [==============================] - 12s 257us/step - loss: 0.0907 - val_loss: 0.0971\n",
      "Epoch 25/10000\n",
      "46874/46874 [==============================] - 12s 257us/step - loss: 0.0905 - val_loss: 0.0956\n",
      "Epoch 26/10000\n",
      "46874/46874 [==============================] - 12s 257us/step - loss: 0.0905 - val_loss: 0.0962\n",
      "Epoch 27/10000\n",
      "46874/46874 [==============================] - 12s 258us/step - loss: 0.0902 - val_loss: 0.0962\n",
      "Epoch 28/10000\n",
      "46874/46874 [==============================] - 12s 258us/step - loss: 0.0901 - val_loss: 0.0964\n",
      "Epoch 29/10000\n",
      "46874/46874 [==============================] - 12s 258us/step - loss: 0.0897 - val_loss: 0.0966\n",
      "Epoch 30/10000\n",
      "46874/46874 [==============================] - 12s 257us/step - loss: 0.0899 - val_loss: 0.0969\n",
      "Epoch 31/10000\n",
      "46874/46874 [==============================] - 12s 258us/step - loss: 0.0901 - val_loss: 0.0971\n",
      "Epoch 32/10000\n",
      "46874/46874 [==============================] - 12s 257us/step - loss: 0.0892 - val_loss: 0.0972\n",
      "Epoch 33/10000\n",
      "46874/46874 [==============================] - 12s 258us/step - loss: 0.0897 - val_loss: 0.1060\n",
      "Epoch 34/10000\n",
      "46874/46874 [==============================] - 12s 258us/step - loss: 0.0905 - val_loss: 0.0965\n",
      "Epoch 35/10000\n",
      "46874/46874 [==============================] - 12s 257us/step - loss: 0.0889 - val_loss: 0.0971\n",
      "Epoch 36/10000\n",
      "46874/46874 [==============================] - 12s 257us/step - loss: 0.0891 - val_loss: 0.0960\n",
      "Epoch 37/10000\n",
      "46874/46874 [==============================] - 12s 257us/step - loss: 0.0890 - val_loss: 0.0969\n",
      "Epoch 38/10000\n",
      "46874/46874 [==============================] - 12s 257us/step - loss: 0.0887 - val_loss: 0.0966\n",
      "Epoch 39/10000\n",
      "46874/46874 [==============================] - 12s 257us/step - loss: 0.0886 - val_loss: 0.0964\n",
      "Epoch 40/10000\n",
      "46874/46874 [==============================] - 12s 258us/step - loss: 0.0885 - val_loss: 0.0988\n",
      "Epoch 41/10000\n",
      "46874/46874 [==============================] - 12s 258us/step - loss: 0.0885 - val_loss: 0.0974\n",
      "Epoch 42/10000\n",
      "46874/46874 [==============================] - 12s 257us/step - loss: 0.0882 - val_loss: 0.0978\n",
      "Epoch 43/10000\n",
      "46874/46874 [==============================] - 12s 257us/step - loss: 0.0885 - val_loss: 0.0983\n",
      "Epoch 44/10000\n",
      "46874/46874 [==============================] - 12s 257us/step - loss: 0.0883 - val_loss: 0.0977\n",
      "Epoch 45/10000\n",
      "46874/46874 [==============================] - 12s 258us/step - loss: 0.0879 - val_loss: 0.0967\n",
      "Epoch 46/10000\n",
      "46874/46874 [==============================] - 12s 257us/step - loss: 0.0880 - val_loss: 0.0978\n",
      "Epoch 47/10000\n",
      "46874/46874 [==============================] - 12s 257us/step - loss: 0.0876 - val_loss: 0.0979\n",
      "Epoch 48/10000\n",
      "46874/46874 [==============================] - 12s 257us/step - loss: 0.0874 - val_loss: 0.0997\n",
      "Epoch 49/10000\n",
      "46874/46874 [==============================] - 12s 259us/step - loss: 0.0876 - val_loss: 0.0989\n",
      "Epoch 50/10000\n",
      "46874/46874 [==============================] - 12s 258us/step - loss: 0.0874 - val_loss: 0.0986\n",
      "Epoch 51/10000\n",
      "46874/46874 [==============================] - 12s 259us/step - loss: 0.0873 - val_loss: 0.0981\n",
      "Epoch 52/10000\n",
      "46874/46874 [==============================] - 12s 258us/step - loss: 0.0869 - val_loss: 0.0989\n",
      "Epoch 53/10000\n",
      "46874/46874 [==============================] - 12s 259us/step - loss: 0.0873 - val_loss: 0.0976\n",
      "Epoch 54/10000\n",
      "46874/46874 [==============================] - 12s 258us/step - loss: 0.0867 - val_loss: 0.0974\n",
      "Epoch 55/10000\n",
      "46874/46874 [==============================] - 12s 257us/step - loss: 0.0869 - val_loss: 0.0994\n",
      "Epoch 56/10000\n",
      "46874/46874 [==============================] - 12s 257us/step - loss: 0.0868 - val_loss: 0.0991\n",
      "Epoch 57/10000\n",
      "46874/46874 [==============================] - 12s 258us/step - loss: 0.0865 - val_loss: 0.0983\n",
      "Epoch 58/10000\n",
      "46874/46874 [==============================] - 12s 257us/step - loss: 0.0865 - val_loss: 0.0982\n",
      "Epoch 59/10000\n",
      "46874/46874 [==============================] - 12s 257us/step - loss: 0.0865 - val_loss: 0.0981\n",
      "Epoch 60/10000\n",
      "46874/46874 [==============================] - 12s 257us/step - loss: 0.0863 - val_loss: 0.0997\n",
      "Epoch 61/10000\n",
      "46874/46874 [==============================] - 12s 258us/step - loss: 0.0862 - val_loss: 0.0998\n",
      "Epoch 62/10000\n",
      "46874/46874 [==============================] - 12s 259us/step - loss: 0.0864 - val_loss: 0.1002\n",
      "Epoch 63/10000\n",
      "46874/46874 [==============================] - 12s 258us/step - loss: 0.0862 - val_loss: 0.0991\n",
      "Epoch 64/10000\n",
      "46874/46874 [==============================] - 12s 258us/step - loss: 0.0864 - val_loss: 0.0984\n",
      "Epoch 65/10000\n",
      "46874/46874 [==============================] - 12s 258us/step - loss: 0.0858 - val_loss: 0.0981\n",
      "Epoch 66/10000\n",
      "46874/46874 [==============================] - 12s 258us/step - loss: 0.0856 - val_loss: 0.0986\n",
      "Epoch 67/10000\n",
      "46874/46874 [==============================] - 12s 257us/step - loss: 0.0859 - val_loss: 0.0988\n",
      "Epoch 68/10000\n",
      "46874/46874 [==============================] - 12s 258us/step - loss: 0.0857 - val_loss: 0.0979\n",
      "Epoch 69/10000\n",
      "46874/46874 [==============================] - 12s 258us/step - loss: 0.0857 - val_loss: 0.1003\n",
      "Epoch 70/10000\n",
      "46874/46874 [==============================] - 12s 258us/step - loss: 0.0855 - val_loss: 0.0998\n",
      "Epoch 71/10000\n",
      "46874/46874 [==============================] - 12s 258us/step - loss: 0.0857 - val_loss: 0.0986\n",
      "Epoch 72/10000\n",
      "46874/46874 [==============================] - 12s 260us/step - loss: 0.0853 - val_loss: 0.0993\n",
      "Restoring model weights from the end of the best epoch\n",
      "Epoch 00072: early stopping\n",
      "Train on 46875 samples, validate on 20090 samples\n",
      "Epoch 1/10000\n",
      "46875/46875 [==============================] - 17s 368us/step - loss: 0.1202 - val_loss: 0.1005\n",
      "Epoch 2/10000\n",
      "46875/46875 [==============================] - 12s 256us/step - loss: 0.1033 - val_loss: 0.0989\n",
      "Epoch 3/10000\n",
      "46875/46875 [==============================] - 12s 255us/step - loss: 0.1009 - val_loss: 0.1132\n",
      "Epoch 4/10000\n",
      "46875/46875 [==============================] - 12s 254us/step - loss: 0.0996 - val_loss: 0.0977\n",
      "Epoch 5/10000\n",
      "46875/46875 [==============================] - 12s 256us/step - loss: 0.0981 - val_loss: 0.0975\n",
      "Epoch 6/10000\n",
      "46875/46875 [==============================] - 12s 256us/step - loss: 0.0970 - val_loss: 0.0977\n",
      "Epoch 7/10000\n",
      "46875/46875 [==============================] - 12s 257us/step - loss: 0.0966 - val_loss: 0.0970\n",
      "Epoch 8/10000\n",
      "46875/46875 [==============================] - 12s 255us/step - loss: 0.0955 - val_loss: 0.0965\n",
      "Epoch 9/10000\n",
      "46875/46875 [==============================] - 12s 255us/step - loss: 0.0949 - val_loss: 0.0963\n",
      "Epoch 10/10000\n",
      "46875/46875 [==============================] - 12s 256us/step - loss: 0.0947 - val_loss: 0.0963\n",
      "Epoch 11/10000\n",
      "46875/46875 [==============================] - 12s 257us/step - loss: 0.0940 - val_loss: 0.0970\n",
      "Epoch 12/10000\n",
      "46875/46875 [==============================] - 12s 257us/step - loss: 0.0932 - val_loss: 0.0978\n",
      "Epoch 13/10000\n",
      "46875/46875 [==============================] - 12s 256us/step - loss: 0.0933 - val_loss: 0.0983\n",
      "Epoch 14/10000\n",
      "46875/46875 [==============================] - 12s 255us/step - loss: 0.0929 - val_loss: 0.0970\n",
      "Epoch 15/10000\n",
      "46875/46875 [==============================] - 12s 256us/step - loss: 0.0925 - val_loss: 0.0966\n",
      "Epoch 16/10000\n",
      "46875/46875 [==============================] - 12s 257us/step - loss: 0.0922 - val_loss: 0.0997\n",
      "Epoch 17/10000\n",
      "46875/46875 [==============================] - 12s 256us/step - loss: 0.0922 - val_loss: 0.0966\n",
      "Epoch 18/10000\n",
      "46875/46875 [==============================] - 12s 256us/step - loss: 0.0916 - val_loss: 0.0972\n",
      "Epoch 19/10000\n",
      "46875/46875 [==============================] - 12s 257us/step - loss: 0.0914 - val_loss: 0.0975\n",
      "Epoch 20/10000\n",
      "46875/46875 [==============================] - 12s 256us/step - loss: 0.0910 - val_loss: 0.0979\n",
      "Epoch 21/10000\n",
      "46875/46875 [==============================] - 12s 256us/step - loss: 0.0908 - val_loss: 0.0968\n",
      "Epoch 22/10000\n",
      "46875/46875 [==============================] - 12s 256us/step - loss: 0.0906 - val_loss: 0.0985\n",
      "Epoch 23/10000\n",
      "46875/46875 [==============================] - 12s 256us/step - loss: 0.0905 - val_loss: 0.0973\n",
      "Epoch 24/10000\n",
      "46875/46875 [==============================] - 12s 256us/step - loss: 0.0903 - val_loss: 0.0970\n",
      "Epoch 25/10000\n",
      "46875/46875 [==============================] - 12s 257us/step - loss: 0.0898 - val_loss: 0.0972\n",
      "Epoch 26/10000\n",
      "46875/46875 [==============================] - 12s 256us/step - loss: 0.0899 - val_loss: 0.0984\n",
      "Epoch 27/10000\n",
      "46875/46875 [==============================] - 12s 258us/step - loss: 0.0900 - val_loss: 0.0968\n",
      "Epoch 28/10000\n",
      "46875/46875 [==============================] - 12s 256us/step - loss: 0.0896 - val_loss: 0.0973\n",
      "Epoch 29/10000\n",
      "46875/46875 [==============================] - 12s 255us/step - loss: 0.0898 - val_loss: 0.0990\n",
      "Epoch 30/10000\n",
      "46875/46875 [==============================] - 12s 255us/step - loss: 0.0893 - val_loss: 0.0987\n",
      "Epoch 31/10000\n",
      "46875/46875 [==============================] - 12s 256us/step - loss: 0.0892 - val_loss: 0.0984\n",
      "Epoch 32/10000\n",
      "46875/46875 [==============================] - 12s 256us/step - loss: 0.0891 - val_loss: 0.0989\n",
      "Epoch 33/10000\n",
      "46875/46875 [==============================] - 12s 255us/step - loss: 0.0890 - val_loss: 0.1003\n",
      "Epoch 34/10000\n",
      "46875/46875 [==============================] - 12s 256us/step - loss: 0.0885 - val_loss: 0.0986\n",
      "Epoch 35/10000\n",
      "46875/46875 [==============================] - 12s 256us/step - loss: 0.0886 - val_loss: 0.0988\n",
      "Epoch 36/10000\n",
      "46875/46875 [==============================] - 12s 256us/step - loss: 0.0883 - val_loss: 0.0992\n",
      "Epoch 37/10000\n",
      "46875/46875 [==============================] - 12s 257us/step - loss: 0.0884 - val_loss: 0.0998\n",
      "Epoch 38/10000\n",
      "46875/46875 [==============================] - 12s 256us/step - loss: 0.0881 - val_loss: 0.0986\n",
      "Epoch 39/10000\n",
      "46875/46875 [==============================] - 12s 257us/step - loss: 0.0881 - val_loss: 0.1000\n",
      "Epoch 40/10000\n",
      "46875/46875 [==============================] - 12s 257us/step - loss: 0.0877 - val_loss: 0.0985\n",
      "Epoch 41/10000\n",
      "46875/46875 [==============================] - 12s 257us/step - loss: 0.0876 - val_loss: 0.0984\n",
      "Epoch 42/10000\n",
      "46875/46875 [==============================] - 12s 256us/step - loss: 0.0882 - val_loss: 0.0987\n",
      "Epoch 43/10000\n",
      "46875/46875 [==============================] - 12s 256us/step - loss: 0.0871 - val_loss: 0.0992\n",
      "Epoch 44/10000\n",
      "46875/46875 [==============================] - 12s 256us/step - loss: 0.0875 - val_loss: 0.0989\n",
      "Epoch 45/10000\n",
      "46875/46875 [==============================] - 12s 256us/step - loss: 0.0876 - val_loss: 0.0999\n",
      "Epoch 46/10000\n",
      "46875/46875 [==============================] - 12s 257us/step - loss: 0.0872 - val_loss: 0.0999\n",
      "Epoch 47/10000\n",
      "46875/46875 [==============================] - 12s 257us/step - loss: 0.0873 - val_loss: 0.1003\n",
      "Epoch 48/10000\n",
      "46875/46875 [==============================] - 12s 257us/step - loss: 0.0871 - val_loss: 0.0992\n",
      "Epoch 49/10000\n",
      "46875/46875 [==============================] - 12s 256us/step - loss: 0.0873 - val_loss: 0.0999\n",
      "Epoch 50/10000\n",
      "46875/46875 [==============================] - 12s 256us/step - loss: 0.0871 - val_loss: 0.1007\n",
      "Epoch 51/10000\n",
      "46875/46875 [==============================] - 12s 257us/step - loss: 0.0868 - val_loss: 0.1005\n",
      "Epoch 52/10000\n",
      "46875/46875 [==============================] - 12s 257us/step - loss: 0.0874 - val_loss: 0.1003\n",
      "Epoch 53/10000\n",
      "46875/46875 [==============================] - 12s 256us/step - loss: 0.0868 - val_loss: 0.1002\n",
      "Epoch 54/10000\n",
      "46875/46875 [==============================] - 12s 257us/step - loss: 0.0868 - val_loss: 0.1003\n",
      "Epoch 55/10000\n",
      "46875/46875 [==============================] - 12s 257us/step - loss: 0.0872 - val_loss: 0.1002\n",
      "Epoch 56/10000\n",
      "46875/46875 [==============================] - 12s 256us/step - loss: 0.0867 - val_loss: 0.1001\n",
      "Epoch 57/10000\n",
      "46875/46875 [==============================] - 12s 258us/step - loss: 0.0866 - val_loss: 0.1002\n",
      "Epoch 58/10000\n",
      "46875/46875 [==============================] - 12s 257us/step - loss: 0.0871 - val_loss: 0.1007\n",
      "Epoch 59/10000\n",
      "46875/46875 [==============================] - 12s 257us/step - loss: 0.0866 - val_loss: 0.0996\n",
      "Restoring model weights from the end of the best epoch\n",
      "Epoch 00059: early stopping\n",
      "Train on 46875 samples, validate on 20090 samples\n",
      "Epoch 1/10000\n",
      "46875/46875 [==============================] - 18s 377us/step - loss: 0.1185 - val_loss: 0.1037\n",
      "Epoch 2/10000\n",
      "46875/46875 [==============================] - 12s 261us/step - loss: 0.1055 - val_loss: 0.1006\n",
      "Epoch 3/10000\n",
      "46875/46875 [==============================] - 12s 260us/step - loss: 0.1019 - val_loss: 0.1009\n",
      "Epoch 4/10000\n",
      "46875/46875 [==============================] - 12s 261us/step - loss: 0.1004 - val_loss: 0.0979\n",
      "Epoch 5/10000\n",
      "46875/46875 [==============================] - 12s 261us/step - loss: 0.0986 - val_loss: 0.0963\n",
      "Epoch 6/10000\n",
      "46875/46875 [==============================] - 12s 262us/step - loss: 0.0982 - val_loss: 0.0979\n",
      "Epoch 7/10000\n",
      "46875/46875 [==============================] - 12s 262us/step - loss: 0.0971 - val_loss: 0.0965\n",
      "Epoch 8/10000\n",
      "46875/46875 [==============================] - 12s 261us/step - loss: 0.0962 - val_loss: 0.0980\n",
      "Epoch 9/10000\n",
      "46875/46875 [==============================] - 12s 262us/step - loss: 0.0955 - val_loss: 0.0966\n",
      "Epoch 10/10000\n",
      "46875/46875 [==============================] - 12s 261us/step - loss: 0.0953 - val_loss: 0.0983\n",
      "Epoch 11/10000\n",
      "46875/46875 [==============================] - 12s 262us/step - loss: 0.0949 - val_loss: 0.0966\n",
      "Epoch 12/10000\n",
      "46875/46875 [==============================] - 12s 261us/step - loss: 0.0943 - val_loss: 0.0957\n",
      "Epoch 13/10000\n",
      "46875/46875 [==============================] - 12s 260us/step - loss: 0.0936 - val_loss: 0.0963\n",
      "Epoch 14/10000\n",
      "46875/46875 [==============================] - 12s 261us/step - loss: 0.0931 - val_loss: 0.0962\n"
     ]
    },
    {
     "name": "stdout",
     "output_type": "stream",
     "text": [
      "Epoch 15/10000\n",
      "46875/46875 [==============================] - 12s 259us/step - loss: 0.0933 - val_loss: 0.0958\n",
      "Epoch 16/10000\n",
      "46875/46875 [==============================] - 12s 259us/step - loss: 0.0925 - val_loss: 0.0968\n",
      "Epoch 17/10000\n",
      "46875/46875 [==============================] - 12s 261us/step - loss: 0.0925 - val_loss: 0.0966\n",
      "Epoch 18/10000\n",
      "46875/46875 [==============================] - 12s 259us/step - loss: 0.0921 - val_loss: 0.0974\n",
      "Epoch 19/10000\n",
      "46875/46875 [==============================] - 12s 260us/step - loss: 0.0916 - val_loss: 0.0964\n",
      "Epoch 20/10000\n",
      "46875/46875 [==============================] - 12s 260us/step - loss: 0.0914 - val_loss: 0.0959\n",
      "Epoch 21/10000\n",
      "46875/46875 [==============================] - 12s 261us/step - loss: 0.0914 - val_loss: 0.0969\n",
      "Epoch 22/10000\n",
      "46875/46875 [==============================] - 12s 260us/step - loss: 0.0909 - val_loss: 0.0972\n",
      "Epoch 23/10000\n",
      "46875/46875 [==============================] - 12s 259us/step - loss: 0.0908 - val_loss: 0.0971\n",
      "Epoch 24/10000\n",
      "46875/46875 [==============================] - 12s 260us/step - loss: 0.0911 - val_loss: 0.0976\n",
      "Epoch 25/10000\n",
      "46875/46875 [==============================] - 12s 262us/step - loss: 0.0902 - val_loss: 0.0972\n",
      "Epoch 26/10000\n",
      "46875/46875 [==============================] - 12s 259us/step - loss: 0.0904 - val_loss: 0.0998\n",
      "Epoch 27/10000\n",
      "46875/46875 [==============================] - 12s 260us/step - loss: 0.0904 - val_loss: 0.0972\n",
      "Epoch 28/10000\n",
      "46875/46875 [==============================] - 12s 259us/step - loss: 0.0899 - val_loss: 0.0976\n",
      "Epoch 29/10000\n",
      "46875/46875 [==============================] - 12s 259us/step - loss: 0.0897 - val_loss: 0.0974\n",
      "Epoch 30/10000\n",
      "46875/46875 [==============================] - 12s 262us/step - loss: 0.0896 - val_loss: 0.0977\n",
      "Epoch 31/10000\n",
      "46875/46875 [==============================] - 12s 259us/step - loss: 0.0894 - val_loss: 0.0968\n",
      "Epoch 32/10000\n",
      "46875/46875 [==============================] - 12s 259us/step - loss: 0.0890 - val_loss: 0.0982\n",
      "Epoch 33/10000\n",
      "46875/46875 [==============================] - 12s 260us/step - loss: 0.0890 - val_loss: 0.0986\n",
      "Epoch 34/10000\n",
      "46875/46875 [==============================] - 12s 259us/step - loss: 0.0889 - val_loss: 0.0973\n",
      "Epoch 35/10000\n",
      "46875/46875 [==============================] - 12s 261us/step - loss: 0.0888 - val_loss: 0.0983\n",
      "Epoch 36/10000\n",
      "46875/46875 [==============================] - 12s 259us/step - loss: 0.0891 - val_loss: 0.0979\n",
      "Epoch 37/10000\n",
      "46875/46875 [==============================] - 12s 259us/step - loss: 0.0888 - val_loss: 0.0978\n",
      "Epoch 38/10000\n",
      "46875/46875 [==============================] - 12s 261us/step - loss: 0.0886 - val_loss: 0.0983\n",
      "Epoch 39/10000\n",
      "46875/46875 [==============================] - 12s 261us/step - loss: 0.0886 - val_loss: 0.0990\n",
      "Epoch 40/10000\n",
      "46875/46875 [==============================] - 12s 260us/step - loss: 0.0888 - val_loss: 0.0988\n",
      "Epoch 41/10000\n",
      "46875/46875 [==============================] - 12s 261us/step - loss: 0.0885 - val_loss: 0.1007\n",
      "Epoch 42/10000\n",
      "46875/46875 [==============================] - 12s 261us/step - loss: 0.0882 - val_loss: 0.0985\n",
      "Epoch 43/10000\n",
      "46875/46875 [==============================] - 12s 260us/step - loss: 0.0882 - val_loss: 0.0985\n",
      "Epoch 44/10000\n",
      "46875/46875 [==============================] - 12s 260us/step - loss: 0.0882 - val_loss: 0.0983\n",
      "Epoch 45/10000\n",
      "46875/46875 [==============================] - 12s 260us/step - loss: 0.0877 - val_loss: 0.0985\n",
      "Epoch 46/10000\n",
      "46875/46875 [==============================] - 12s 259us/step - loss: 0.0882 - val_loss: 0.0998\n",
      "Epoch 47/10000\n",
      "46875/46875 [==============================] - 12s 260us/step - loss: 0.0876 - val_loss: 0.0995\n",
      "Epoch 48/10000\n",
      "46875/46875 [==============================] - 12s 260us/step - loss: 0.0877 - val_loss: 0.0993\n",
      "Epoch 49/10000\n",
      "46875/46875 [==============================] - 12s 260us/step - loss: 0.0874 - val_loss: 0.0994\n",
      "Epoch 50/10000\n",
      "46875/46875 [==============================] - 12s 260us/step - loss: 0.0874 - val_loss: 0.0988\n",
      "Epoch 51/10000\n",
      "46875/46875 [==============================] - 12s 259us/step - loss: 0.0873 - val_loss: 0.0997\n",
      "Epoch 52/10000\n",
      "46875/46875 [==============================] - 12s 259us/step - loss: 0.0873 - val_loss: 0.1001\n",
      "Epoch 53/10000\n",
      "46875/46875 [==============================] - 12s 259us/step - loss: 0.0874 - val_loss: 0.0992\n",
      "Epoch 54/10000\n",
      "46875/46875 [==============================] - 12s 261us/step - loss: 0.0866 - val_loss: 0.0996\n",
      "Epoch 55/10000\n",
      "46875/46875 [==============================] - 12s 260us/step - loss: 0.0870 - val_loss: 0.1006\n",
      "Epoch 56/10000\n",
      "46875/46875 [==============================] - 12s 261us/step - loss: 0.0870 - val_loss: 0.0999\n",
      "Epoch 57/10000\n",
      "46875/46875 [==============================] - 12s 260us/step - loss: 0.0870 - val_loss: 0.0986\n",
      "Epoch 58/10000\n",
      "46875/46875 [==============================] - 12s 259us/step - loss: 0.0865 - val_loss: 0.0993\n",
      "Epoch 59/10000\n",
      "46875/46875 [==============================] - 12s 260us/step - loss: 0.0866 - val_loss: 0.1007\n",
      "Epoch 60/10000\n",
      "46875/46875 [==============================] - 12s 260us/step - loss: 0.0868 - val_loss: 0.1005\n",
      "Epoch 61/10000\n",
      "46875/46875 [==============================] - 12s 260us/step - loss: 0.0866 - val_loss: 0.0988\n",
      "Epoch 62/10000\n",
      "46875/46875 [==============================] - 12s 261us/step - loss: 0.0866 - val_loss: 0.0987\n",
      "Restoring model weights from the end of the best epoch\n",
      "Epoch 00062: early stopping\n",
      "Train on 46875 samples, validate on 20090 samples\n",
      "Epoch 1/10000\n",
      "46875/46875 [==============================] - 18s 377us/step - loss: 0.1191 - val_loss: 0.1030\n",
      "Epoch 2/10000\n",
      "46875/46875 [==============================] - 12s 261us/step - loss: 0.1040 - val_loss: 0.1009\n",
      "Epoch 3/10000\n",
      "46875/46875 [==============================] - 12s 263us/step - loss: 0.1017 - val_loss: 0.0991\n",
      "Epoch 4/10000\n",
      "46875/46875 [==============================] - 12s 261us/step - loss: 0.0998 - val_loss: 0.0998\n",
      "Epoch 5/10000\n",
      "46875/46875 [==============================] - 12s 262us/step - loss: 0.0982 - val_loss: 0.0977\n",
      "Epoch 6/10000\n",
      "46875/46875 [==============================] - 12s 262us/step - loss: 0.0970 - val_loss: 0.0976\n",
      "Epoch 7/10000\n",
      "46875/46875 [==============================] - 12s 261us/step - loss: 0.0961 - val_loss: 0.0979\n",
      "Epoch 8/10000\n",
      "46875/46875 [==============================] - 12s 262us/step - loss: 0.0953 - val_loss: 0.0985\n",
      "Epoch 9/10000\n",
      "46875/46875 [==============================] - 12s 262us/step - loss: 0.0948 - val_loss: 0.0984\n",
      "Epoch 10/10000\n",
      "46875/46875 [==============================] - 12s 262us/step - loss: 0.0944 - val_loss: 0.0970\n",
      "Epoch 11/10000\n",
      "46875/46875 [==============================] - 12s 261us/step - loss: 0.0940 - val_loss: 0.0973\n",
      "Epoch 12/10000\n",
      "46875/46875 [==============================] - 12s 261us/step - loss: 0.0935 - val_loss: 0.0976\n",
      "Epoch 13/10000\n",
      "46875/46875 [==============================] - 12s 262us/step - loss: 0.0934 - val_loss: 0.0973\n",
      "Epoch 14/10000\n",
      "46875/46875 [==============================] - 12s 260us/step - loss: 0.0932 - val_loss: 0.0993\n",
      "Epoch 15/10000\n",
      "46875/46875 [==============================] - 12s 261us/step - loss: 0.0924 - val_loss: 0.0982\n",
      "Epoch 16/10000\n",
      "46875/46875 [==============================] - 12s 263us/step - loss: 0.0922 - val_loss: 0.0979\n",
      "Epoch 17/10000\n",
      "46875/46875 [==============================] - 12s 262us/step - loss: 0.0917 - val_loss: 0.0976\n",
      "Epoch 18/10000\n",
      "46875/46875 [==============================] - 12s 261us/step - loss: 0.0916 - val_loss: 0.1042\n",
      "Epoch 19/10000\n",
      "46875/46875 [==============================] - 12s 262us/step - loss: 0.0912 - val_loss: 0.0982\n",
      "Epoch 20/10000\n",
      "46875/46875 [==============================] - 12s 262us/step - loss: 0.0910 - val_loss: 0.0973\n",
      "Epoch 21/10000\n",
      "46875/46875 [==============================] - 12s 261us/step - loss: 0.0910 - val_loss: 0.0989\n",
      "Epoch 22/10000\n",
      "46875/46875 [==============================] - 12s 261us/step - loss: 0.0904 - val_loss: 0.0975\n",
      "Epoch 23/10000\n",
      "46875/46875 [==============================] - 12s 262us/step - loss: 0.0902 - val_loss: 0.0979\n",
      "Epoch 24/10000\n",
      "46875/46875 [==============================] - 12s 261us/step - loss: 0.0902 - val_loss: 0.0993\n",
      "Epoch 25/10000\n",
      "46875/46875 [==============================] - 12s 261us/step - loss: 0.0898 - val_loss: 0.0984\n",
      "Epoch 26/10000\n",
      "46875/46875 [==============================] - 12s 261us/step - loss: 0.0901 - val_loss: 0.0987\n",
      "Epoch 27/10000\n",
      "46875/46875 [==============================] - 12s 260us/step - loss: 0.0896 - val_loss: 0.0987\n",
      "Epoch 28/10000\n",
      "46875/46875 [==============================] - 12s 261us/step - loss: 0.0896 - val_loss: 0.0980\n",
      "Epoch 29/10000\n",
      "46875/46875 [==============================] - 12s 261us/step - loss: 0.0898 - val_loss: 0.0981\n",
      "Epoch 30/10000\n",
      "46875/46875 [==============================] - 12s 260us/step - loss: 0.0895 - val_loss: 0.0988\n",
      "Epoch 31/10000\n",
      "46875/46875 [==============================] - 12s 260us/step - loss: 0.0890 - val_loss: 0.0988\n",
      "Epoch 32/10000\n",
      "46875/46875 [==============================] - 12s 260us/step - loss: 0.0888 - val_loss: 0.0980\n",
      "Epoch 33/10000\n",
      "46875/46875 [==============================] - 12s 261us/step - loss: 0.0886 - val_loss: 0.0985\n",
      "Epoch 34/10000\n",
      "46875/46875 [==============================] - 12s 260us/step - loss: 0.0888 - val_loss: 0.0987\n",
      "Epoch 35/10000\n",
      "46875/46875 [==============================] - 12s 261us/step - loss: 0.0881 - val_loss: 0.0998\n",
      "Epoch 36/10000\n",
      "46875/46875 [==============================] - 12s 261us/step - loss: 0.0882 - val_loss: 0.0998\n",
      "Epoch 37/10000\n",
      "46875/46875 [==============================] - 12s 260us/step - loss: 0.0884 - val_loss: 0.0983\n",
      "Epoch 38/10000\n",
      "46875/46875 [==============================] - 12s 261us/step - loss: 0.0878 - val_loss: 0.0993\n",
      "Epoch 39/10000\n",
      "46875/46875 [==============================] - 12s 262us/step - loss: 0.0877 - val_loss: 0.0991\n",
      "Epoch 40/10000\n",
      "46875/46875 [==============================] - 12s 260us/step - loss: 0.0883 - val_loss: 0.0991\n",
      "Epoch 41/10000\n",
      "46875/46875 [==============================] - 12s 261us/step - loss: 0.0878 - val_loss: 0.0990\n",
      "Epoch 42/10000\n",
      "46875/46875 [==============================] - 12s 262us/step - loss: 0.0876 - val_loss: 0.0990\n",
      "Epoch 43/10000\n",
      "46875/46875 [==============================] - 12s 261us/step - loss: 0.0876 - val_loss: 0.0995\n",
      "Epoch 44/10000\n",
      "46875/46875 [==============================] - 12s 261us/step - loss: 0.0871 - val_loss: 0.0989\n",
      "Epoch 45/10000\n",
      "46875/46875 [==============================] - 12s 260us/step - loss: 0.0868 - val_loss: 0.1005\n",
      "Epoch 46/10000\n",
      "46875/46875 [==============================] - 12s 261us/step - loss: 0.0872 - val_loss: 0.0993\n",
      "Epoch 47/10000\n",
      "46875/46875 [==============================] - 12s 262us/step - loss: 0.0869 - val_loss: 0.1005\n",
      "Epoch 48/10000\n",
      "46875/46875 [==============================] - 12s 260us/step - loss: 0.0870 - val_loss: 0.0999\n",
      "Epoch 49/10000\n",
      "46875/46875 [==============================] - 12s 261us/step - loss: 0.0867 - val_loss: 0.0992\n",
      "Epoch 50/10000\n",
      "46875/46875 [==============================] - 12s 260us/step - loss: 0.0866 - val_loss: 0.1004\n",
      "Epoch 51/10000\n",
      "46875/46875 [==============================] - 12s 261us/step - loss: 0.0868 - val_loss: 0.1015\n",
      "Epoch 52/10000\n",
      "46875/46875 [==============================] - 12s 263us/step - loss: 0.0874 - val_loss: 0.0995\n",
      "Epoch 53/10000\n",
      "46875/46875 [==============================] - 12s 262us/step - loss: 0.0864 - val_loss: 0.0995\n",
      "Epoch 54/10000\n",
      "46875/46875 [==============================] - 12s 260us/step - loss: 0.0863 - val_loss: 0.1008\n",
      "Epoch 55/10000\n",
      "46875/46875 [==============================] - 12s 260us/step - loss: 0.0862 - val_loss: 0.1004\n",
      "Epoch 56/10000\n",
      "46875/46875 [==============================] - 12s 260us/step - loss: 0.0860 - val_loss: 0.0997\n",
      "Epoch 57/10000\n",
      "46875/46875 [==============================] - 12s 261us/step - loss: 0.0861 - val_loss: 0.1003\n",
      "Epoch 58/10000\n",
      "46875/46875 [==============================] - 12s 261us/step - loss: 0.0860 - val_loss: 0.0994\n",
      "Epoch 59/10000\n",
      "46875/46875 [==============================] - 12s 261us/step - loss: 0.0858 - val_loss: 0.0997\n",
      "Epoch 60/10000\n",
      "46875/46875 [==============================] - 12s 261us/step - loss: 0.0859 - val_loss: 0.0999\n",
      "Restoring model weights from the end of the best epoch\n",
      "Epoch 00060: early stopping\n",
      "Train on 46875 samples, validate on 20090 samples\n",
      "Epoch 1/10000\n",
      "46875/46875 [==============================] - 18s 383us/step - loss: 0.1167 - val_loss: 0.1031\n",
      "Epoch 2/10000\n",
      "46875/46875 [==============================] - 12s 264us/step - loss: 0.1041 - val_loss: 0.0997\n",
      "Epoch 3/10000\n",
      "46875/46875 [==============================] - 12s 263us/step - loss: 0.1017 - val_loss: 0.0979\n",
      "Epoch 4/10000\n",
      "46875/46875 [==============================] - 12s 264us/step - loss: 0.0991 - val_loss: 0.0977\n",
      "Epoch 5/10000\n",
      "46875/46875 [==============================] - 12s 264us/step - loss: 0.0980 - val_loss: 0.0965\n",
      "Epoch 6/10000\n",
      "46875/46875 [==============================] - 12s 264us/step - loss: 0.0969 - val_loss: 0.0968\n",
      "Epoch 7/10000\n",
      "46875/46875 [==============================] - 12s 265us/step - loss: 0.0962 - val_loss: 0.0959\n",
      "Epoch 8/10000\n",
      "46875/46875 [==============================] - 12s 263us/step - loss: 0.0956 - val_loss: 0.0966\n",
      "Epoch 9/10000\n",
      "46875/46875 [==============================] - 12s 265us/step - loss: 0.0951 - val_loss: 0.0990\n",
      "Epoch 10/10000\n",
      "46875/46875 [==============================] - 12s 265us/step - loss: 0.0945 - val_loss: 0.0977\n",
      "Epoch 11/10000\n",
      "46875/46875 [==============================] - 12s 265us/step - loss: 0.0935 - val_loss: 0.0955\n",
      "Epoch 12/10000\n",
      "46875/46875 [==============================] - 12s 265us/step - loss: 0.0938 - val_loss: 0.0959\n",
      "Epoch 13/10000\n",
      "46875/46875 [==============================] - 12s 263us/step - loss: 0.0929 - val_loss: 0.0970\n",
      "Epoch 14/10000\n",
      "46875/46875 [==============================] - 12s 266us/step - loss: 0.0924 - val_loss: 0.0954\n",
      "Epoch 15/10000\n",
      "46875/46875 [==============================] - 12s 264us/step - loss: 0.0924 - val_loss: 0.0962\n",
      "Epoch 16/10000\n",
      "46875/46875 [==============================] - 12s 265us/step - loss: 0.0919 - val_loss: 0.0970\n",
      "Epoch 17/10000\n",
      "46875/46875 [==============================] - 12s 265us/step - loss: 0.0915 - val_loss: 0.0971\n",
      "Epoch 18/10000\n",
      "46875/46875 [==============================] - 12s 266us/step - loss: 0.0915 - val_loss: 0.0963\n",
      "Epoch 19/10000\n",
      "46875/46875 [==============================] - 12s 266us/step - loss: 0.0913 - val_loss: 0.0962\n",
      "Epoch 20/10000\n",
      "46875/46875 [==============================] - 12s 264us/step - loss: 0.0907 - val_loss: 0.0983\n",
      "Epoch 21/10000\n",
      "46875/46875 [==============================] - 12s 264us/step - loss: 0.0906 - val_loss: 0.0977\n",
      "Epoch 22/10000\n",
      "46875/46875 [==============================] - 12s 263us/step - loss: 0.0903 - val_loss: 0.0974\n",
      "Epoch 23/10000\n",
      "46875/46875 [==============================] - 12s 264us/step - loss: 0.0905 - val_loss: 0.0979\n",
      "Epoch 24/10000\n",
      "46875/46875 [==============================] - 12s 264us/step - loss: 0.0904 - val_loss: 0.0984\n",
      "Epoch 25/10000\n",
      "46875/46875 [==============================] - 12s 264us/step - loss: 0.0900 - val_loss: 0.0974\n",
      "Epoch 26/10000\n",
      "46875/46875 [==============================] - 12s 264us/step - loss: 0.0901 - val_loss: 0.0975\n",
      "Epoch 27/10000\n",
      "46875/46875 [==============================] - 12s 265us/step - loss: 0.0894 - val_loss: 0.0981\n",
      "Epoch 28/10000\n",
      "46875/46875 [==============================] - 12s 264us/step - loss: 0.0892 - val_loss: 0.0973\n",
      "Epoch 29/10000\n",
      "46875/46875 [==============================] - 12s 264us/step - loss: 0.0889 - val_loss: 0.0980\n",
      "Epoch 30/10000\n",
      "46875/46875 [==============================] - 12s 265us/step - loss: 0.0891 - val_loss: 0.0985\n",
      "Epoch 31/10000\n",
      "46875/46875 [==============================] - 12s 265us/step - loss: 0.0889 - val_loss: 0.0971\n",
      "Epoch 32/10000\n",
      "46875/46875 [==============================] - 12s 264us/step - loss: 0.0889 - val_loss: 0.0971\n",
      "Epoch 33/10000\n",
      "46875/46875 [==============================] - 12s 264us/step - loss: 0.0885 - val_loss: 0.0969\n",
      "Epoch 34/10000\n",
      "46875/46875 [==============================] - 12s 265us/step - loss: 0.0887 - val_loss: 0.0984\n",
      "Epoch 35/10000\n",
      "46875/46875 [==============================] - 12s 264us/step - loss: 0.0880 - val_loss: 0.0982\n",
      "Epoch 36/10000\n",
      "46875/46875 [==============================] - 12s 264us/step - loss: 0.0882 - val_loss: 0.0973\n",
      "Epoch 37/10000\n",
      "46875/46875 [==============================] - 12s 266us/step - loss: 0.0885 - val_loss: 0.0975\n"
     ]
    },
    {
     "name": "stdout",
     "output_type": "stream",
     "text": [
      "Epoch 38/10000\n",
      "46875/46875 [==============================] - 12s 263us/step - loss: 0.0880 - val_loss: 0.0980\n",
      "Epoch 39/10000\n",
      "46875/46875 [==============================] - 12s 263us/step - loss: 0.0881 - val_loss: 0.0974\n",
      "Epoch 40/10000\n",
      "46875/46875 [==============================] - 12s 264us/step - loss: 0.0875 - val_loss: 0.0997\n",
      "Epoch 41/10000\n",
      "46875/46875 [==============================] - 12s 264us/step - loss: 0.0875 - val_loss: 0.0981\n",
      "Epoch 42/10000\n",
      "46875/46875 [==============================] - 12s 263us/step - loss: 0.0875 - val_loss: 0.0984\n",
      "Epoch 43/10000\n",
      "46875/46875 [==============================] - 12s 264us/step - loss: 0.0872 - val_loss: 0.0989\n",
      "Epoch 44/10000\n",
      "46875/46875 [==============================] - 12s 263us/step - loss: 0.0875 - val_loss: 0.0989\n",
      "Epoch 45/10000\n",
      "46875/46875 [==============================] - 12s 264us/step - loss: 0.0869 - val_loss: 0.0983\n",
      "Epoch 46/10000\n",
      "46875/46875 [==============================] - 12s 266us/step - loss: 0.0867 - val_loss: 0.0979\n",
      "Epoch 47/10000\n",
      "46875/46875 [==============================] - 12s 263us/step - loss: 0.0870 - val_loss: 0.0991\n",
      "Epoch 48/10000\n",
      "46875/46875 [==============================] - 12s 263us/step - loss: 0.0867 - val_loss: 0.0983\n",
      "Epoch 49/10000\n",
      "46875/46875 [==============================] - 12s 266us/step - loss: 0.0869 - val_loss: 0.0984\n",
      "Epoch 50/10000\n",
      "46875/46875 [==============================] - 12s 264us/step - loss: 0.0875 - val_loss: 0.0988\n",
      "Epoch 51/10000\n",
      "46875/46875 [==============================] - 12s 266us/step - loss: 0.0868 - val_loss: 0.0988\n",
      "Epoch 52/10000\n",
      "46875/46875 [==============================] - 12s 264us/step - loss: 0.0869 - val_loss: 0.0993\n",
      "Epoch 53/10000\n",
      "46875/46875 [==============================] - 12s 265us/step - loss: 0.0864 - val_loss: 0.0996\n",
      "Epoch 54/10000\n",
      "46875/46875 [==============================] - 12s 264us/step - loss: 0.0865 - val_loss: 0.0990\n",
      "Epoch 55/10000\n",
      "46875/46875 [==============================] - 12s 264us/step - loss: 0.0860 - val_loss: 0.0982\n",
      "Epoch 56/10000\n",
      "46875/46875 [==============================] - 12s 263us/step - loss: 0.0868 - val_loss: 0.1029\n",
      "Epoch 57/10000\n",
      "46875/46875 [==============================] - 12s 264us/step - loss: 0.0881 - val_loss: 0.1004\n",
      "Epoch 58/10000\n",
      "46875/46875 [==============================] - 12s 264us/step - loss: 0.0863 - val_loss: 0.0995\n",
      "Epoch 59/10000\n",
      "46875/46875 [==============================] - 12s 266us/step - loss: 0.0863 - val_loss: 0.0988\n",
      "Epoch 60/10000\n",
      "46875/46875 [==============================] - 12s 264us/step - loss: 0.0861 - val_loss: 0.0979\n",
      "Epoch 61/10000\n",
      "46875/46875 [==============================] - 12s 264us/step - loss: 0.0860 - val_loss: 0.0996\n",
      "Epoch 62/10000\n",
      "46875/46875 [==============================] - 12s 265us/step - loss: 0.0859 - val_loss: 0.1007\n",
      "Epoch 63/10000\n",
      "46875/46875 [==============================] - 12s 264us/step - loss: 0.0858 - val_loss: 0.1008\n",
      "Epoch 64/10000\n",
      "46875/46875 [==============================] - 12s 263us/step - loss: 0.0856 - val_loss: 0.0999\n",
      "Restoring model weights from the end of the best epoch\n",
      "Epoch 00064: early stopping\n",
      "0.31002641435643463\n"
     ]
    }
   ],
   "source": [
    "nn_score = 0.0\n",
    "\n",
    "for train_index, test_index in skf.split(X, (y * 100).astype(int)):\n",
    "    \n",
    "    X_train, X_test = X[train_index], X[test_index]\n",
    "    y_train, y_test = y[train_index], y[test_index]\n",
    "    \n",
    "    sss = StratifiedShuffleSplit(n_splits=1, test_size=0.3, random_state=RANDOM_SEED)\n",
    "    tridx, vidx = next(sss.split(X_train, (y_train * 100).astype(int)))\n",
    "    X_train, X_valid = X_train[tridx], X_train[vidx]\n",
    "    y_train, y_valid = y_train[tridx], y_train[vidx]\n",
    "    \n",
    "    # Build model\n",
    "    model = build_model_3(80, 80, 5, 50, 0.5)\n",
    "    \n",
    "    # Early stoppnig callback\n",
    "    es = keras.callbacks.EarlyStopping(\n",
    "        monitor='val_loss', \n",
    "        mode='min', \n",
    "        patience=PATIENCE,\n",
    "        restore_best_weights=True,\n",
    "        verbose=1\n",
    "    )\n",
    "    \n",
    "    # Fit\n",
    "    model.fit([X_train[:, i_data_idx], X_train[:, b_data_idx], X_train[:, 5]], y_train,\n",
    "              validation_data=([X_valid[:, i_data_idx], X_valid[:, b_data_idx], X_valid[:, 5]], y_valid), \n",
    "              batch_size=BATCH_SIZE,\n",
    "              epochs=EPOCHS,\n",
    "              callbacks=[es],\n",
    "              verbose=1)\n",
    "    \n",
    "    nn_score += np.sqrt(mean_squared_error(\n",
    "        model.predict([X_test[:, i_data_idx], X_test[:, b_data_idx], X_test[:, 5]]), y_test\n",
    "    ))\n",
    "\n",
    "nn_score /= N_FOLDS\n",
    "\n",
    "print(nn_score)"
   ]
  },
  {
   "cell_type": "markdown",
   "metadata": {},
   "source": [
    "# Embedding visualization"
   ]
  },
  {
   "cell_type": "code",
   "execution_count": 359,
   "metadata": {},
   "outputs": [],
   "source": [
    "def build_model_3(i_emb_dim=60, b_emb_dim=60, kind_emb_dim=10, last_dense=40, dropout=0.3):\n",
    "    \"\"\"\n",
    "    \"\"\"\n",
    "    # Influencer embedding\n",
    "    influencer_input = Input(shape=[i_data.shape[1]], name=\"Influencer-Input\")\n",
    "    influencer_embedding = Dense(i_emb_dim, activation='relu', name=\"Influencer-Embedding1\")(influencer_input)\n",
    "    influencer_embedding = Dense(last_dense, activation='relu', name=\"Dense1\")(influencer_embedding)\n",
    "    influencer_embedding = Dense(i_emb_dim-10, activation='relu', name=\"Influencer-Embedding\")(influencer_embedding)\n",
    "    \n",
    "    # Influencer kind categorical embedding\n",
    "    influencer_kind_input = Input(shape=[1], name=\"Influencer-Kind-Input\")\n",
    "    influencer_kind_emb = Embedding(14, kind_emb_dim, name=\"Influencer-Kind-Embedding\")(influencer_kind_input)\n",
    "    \n",
    "    # Concatenate influencer emb with influencer kind emb to get full influencer emb\n",
    "    influencer_full_emb = Concatenate(axis=-1)([influencer_embedding, Flatten(name='Flatten')(influencer_kind_emb)])\n",
    "    \n",
    "    # Band embedding\n",
    "    band_input = Input(shape=[b_data.shape[1]], name=\"Band-Input\")\n",
    "    band_embedding = Dense(b_emb_dim, activation='relu', name=\"Band-Embedding1\")(band_input)\n",
    "    band_embedding = Dense(last_dense, activation='relu', name=\"Dense2\")(band_embedding)\n",
    "    band_embedding = Dense(b_emb_dim-10, activation='relu', name=\"Band-Embedding\")(band_embedding)\n",
    "    \n",
    "    # Concatenate and create product\n",
    "    prod = Concatenate(name=\"Concat\", axis=-1)([influencer_full_emb, band_embedding])\n",
    "    prod2 = Dense(last_dense, activation='relu', name=\"Dense0\")(prod)\n",
    "    dropout = Dropout(rate=dropout)(prod2)\n",
    "    prod_ = Dense(50, activation='relu', name=\"Dense_\")(prod2)\n",
    "    drop = Dropout(rate=0.3)(prod_)\n",
    "    \n",
    "    # Dropout\n",
    "    prod3 = Dense(1, activation='relu', name=\"Dense3\")(drop)\n",
    "    model = Model([influencer_input, band_input, influencer_kind_input], prod3)\n",
    "    model.compile('adam', 'mean_squared_error')\n",
    "    \n",
    "    return model"
   ]
  },
  {
   "cell_type": "code",
   "execution_count": 360,
   "metadata": {},
   "outputs": [
    {
     "name": "stdout",
     "output_type": "stream",
     "text": [
      "Train on 46874 samples, validate on 20090 samples\n",
      "Epoch 1/10000\n",
      "46874/46874 [==============================] - 21s 438us/step - loss: 0.1130 - val_loss: 0.1007\n",
      "Epoch 2/10000\n",
      "46874/46874 [==============================] - 14s 293us/step - loss: 0.1022 - val_loss: 0.0998\n",
      "Epoch 3/10000\n",
      "46874/46874 [==============================] - 14s 291us/step - loss: 0.0992 - val_loss: 0.0965\n",
      "Epoch 4/10000\n",
      "46874/46874 [==============================] - 14s 290us/step - loss: 0.0978 - val_loss: 0.0970\n",
      "Epoch 5/10000\n",
      "46874/46874 [==============================] - 14s 290us/step - loss: 0.0962 - val_loss: 0.0962\n",
      "Epoch 6/10000\n",
      "46874/46874 [==============================] - 14s 290us/step - loss: 0.0950 - val_loss: 0.0967\n",
      "Epoch 7/10000\n",
      "46874/46874 [==============================] - 14s 290us/step - loss: 0.0938 - val_loss: 0.0956\n",
      "Epoch 8/10000\n",
      "46874/46874 [==============================] - 14s 290us/step - loss: 0.0934 - val_loss: 0.0957\n",
      "Epoch 9/10000\n",
      "46874/46874 [==============================] - 14s 302us/step - loss: 0.0918 - val_loss: 0.0966\n",
      "Epoch 10/10000\n",
      "46874/46874 [==============================] - 15s 314us/step - loss: 0.0913 - val_loss: 0.0970\n",
      "Epoch 11/10000\n",
      "46874/46874 [==============================] - 15s 314us/step - loss: 0.0902 - val_loss: 0.0956\n",
      "Epoch 12/10000\n",
      "46874/46874 [==============================] - 14s 309us/step - loss: 0.0892 - val_loss: 0.0961\n",
      "Epoch 13/10000\n",
      "46874/46874 [==============================] - 14s 297us/step - loss: 0.0889 - val_loss: 0.0965\n",
      "Epoch 14/10000\n",
      "46874/46874 [==============================] - 14s 296us/step - loss: 0.0878 - val_loss: 0.0965\n",
      "Epoch 15/10000\n",
      "46874/46874 [==============================] - 14s 294us/step - loss: 0.0870 - val_loss: 0.0970\n",
      "Epoch 16/10000\n",
      "46874/46874 [==============================] - 14s 294us/step - loss: 0.0858 - val_loss: 0.0966\n",
      "Epoch 17/10000\n",
      "46874/46874 [==============================] - 14s 294us/step - loss: 0.0849 - val_loss: 0.0985\n",
      "Epoch 18/10000\n",
      "46874/46874 [==============================] - 14s 296us/step - loss: 0.0839 - val_loss: 0.0973\n",
      "Epoch 19/10000\n",
      "46874/46874 [==============================] - 14s 296us/step - loss: 0.0829 - val_loss: 0.0995\n",
      "Epoch 20/10000\n",
      "46874/46874 [==============================] - 14s 295us/step - loss: 0.0822 - val_loss: 0.0997\n",
      "Epoch 21/10000\n",
      "46874/46874 [==============================] - 14s 296us/step - loss: 0.0814 - val_loss: 0.0996\n",
      "Epoch 22/10000\n",
      "46874/46874 [==============================] - 14s 295us/step - loss: 0.0804 - val_loss: 0.0999\n",
      "Epoch 23/10000\n",
      "46874/46874 [==============================] - 14s 298us/step - loss: 0.0798 - val_loss: 0.0997\n",
      "Epoch 24/10000\n",
      "46874/46874 [==============================] - 14s 295us/step - loss: 0.0784 - val_loss: 0.0998\n",
      "Epoch 25/10000\n",
      "46874/46874 [==============================] - 14s 295us/step - loss: 0.0783 - val_loss: 0.1008\n",
      "Epoch 26/10000\n",
      "46874/46874 [==============================] - 14s 295us/step - loss: 0.0769 - val_loss: 0.1011\n",
      "Epoch 27/10000\n",
      "46874/46874 [==============================] - 14s 294us/step - loss: 0.0764 - val_loss: 0.1021\n",
      "Epoch 28/10000\n",
      "46874/46874 [==============================] - 14s 296us/step - loss: 0.0757 - val_loss: 0.1026\n",
      "Epoch 29/10000\n",
      "46874/46874 [==============================] - 14s 295us/step - loss: 0.0750 - val_loss: 0.1031\n",
      "Epoch 30/10000\n",
      "46874/46874 [==============================] - 14s 295us/step - loss: 0.0739 - val_loss: 0.1029\n",
      "Epoch 31/10000\n",
      "46874/46874 [==============================] - 14s 295us/step - loss: 0.0734 - val_loss: 0.1025\n",
      "Epoch 32/10000\n",
      "46874/46874 [==============================] - 14s 295us/step - loss: 0.0730 - val_loss: 0.1028\n",
      "Epoch 33/10000\n",
      "46874/46874 [==============================] - 14s 296us/step - loss: 0.0728 - val_loss: 0.1050\n",
      "Epoch 34/10000\n",
      "46874/46874 [==============================] - 14s 294us/step - loss: 0.0717 - val_loss: 0.1067\n",
      "Epoch 35/10000\n",
      "46874/46874 [==============================] - 14s 295us/step - loss: 0.0712 - val_loss: 0.1063\n",
      "Epoch 36/10000\n",
      "46874/46874 [==============================] - 14s 296us/step - loss: 0.0709 - val_loss: 0.1054\n",
      "Epoch 37/10000\n",
      "46874/46874 [==============================] - 14s 295us/step - loss: 0.0706 - val_loss: 0.1079\n",
      "Epoch 38/10000\n",
      "46874/46874 [==============================] - 14s 297us/step - loss: 0.0697 - val_loss: 0.1083\n",
      "Epoch 39/10000\n",
      "46874/46874 [==============================] - 14s 296us/step - loss: 0.0692 - val_loss: 0.1047\n",
      "Epoch 40/10000\n",
      "46874/46874 [==============================] - 14s 295us/step - loss: 0.0683 - val_loss: 0.1049\n",
      "Epoch 41/10000\n",
      "46874/46874 [==============================] - 14s 295us/step - loss: 0.0679 - val_loss: 0.1076\n",
      "Epoch 42/10000\n",
      "46874/46874 [==============================] - 14s 295us/step - loss: 0.0678 - val_loss: 0.1068\n",
      "Epoch 43/10000\n",
      "46874/46874 [==============================] - 14s 296us/step - loss: 0.0675 - val_loss: 0.1069\n",
      "Epoch 44/10000\n",
      "46874/46874 [==============================] - 14s 300us/step - loss: 0.0668 - val_loss: 0.1106\n",
      "Epoch 45/10000\n",
      "46874/46874 [==============================] - 14s 296us/step - loss: 0.0661 - val_loss: 0.1136\n",
      "Epoch 46/10000\n",
      "46874/46874 [==============================] - 14s 291us/step - loss: 0.0657 - val_loss: 0.1098\n",
      "Epoch 47/10000\n",
      "46874/46874 [==============================] - 14s 292us/step - loss: 0.0655 - val_loss: 0.1094\n",
      "Epoch 48/10000\n",
      "46874/46874 [==============================] - 14s 290us/step - loss: 0.0653 - val_loss: 0.1115\n",
      "Epoch 49/10000\n",
      "46874/46874 [==============================] - 14s 290us/step - loss: 0.0651 - val_loss: 0.1093\n",
      "Epoch 50/10000\n",
      "46874/46874 [==============================] - 14s 290us/step - loss: 0.0646 - val_loss: 0.1135\n",
      "Epoch 51/10000\n",
      "46874/46874 [==============================] - 14s 289us/step - loss: 0.0640 - val_loss: 0.1111\n",
      "Epoch 52/10000\n",
      "46874/46874 [==============================] - 14s 290us/step - loss: 0.0635 - val_loss: 0.1118\n",
      "Epoch 53/10000\n",
      "46874/46874 [==============================] - 14s 292us/step - loss: 0.0637 - val_loss: 0.1095\n",
      "Epoch 54/10000\n",
      "46874/46874 [==============================] - 14s 290us/step - loss: 0.0632 - val_loss: 0.1111\n",
      "Epoch 55/10000\n",
      "46874/46874 [==============================] - 14s 290us/step - loss: 0.0628 - val_loss: 0.1125\n",
      "Epoch 56/10000\n",
      "46874/46874 [==============================] - 14s 291us/step - loss: 0.0628 - val_loss: 0.1132\n",
      "Epoch 57/10000\n",
      "46874/46874 [==============================] - 14s 290us/step - loss: 0.0620 - val_loss: 0.1112\n",
      "Restoring model weights from the end of the best epoch\n",
      "Epoch 00057: early stopping\n",
      "Train on 46875 samples, validate on 20090 samples\n",
      "Epoch 1/10000\n",
      "46875/46875 [==============================] - 20s 423us/step - loss: 0.1153 - val_loss: 0.1026\n",
      "Epoch 2/10000\n",
      "46875/46875 [==============================] - 14s 294us/step - loss: 0.1026 - val_loss: 0.0978\n",
      "Epoch 3/10000\n",
      "46875/46875 [==============================] - 14s 294us/step - loss: 0.0995 - val_loss: 0.0989\n",
      "Epoch 4/10000\n",
      "46875/46875 [==============================] - 14s 293us/step - loss: 0.0981 - val_loss: 0.0969\n",
      "Epoch 5/10000\n",
      "46875/46875 [==============================] - 14s 292us/step - loss: 0.0964 - val_loss: 0.0956\n",
      "Epoch 6/10000\n",
      "46875/46875 [==============================] - 14s 295us/step - loss: 0.0950 - val_loss: 0.0955\n",
      "Epoch 7/10000\n",
      "46875/46875 [==============================] - 14s 294us/step - loss: 0.0939 - val_loss: 0.0952\n",
      "Epoch 8/10000\n",
      "46875/46875 [==============================] - 14s 293us/step - loss: 0.0933 - val_loss: 0.1018\n",
      "Epoch 9/10000\n",
      "46875/46875 [==============================] - 14s 295us/step - loss: 0.0925 - val_loss: 0.0949\n",
      "Epoch 10/10000\n",
      "46875/46875 [==============================] - 14s 293us/step - loss: 0.0914 - val_loss: 0.0961\n",
      "Epoch 11/10000\n",
      "46875/46875 [==============================] - 14s 293us/step - loss: 0.0907 - val_loss: 0.0956\n",
      "Epoch 12/10000\n",
      "46875/46875 [==============================] - 14s 293us/step - loss: 0.0895 - val_loss: 0.0949\n",
      "Epoch 13/10000\n",
      "46875/46875 [==============================] - 14s 294us/step - loss: 0.0887 - val_loss: 0.0986\n",
      "Epoch 14/10000\n",
      "46875/46875 [==============================] - 14s 293us/step - loss: 0.0881 - val_loss: 0.0971\n",
      "Epoch 15/10000\n",
      "46875/46875 [==============================] - 14s 293us/step - loss: 0.0869 - val_loss: 0.0992\n",
      "Epoch 16/10000\n",
      "46875/46875 [==============================] - 14s 293us/step - loss: 0.0862 - val_loss: 0.0986\n",
      "Epoch 17/10000\n",
      "46875/46875 [==============================] - 14s 291us/step - loss: 0.0850 - val_loss: 0.0983\n",
      "Epoch 18/10000\n",
      "46875/46875 [==============================] - 14s 291us/step - loss: 0.0844 - val_loss: 0.0988\n",
      "Epoch 19/10000\n",
      "46875/46875 [==============================] - 14s 291us/step - loss: 0.0838 - val_loss: 0.1012\n",
      "Epoch 20/10000\n",
      "46875/46875 [==============================] - 14s 291us/step - loss: 0.0826 - val_loss: 0.1006\n",
      "Epoch 21/10000\n",
      "46875/46875 [==============================] - 14s 291us/step - loss: 0.0818 - val_loss: 0.1016\n",
      "Epoch 22/10000\n",
      "46875/46875 [==============================] - 14s 291us/step - loss: 0.0814 - val_loss: 0.1009\n",
      "Epoch 23/10000\n",
      "46875/46875 [==============================] - 14s 291us/step - loss: 0.0807 - val_loss: 0.1019\n",
      "Epoch 24/10000\n",
      "46875/46875 [==============================] - 14s 291us/step - loss: 0.0797 - val_loss: 0.1014\n",
      "Epoch 25/10000\n",
      "46875/46875 [==============================] - 14s 292us/step - loss: 0.0786 - val_loss: 0.1049\n",
      "Epoch 26/10000\n",
      "46875/46875 [==============================] - 14s 291us/step - loss: 0.0778 - val_loss: 0.1054\n",
      "Epoch 27/10000\n",
      "46875/46875 [==============================] - 14s 292us/step - loss: 0.0774 - val_loss: 0.1039\n",
      "Epoch 28/10000\n",
      "46875/46875 [==============================] - 14s 291us/step - loss: 0.0764 - val_loss: 0.1043\n",
      "Epoch 29/10000\n",
      "46875/46875 [==============================] - 14s 292us/step - loss: 0.0752 - val_loss: 0.1057\n",
      "Epoch 30/10000\n",
      "46875/46875 [==============================] - 14s 291us/step - loss: 0.0755 - val_loss: 0.1038\n",
      "Epoch 31/10000\n",
      "46875/46875 [==============================] - 14s 291us/step - loss: 0.0736 - val_loss: 0.1057\n",
      "Epoch 32/10000\n",
      "46875/46875 [==============================] - 14s 291us/step - loss: 0.0733 - val_loss: 0.1059\n",
      "Epoch 33/10000\n",
      "46875/46875 [==============================] - 14s 292us/step - loss: 0.0726 - val_loss: 0.1055\n",
      "Epoch 34/10000\n",
      "46875/46875 [==============================] - 14s 291us/step - loss: 0.0721 - val_loss: 0.1106\n",
      "Epoch 35/10000\n",
      "46875/46875 [==============================] - 14s 292us/step - loss: 0.0716 - val_loss: 0.1066\n",
      "Epoch 36/10000\n",
      "46875/46875 [==============================] - 14s 292us/step - loss: 0.0707 - val_loss: 0.1096\n",
      "Epoch 37/10000\n",
      "46875/46875 [==============================] - 14s 291us/step - loss: 0.0702 - val_loss: 0.1090\n",
      "Epoch 38/10000\n",
      "46875/46875 [==============================] - 14s 292us/step - loss: 0.0693 - val_loss: 0.1075\n",
      "Epoch 39/10000\n",
      "46875/46875 [==============================] - 14s 292us/step - loss: 0.0692 - val_loss: 0.1084\n",
      "Epoch 40/10000\n",
      "46875/46875 [==============================] - 14s 292us/step - loss: 0.0687 - val_loss: 0.1094\n",
      "Epoch 41/10000\n",
      "46875/46875 [==============================] - 14s 292us/step - loss: 0.0682 - val_loss: 0.1125\n",
      "Epoch 42/10000\n",
      "46875/46875 [==============================] - 14s 293us/step - loss: 0.0677 - val_loss: 0.1086\n",
      "Epoch 43/10000\n",
      "46875/46875 [==============================] - 14s 292us/step - loss: 0.0671 - val_loss: 0.1146\n",
      "Epoch 44/10000\n",
      "46875/46875 [==============================] - 14s 291us/step - loss: 0.0672 - val_loss: 0.1114\n",
      "Epoch 45/10000\n",
      "46875/46875 [==============================] - 14s 291us/step - loss: 0.0659 - val_loss: 0.1102\n",
      "Epoch 46/10000\n",
      "46875/46875 [==============================] - 14s 291us/step - loss: 0.0656 - val_loss: 0.1106\n",
      "Epoch 47/10000\n",
      "46875/46875 [==============================] - 14s 292us/step - loss: 0.0656 - val_loss: 0.1112\n",
      "Epoch 48/10000\n",
      "46875/46875 [==============================] - 14s 292us/step - loss: 0.0655 - val_loss: 0.1135\n",
      "Epoch 49/10000\n",
      "46875/46875 [==============================] - 14s 291us/step - loss: 0.0653 - val_loss: 0.1121\n",
      "Epoch 50/10000\n",
      "46875/46875 [==============================] - 14s 292us/step - loss: 0.0641 - val_loss: 0.1118\n",
      "Epoch 51/10000\n",
      "46875/46875 [==============================] - 14s 293us/step - loss: 0.0640 - val_loss: 0.1158\n",
      "Epoch 52/10000\n",
      "46875/46875 [==============================] - 14s 291us/step - loss: 0.0636 - val_loss: 0.1140\n",
      "Epoch 53/10000\n",
      "46875/46875 [==============================] - 14s 292us/step - loss: 0.0634 - val_loss: 0.1147\n",
      "Epoch 54/10000\n",
      "46875/46875 [==============================] - 14s 292us/step - loss: 0.0626 - val_loss: 0.1123\n",
      "Epoch 55/10000\n",
      "46875/46875 [==============================] - 14s 292us/step - loss: 0.0628 - val_loss: 0.1143\n",
      "Epoch 56/10000\n",
      "46875/46875 [==============================] - 14s 292us/step - loss: 0.0626 - val_loss: 0.1151\n",
      "Epoch 57/10000\n",
      "46875/46875 [==============================] - 14s 291us/step - loss: 0.0619 - val_loss: 0.1181\n",
      "Epoch 58/10000\n",
      "46875/46875 [==============================] - 14s 292us/step - loss: 0.0615 - val_loss: 0.1145\n",
      "Epoch 59/10000\n",
      "46875/46875 [==============================] - 14s 293us/step - loss: 0.0615 - val_loss: 0.1123\n",
      "Restoring model weights from the end of the best epoch\n",
      "Epoch 00059: early stopping\n",
      "Train on 46875 samples, validate on 20090 samples\n",
      "Epoch 1/10000\n",
      "46875/46875 [==============================] - 20s 425us/step - loss: 0.1139 - val_loss: 0.1027\n",
      "Epoch 2/10000\n",
      "46875/46875 [==============================] - 14s 295us/step - loss: 0.1020 - val_loss: 0.0981\n",
      "Epoch 3/10000\n",
      "46875/46875 [==============================] - 14s 294us/step - loss: 0.0994 - val_loss: 0.0966\n",
      "Epoch 4/10000\n",
      "46875/46875 [==============================] - 14s 295us/step - loss: 0.0980 - val_loss: 0.0967\n",
      "Epoch 5/10000\n",
      "46875/46875 [==============================] - 14s 294us/step - loss: 0.0962 - val_loss: 0.0983\n",
      "Epoch 6/10000\n",
      "46875/46875 [==============================] - 14s 294us/step - loss: 0.0953 - val_loss: 0.0965\n",
      "Epoch 7/10000\n",
      "46875/46875 [==============================] - 14s 294us/step - loss: 0.0938 - val_loss: 0.0960\n",
      "Epoch 8/10000\n",
      "46875/46875 [==============================] - 14s 295us/step - loss: 0.0923 - val_loss: 0.0975\n",
      "Epoch 9/10000\n",
      "46875/46875 [==============================] - 14s 294us/step - loss: 0.0921 - val_loss: 0.1007\n",
      "Epoch 10/10000\n",
      "46875/46875 [==============================] - 14s 294us/step - loss: 0.0907 - val_loss: 0.0969\n",
      "Epoch 11/10000\n",
      "46875/46875 [==============================] - 14s 293us/step - loss: 0.0900 - val_loss: 0.0984\n",
      "Epoch 12/10000\n",
      "46875/46875 [==============================] - 14s 295us/step - loss: 0.0888 - val_loss: 0.0976\n",
      "Epoch 13/10000\n",
      "46875/46875 [==============================] - 14s 294us/step - loss: 0.0875 - val_loss: 0.0993\n",
      "Epoch 14/10000\n",
      "46875/46875 [==============================] - 14s 295us/step - loss: 0.0866 - val_loss: 0.0983\n",
      "Epoch 15/10000\n",
      "46875/46875 [==============================] - 14s 293us/step - loss: 0.0859 - val_loss: 0.0986\n",
      "Epoch 16/10000\n",
      "46875/46875 [==============================] - 14s 294us/step - loss: 0.0848 - val_loss: 0.1003\n",
      "Epoch 17/10000\n",
      "46875/46875 [==============================] - 14s 295us/step - loss: 0.0839 - val_loss: 0.0993\n",
      "Epoch 18/10000\n",
      "46875/46875 [==============================] - 14s 294us/step - loss: 0.0828 - val_loss: 0.0992\n",
      "Epoch 19/10000\n",
      "46875/46875 [==============================] - 14s 293us/step - loss: 0.0818 - val_loss: 0.1002\n",
      "Epoch 20/10000\n",
      "46875/46875 [==============================] - 14s 294us/step - loss: 0.0806 - val_loss: 0.1013\n",
      "Epoch 21/10000\n",
      "46875/46875 [==============================] - 14s 294us/step - loss: 0.0799 - val_loss: 0.1027\n",
      "Epoch 22/10000\n",
      "46875/46875 [==============================] - 14s 294us/step - loss: 0.0793 - val_loss: 0.1020\n",
      "Epoch 23/10000\n",
      "46875/46875 [==============================] - 14s 294us/step - loss: 0.0791 - val_loss: 0.1006\n",
      "Epoch 24/10000\n",
      "46875/46875 [==============================] - 14s 294us/step - loss: 0.0773 - val_loss: 0.1030\n",
      "Epoch 25/10000\n",
      "46875/46875 [==============================] - 14s 294us/step - loss: 0.0768 - val_loss: 0.1042\n",
      "Epoch 26/10000\n",
      "46875/46875 [==============================] - 14s 294us/step - loss: 0.0760 - val_loss: 0.1040\n",
      "Epoch 27/10000\n",
      "46875/46875 [==============================] - 14s 294us/step - loss: 0.0751 - val_loss: 0.1041\n",
      "Epoch 28/10000\n",
      "46875/46875 [==============================] - 14s 294us/step - loss: 0.0740 - val_loss: 0.1051\n",
      "Epoch 29/10000\n",
      "46875/46875 [==============================] - 14s 294us/step - loss: 0.0736 - val_loss: 0.1056\n"
     ]
    },
    {
     "name": "stdout",
     "output_type": "stream",
     "text": [
      "Epoch 30/10000\n",
      "46875/46875 [==============================] - 14s 294us/step - loss: 0.0735 - val_loss: 0.1061\n",
      "Epoch 31/10000\n",
      "46875/46875 [==============================] - 14s 293us/step - loss: 0.0721 - val_loss: 0.1083\n",
      "Epoch 32/10000\n",
      "46875/46875 [==============================] - 14s 294us/step - loss: 0.0712 - val_loss: 0.1057\n",
      "Epoch 33/10000\n",
      "46875/46875 [==============================] - 14s 293us/step - loss: 0.0708 - val_loss: 0.1093\n",
      "Epoch 34/10000\n",
      "46875/46875 [==============================] - 14s 294us/step - loss: 0.0702 - val_loss: 0.1069\n",
      "Epoch 35/10000\n",
      "46875/46875 [==============================] - 14s 294us/step - loss: 0.0694 - val_loss: 0.1096\n",
      "Epoch 36/10000\n",
      "46875/46875 [==============================] - 14s 293us/step - loss: 0.0688 - val_loss: 0.1098\n",
      "Epoch 37/10000\n",
      "46875/46875 [==============================] - 14s 292us/step - loss: 0.0683 - val_loss: 0.1118\n",
      "Epoch 38/10000\n",
      "46875/46875 [==============================] - 14s 294us/step - loss: 0.0680 - val_loss: 0.1110\n",
      "Epoch 39/10000\n",
      "46875/46875 [==============================] - 14s 292us/step - loss: 0.0669 - val_loss: 0.1107\n",
      "Epoch 40/10000\n",
      "46875/46875 [==============================] - 14s 293us/step - loss: 0.0668 - val_loss: 0.1113\n",
      "Epoch 41/10000\n",
      "46875/46875 [==============================] - 14s 293us/step - loss: 0.0662 - val_loss: 0.1112\n",
      "Epoch 42/10000\n",
      "46875/46875 [==============================] - 14s 294us/step - loss: 0.0660 - val_loss: 0.1097\n",
      "Epoch 43/10000\n",
      "46875/46875 [==============================] - 14s 295us/step - loss: 0.0652 - val_loss: 0.1135\n",
      "Epoch 44/10000\n",
      "46875/46875 [==============================] - 14s 295us/step - loss: 0.0652 - val_loss: 0.1118\n",
      "Epoch 45/10000\n",
      "46875/46875 [==============================] - 14s 294us/step - loss: 0.0648 - val_loss: 0.1126\n",
      "Epoch 46/10000\n",
      "46875/46875 [==============================] - 14s 293us/step - loss: 0.0646 - val_loss: 0.1131\n",
      "Epoch 47/10000\n",
      "46875/46875 [==============================] - 14s 293us/step - loss: 0.0642 - val_loss: 0.1138\n",
      "Epoch 48/10000\n",
      "46875/46875 [==============================] - 14s 293us/step - loss: 0.0643 - val_loss: 0.1135\n",
      "Epoch 49/10000\n",
      "46875/46875 [==============================] - 14s 294us/step - loss: 0.0633 - val_loss: 0.1134\n",
      "Epoch 50/10000\n",
      "46875/46875 [==============================] - 14s 294us/step - loss: 0.0625 - val_loss: 0.1157\n",
      "Epoch 51/10000\n",
      "46875/46875 [==============================] - 14s 293us/step - loss: 0.0623 - val_loss: 0.1150\n",
      "Epoch 52/10000\n",
      "46875/46875 [==============================] - 14s 294us/step - loss: 0.0627 - val_loss: 0.1159\n",
      "Epoch 53/10000\n",
      "46875/46875 [==============================] - 14s 293us/step - loss: 0.0625 - val_loss: 0.1148\n",
      "Epoch 54/10000\n",
      "46875/46875 [==============================] - 14s 293us/step - loss: 0.0616 - val_loss: 0.1156\n",
      "Epoch 55/10000\n",
      "46875/46875 [==============================] - 14s 293us/step - loss: 0.0618 - val_loss: 0.1178\n",
      "Epoch 56/10000\n",
      "46875/46875 [==============================] - 14s 294us/step - loss: 0.0614 - val_loss: 0.1187\n",
      "Epoch 57/10000\n",
      "46875/46875 [==============================] - 14s 293us/step - loss: 0.0611 - val_loss: 0.1121\n",
      "Restoring model weights from the end of the best epoch\n",
      "Epoch 00057: early stopping\n",
      "Train on 46875 samples, validate on 20090 samples\n",
      "Epoch 1/10000\n",
      "46875/46875 [==============================] - 20s 429us/step - loss: 0.1147 - val_loss: 0.1031\n",
      "Epoch 2/10000\n",
      "46875/46875 [==============================] - 14s 297us/step - loss: 0.1020 - val_loss: 0.1005\n",
      "Epoch 3/10000\n",
      "46875/46875 [==============================] - 14s 298us/step - loss: 0.0989 - val_loss: 0.1009\n",
      "Epoch 4/10000\n",
      "46875/46875 [==============================] - 14s 298us/step - loss: 0.0973 - val_loss: 0.0990\n",
      "Epoch 5/10000\n",
      "46875/46875 [==============================] - 14s 297us/step - loss: 0.0962 - val_loss: 0.0997\n",
      "Epoch 6/10000\n",
      "46875/46875 [==============================] - 14s 297us/step - loss: 0.0949 - val_loss: 0.0985\n",
      "Epoch 7/10000\n",
      "46875/46875 [==============================] - 14s 298us/step - loss: 0.0937 - val_loss: 0.0985\n",
      "Epoch 8/10000\n",
      "46875/46875 [==============================] - 14s 297us/step - loss: 0.0928 - val_loss: 0.0981\n",
      "Epoch 9/10000\n",
      "46875/46875 [==============================] - 14s 297us/step - loss: 0.0914 - val_loss: 0.0990\n",
      "Epoch 10/10000\n",
      "46875/46875 [==============================] - 14s 297us/step - loss: 0.0910 - val_loss: 0.0979\n",
      "Epoch 11/10000\n",
      "46875/46875 [==============================] - 14s 298us/step - loss: 0.0900 - val_loss: 0.0977\n",
      "Epoch 12/10000\n",
      "46875/46875 [==============================] - 14s 296us/step - loss: 0.0893 - val_loss: 0.0998\n",
      "Epoch 13/10000\n",
      "46875/46875 [==============================] - 14s 297us/step - loss: 0.0884 - val_loss: 0.0984\n",
      "Epoch 14/10000\n",
      "46875/46875 [==============================] - 14s 297us/step - loss: 0.0872 - val_loss: 0.0997\n",
      "Epoch 15/10000\n",
      "46875/46875 [==============================] - 14s 297us/step - loss: 0.0865 - val_loss: 0.0996\n",
      "Epoch 16/10000\n",
      "46875/46875 [==============================] - 14s 298us/step - loss: 0.0857 - val_loss: 0.0993\n",
      "Epoch 17/10000\n",
      "46875/46875 [==============================] - 14s 298us/step - loss: 0.0844 - val_loss: 0.1010\n",
      "Epoch 18/10000\n",
      "46875/46875 [==============================] - 14s 298us/step - loss: 0.0836 - val_loss: 0.1004\n",
      "Epoch 19/10000\n",
      "46875/46875 [==============================] - 14s 298us/step - loss: 0.0828 - val_loss: 0.1002\n",
      "Epoch 20/10000\n",
      "46875/46875 [==============================] - 14s 298us/step - loss: 0.0819 - val_loss: 0.0999\n",
      "Epoch 21/10000\n",
      "46875/46875 [==============================] - 14s 296us/step - loss: 0.0809 - val_loss: 0.1006\n",
      "Epoch 22/10000\n",
      "46875/46875 [==============================] - 14s 297us/step - loss: 0.0802 - val_loss: 0.1022\n",
      "Epoch 23/10000\n",
      "46875/46875 [==============================] - 14s 297us/step - loss: 0.0796 - val_loss: 0.1040\n",
      "Epoch 24/10000\n",
      "46875/46875 [==============================] - 14s 297us/step - loss: 0.0784 - val_loss: 0.1021\n",
      "Epoch 25/10000\n",
      "46875/46875 [==============================] - 14s 297us/step - loss: 0.0778 - val_loss: 0.1022\n",
      "Epoch 26/10000\n",
      "46875/46875 [==============================] - 14s 298us/step - loss: 0.0767 - val_loss: 0.1039\n",
      "Epoch 27/10000\n",
      "46875/46875 [==============================] - 14s 299us/step - loss: 0.0759 - val_loss: 0.1038\n",
      "Epoch 28/10000\n",
      "46875/46875 [==============================] - 14s 299us/step - loss: 0.0753 - val_loss: 0.1054\n",
      "Epoch 29/10000\n",
      "46875/46875 [==============================] - 14s 297us/step - loss: 0.0744 - val_loss: 0.1053\n",
      "Epoch 30/10000\n",
      "46875/46875 [==============================] - 14s 299us/step - loss: 0.0742 - val_loss: 0.1049\n",
      "Epoch 31/10000\n",
      "46875/46875 [==============================] - 14s 297us/step - loss: 0.0739 - val_loss: 0.1070\n",
      "Epoch 32/10000\n",
      "46875/46875 [==============================] - 14s 297us/step - loss: 0.0725 - val_loss: 0.1078\n",
      "Epoch 33/10000\n",
      "46875/46875 [==============================] - 14s 297us/step - loss: 0.0720 - val_loss: 0.1059\n",
      "Epoch 34/10000\n",
      "46875/46875 [==============================] - 14s 298us/step - loss: 0.0714 - val_loss: 0.1090\n",
      "Epoch 35/10000\n",
      "46875/46875 [==============================] - 14s 297us/step - loss: 0.0708 - val_loss: 0.1070\n",
      "Epoch 36/10000\n",
      "46875/46875 [==============================] - 14s 297us/step - loss: 0.0703 - val_loss: 0.1082\n",
      "Epoch 37/10000\n",
      "46875/46875 [==============================] - 14s 298us/step - loss: 0.0699 - val_loss: 0.1082\n",
      "Epoch 38/10000\n",
      "46875/46875 [==============================] - 14s 298us/step - loss: 0.0688 - val_loss: 0.1098\n",
      "Epoch 39/10000\n",
      "46875/46875 [==============================] - 14s 297us/step - loss: 0.0688 - val_loss: 0.1102\n",
      "Epoch 40/10000\n",
      "46875/46875 [==============================] - 14s 297us/step - loss: 0.0680 - val_loss: 0.1117\n",
      "Epoch 41/10000\n",
      "46875/46875 [==============================] - 14s 297us/step - loss: 0.0677 - val_loss: 0.1090\n",
      "Epoch 42/10000\n",
      "46875/46875 [==============================] - 14s 298us/step - loss: 0.0671 - val_loss: 0.1102\n",
      "Epoch 43/10000\n",
      "46875/46875 [==============================] - 14s 297us/step - loss: 0.0667 - val_loss: 0.1090\n",
      "Epoch 44/10000\n",
      "46875/46875 [==============================] - 14s 297us/step - loss: 0.0664 - val_loss: 0.1102\n",
      "Epoch 45/10000\n",
      "46875/46875 [==============================] - 14s 298us/step - loss: 0.0664 - val_loss: 0.1125\n",
      "Epoch 46/10000\n",
      "46875/46875 [==============================] - 14s 297us/step - loss: 0.0659 - val_loss: 0.1113\n",
      "Epoch 47/10000\n",
      "46875/46875 [==============================] - 14s 296us/step - loss: 0.0649 - val_loss: 0.1129\n",
      "Epoch 48/10000\n",
      "46875/46875 [==============================] - 14s 296us/step - loss: 0.0649 - val_loss: 0.1122\n",
      "Epoch 49/10000\n",
      "46875/46875 [==============================] - 14s 297us/step - loss: 0.0643 - val_loss: 0.1161\n",
      "Epoch 50/10000\n",
      "46875/46875 [==============================] - 14s 298us/step - loss: 0.0641 - val_loss: 0.1126\n",
      "Epoch 51/10000\n",
      "46875/46875 [==============================] - 14s 296us/step - loss: 0.0638 - val_loss: 0.1156\n",
      "Epoch 52/10000\n",
      "46875/46875 [==============================] - 14s 297us/step - loss: 0.0631 - val_loss: 0.1128\n",
      "Epoch 53/10000\n",
      "46875/46875 [==============================] - 14s 297us/step - loss: 0.0633 - val_loss: 0.1164\n",
      "Epoch 54/10000\n",
      "46875/46875 [==============================] - 14s 298us/step - loss: 0.0627 - val_loss: 0.1124\n",
      "Epoch 55/10000\n",
      "46875/46875 [==============================] - 14s 296us/step - loss: 0.0626 - val_loss: 0.1135\n",
      "Epoch 56/10000\n",
      "46875/46875 [==============================] - 14s 297us/step - loss: 0.0617 - val_loss: 0.1143\n",
      "Epoch 57/10000\n",
      "46875/46875 [==============================] - 14s 297us/step - loss: 0.0618 - val_loss: 0.1158\n",
      "Epoch 58/10000\n",
      "46875/46875 [==============================] - 14s 297us/step - loss: 0.0619 - val_loss: 0.1144\n",
      "Epoch 59/10000\n",
      "46875/46875 [==============================] - 14s 297us/step - loss: 0.0614 - val_loss: 0.1139\n",
      "Epoch 60/10000\n",
      "46875/46875 [==============================] - 14s 297us/step - loss: 0.0613 - val_loss: 0.1156\n",
      "Epoch 61/10000\n",
      "46875/46875 [==============================] - 14s 297us/step - loss: 0.0613 - val_loss: 0.1160\n",
      "Restoring model weights from the end of the best epoch\n",
      "Epoch 00061: early stopping\n",
      "Train on 46875 samples, validate on 20090 samples\n",
      "Epoch 1/10000\n",
      "46875/46875 [==============================] - 20s 437us/step - loss: 0.1143 - val_loss: 0.1013\n",
      "Epoch 2/10000\n",
      "46875/46875 [==============================] - 14s 303us/step - loss: 0.1023 - val_loss: 0.0979\n",
      "Epoch 3/10000\n",
      "46875/46875 [==============================] - 14s 304us/step - loss: 0.0994 - val_loss: 0.0983\n",
      "Epoch 4/10000\n",
      "46875/46875 [==============================] - 14s 302us/step - loss: 0.0972 - val_loss: 0.0973\n",
      "Epoch 5/10000\n",
      "46875/46875 [==============================] - 14s 302us/step - loss: 0.0960 - val_loss: 0.0980\n",
      "Epoch 6/10000\n",
      "46875/46875 [==============================] - 14s 304us/step - loss: 0.0946 - val_loss: 0.0974\n",
      "Epoch 7/10000\n",
      "46875/46875 [==============================] - 14s 302us/step - loss: 0.0932 - val_loss: 0.0964\n",
      "Epoch 8/10000\n",
      "46875/46875 [==============================] - 14s 302us/step - loss: 0.0921 - val_loss: 0.0958\n",
      "Epoch 9/10000\n",
      "46875/46875 [==============================] - 14s 304us/step - loss: 0.0913 - val_loss: 0.0967\n",
      "Epoch 10/10000\n",
      "46875/46875 [==============================] - 14s 302us/step - loss: 0.0906 - val_loss: 0.0973\n",
      "Epoch 11/10000\n",
      "46875/46875 [==============================] - 14s 303us/step - loss: 0.0894 - val_loss: 0.0990\n",
      "Epoch 12/10000\n",
      "46875/46875 [==============================] - 14s 302us/step - loss: 0.0887 - val_loss: 0.0977\n",
      "Epoch 13/10000\n",
      "46875/46875 [==============================] - 14s 302us/step - loss: 0.0879 - val_loss: 0.0975\n",
      "Epoch 14/10000\n",
      "46875/46875 [==============================] - 14s 302us/step - loss: 0.0867 - val_loss: 0.0969\n",
      "Epoch 15/10000\n",
      "46875/46875 [==============================] - 14s 302us/step - loss: 0.0858 - val_loss: 0.0976\n",
      "Epoch 16/10000\n",
      "46875/46875 [==============================] - 14s 302us/step - loss: 0.0857 - val_loss: 0.0970\n",
      "Epoch 17/10000\n",
      "46875/46875 [==============================] - 14s 302us/step - loss: 0.0844 - val_loss: 0.0993\n",
      "Epoch 18/10000\n",
      "46875/46875 [==============================] - 14s 304us/step - loss: 0.0837 - val_loss: 0.0977\n",
      "Epoch 19/10000\n",
      "46875/46875 [==============================] - 14s 303us/step - loss: 0.0829 - val_loss: 0.0998\n",
      "Epoch 20/10000\n",
      "46875/46875 [==============================] - 14s 303us/step - loss: 0.0818 - val_loss: 0.1000\n",
      "Epoch 21/10000\n",
      "46875/46875 [==============================] - 14s 302us/step - loss: 0.0812 - val_loss: 0.1003\n",
      "Epoch 22/10000\n",
      "46875/46875 [==============================] - 14s 304us/step - loss: 0.0804 - val_loss: 0.1026\n",
      "Epoch 23/10000\n",
      "46875/46875 [==============================] - 14s 303us/step - loss: 0.0792 - val_loss: 0.1016\n",
      "Epoch 24/10000\n",
      "46875/46875 [==============================] - 14s 303us/step - loss: 0.0787 - val_loss: 0.1021\n",
      "Epoch 25/10000\n",
      "46875/46875 [==============================] - 14s 303us/step - loss: 0.0780 - val_loss: 0.1039\n",
      "Epoch 26/10000\n",
      "46875/46875 [==============================] - 14s 305us/step - loss: 0.0772 - val_loss: 0.1048\n",
      "Epoch 27/10000\n",
      "46875/46875 [==============================] - 14s 303us/step - loss: 0.0763 - val_loss: 0.1040\n",
      "Epoch 28/10000\n",
      "46875/46875 [==============================] - 14s 302us/step - loss: 0.0759 - val_loss: 0.1023\n",
      "Epoch 29/10000\n",
      "46875/46875 [==============================] - 14s 302us/step - loss: 0.0750 - val_loss: 0.1043\n",
      "Epoch 30/10000\n",
      "46875/46875 [==============================] - 14s 302us/step - loss: 0.0747 - val_loss: 0.1072\n",
      "Epoch 31/10000\n",
      "46875/46875 [==============================] - 14s 301us/step - loss: 0.0735 - val_loss: 0.1051\n",
      "Epoch 32/10000\n",
      "46875/46875 [==============================] - 14s 302us/step - loss: 0.0729 - val_loss: 0.1073\n",
      "Epoch 33/10000\n",
      "46875/46875 [==============================] - 14s 302us/step - loss: 0.0725 - val_loss: 0.1079\n",
      "Epoch 34/10000\n",
      "46875/46875 [==============================] - 14s 302us/step - loss: 0.0718 - val_loss: 0.1077\n",
      "Epoch 35/10000\n",
      "46875/46875 [==============================] - 14s 302us/step - loss: 0.0713 - val_loss: 0.1067\n",
      "Epoch 36/10000\n",
      "46875/46875 [==============================] - 14s 301us/step - loss: 0.0706 - val_loss: 0.1053\n",
      "Epoch 37/10000\n",
      "46875/46875 [==============================] - 14s 302us/step - loss: 0.0701 - val_loss: 0.1092\n",
      "Epoch 38/10000\n",
      "46875/46875 [==============================] - 14s 303us/step - loss: 0.0691 - val_loss: 0.1089\n",
      "Epoch 39/10000\n",
      "46875/46875 [==============================] - 14s 302us/step - loss: 0.0689 - val_loss: 0.1072\n",
      "Epoch 40/10000\n",
      "46875/46875 [==============================] - 14s 302us/step - loss: 0.0683 - val_loss: 0.1094\n",
      "Epoch 41/10000\n",
      "46875/46875 [==============================] - 14s 301us/step - loss: 0.0679 - val_loss: 0.1115\n",
      "Epoch 42/10000\n",
      "46875/46875 [==============================] - 14s 303us/step - loss: 0.0676 - val_loss: 0.1113\n",
      "Epoch 43/10000\n",
      "46875/46875 [==============================] - 14s 303us/step - loss: 0.0673 - val_loss: 0.1110\n",
      "Epoch 44/10000\n",
      "46875/46875 [==============================] - 14s 302us/step - loss: 0.0665 - val_loss: 0.1118\n",
      "Epoch 45/10000\n",
      "46875/46875 [==============================] - 14s 301us/step - loss: 0.0662 - val_loss: 0.1107\n",
      "Epoch 46/10000\n",
      "46875/46875 [==============================] - 14s 301us/step - loss: 0.0658 - val_loss: 0.1098\n",
      "Epoch 47/10000\n",
      "46875/46875 [==============================] - 14s 302us/step - loss: 0.0652 - val_loss: 0.1127\n",
      "Epoch 48/10000\n",
      "46875/46875 [==============================] - 14s 302us/step - loss: 0.0654 - val_loss: 0.1117\n",
      "Epoch 49/10000\n",
      "46875/46875 [==============================] - 14s 302us/step - loss: 0.0647 - val_loss: 0.1139\n",
      "Epoch 50/10000\n",
      "46875/46875 [==============================] - 14s 301us/step - loss: 0.0652 - val_loss: 0.1131\n",
      "Epoch 51/10000\n",
      "46875/46875 [==============================] - 14s 302us/step - loss: 0.0641 - val_loss: 0.1141\n",
      "Epoch 52/10000\n",
      "46875/46875 [==============================] - 14s 304us/step - loss: 0.0639 - val_loss: 0.1158\n",
      "Epoch 53/10000\n",
      "46875/46875 [==============================] - 14s 304us/step - loss: 0.0638 - val_loss: 0.1118\n",
      "Epoch 54/10000\n",
      "46875/46875 [==============================] - 14s 303us/step - loss: 0.0631 - val_loss: 0.1140\n",
      "Epoch 55/10000\n",
      "46875/46875 [==============================] - 14s 302us/step - loss: 0.0627 - val_loss: 0.1132\n",
      "Epoch 56/10000\n",
      "46875/46875 [==============================] - 14s 302us/step - loss: 0.0626 - val_loss: 0.1180\n"
     ]
    },
    {
     "name": "stdout",
     "output_type": "stream",
     "text": [
      "Epoch 57/10000\n",
      "46875/46875 [==============================] - 14s 301us/step - loss: 0.0625 - val_loss: 0.1128\n",
      "Epoch 58/10000\n",
      "46875/46875 [==============================] - 14s 301us/step - loss: 0.0628 - val_loss: 0.1136\n",
      "Restoring model weights from the end of the best epoch\n",
      "Epoch 00058: early stopping\n",
      "0.3100033573517424\n"
     ]
    }
   ],
   "source": [
    "nn_score = 0.0\n",
    "\n",
    "for train_index, test_index in skf.split(X, (y * 100).astype(int)):\n",
    "    \n",
    "    X_train, X_test = X[train_index], X[test_index]\n",
    "    y_train, y_test = y[train_index], y[test_index]\n",
    "    \n",
    "    sss = StratifiedShuffleSplit(n_splits=1, test_size=0.3, random_state=RANDOM_SEED)\n",
    "    tridx, vidx = next(sss.split(X_train, (y_train * 100).astype(int)))\n",
    "    X_train, X_valid = X_train[tridx], X_train[vidx]\n",
    "    y_train, y_valid = y_train[tridx], y_train[vidx]\n",
    "    \n",
    "    # Build model\n",
    "    model = build_model_3(80, 80, 8, 100, 0.3)\n",
    "    \n",
    "    # Early stoppnig callback\n",
    "    es = keras.callbacks.EarlyStopping(\n",
    "        monitor='val_loss', \n",
    "        mode='min', \n",
    "        patience=PATIENCE,\n",
    "        restore_best_weights=True,\n",
    "        verbose=1\n",
    "    )\n",
    "    \n",
    "    # Fit\n",
    "    model.fit([X_train[:, i_data_idx], X_train[:, b_data_idx], X_train[:, 5]], y_train,\n",
    "              validation_data=([X_valid[:, i_data_idx], X_valid[:, b_data_idx], X_valid[:, 5]], y_valid), \n",
    "              batch_size=BATCH_SIZE,\n",
    "              epochs=EPOCHS,\n",
    "              callbacks=[es],\n",
    "              verbose=1)\n",
    "    \n",
    "    nn_score += np.sqrt(mean_squared_error(\n",
    "        model.predict([X_test[:, i_data_idx], X_test[:, b_data_idx], X_test[:, 5]]), y_test\n",
    "    ))\n",
    "\n",
    "nn_score /= N_FOLDS\n",
    "\n",
    "print(nn_score)"
   ]
  },
  {
   "cell_type": "markdown",
   "metadata": {},
   "source": [
    "* Add README : \n",
    "    * install requirements.txt in venv\n",
    "    * store data in `./data/raw/`\n",
    "    * install graphviz (sudo apt-get ...)\n",
    "    * run notebooks from 01 to ..\n",
    "* Visualize model\n",
    "* Visualize embeddings"
   ]
  },
  {
   "cell_type": "markdown",
   "metadata": {},
   "source": [
    "* Check pipe\n",
    "* Add L2 reg\n",
    "* look for text embeddings\n",
    "* preprocess text\n",
    "* build archi\n",
    "* print archi\n",
    "* pretrained emb\n",
    "* tqdm notebook"
   ]
  },
  {
   "cell_type": "markdown",
   "metadata": {},
   "source": [
    "Content based : no interaction influencer/artist taken into account (no embedding for them)\n",
    "\n",
    "advantage : cold start allowed\n",
    "disadvantage : interesting info lossed\n",
    "\n",
    "==> hybrid recommender system\n",
    "\n",
    "label encoded influencer kind : in production, a category 'Other' can be created to account for potential kinds not present in current dataset.\n",
    "\n",
    "Grid search\n",
    "\n",
    "track info ==> proxy of song ID ==> potential leak for this dataset"
   ]
  }
 ],
 "metadata": {
  "kernelspec": {
   "display_name": "groover",
   "language": "python",
   "name": "groover"
  },
  "language_info": {
   "codemirror_mode": {
    "name": "ipython",
    "version": 3
   },
   "file_extension": ".py",
   "mimetype": "text/x-python",
   "name": "python",
   "nbconvert_exporter": "python",
   "pygments_lexer": "ipython3",
   "version": "3.6.8"
  }
 },
 "nbformat": 4,
 "nbformat_minor": 2
}
